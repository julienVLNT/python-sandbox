{
  "nbformat": 4,
  "nbformat_minor": 0,
  "metadata": {
    "colab": {
      "name": "E.D.S.ipynb",
      "provenance": [],
      "collapsed_sections": [],
      "toc_visible": true
    },
    "kernelspec": {
      "name": "python3",
      "display_name": "Python 3"
    },
    "language_info": {
      "name": "python"
    }
  },
  "cells": [
    {
      "cell_type": "code",
      "execution_count": 1,
      "metadata": {
        "colab": {
          "base_uri": "https://localhost:8080/"
        },
        "id": "qbItcES-cFam",
        "outputId": "da4710ee-8976-48b7-c88f-8c08a616aa86"
      },
      "outputs": [
        {
          "output_type": "stream",
          "name": "stdout",
          "text": [
            "Python 3.7.12\n"
          ]
        }
      ],
      "source": [
        "!python --version"
      ]
    },
    {
      "cell_type": "markdown",
      "source": [
        "**Julien VALENTIN**, **Décembre 2021**"
      ],
      "metadata": {
        "id": "5br-BvpLdVNG"
      }
    },
    {
      "cell_type": "code",
      "source": [
        "from matplotlib import pyplot\n",
        "import numpy"
      ],
      "metadata": {
        "id": "W6X39YVLii-n"
      },
      "execution_count": 2,
      "outputs": []
    },
    {
      "cell_type": "markdown",
      "source": [
        "# A propos de l'équation de Langevin"
      ],
      "metadata": {
        "id": "E-HeljxVk9hR"
      }
    },
    {
      "cell_type": "markdown",
      "source": [
        "- [Langevin's equation](https://en.wikipedia.org/wiki/Langevin_equation)"
      ],
      "metadata": {
        "id": "7Nc74hSRlHQi"
      }
    },
    {
      "cell_type": "markdown",
      "source": [
        "# Simulation par la méthode d'*Euler-Mayurama*"
      ],
      "metadata": {
        "id": "vbw7DSkwdx4W"
      }
    },
    {
      "cell_type": "markdown",
      "source": [
        "On commence par paramétrer notre modèle."
      ],
      "metadata": {
        "id": "Oa57Hy_XhIao"
      }
    },
    {
      "cell_type": "code",
      "source": [
        "sigma = 1.\n",
        "mu    = 10.\n",
        "tau   = .05"
      ],
      "metadata": {
        "id": "30RaF_8jdP-G"
      },
      "execution_count": 3,
      "outputs": []
    },
    {
      "cell_type": "markdown",
      "source": [
        "Discrétisation de l'intervalle de temps."
      ],
      "metadata": {
        "id": "3axG8RKDhTwQ"
      }
    },
    {
      "cell_type": "code",
      "source": [
        "dt = .001\n",
        "T  = 1.\n",
        "n  = int(T / dt)\n",
        "t  = numpy.linspace(0., T, n)"
      ],
      "metadata": {
        "id": "kclUA0qjhWZM"
      },
      "execution_count": 4,
      "outputs": []
    },
    {
      "cell_type": "markdown",
      "source": [
        "On définit les variables transformées réduites."
      ],
      "metadata": {
        "id": "EgeExITdhpmQ"
      }
    },
    {
      "cell_type": "code",
      "source": [
        "sigma_bis = sigma * numpy.sqrt(2. / tau)\n",
        "sqrtdt = numpy.sqrt(dt)"
      ],
      "metadata": {
        "id": "BYAQeZ7Phx4i"
      },
      "execution_count": 5,
      "outputs": []
    },
    {
      "cell_type": "markdown",
      "source": [
        "La solution $U_h$ est déclarée et initialisée à $0$."
      ],
      "metadata": {
        "id": "VhbESnaMh3Qv"
      }
    },
    {
      "cell_type": "code",
      "source": [
        "Uh = numpy.zeros(n)"
      ],
      "metadata": {
        "id": "z37OTVE8h6-i"
      },
      "execution_count": 6,
      "outputs": []
    },
    {
      "cell_type": "markdown",
      "source": [
        "On implémente maintenant le schéma d'*Euler-Mayurama*."
      ],
      "metadata": {
        "id": "MM2TFy08iOEB"
      }
    },
    {
      "cell_type": "code",
      "source": [
        "for i in range(n - 1):\n",
        "    Uh[i + 1] = Uh[i] + dt * (-(Uh[i] - mu) / tau) + sigma_bis * sqrtdt * numpy.random.randn()"
      ],
      "metadata": {
        "id": "C_lK5R8viSvi"
      },
      "execution_count": 7,
      "outputs": []
    },
    {
      "cell_type": "markdown",
      "source": [
        "Traçons la solution."
      ],
      "metadata": {
        "id": "1e-L7WUNigGJ"
      }
    },
    {
      "cell_type": "code",
      "source": [
        "pyplot.plot(t, Uh)\n",
        "pyplot.title(\"Processus stochastique\")\n",
        "pyplot.xlabel(\"t\")\n",
        "pyplot.ylabel(r\"$U_h$\")\n",
        "pyplot.show()"
      ],
      "metadata": {
        "colab": {
          "base_uri": "https://localhost:8080/",
          "height": 295
        },
        "id": "UlqcrcPuihLe",
        "outputId": "20e49dc9-2f3c-43ec-9974-5315326de0d2"
      },
      "execution_count": 8,
      "outputs": [
        {
          "output_type": "display_data",
          "data": {
            "text/plain": [
              "<Figure size 432x288 with 1 Axes>"
            ],
            "image/png": "[encoded data removed]"
          },
          "metadata": {
            "needs_background": "light"
          }
        }
      ]
    },
    {
      "cell_type": "markdown",
      "source": [
        "# Méthode de *Milstein*"
      ],
      "metadata": {
        "id": "nuEkhG76jK25"
      }
    },
    {
      "cell_type": "code",
      "source": [
        "Uh = numpy.zeros(n)\n",
        "\n",
        "for i in range(n - 1):\n",
        "    Uh[i + 1] = Uh[i] + dt * (-(Uh[i] - mu) / tau) + sigma_bis * sqrtdt * numpy.random.normal(loc=0.0, scale=numpy.sqrt(dt)) + .5 * sigma_bis**2 * sqrtdt * Uh[i] * numpy.random.normal(loc=0.0, scale=numpy.sqrt(dt))\n",
        "\n",
        "pyplot.plot(t, Uh)\n",
        "pyplot.title(\"Processus stochastique\")\n",
        "pyplot.xlabel(\"t\")\n",
        "pyplot.ylabel(r\"$U_h$\")\n",
        "pyplot.show()"
      ],
      "metadata": {
        "colab": {
          "base_uri": "https://localhost:8080/",
          "height": 295
        },
        "id": "4VFypLiejRXR",
        "outputId": "2c77a961-695e-4783-d1fe-7c4f78ec6b38"
      },
      "execution_count": 9,
      "outputs": [
        {
          "output_type": "display_data",
          "data": {
            "text/plain": [
              "<Figure size 432x288 with 1 Axes>"
            ],
            "image/png": "[encoded data removed]"
          },
          "metadata": {
            "needs_background": "light"
          }
        }
      ]
    },
    {
      "cell_type": "markdown",
      "source": [
        "# Méthode de *Runge-Kutta* pour les E.D.S"
      ],
      "metadata": {
        "id": "nBIDuHuVkY9i"
      }
    },
    {
      "cell_type": "code",
      "source": [
        ""
      ],
      "metadata": {
        "id": "EJJpBPj8lC0Q"
      },
      "execution_count": 9,
      "outputs": []
    }
  ]
}