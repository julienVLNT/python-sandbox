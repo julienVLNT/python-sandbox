{
  "nbformat": 4,
  "nbformat_minor": 0,
  "metadata": {
    "colab": {
      "name": "filtre_de_kalman.ipynb",
      "provenance": [],
      "collapsed_sections": [],
      "authorship_tag": "ABX9TyOnTCz/W8h0YbmnecsVVb1r",
      "include_colab_link": true
    },
    "kernelspec": {
      "name": "python3",
      "display_name": "Python 3"
    },
    "language_info": {
      "name": "python"
    }
  },
  "cells": [
    {
      "cell_type": "markdown",
      "metadata": {
        "id": "view-in-github",
        "colab_type": "text"
      },
      "source": [
        "<a href=\"https://colab.research.google.com/github/julienVLNT/python-sandbox/blob/main/EDO/filtre_de_kalman.ipynb\" target=\"_parent\"><img src=\"https://colab.research.google.com/assets/colab-badge.svg\" alt=\"Open In Colab\"/></a>"
      ]
    },
    {
      "cell_type": "code",
      "execution_count": 1,
      "metadata": {
        "colab": {
          "base_uri": "https://localhost:8080/"
        },
        "id": "qIo3Bhts5r7y",
        "outputId": "206c44d7-5c20-4bec-9ac5-f8a9f670e61a"
      },
      "outputs": [
        {
          "output_type": "stream",
          "name": "stdout",
          "text": [
            "Python 3.7.13\n"
          ]
        }
      ],
      "source": [
        "!python --version"
      ]
    },
    {
      "cell_type": "markdown",
      "source": [
        "**Julien VALENTIN**, **mars 2022**, d'après un exemple proposé par Mohamed LAARAIEDH.\n",
        "\n",
        "> https://arxiv.org/ftp/arxiv/papers/1204/1204.0375.pdf\n",
        "\n",
        "Pour en savoir plus sur les processus de Markov à temps discret, on peut consulter le polycopié de [Jean-François LE GALL](https://www.imo.universite-paris-saclay.fr/~jflegall/)\n",
        "\n",
        "> https://www.imo.universite-paris-saclay.fr/~jflegall/IPPA2.pdf"
      ],
      "metadata": {
        "id": "Wk4MJ_fb5vzI"
      }
    },
    {
      "cell_type": "code",
      "source": [
        "from matplotlib import pyplot\n",
        "import numpy"
      ],
      "metadata": {
        "id": "wF6pgXGx5vOy"
      },
      "execution_count": 2,
      "outputs": []
    },
    {
      "cell_type": "markdown",
      "source": [
        "### Implémentation"
      ],
      "metadata": {
        "id": "ht1FH0WIErhW"
      }
    },
    {
      "cell_type": "code",
      "source": [
        "def gauss_pdf(X: numpy.ndarray, M: numpy.ndarray, S: numpy.ndarray) -> tuple:\n",
        "    \"Calcul de la vraisemblance de la mesure\"\n",
        "    if M.shape[1] == 1:\n",
        "        DX = X - numpy.tile(M, X.shape[1])\n",
        "        E = 0.5 * numpy.sum(DX * ( numpy.linalg.inv(S) @ DX ), axis=0)\n",
        "        E = E + 0.5 * M.shape[0] * numpy.log(2 * numpy.pi) + 0.5 * numpy.log(numpy.linalg.det(S))\n",
        "        P = numpy.exp(-E)\n",
        "    \n",
        "    elif X.shape()[1] == 1:\n",
        "        DX = numpy.tile(X, M.shape[1]) - M\n",
        "        E = 0.5 * numpy.sum(DX * ( numpy.linalg.inv(S) @ DX ), axis=0)\n",
        "        E = E + 0.5 * M.shape[0] * numpy.log(2 * numpy.pi) + 0.5 * numpy.log( numpy.linalg.det(S) )\n",
        "        P = numpy.exp(-E)\n",
        "    \n",
        "    else:\n",
        "        DX = X-M\n",
        "        E = 0.5 * DX.T @ (numpy.linalg.inv(S) @ DX)\n",
        "        E = E + 0.5 * M.shape[0] * numpy.log(2 * numpy.pi) + 0.5 * numpy.log(numpy.linalg.det(S))\n",
        "        P = numpy.exp(-E)\n",
        "    \n",
        "    return (P[0],E[0]) \n",
        "\n",
        "dt = .1        # pas de temps du mouvement du mobile\n",
        "n_iter = 50    # nombre d'itérations\n",
        "\n",
        "X = numpy.array([ [0.0], [0.0], [0.1], [0.1] ])    # vecteur d'état\n",
        "P = numpy.diag( .01 * numpy.ones(4) )              # matrice de covariance de l'état\n",
        "A = numpy.array([                                  # matrice de transition de l'état (k-1) -> k\n",
        "                  [1., 0., dt, 0.],\n",
        "                  [0., 1., 0., dt],\n",
        "                  [0., 0., 1., 0.],\n",
        "                  [0., 0., 0., 1.]\n",
        "                ])\n",
        "Q = numpy.eye(X.shape[0])    # matrice de covariance du modèle de bruit\n",
        "B = numpy.eye(X.shape[0])    # matrice d'action sur le contrôle\n",
        "U = numpy.zeros_like(X)      # vecteur de contrôle\n",
        "\n",
        "Y = numpy.array([    # vecteur de mesure\n",
        "                 [X[0,0] + numpy.abs(numpy.random.randn(1)[0])], \n",
        "                 [X[1,0] + numpy.abs(numpy.random.randn(1)[0])]\n",
        "                ])\n",
        "H = numpy.array([ [1., 0, 0, 0], [0., 1, 0, 0] ])    # \n",
        "R = numpy.eye(Y.shape[0])    # \n",
        "\n",
        "figure = pyplot.figure()\n",
        "ax = figure.add_subplot()\n",
        "ax.scatter(Y[0], Y[1], color=\"black\", label=\"Y\", marker=\"x\")\n",
        "ax.scatter(X[0], X[1], alpha=.2, color=\"blue\", label=\"X\", marker=\"o\")\n",
        "\n",
        "\n",
        "# Itération temporelle\n",
        "for k in range(n_iter):\n",
        "\n",
        "    # Etape de prédiction\n",
        "    # (X, P, A, Q, B, U) --> (X, P)\n",
        "    X = A @ X + B @ U\n",
        "    P = A @ (P @ A.T) + Q\n",
        "\n",
        "    # Etape de correction\n",
        "    # (X, P, Y, H, R) --> (X, P, K, IM, IS, LH)\n",
        "    IM = H @ X\n",
        "    IS = R + H @ (P @ H.T)\n",
        "    K  = P @ ( H.T @ numpy.linalg.inv(IS) )\n",
        "    X  = X + K @ (Y-IM)\n",
        "    P  = P - K @ (IS @ K.T)\n",
        "    LH = gauss_pdf(Y, IM, IS)\n",
        "\n",
        "    Y = numpy.array([ [X[0,0] + abs(0.1 * numpy.random.randn(1)[0])], [X[1, 0] + numpy.abs(0.1 * numpy.random.randn(1)[0])] ])\n",
        "    ax.scatter(Y[0], Y[1], color=\"black\", marker=\"x\")\n",
        "    ax.scatter(X[0], X[1], alpha=.2, color=\"blue\", marker=\"o\")\n",
        "\n",
        "pyplot.legend()\n",
        "pyplot.suptitle(\"X : trajectoire estimée, Y : trajectoire mesurée\")\n",
        "pyplot.show()"
      ],
      "metadata": {
        "colab": {
          "base_uri": "https://localhost:8080/",
          "height": 294
        },
        "id": "ugb_Am8MEsUh",
        "outputId": "b1ae74fa-c2f2-4583-8e1f-9acc6fe87164"
      },
      "execution_count": 3,
      "outputs": [
        {
          "output_type": "display_data",
          "data": {
            "text/plain": [
              "<Figure size 432x288 with 1 Axes>"
            ],
            "image/png": "[encoded data removed]"
          },
          "metadata": {
            "needs_background": "light"
          }
        }
      ]
    },
    {
      "cell_type": "code",
      "source": [
        ""
      ],
      "metadata": {
        "id": "YiS8Yr_BUhy7"
      },
      "execution_count": 3,
      "outputs": []
    }
  ]
}