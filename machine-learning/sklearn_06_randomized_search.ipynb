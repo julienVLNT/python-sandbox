{
  "nbformat": 4,
  "nbformat_minor": 0,
  "metadata": {
    "colab": {
      "name": "sklearn_06_randomized_search.ipynb",
      "provenance": [],
      "collapsed_sections": [],
      "authorship_tag": "ABX9TyPvvxRonUu9MlYHRpVWhc/j",
      "include_colab_link": true
    },
    "kernelspec": {
      "name": "python3",
      "display_name": "Python 3"
    },
    "language_info": {
      "name": "python"
    }
  },
  "cells": [
    {
      "cell_type": "markdown",
      "metadata": {
        "id": "view-in-github",
        "colab_type": "text"
      },
      "source": [
        "<a href=\"https://colab.research.google.com/github/julienVLNT/python-sandbox/blob/main/machine-learning/sklearn_06_randomized_search.ipynb\" target=\"_parent\"><img src=\"https://colab.research.google.com/assets/colab-badge.svg\" alt=\"Open In Colab\"/></a>"
      ]
    },
    {
      "cell_type": "code",
      "execution_count": 1,
      "metadata": {
        "colab": {
          "base_uri": "https://localhost:8080/",
          "height": 0
        },
        "id": "HoLNMxOKLal9",
        "outputId": "2cedda4e-7d7e-4c5f-f5c0-3c9c5ea2f201"
      },
      "outputs": [
        {
          "output_type": "stream",
          "name": "stdout",
          "text": [
            "Python 3.7.13\n"
          ]
        }
      ],
      "source": [
        "!python --version"
      ]
    },
    {
      "cell_type": "markdown",
      "source": [
        "**Julien VALENTIN**, **mars 2022**, d'après \n",
        "\n",
        "> [Machine learning in Python with scikit-learn](https://www.fun-mooc.fr/fr/cours/machine-learning-python-scikit-learn/) d'I.N.R.I.A sur [F.U.N](https://www.fun-mooc.fr/fr/)"
      ],
      "metadata": {
        "id": "AK6TbjhELgsE"
      }
    },
    {
      "cell_type": "markdown",
      "source": [
        "### Import"
      ],
      "metadata": {
        "id": "JbVsjblVVpaE"
      }
    },
    {
      "cell_type": "code",
      "source": [
        "!rm adult-census.csv && wget -O adult-census.csv https://raw.githubusercontent.com/INRIA/scikit-learn-mooc/57f2e69a976136a9d1f9409b69ef0d6b3509903c/datasets/adult-census.csv"
      ],
      "metadata": {
        "colab": {
          "base_uri": "https://localhost:8080/",
          "height": 0
        },
        "id": "QdRY4PobdgFN",
        "outputId": "f5de803e-2341-4c20-f475-dbb2e32d4d8d"
      },
      "execution_count": 2,
      "outputs": [
        {
          "output_type": "stream",
          "name": "stdout",
          "text": [
            "--2022-03-30 07:03:57--  https://raw.githubusercontent.com/INRIA/scikit-learn-mooc/57f2e69a976136a9d1f9409b69ef0d6b3509903c/datasets/adult-census.csv\n",
            "Resolving raw.githubusercontent.com (raw.githubusercontent.com)... 185.199.108.133, 185.199.109.133, 185.199.110.133, ...\n",
            "Connecting to raw.githubusercontent.com (raw.githubusercontent.com)|185.199.108.133|:443... connected.\n",
            "HTTP request sent, awaiting response... 200 OK\n",
            "Length: 5383740 (5.1M) [text/plain]\n",
            "Saving to: ‘adult-census.csv’\n",
            "\n",
            "adult-census.csv    100%[===================>]   5.13M  --.-KB/s    in 0.08s   \n",
            "\n",
            "2022-03-30 07:03:57 (63.6 MB/s) - ‘adult-census.csv’ saved [5383740/5383740]\n",
            "\n"
          ]
        }
      ]
    },
    {
      "cell_type": "code",
      "source": [
        "import pandas as pd\n",
        "\n",
        "adult_census = pd.read_csv(\"adult-census.csv\")\n",
        "adult_census.head(10)"
      ],
      "metadata": {
        "id": "ORnpRmWIVqar",
        "colab": {
          "base_uri": "https://localhost:8080/",
          "height": 363
        },
        "outputId": "3fae151b-2319-42a2-ef21-7f9104a1445c"
      },
      "execution_count": 3,
      "outputs": [
        {
          "output_type": "execute_result",
          "data": {
            "text/plain": [
              "   age          workclass      education  education-num       marital-status  \\\n",
              "0   25            Private           11th              7        Never-married   \n",
              "1   38            Private        HS-grad              9   Married-civ-spouse   \n",
              "2   28          Local-gov     Assoc-acdm             12   Married-civ-spouse   \n",
              "3   44            Private   Some-college             10   Married-civ-spouse   \n",
              "4   18                  ?   Some-college             10        Never-married   \n",
              "5   34            Private           10th              6        Never-married   \n",
              "6   29                  ?        HS-grad              9        Never-married   \n",
              "7   63   Self-emp-not-inc    Prof-school             15   Married-civ-spouse   \n",
              "8   24            Private   Some-college             10        Never-married   \n",
              "9   55            Private        7th-8th              4   Married-civ-spouse   \n",
              "\n",
              "           occupation    relationship    race      sex  capital-gain  \\\n",
              "0   Machine-op-inspct       Own-child   Black     Male             0   \n",
              "1     Farming-fishing         Husband   White     Male             0   \n",
              "2     Protective-serv         Husband   White     Male             0   \n",
              "3   Machine-op-inspct         Husband   Black     Male          7688   \n",
              "4                   ?       Own-child   White   Female             0   \n",
              "5       Other-service   Not-in-family   White     Male             0   \n",
              "6                   ?       Unmarried   Black     Male             0   \n",
              "7      Prof-specialty         Husband   White     Male          3103   \n",
              "8       Other-service       Unmarried   White   Female             0   \n",
              "9        Craft-repair         Husband   White     Male             0   \n",
              "\n",
              "   capital-loss  hours-per-week  native-country   class  \n",
              "0             0              40   United-States   <=50K  \n",
              "1             0              50   United-States   <=50K  \n",
              "2             0              40   United-States    >50K  \n",
              "3             0              40   United-States    >50K  \n",
              "4             0              30   United-States   <=50K  \n",
              "5             0              30   United-States   <=50K  \n",
              "6             0              40   United-States   <=50K  \n",
              "7             0              32   United-States    >50K  \n",
              "8             0              40   United-States   <=50K  \n",
              "9             0              10   United-States   <=50K  "
            ],
            "text/html": [
              "\n",
              "  <div id=\"df-a052d944-b51e-45dc-a4c2-311ccd0aa4d9\">\n",
              "    <div class=\"colab-df-container\">\n",
              "      <div>\n",
              "<style scoped>\n",
              "    .dataframe tbody tr th:only-of-type {\n",
              "        vertical-align: middle;\n",
              "    }\n",
              "\n",
              "    .dataframe tbody tr th {\n",
              "        vertical-align: top;\n",
              "    }\n",
              "\n",
              "    .dataframe thead th {\n",
              "        text-align: right;\n",
              "    }\n",
              "</style>\n",
              "<table border=\"1\" class=\"dataframe\">\n",
              "  <thead>\n",
              "    <tr style=\"text-align: right;\">\n",
              "      <th></th>\n",
              "      <th>age</th>\n",
              "      <th>workclass</th>\n",
              "      <th>education</th>\n",
              "      <th>education-num</th>\n",
              "      <th>marital-status</th>\n",
              "      <th>occupation</th>\n",
              "      <th>relationship</th>\n",
              "      <th>race</th>\n",
              "      <th>sex</th>\n",
              "      <th>capital-gain</th>\n",
              "      <th>capital-loss</th>\n",
              "      <th>hours-per-week</th>\n",
              "      <th>native-country</th>\n",
              "      <th>class</th>\n",
              "    </tr>\n",
              "  </thead>\n",
              "  <tbody>\n",
              "    <tr>\n",
              "      <th>0</th>\n",
              "      <td>25</td>\n",
              "      <td>Private</td>\n",
              "      <td>11th</td>\n",
              "      <td>7</td>\n",
              "      <td>Never-married</td>\n",
              "      <td>Machine-op-inspct</td>\n",
              "      <td>Own-child</td>\n",
              "      <td>Black</td>\n",
              "      <td>Male</td>\n",
              "      <td>0</td>\n",
              "      <td>0</td>\n",
              "      <td>40</td>\n",
              "      <td>United-States</td>\n",
              "      <td>&lt;=50K</td>\n",
              "    </tr>\n",
              "    <tr>\n",
              "      <th>1</th>\n",
              "      <td>38</td>\n",
              "      <td>Private</td>\n",
              "      <td>HS-grad</td>\n",
              "      <td>9</td>\n",
              "      <td>Married-civ-spouse</td>\n",
              "      <td>Farming-fishing</td>\n",
              "      <td>Husband</td>\n",
              "      <td>White</td>\n",
              "      <td>Male</td>\n",
              "      <td>0</td>\n",
              "      <td>0</td>\n",
              "      <td>50</td>\n",
              "      <td>United-States</td>\n",
              "      <td>&lt;=50K</td>\n",
              "    </tr>\n",
              "    <tr>\n",
              "      <th>2</th>\n",
              "      <td>28</td>\n",
              "      <td>Local-gov</td>\n",
              "      <td>Assoc-acdm</td>\n",
              "      <td>12</td>\n",
              "      <td>Married-civ-spouse</td>\n",
              "      <td>Protective-serv</td>\n",
              "      <td>Husband</td>\n",
              "      <td>White</td>\n",
              "      <td>Male</td>\n",
              "      <td>0</td>\n",
              "      <td>0</td>\n",
              "      <td>40</td>\n",
              "      <td>United-States</td>\n",
              "      <td>&gt;50K</td>\n",
              "    </tr>\n",
              "    <tr>\n",
              "      <th>3</th>\n",
              "      <td>44</td>\n",
              "      <td>Private</td>\n",
              "      <td>Some-college</td>\n",
              "      <td>10</td>\n",
              "      <td>Married-civ-spouse</td>\n",
              "      <td>Machine-op-inspct</td>\n",
              "      <td>Husband</td>\n",
              "      <td>Black</td>\n",
              "      <td>Male</td>\n",
              "      <td>7688</td>\n",
              "      <td>0</td>\n",
              "      <td>40</td>\n",
              "      <td>United-States</td>\n",
              "      <td>&gt;50K</td>\n",
              "    </tr>\n",
              "    <tr>\n",
              "      <th>4</th>\n",
              "      <td>18</td>\n",
              "      <td>?</td>\n",
              "      <td>Some-college</td>\n",
              "      <td>10</td>\n",
              "      <td>Never-married</td>\n",
              "      <td>?</td>\n",
              "      <td>Own-child</td>\n",
              "      <td>White</td>\n",
              "      <td>Female</td>\n",
              "      <td>0</td>\n",
              "      <td>0</td>\n",
              "      <td>30</td>\n",
              "      <td>United-States</td>\n",
              "      <td>&lt;=50K</td>\n",
              "    </tr>\n",
              "    <tr>\n",
              "      <th>5</th>\n",
              "      <td>34</td>\n",
              "      <td>Private</td>\n",
              "      <td>10th</td>\n",
              "      <td>6</td>\n",
              "      <td>Never-married</td>\n",
              "      <td>Other-service</td>\n",
              "      <td>Not-in-family</td>\n",
              "      <td>White</td>\n",
              "      <td>Male</td>\n",
              "      <td>0</td>\n",
              "      <td>0</td>\n",
              "      <td>30</td>\n",
              "      <td>United-States</td>\n",
              "      <td>&lt;=50K</td>\n",
              "    </tr>\n",
              "    <tr>\n",
              "      <th>6</th>\n",
              "      <td>29</td>\n",
              "      <td>?</td>\n",
              "      <td>HS-grad</td>\n",
              "      <td>9</td>\n",
              "      <td>Never-married</td>\n",
              "      <td>?</td>\n",
              "      <td>Unmarried</td>\n",
              "      <td>Black</td>\n",
              "      <td>Male</td>\n",
              "      <td>0</td>\n",
              "      <td>0</td>\n",
              "      <td>40</td>\n",
              "      <td>United-States</td>\n",
              "      <td>&lt;=50K</td>\n",
              "    </tr>\n",
              "    <tr>\n",
              "      <th>7</th>\n",
              "      <td>63</td>\n",
              "      <td>Self-emp-not-inc</td>\n",
              "      <td>Prof-school</td>\n",
              "      <td>15</td>\n",
              "      <td>Married-civ-spouse</td>\n",
              "      <td>Prof-specialty</td>\n",
              "      <td>Husband</td>\n",
              "      <td>White</td>\n",
              "      <td>Male</td>\n",
              "      <td>3103</td>\n",
              "      <td>0</td>\n",
              "      <td>32</td>\n",
              "      <td>United-States</td>\n",
              "      <td>&gt;50K</td>\n",
              "    </tr>\n",
              "    <tr>\n",
              "      <th>8</th>\n",
              "      <td>24</td>\n",
              "      <td>Private</td>\n",
              "      <td>Some-college</td>\n",
              "      <td>10</td>\n",
              "      <td>Never-married</td>\n",
              "      <td>Other-service</td>\n",
              "      <td>Unmarried</td>\n",
              "      <td>White</td>\n",
              "      <td>Female</td>\n",
              "      <td>0</td>\n",
              "      <td>0</td>\n",
              "      <td>40</td>\n",
              "      <td>United-States</td>\n",
              "      <td>&lt;=50K</td>\n",
              "    </tr>\n",
              "    <tr>\n",
              "      <th>9</th>\n",
              "      <td>55</td>\n",
              "      <td>Private</td>\n",
              "      <td>7th-8th</td>\n",
              "      <td>4</td>\n",
              "      <td>Married-civ-spouse</td>\n",
              "      <td>Craft-repair</td>\n",
              "      <td>Husband</td>\n",
              "      <td>White</td>\n",
              "      <td>Male</td>\n",
              "      <td>0</td>\n",
              "      <td>0</td>\n",
              "      <td>10</td>\n",
              "      <td>United-States</td>\n",
              "      <td>&lt;=50K</td>\n",
              "    </tr>\n",
              "  </tbody>\n",
              "</table>\n",
              "</div>\n",
              "      <button class=\"colab-df-convert\" onclick=\"convertToInteractive('df-a052d944-b51e-45dc-a4c2-311ccd0aa4d9')\"\n",
              "              title=\"Convert this dataframe to an interactive table.\"\n",
              "              style=\"display:none;\">\n",
              "        \n",
              "  <svg xmlns=\"http://www.w3.org/2000/svg\" height=\"24px\"viewBox=\"0 0 24 24\"\n",
              "       width=\"24px\">\n",
              "    <path d=\"M0 0h24v24H0V0z\" fill=\"none\"/>\n",
              "    <path d=\"M18.56 5.44l.94 2.06.94-2.06 2.06-.94-2.06-.94-.94-2.06-.94 2.06-2.06.94zm-11 1L8.5 8.5l.94-2.06 2.06-.94-2.06-.94L8.5 2.5l-.94 2.06-2.06.94zm10 10l.94 2.06.94-2.06 2.06-.94-2.06-.94-.94-2.06-.94 2.06-2.06.94z\"/><path d=\"M17.41 7.96l-1.37-1.37c-.4-.4-.92-.59-1.43-.59-.52 0-1.04.2-1.43.59L10.3 9.45l-7.72 7.72c-.78.78-.78 2.05 0 2.83L4 21.41c.39.39.9.59 1.41.59.51 0 1.02-.2 1.41-.59l7.78-7.78 2.81-2.81c.8-.78.8-2.07 0-2.86zM5.41 20L4 18.59l7.72-7.72 1.47 1.35L5.41 20z\"/>\n",
              "  </svg>\n",
              "      </button>\n",
              "      \n",
              "  <style>\n",
              "    .colab-df-container {\n",
              "      display:flex;\n",
              "      flex-wrap:wrap;\n",
              "      gap: 12px;\n",
              "    }\n",
              "\n",
              "    .colab-df-convert {\n",
              "      background-color: #E8F0FE;\n",
              "      border: none;\n",
              "      border-radius: 50%;\n",
              "      cursor: pointer;\n",
              "      display: none;\n",
              "      fill: #1967D2;\n",
              "      height: 32px;\n",
              "      padding: 0 0 0 0;\n",
              "      width: 32px;\n",
              "    }\n",
              "\n",
              "    .colab-df-convert:hover {\n",
              "      background-color: #E2EBFA;\n",
              "      box-shadow: 0px 1px 2px rgba(60, 64, 67, 0.3), 0px 1px 3px 1px rgba(60, 64, 67, 0.15);\n",
              "      fill: #174EA6;\n",
              "    }\n",
              "\n",
              "    [theme=dark] .colab-df-convert {\n",
              "      background-color: #3B4455;\n",
              "      fill: #D2E3FC;\n",
              "    }\n",
              "\n",
              "    [theme=dark] .colab-df-convert:hover {\n",
              "      background-color: #434B5C;\n",
              "      box-shadow: 0px 1px 3px 1px rgba(0, 0, 0, 0.15);\n",
              "      filter: drop-shadow(0px 1px 2px rgba(0, 0, 0, 0.3));\n",
              "      fill: #FFFFFF;\n",
              "    }\n",
              "  </style>\n",
              "\n",
              "      <script>\n",
              "        const buttonEl =\n",
              "          document.querySelector('#df-a052d944-b51e-45dc-a4c2-311ccd0aa4d9 button.colab-df-convert');\n",
              "        buttonEl.style.display =\n",
              "          google.colab.kernel.accessAllowed ? 'block' : 'none';\n",
              "\n",
              "        async function convertToInteractive(key) {\n",
              "          const element = document.querySelector('#df-a052d944-b51e-45dc-a4c2-311ccd0aa4d9');\n",
              "          const dataTable =\n",
              "            await google.colab.kernel.invokeFunction('convertToInteractive',\n",
              "                                                     [key], {});\n",
              "          if (!dataTable) return;\n",
              "\n",
              "          const docLinkHtml = 'Like what you see? Visit the ' +\n",
              "            '<a target=\"_blank\" href=https://colab.research.google.com/notebooks/data_table.ipynb>data table notebook</a>'\n",
              "            + ' to learn more about interactive tables.';\n",
              "          element.innerHTML = '';\n",
              "          dataTable['output_type'] = 'display_data';\n",
              "          await google.colab.output.renderOutput(dataTable, element);\n",
              "          const docLink = document.createElement('div');\n",
              "          docLink.innerHTML = docLinkHtml;\n",
              "          element.appendChild(docLink);\n",
              "        }\n",
              "      </script>\n",
              "    </div>\n",
              "  </div>\n",
              "  "
            ]
          },
          "metadata": {},
          "execution_count": 3
        }
      ]
    },
    {
      "cell_type": "code",
      "source": [
        "adult_census.info()"
      ],
      "metadata": {
        "colab": {
          "base_uri": "https://localhost:8080/",
          "height": 0
        },
        "id": "aG0nMpkedOtD",
        "outputId": "06e84d7b-f5a3-4dee-c586-6cbe1b4479de"
      },
      "execution_count": 4,
      "outputs": [
        {
          "output_type": "stream",
          "name": "stdout",
          "text": [
            "<class 'pandas.core.frame.DataFrame'>\n",
            "RangeIndex: 48842 entries, 0 to 48841\n",
            "Data columns (total 14 columns):\n",
            " #   Column          Non-Null Count  Dtype \n",
            "---  ------          --------------  ----- \n",
            " 0   age             48842 non-null  int64 \n",
            " 1   workclass       48842 non-null  object\n",
            " 2   education       48842 non-null  object\n",
            " 3   education-num   48842 non-null  int64 \n",
            " 4   marital-status  48842 non-null  object\n",
            " 5   occupation      48842 non-null  object\n",
            " 6   relationship    48842 non-null  object\n",
            " 7   race            48842 non-null  object\n",
            " 8   sex             48842 non-null  object\n",
            " 9   capital-gain    48842 non-null  int64 \n",
            " 10  capital-loss    48842 non-null  int64 \n",
            " 11  hours-per-week  48842 non-null  int64 \n",
            " 12  native-country  48842 non-null  object\n",
            " 13  class           48842 non-null  object\n",
            "dtypes: int64(5), object(9)\n",
            "memory usage: 5.2+ MB\n"
          ]
        }
      ]
    },
    {
      "cell_type": "markdown",
      "source": [
        "Attention ! Ici, les dix premiers éléments comparés à `.info()` trahissent un problème : les caractères `?` n'ont pas été reconnus comme étant des données manquantes."
      ],
      "metadata": {
        "id": "z_Ui8FS3eswn"
      }
    },
    {
      "cell_type": "code",
      "source": [
        "adult_census = pd.read_csv(\"adult-census.csv\", na_values=[' ?'])\n",
        "adult_census.info()"
      ],
      "metadata": {
        "colab": {
          "base_uri": "https://localhost:8080/",
          "height": 0
        },
        "id": "_JyKPLthje6V",
        "outputId": "7163ee86-b469-4698-c660-d9b423e36af3"
      },
      "execution_count": 5,
      "outputs": [
        {
          "output_type": "stream",
          "name": "stdout",
          "text": [
            "<class 'pandas.core.frame.DataFrame'>\n",
            "RangeIndex: 48842 entries, 0 to 48841\n",
            "Data columns (total 14 columns):\n",
            " #   Column          Non-Null Count  Dtype \n",
            "---  ------          --------------  ----- \n",
            " 0   age             48842 non-null  int64 \n",
            " 1   workclass       46043 non-null  object\n",
            " 2   education       48842 non-null  object\n",
            " 3   education-num   48842 non-null  int64 \n",
            " 4   marital-status  48842 non-null  object\n",
            " 5   occupation      46033 non-null  object\n",
            " 6   relationship    48842 non-null  object\n",
            " 7   race            48842 non-null  object\n",
            " 8   sex             48842 non-null  object\n",
            " 9   capital-gain    48842 non-null  int64 \n",
            " 10  capital-loss    48842 non-null  int64 \n",
            " 11  hours-per-week  48842 non-null  int64 \n",
            " 12  native-country  47985 non-null  object\n",
            " 13  class           48842 non-null  object\n",
            "dtypes: int64(5), object(9)\n",
            "memory usage: 5.2+ MB\n"
          ]
        }
      ]
    },
    {
      "cell_type": "markdown",
      "source": [
        "C'est mieux. Cela ne veut pas dire qu'il n'y en a pas d'autres. On pourrait systématiser leur recherche avec `.value_counts()`"
      ],
      "metadata": {
        "id": "u-acANhgjoRN"
      }
    },
    {
      "cell_type": "code",
      "source": [
        "for name in adult_census.columns:\n",
        "    if adult_census[name].dtypes == object:\n",
        "        print(adult_census[name].value_counts())\n",
        "        print(80*\"-\")"
      ],
      "metadata": {
        "colab": {
          "base_uri": "https://localhost:8080/",
          "height": 0
        },
        "id": "12QVgm-Jj41D",
        "outputId": "b8abf9bb-3d1b-41ec-e541-7d960b504546"
      },
      "execution_count": 6,
      "outputs": [
        {
          "output_type": "stream",
          "name": "stdout",
          "text": [
            " Private             33906\n",
            " Self-emp-not-inc     3862\n",
            " Local-gov            3136\n",
            " State-gov            1981\n",
            " Self-emp-inc         1695\n",
            " Federal-gov          1432\n",
            " Without-pay            21\n",
            " Never-worked           10\n",
            "Name: workclass, dtype: int64\n",
            "--------------------------------------------------------------------------------\n",
            " HS-grad         15784\n",
            " Some-college    10878\n",
            " Bachelors        8025\n",
            " Masters          2657\n",
            " Assoc-voc        2061\n",
            " 11th             1812\n",
            " Assoc-acdm       1601\n",
            " 10th             1389\n",
            " 7th-8th           955\n",
            " Prof-school       834\n",
            " 9th               756\n",
            " 12th              657\n",
            " Doctorate         594\n",
            " 5th-6th           509\n",
            " 1st-4th           247\n",
            " Preschool          83\n",
            "Name: education, dtype: int64\n",
            "--------------------------------------------------------------------------------\n",
            " Married-civ-spouse       22379\n",
            " Never-married            16117\n",
            " Divorced                  6633\n",
            " Separated                 1530\n",
            " Widowed                   1518\n",
            " Married-spouse-absent      628\n",
            " Married-AF-spouse           37\n",
            "Name: marital-status, dtype: int64\n",
            "--------------------------------------------------------------------------------\n",
            " Prof-specialty       6172\n",
            " Craft-repair         6112\n",
            " Exec-managerial      6086\n",
            " Adm-clerical         5611\n",
            " Sales                5504\n",
            " Other-service        4923\n",
            " Machine-op-inspct    3022\n",
            " Transport-moving     2355\n",
            " Handlers-cleaners    2072\n",
            " Farming-fishing      1490\n",
            " Tech-support         1446\n",
            " Protective-serv       983\n",
            " Priv-house-serv       242\n",
            " Armed-Forces           15\n",
            "Name: occupation, dtype: int64\n",
            "--------------------------------------------------------------------------------\n",
            " Husband           19716\n",
            " Not-in-family     12583\n",
            " Own-child          7581\n",
            " Unmarried          5125\n",
            " Wife               2331\n",
            " Other-relative     1506\n",
            "Name: relationship, dtype: int64\n",
            "--------------------------------------------------------------------------------\n",
            " White                 41762\n",
            " Black                  4685\n",
            " Asian-Pac-Islander     1519\n",
            " Amer-Indian-Eskimo      470\n",
            " Other                   406\n",
            "Name: race, dtype: int64\n",
            "--------------------------------------------------------------------------------\n",
            " Male      32650\n",
            " Female    16192\n",
            "Name: sex, dtype: int64\n",
            "--------------------------------------------------------------------------------\n",
            " United-States                 43832\n",
            " Mexico                          951\n",
            " Philippines                     295\n",
            " Germany                         206\n",
            " Puerto-Rico                     184\n",
            " Canada                          182\n",
            " El-Salvador                     155\n",
            " India                           151\n",
            " Cuba                            138\n",
            " England                         127\n",
            " China                           122\n",
            " South                           115\n",
            " Jamaica                         106\n",
            " Italy                           105\n",
            " Dominican-Republic              103\n",
            " Japan                            92\n",
            " Guatemala                        88\n",
            " Poland                           87\n",
            " Vietnam                          86\n",
            " Columbia                         85\n",
            " Haiti                            75\n",
            " Portugal                         67\n",
            " Taiwan                           65\n",
            " Iran                             59\n",
            " Greece                           49\n",
            " Nicaragua                        49\n",
            " Peru                             46\n",
            " Ecuador                          45\n",
            " France                           38\n",
            " Ireland                          37\n",
            " Hong                             30\n",
            " Thailand                         30\n",
            " Cambodia                         28\n",
            " Trinadad&Tobago                  27\n",
            " Yugoslavia                       23\n",
            " Outlying-US(Guam-USVI-etc)       23\n",
            " Laos                             23\n",
            " Scotland                         21\n",
            " Honduras                         20\n",
            " Hungary                          19\n",
            " Holand-Netherlands                1\n",
            "Name: native-country, dtype: int64\n",
            "--------------------------------------------------------------------------------\n",
            " <=50K    37155\n",
            " >50K     11687\n",
            "Name: class, dtype: int64\n",
            "--------------------------------------------------------------------------------\n"
          ]
        }
      ]
    },
    {
      "cell_type": "markdown",
      "source": [
        "### Séparation des prédicteurs et de la classe à prédire"
      ],
      "metadata": {
        "id": "PW0KReZRfGU-"
      }
    },
    {
      "cell_type": "code",
      "source": [
        "target_name = \"class\"\n",
        "target = adult_census[target_name]\n",
        "target.value_counts()"
      ],
      "metadata": {
        "colab": {
          "base_uri": "https://localhost:8080/",
          "height": 0
        },
        "id": "MdUF79h9e1eS",
        "outputId": "9e868762-5744-4715-d78b-a9ed253233cf"
      },
      "execution_count": 7,
      "outputs": [
        {
          "output_type": "execute_result",
          "data": {
            "text/plain": [
              " <=50K    37155\n",
              " >50K     11687\n",
              "Name: class, dtype: int64"
            ]
          },
          "metadata": {},
          "execution_count": 7
        }
      ]
    },
    {
      "cell_type": "markdown",
      "source": [
        "On supprime l'attribut `education-num`, qui porte la même information que `education`."
      ],
      "metadata": {
        "id": "p1qAXIeUfVmE"
      }
    },
    {
      "cell_type": "code",
      "source": [
        "data = adult_census.drop(columns=[target_name, \"education-num\"])\n",
        "data.head()"
      ],
      "metadata": {
        "colab": {
          "base_uri": "https://localhost:8080/",
          "height": 206
        },
        "id": "zQGkKvQufNAH",
        "outputId": "1ade2b07-46ac-4629-f69e-9c02da75e367"
      },
      "execution_count": 8,
      "outputs": [
        {
          "output_type": "execute_result",
          "data": {
            "text/plain": [
              "   age   workclass      education       marital-status          occupation  \\\n",
              "0   25     Private           11th        Never-married   Machine-op-inspct   \n",
              "1   38     Private        HS-grad   Married-civ-spouse     Farming-fishing   \n",
              "2   28   Local-gov     Assoc-acdm   Married-civ-spouse     Protective-serv   \n",
              "3   44     Private   Some-college   Married-civ-spouse   Machine-op-inspct   \n",
              "4   18         NaN   Some-college        Never-married                 NaN   \n",
              "\n",
              "  relationship    race      sex  capital-gain  capital-loss  hours-per-week  \\\n",
              "0    Own-child   Black     Male             0             0              40   \n",
              "1      Husband   White     Male             0             0              50   \n",
              "2      Husband   White     Male             0             0              40   \n",
              "3      Husband   Black     Male          7688             0              40   \n",
              "4    Own-child   White   Female             0             0              30   \n",
              "\n",
              "   native-country  \n",
              "0   United-States  \n",
              "1   United-States  \n",
              "2   United-States  \n",
              "3   United-States  \n",
              "4   United-States  "
            ],
            "text/html": [
              "\n",
              "  <div id=\"df-c6629778-ec89-4b67-802d-68ac07c3a077\">\n",
              "    <div class=\"colab-df-container\">\n",
              "      <div>\n",
              "<style scoped>\n",
              "    .dataframe tbody tr th:only-of-type {\n",
              "        vertical-align: middle;\n",
              "    }\n",
              "\n",
              "    .dataframe tbody tr th {\n",
              "        vertical-align: top;\n",
              "    }\n",
              "\n",
              "    .dataframe thead th {\n",
              "        text-align: right;\n",
              "    }\n",
              "</style>\n",
              "<table border=\"1\" class=\"dataframe\">\n",
              "  <thead>\n",
              "    <tr style=\"text-align: right;\">\n",
              "      <th></th>\n",
              "      <th>age</th>\n",
              "      <th>workclass</th>\n",
              "      <th>education</th>\n",
              "      <th>marital-status</th>\n",
              "      <th>occupation</th>\n",
              "      <th>relationship</th>\n",
              "      <th>race</th>\n",
              "      <th>sex</th>\n",
              "      <th>capital-gain</th>\n",
              "      <th>capital-loss</th>\n",
              "      <th>hours-per-week</th>\n",
              "      <th>native-country</th>\n",
              "    </tr>\n",
              "  </thead>\n",
              "  <tbody>\n",
              "    <tr>\n",
              "      <th>0</th>\n",
              "      <td>25</td>\n",
              "      <td>Private</td>\n",
              "      <td>11th</td>\n",
              "      <td>Never-married</td>\n",
              "      <td>Machine-op-inspct</td>\n",
              "      <td>Own-child</td>\n",
              "      <td>Black</td>\n",
              "      <td>Male</td>\n",
              "      <td>0</td>\n",
              "      <td>0</td>\n",
              "      <td>40</td>\n",
              "      <td>United-States</td>\n",
              "    </tr>\n",
              "    <tr>\n",
              "      <th>1</th>\n",
              "      <td>38</td>\n",
              "      <td>Private</td>\n",
              "      <td>HS-grad</td>\n",
              "      <td>Married-civ-spouse</td>\n",
              "      <td>Farming-fishing</td>\n",
              "      <td>Husband</td>\n",
              "      <td>White</td>\n",
              "      <td>Male</td>\n",
              "      <td>0</td>\n",
              "      <td>0</td>\n",
              "      <td>50</td>\n",
              "      <td>United-States</td>\n",
              "    </tr>\n",
              "    <tr>\n",
              "      <th>2</th>\n",
              "      <td>28</td>\n",
              "      <td>Local-gov</td>\n",
              "      <td>Assoc-acdm</td>\n",
              "      <td>Married-civ-spouse</td>\n",
              "      <td>Protective-serv</td>\n",
              "      <td>Husband</td>\n",
              "      <td>White</td>\n",
              "      <td>Male</td>\n",
              "      <td>0</td>\n",
              "      <td>0</td>\n",
              "      <td>40</td>\n",
              "      <td>United-States</td>\n",
              "    </tr>\n",
              "    <tr>\n",
              "      <th>3</th>\n",
              "      <td>44</td>\n",
              "      <td>Private</td>\n",
              "      <td>Some-college</td>\n",
              "      <td>Married-civ-spouse</td>\n",
              "      <td>Machine-op-inspct</td>\n",
              "      <td>Husband</td>\n",
              "      <td>Black</td>\n",
              "      <td>Male</td>\n",
              "      <td>7688</td>\n",
              "      <td>0</td>\n",
              "      <td>40</td>\n",
              "      <td>United-States</td>\n",
              "    </tr>\n",
              "    <tr>\n",
              "      <th>4</th>\n",
              "      <td>18</td>\n",
              "      <td>NaN</td>\n",
              "      <td>Some-college</td>\n",
              "      <td>Never-married</td>\n",
              "      <td>NaN</td>\n",
              "      <td>Own-child</td>\n",
              "      <td>White</td>\n",
              "      <td>Female</td>\n",
              "      <td>0</td>\n",
              "      <td>0</td>\n",
              "      <td>30</td>\n",
              "      <td>United-States</td>\n",
              "    </tr>\n",
              "  </tbody>\n",
              "</table>\n",
              "</div>\n",
              "      <button class=\"colab-df-convert\" onclick=\"convertToInteractive('df-c6629778-ec89-4b67-802d-68ac07c3a077')\"\n",
              "              title=\"Convert this dataframe to an interactive table.\"\n",
              "              style=\"display:none;\">\n",
              "        \n",
              "  <svg xmlns=\"http://www.w3.org/2000/svg\" height=\"24px\"viewBox=\"0 0 24 24\"\n",
              "       width=\"24px\">\n",
              "    <path d=\"M0 0h24v24H0V0z\" fill=\"none\"/>\n",
              "    <path d=\"M18.56 5.44l.94 2.06.94-2.06 2.06-.94-2.06-.94-.94-2.06-.94 2.06-2.06.94zm-11 1L8.5 8.5l.94-2.06 2.06-.94-2.06-.94L8.5 2.5l-.94 2.06-2.06.94zm10 10l.94 2.06.94-2.06 2.06-.94-2.06-.94-.94-2.06-.94 2.06-2.06.94z\"/><path d=\"M17.41 7.96l-1.37-1.37c-.4-.4-.92-.59-1.43-.59-.52 0-1.04.2-1.43.59L10.3 9.45l-7.72 7.72c-.78.78-.78 2.05 0 2.83L4 21.41c.39.39.9.59 1.41.59.51 0 1.02-.2 1.41-.59l7.78-7.78 2.81-2.81c.8-.78.8-2.07 0-2.86zM5.41 20L4 18.59l7.72-7.72 1.47 1.35L5.41 20z\"/>\n",
              "  </svg>\n",
              "      </button>\n",
              "      \n",
              "  <style>\n",
              "    .colab-df-container {\n",
              "      display:flex;\n",
              "      flex-wrap:wrap;\n",
              "      gap: 12px;\n",
              "    }\n",
              "\n",
              "    .colab-df-convert {\n",
              "      background-color: #E8F0FE;\n",
              "      border: none;\n",
              "      border-radius: 50%;\n",
              "      cursor: pointer;\n",
              "      display: none;\n",
              "      fill: #1967D2;\n",
              "      height: 32px;\n",
              "      padding: 0 0 0 0;\n",
              "      width: 32px;\n",
              "    }\n",
              "\n",
              "    .colab-df-convert:hover {\n",
              "      background-color: #E2EBFA;\n",
              "      box-shadow: 0px 1px 2px rgba(60, 64, 67, 0.3), 0px 1px 3px 1px rgba(60, 64, 67, 0.15);\n",
              "      fill: #174EA6;\n",
              "    }\n",
              "\n",
              "    [theme=dark] .colab-df-convert {\n",
              "      background-color: #3B4455;\n",
              "      fill: #D2E3FC;\n",
              "    }\n",
              "\n",
              "    [theme=dark] .colab-df-convert:hover {\n",
              "      background-color: #434B5C;\n",
              "      box-shadow: 0px 1px 3px 1px rgba(0, 0, 0, 0.15);\n",
              "      filter: drop-shadow(0px 1px 2px rgba(0, 0, 0, 0.3));\n",
              "      fill: #FFFFFF;\n",
              "    }\n",
              "  </style>\n",
              "\n",
              "      <script>\n",
              "        const buttonEl =\n",
              "          document.querySelector('#df-c6629778-ec89-4b67-802d-68ac07c3a077 button.colab-df-convert');\n",
              "        buttonEl.style.display =\n",
              "          google.colab.kernel.accessAllowed ? 'block' : 'none';\n",
              "\n",
              "        async function convertToInteractive(key) {\n",
              "          const element = document.querySelector('#df-c6629778-ec89-4b67-802d-68ac07c3a077');\n",
              "          const dataTable =\n",
              "            await google.colab.kernel.invokeFunction('convertToInteractive',\n",
              "                                                     [key], {});\n",
              "          if (!dataTable) return;\n",
              "\n",
              "          const docLinkHtml = 'Like what you see? Visit the ' +\n",
              "            '<a target=\"_blank\" href=https://colab.research.google.com/notebooks/data_table.ipynb>data table notebook</a>'\n",
              "            + ' to learn more about interactive tables.';\n",
              "          element.innerHTML = '';\n",
              "          dataTable['output_type'] = 'display_data';\n",
              "          await google.colab.output.renderOutput(dataTable, element);\n",
              "          const docLink = document.createElement('div');\n",
              "          docLink.innerHTML = docLinkHtml;\n",
              "          element.appendChild(docLink);\n",
              "        }\n",
              "      </script>\n",
              "    </div>\n",
              "  </div>\n",
              "  "
            ]
          },
          "metadata": {},
          "execution_count": 8
        }
      ]
    },
    {
      "cell_type": "markdown",
      "source": [
        "### Séparation en données d'entraînement et de test"
      ],
      "metadata": {
        "id": "c8l3lO1Aflti"
      }
    },
    {
      "cell_type": "code",
      "source": [
        "from sklearn.model_selection import train_test_split\n",
        "\n",
        "data_train, data_test, target_train, target_test = train_test_split(data, target, random_state=42)"
      ],
      "metadata": {
        "id": "BA0yDy3Efeth"
      },
      "execution_count": 9,
      "outputs": []
    },
    {
      "cell_type": "markdown",
      "source": [
        "### Modélisation"
      ],
      "metadata": {
        "id": "dUGYMUx4fqDZ"
      }
    },
    {
      "cell_type": "code",
      "source": [
        "from sklearn import set_config\n",
        "set_config(display=\"diagram\")"
      ],
      "metadata": {
        "id": "dytuelG8fraC"
      },
      "execution_count": 10,
      "outputs": []
    },
    {
      "cell_type": "markdown",
      "source": [
        "On commence par proposer une étape de pré-traitement."
      ],
      "metadata": {
        "id": "3rTJwKxBf4y6"
      }
    },
    {
      "cell_type": "code",
      "source": [
        "from sklearn.compose import ColumnTransformer\n",
        "from sklearn.preprocessing import OrdinalEncoder\n",
        "from sklearn.compose import make_column_selector as selector\n",
        "\n",
        "categorical_columns_selector = selector(dtype_include=object)\n",
        "categorical_columns = categorical_columns_selector(data)\n",
        "\n",
        "categorical_preprocessor = OrdinalEncoder(handle_unknown=\"use_encoded_value\",\n",
        "                                          unknown_value=-1)\n",
        "preprocessor = ColumnTransformer([\n",
        "    ('cat_preprocessor', categorical_preprocessor, categorical_columns)],\n",
        "    remainder='passthrough', sparse_threshold=0)"
      ],
      "metadata": {
        "id": "v5N9Q0dpf3RK"
      },
      "execution_count": 11,
      "outputs": []
    },
    {
      "cell_type": "markdown",
      "source": [
        "On modélise le problème à l'aide d'un `HistGradientBoostingClassifier` et on implémente le pipeline."
      ],
      "metadata": {
        "id": "iSrJsTF1f70T"
      }
    },
    {
      "cell_type": "code",
      "source": [
        "from sklearn.ensemble import HistGradientBoostingClassifier\n",
        "from sklearn.pipeline import Pipeline\n",
        "\n",
        "model = Pipeline([\n",
        "    (\"preprocessor\", preprocessor),\n",
        "    (\"classifier\", HistGradientBoostingClassifier(random_state=42, max_leaf_nodes=4)),\n",
        "])\n",
        "\n",
        "model"
      ],
      "metadata": {
        "colab": {
          "base_uri": "https://localhost:8080/",
          "height": 192
        },
        "id": "vwYsMmc7gIBa",
        "outputId": "0e4c7ab5-2f08-4fc9-99e7-26e1639fc85b"
      },
      "execution_count": 12,
      "outputs": [
        {
          "output_type": "execute_result",
          "data": {
            "text/plain": [
              "Pipeline(steps=[('preprocessor',\n",
              "                 ColumnTransformer(remainder='passthrough', sparse_threshold=0,\n",
              "                                   transformers=[('cat_preprocessor',\n",
              "                                                  OrdinalEncoder(handle_unknown='use_encoded_value',\n",
              "                                                                 unknown_value=-1),\n",
              "                                                  ['workclass', 'education',\n",
              "                                                   'marital-status',\n",
              "                                                   'occupation', 'relationship',\n",
              "                                                   'race', 'sex',\n",
              "                                                   'native-country'])])),\n",
              "                ('classifier',\n",
              "                 HistGradientBoostingClassifier(max_leaf_nodes=4,\n",
              "                                                random_state=42))])"
            ],
            "text/html": [
              "<style>#sk-b99fa28e-0b8f-4515-8fcd-74ea3a14daf4 {color: black;background-color: white;}#sk-b99fa28e-0b8f-4515-8fcd-74ea3a14daf4 pre{padding: 0;}#sk-b99fa28e-0b8f-4515-8fcd-74ea3a14daf4 div.sk-toggleable {background-color: white;}#sk-b99fa28e-0b8f-4515-8fcd-74ea3a14daf4 label.sk-toggleable__label {cursor: pointer;display: block;width: 100%;margin-bottom: 0;padding: 0.3em;box-sizing: border-box;text-align: center;}#sk-b99fa28e-0b8f-4515-8fcd-74ea3a14daf4 label.sk-toggleable__label-arrow:before {content: \"▸\";float: left;margin-right: 0.25em;color: #696969;}#sk-b99fa28e-0b8f-4515-8fcd-74ea3a14daf4 label.sk-toggleable__label-arrow:hover:before {color: black;}#sk-b99fa28e-0b8f-4515-8fcd-74ea3a14daf4 div.sk-estimator:hover label.sk-toggleable__label-arrow:before {color: black;}#sk-b99fa28e-0b8f-4515-8fcd-74ea3a14daf4 div.sk-toggleable__content {max-height: 0;max-width: 0;overflow: hidden;text-align: left;background-color: #f0f8ff;}#sk-b99fa28e-0b8f-4515-8fcd-74ea3a14daf4 div.sk-toggleable__content pre {margin: 0.2em;color: black;border-radius: 0.25em;background-color: #f0f8ff;}#sk-b99fa28e-0b8f-4515-8fcd-74ea3a14daf4 input.sk-toggleable__control:checked~div.sk-toggleable__content {max-height: 200px;max-width: 100%;overflow: auto;}#sk-b99fa28e-0b8f-4515-8fcd-74ea3a14daf4 input.sk-toggleable__control:checked~label.sk-toggleable__label-arrow:before {content: \"▾\";}#sk-b99fa28e-0b8f-4515-8fcd-74ea3a14daf4 div.sk-estimator input.sk-toggleable__control:checked~label.sk-toggleable__label {background-color: #d4ebff;}#sk-b99fa28e-0b8f-4515-8fcd-74ea3a14daf4 div.sk-label input.sk-toggleable__control:checked~label.sk-toggleable__label {background-color: #d4ebff;}#sk-b99fa28e-0b8f-4515-8fcd-74ea3a14daf4 input.sk-hidden--visually {border: 0;clip: rect(1px 1px 1px 1px);clip: rect(1px, 1px, 1px, 1px);height: 1px;margin: -1px;overflow: hidden;padding: 0;position: absolute;width: 1px;}#sk-b99fa28e-0b8f-4515-8fcd-74ea3a14daf4 div.sk-estimator {font-family: monospace;background-color: #f0f8ff;border: 1px dotted black;border-radius: 0.25em;box-sizing: border-box;margin-bottom: 0.5em;}#sk-b99fa28e-0b8f-4515-8fcd-74ea3a14daf4 div.sk-estimator:hover {background-color: #d4ebff;}#sk-b99fa28e-0b8f-4515-8fcd-74ea3a14daf4 div.sk-parallel-item::after {content: \"\";width: 100%;border-bottom: 1px solid gray;flex-grow: 1;}#sk-b99fa28e-0b8f-4515-8fcd-74ea3a14daf4 div.sk-label:hover label.sk-toggleable__label {background-color: #d4ebff;}#sk-b99fa28e-0b8f-4515-8fcd-74ea3a14daf4 div.sk-serial::before {content: \"\";position: absolute;border-left: 1px solid gray;box-sizing: border-box;top: 2em;bottom: 0;left: 50%;}#sk-b99fa28e-0b8f-4515-8fcd-74ea3a14daf4 div.sk-serial {display: flex;flex-direction: column;align-items: center;background-color: white;padding-right: 0.2em;padding-left: 0.2em;}#sk-b99fa28e-0b8f-4515-8fcd-74ea3a14daf4 div.sk-item {z-index: 1;}#sk-b99fa28e-0b8f-4515-8fcd-74ea3a14daf4 div.sk-parallel {display: flex;align-items: stretch;justify-content: center;background-color: white;}#sk-b99fa28e-0b8f-4515-8fcd-74ea3a14daf4 div.sk-parallel::before {content: \"\";position: absolute;border-left: 1px solid gray;box-sizing: border-box;top: 2em;bottom: 0;left: 50%;}#sk-b99fa28e-0b8f-4515-8fcd-74ea3a14daf4 div.sk-parallel-item {display: flex;flex-direction: column;position: relative;background-color: white;}#sk-b99fa28e-0b8f-4515-8fcd-74ea3a14daf4 div.sk-parallel-item:first-child::after {align-self: flex-end;width: 50%;}#sk-b99fa28e-0b8f-4515-8fcd-74ea3a14daf4 div.sk-parallel-item:last-child::after {align-self: flex-start;width: 50%;}#sk-b99fa28e-0b8f-4515-8fcd-74ea3a14daf4 div.sk-parallel-item:only-child::after {width: 0;}#sk-b99fa28e-0b8f-4515-8fcd-74ea3a14daf4 div.sk-dashed-wrapped {border: 1px dashed gray;margin: 0 0.4em 0.5em 0.4em;box-sizing: border-box;padding-bottom: 0.4em;background-color: white;position: relative;}#sk-b99fa28e-0b8f-4515-8fcd-74ea3a14daf4 div.sk-label label {font-family: monospace;font-weight: bold;background-color: white;display: inline-block;line-height: 1.2em;}#sk-b99fa28e-0b8f-4515-8fcd-74ea3a14daf4 div.sk-label-container {position: relative;z-index: 2;text-align: center;}#sk-b99fa28e-0b8f-4515-8fcd-74ea3a14daf4 div.sk-container {/* jupyter's `normalize.less` sets `[hidden] { display: none; }` but bootstrap.min.css set `[hidden] { display: none !important; }` so we also need the `!important` here to be able to override the default hidden behavior on the sphinx rendered scikit-learn.org. See: https://github.com/scikit-learn/scikit-learn/issues/21755 */display: inline-block !important;position: relative;}#sk-b99fa28e-0b8f-4515-8fcd-74ea3a14daf4 div.sk-text-repr-fallback {display: none;}</style><div id=\"sk-b99fa28e-0b8f-4515-8fcd-74ea3a14daf4\" class=\"sk-top-container\"><div class=\"sk-text-repr-fallback\"><pre>Pipeline(steps=[(&#x27;preprocessor&#x27;,\n",
              "                 ColumnTransformer(remainder=&#x27;passthrough&#x27;, sparse_threshold=0,\n",
              "                                   transformers=[(&#x27;cat_preprocessor&#x27;,\n",
              "                                                  OrdinalEncoder(handle_unknown=&#x27;use_encoded_value&#x27;,\n",
              "                                                                 unknown_value=-1),\n",
              "                                                  [&#x27;workclass&#x27;, &#x27;education&#x27;,\n",
              "                                                   &#x27;marital-status&#x27;,\n",
              "                                                   &#x27;occupation&#x27;, &#x27;relationship&#x27;,\n",
              "                                                   &#x27;race&#x27;, &#x27;sex&#x27;,\n",
              "                                                   &#x27;native-country&#x27;])])),\n",
              "                (&#x27;classifier&#x27;,\n",
              "                 HistGradientBoostingClassifier(max_leaf_nodes=4,\n",
              "                                                random_state=42))])</pre><b>Please rerun this cell to show the HTML repr or trust the notebook.</b></div><div class=\"sk-container\" hidden><div class=\"sk-item sk-dashed-wrapped\"><div class=\"sk-label-container\"><div class=\"sk-label sk-toggleable\"><input class=\"sk-toggleable__control sk-hidden--visually\" id=\"4b974736-7723-4d90-826b-b66299af4ef4\" type=\"checkbox\" ><label for=\"4b974736-7723-4d90-826b-b66299af4ef4\" class=\"sk-toggleable__label sk-toggleable__label-arrow\">Pipeline</label><div class=\"sk-toggleable__content\"><pre>Pipeline(steps=[(&#x27;preprocessor&#x27;,\n",
              "                 ColumnTransformer(remainder=&#x27;passthrough&#x27;, sparse_threshold=0,\n",
              "                                   transformers=[(&#x27;cat_preprocessor&#x27;,\n",
              "                                                  OrdinalEncoder(handle_unknown=&#x27;use_encoded_value&#x27;,\n",
              "                                                                 unknown_value=-1),\n",
              "                                                  [&#x27;workclass&#x27;, &#x27;education&#x27;,\n",
              "                                                   &#x27;marital-status&#x27;,\n",
              "                                                   &#x27;occupation&#x27;, &#x27;relationship&#x27;,\n",
              "                                                   &#x27;race&#x27;, &#x27;sex&#x27;,\n",
              "                                                   &#x27;native-country&#x27;])])),\n",
              "                (&#x27;classifier&#x27;,\n",
              "                 HistGradientBoostingClassifier(max_leaf_nodes=4,\n",
              "                                                random_state=42))])</pre></div></div></div><div class=\"sk-serial\"><div class=\"sk-item sk-dashed-wrapped\"><div class=\"sk-label-container\"><div class=\"sk-label sk-toggleable\"><input class=\"sk-toggleable__control sk-hidden--visually\" id=\"e8c82b34-e685-484d-a32f-150ed8fb822d\" type=\"checkbox\" ><label for=\"e8c82b34-e685-484d-a32f-150ed8fb822d\" class=\"sk-toggleable__label sk-toggleable__label-arrow\">preprocessor: ColumnTransformer</label><div class=\"sk-toggleable__content\"><pre>ColumnTransformer(remainder=&#x27;passthrough&#x27;, sparse_threshold=0,\n",
              "                  transformers=[(&#x27;cat_preprocessor&#x27;,\n",
              "                                 OrdinalEncoder(handle_unknown=&#x27;use_encoded_value&#x27;,\n",
              "                                                unknown_value=-1),\n",
              "                                 [&#x27;workclass&#x27;, &#x27;education&#x27;, &#x27;marital-status&#x27;,\n",
              "                                  &#x27;occupation&#x27;, &#x27;relationship&#x27;, &#x27;race&#x27;, &#x27;sex&#x27;,\n",
              "                                  &#x27;native-country&#x27;])])</pre></div></div></div><div class=\"sk-parallel\"><div class=\"sk-parallel-item\"><div class=\"sk-item\"><div class=\"sk-label-container\"><div class=\"sk-label sk-toggleable\"><input class=\"sk-toggleable__control sk-hidden--visually\" id=\"a91d35ad-4326-489c-a067-1eeebc41748f\" type=\"checkbox\" ><label for=\"a91d35ad-4326-489c-a067-1eeebc41748f\" class=\"sk-toggleable__label sk-toggleable__label-arrow\">cat_preprocessor</label><div class=\"sk-toggleable__content\"><pre>[&#x27;workclass&#x27;, &#x27;education&#x27;, &#x27;marital-status&#x27;, &#x27;occupation&#x27;, &#x27;relationship&#x27;, &#x27;race&#x27;, &#x27;sex&#x27;, &#x27;native-country&#x27;]</pre></div></div></div><div class=\"sk-serial\"><div class=\"sk-item\"><div class=\"sk-estimator sk-toggleable\"><input class=\"sk-toggleable__control sk-hidden--visually\" id=\"fc8eeaae-1a86-4667-b47f-2bc3a788a8cc\" type=\"checkbox\" ><label for=\"fc8eeaae-1a86-4667-b47f-2bc3a788a8cc\" class=\"sk-toggleable__label sk-toggleable__label-arrow\">OrdinalEncoder</label><div class=\"sk-toggleable__content\"><pre>OrdinalEncoder(handle_unknown=&#x27;use_encoded_value&#x27;, unknown_value=-1)</pre></div></div></div></div></div></div><div class=\"sk-parallel-item\"><div class=\"sk-item\"><div class=\"sk-label-container\"><div class=\"sk-label sk-toggleable\"><input class=\"sk-toggleable__control sk-hidden--visually\" id=\"1e14402c-2215-4b6b-adcb-12a3998c47e0\" type=\"checkbox\" ><label for=\"1e14402c-2215-4b6b-adcb-12a3998c47e0\" class=\"sk-toggleable__label sk-toggleable__label-arrow\">remainder</label><div class=\"sk-toggleable__content\"><pre></pre></div></div></div><div class=\"sk-serial\"><div class=\"sk-item\"><div class=\"sk-estimator sk-toggleable\"><input class=\"sk-toggleable__control sk-hidden--visually\" id=\"e9d85f81-5c7c-4d5d-a825-3fb1d222735d\" type=\"checkbox\" ><label for=\"e9d85f81-5c7c-4d5d-a825-3fb1d222735d\" class=\"sk-toggleable__label sk-toggleable__label-arrow\">passthrough</label><div class=\"sk-toggleable__content\"><pre>passthrough</pre></div></div></div></div></div></div></div></div><div class=\"sk-item\"><div class=\"sk-estimator sk-toggleable\"><input class=\"sk-toggleable__control sk-hidden--visually\" id=\"7b2c6d52-caed-480b-91cc-a9a0b9497362\" type=\"checkbox\" ><label for=\"7b2c6d52-caed-480b-91cc-a9a0b9497362\" class=\"sk-toggleable__label sk-toggleable__label-arrow\">HistGradientBoostingClassifier</label><div class=\"sk-toggleable__content\"><pre>HistGradientBoostingClassifier(max_leaf_nodes=4, random_state=42)</pre></div></div></div></div></div></div></div>"
            ]
          },
          "metadata": {},
          "execution_count": 12
        }
      ]
    },
    {
      "cell_type": "markdown",
      "source": [
        "### Paramètres d'optimisation"
      ],
      "metadata": {
        "id": "VAD9JkFPjB_n"
      }
    },
    {
      "cell_type": "markdown",
      "source": [
        "On souhaite optimiser selon cinq paramètres :\n",
        "- `learning_rate`\n",
        "- `max_leaf_nodes`\n",
        "- `l2_regularization`\n",
        "- `min_samples_leaf`\n",
        "- `max_bins`\n",
        "\n",
        "Les deux premiers ont été cherchés dans le notebook précédent selon une recherche systématique avec l'objet `GridSearchCV` et ses méthodes. Lorsque l'espace d'hyper-paramètres est de grande dimension, une méthode d'exploration stochastique est plus adaptée. C'est le cas ici. L'objet `GridSearchCV` demande d'explorer une grille, une discrétisation de l'espace des hyper-paramètres. L'exploration stochastique demande au contraire une distribution des paramètres plutôt qu'une grille de valeurs. Ici, on crée une distribution `loguniform` entière pour générer des candidats."
      ],
      "metadata": {
        "id": "3r-K2u6ClHqO"
      }
    },
    {
      "cell_type": "code",
      "source": [
        "from scipy.stats import loguniform\n",
        "\n",
        "class loguniform_int:\n",
        "    \"\"\"Integer valued version of the log-uniform distribution\"\"\"\n",
        "    def __init__(self, a, b):\n",
        "        self._distribution = loguniform(a, b)\n",
        "\n",
        "    def rvs(self, *args, **kwargs):\n",
        "        \"\"\"Random variable sample\"\"\"\n",
        "        return self._distribution.rvs(*args, **kwargs).astype(int)"
      ],
      "metadata": {
        "id": "vExvnM6HgNp5"
      },
      "execution_count": 13,
      "outputs": []
    },
    {
      "cell_type": "markdown",
      "source": [
        "Il ne reste qu'à implémenter la recherche stochastique."
      ],
      "metadata": {
        "id": "1GeJWf0ympIL"
      }
    },
    {
      "cell_type": "code",
      "source": [
        "%%time\n",
        "from sklearn.model_selection import RandomizedSearchCV\n",
        "\n",
        "param_distributions = {\n",
        "    'classifier__l2_regularization': loguniform(1e-6, 1e3),\n",
        "    'classifier__learning_rate': loguniform(0.001, 10),\n",
        "    'classifier__max_leaf_nodes': loguniform_int(2, 256),\n",
        "    'classifier__min_samples_leaf': loguniform_int(1, 100),\n",
        "    'classifier__max_bins': loguniform_int(2, 255),\n",
        "}\n",
        "\n",
        "model_random_search = RandomizedSearchCV(\n",
        "    model, param_distributions=param_distributions, n_iter=10,\n",
        "    cv=5, verbose=1,\n",
        ")\n",
        "model_random_search.fit(data_train, target_train)"
      ],
      "metadata": {
        "colab": {
          "base_uri": "https://localhost:8080/",
          "height": 0
        },
        "id": "GvzOti2xmjsD",
        "outputId": "08e3e601-304d-4c7d-d2a8-807e8b96e5d0"
      },
      "execution_count": 14,
      "outputs": [
        {
          "output_type": "stream",
          "name": "stdout",
          "text": [
            "Fitting 5 folds for each of 10 candidates, totalling 50 fits\n",
            "CPU times: user 1min 35s, sys: 1.66 s, total: 1min 37s\n",
            "Wall time: 1min 6s\n"
          ]
        }
      ]
    },
    {
      "cell_type": "markdown",
      "source": [
        "On s'intéresse maintenant aux scores du modèle"
      ],
      "metadata": {
        "id": "nX8g03t2m1p3"
      }
    },
    {
      "cell_type": "code",
      "source": [
        "accuracy = model_random_search.score(data_test, target_test)\n",
        "\n",
        "print(f\"The test accuracy score of the best model is \"\n",
        "      f\"{accuracy:.2f}\")"
      ],
      "metadata": {
        "colab": {
          "base_uri": "https://localhost:8080/",
          "height": 0
        },
        "id": "Czk3aVoWmvVc",
        "outputId": "0c3c4b0c-41e2-48ca-c2ad-54945ed8c732"
      },
      "execution_count": 15,
      "outputs": [
        {
          "output_type": "stream",
          "name": "stdout",
          "text": [
            "The test accuracy score of the best model is 0.87\n"
          ]
        }
      ]
    },
    {
      "cell_type": "code",
      "source": [
        "from pprint import pprint\n",
        "\n",
        "print(\"The best parameters are:\")\n",
        "pprint(model_random_search.best_params_)"
      ],
      "metadata": {
        "colab": {
          "base_uri": "https://localhost:8080/",
          "height": 0
        },
        "id": "ScZR5s6JnGID",
        "outputId": "628a8577-0d85-4ac4-9f84-aad2c9c50607"
      },
      "execution_count": 16,
      "outputs": [
        {
          "output_type": "stream",
          "name": "stdout",
          "text": [
            "The best parameters are:\n",
            "{'classifier__l2_regularization': 706.8084102014384,\n",
            " 'classifier__learning_rate': 1.5274793753313742,\n",
            " 'classifier__max_bins': 72,\n",
            " 'classifier__max_leaf_nodes': 10,\n",
            " 'classifier__min_samples_leaf': 2}\n"
          ]
        }
      ]
    },
    {
      "cell_type": "markdown",
      "source": [
        "On inspecte enfin les performances du modèle."
      ],
      "metadata": {
        "id": "o-lMI-TjnQu-"
      }
    },
    {
      "cell_type": "code",
      "source": [
        "def shorten_param(param_name):\n",
        "    if \"__\" in param_name:\n",
        "        return param_name.rsplit(\"__\", 1)[1]\n",
        "    return param_name\n",
        "\n",
        "column_results = [\n",
        "    f\"param_{name}\" for name in param_distributions.keys()]\n",
        "column_results += [\n",
        "    \"mean_test_score\", \"std_test_score\", \"rank_test_score\"]\n",
        "\n",
        "cv_results = pd.DataFrame(model_random_search.cv_results_)\n",
        "cv_results = cv_results[column_results].sort_values(\n",
        "    \"mean_test_score\", ascending=False)\n",
        "cv_results = cv_results.rename(shorten_param, axis=1)\n",
        "cv_results"
      ],
      "metadata": {
        "colab": {
          "base_uri": "https://localhost:8080/",
          "height": 363
        },
        "id": "OBJ5XHb_nHo5",
        "outputId": "4c243dcb-deb7-421e-fa95-03fc2342386a"
      },
      "execution_count": 17,
      "outputs": [
        {
          "output_type": "execute_result",
          "data": {
            "text/plain": [
              "  l2_regularization learning_rate max_leaf_nodes min_samples_leaf max_bins  \\\n",
              "6         706.80841      1.527479             10                2       72   \n",
              "0          0.000099      0.017546            238                2       43   \n",
              "5          0.000001      0.817556              7                4        4   \n",
              "1          0.000007      0.279903             21                6        3   \n",
              "9        154.062223      0.087173             13                3        2   \n",
              "3          0.000007      0.002287              5                7       15   \n",
              "7          0.071331      0.001952              3                1        8   \n",
              "8         82.254663      0.007173              2                5        2   \n",
              "2          0.018493      1.922879            125               66       13   \n",
              "4        121.073432      4.954669             10               47        6   \n",
              "\n",
              "   mean_test_score  std_test_score  rank_test_score  \n",
              "6         0.857006        0.002906                1  \n",
              "0         0.851656        0.002146                2  \n",
              "5         0.814829        0.000591                3  \n",
              "1         0.808277        0.002544                4  \n",
              "9         0.802053        0.003308                5  \n",
              "3         0.758947        0.000013                6  \n",
              "7         0.758947        0.000013                6  \n",
              "8         0.758947        0.000013                6  \n",
              "2         0.744124        0.009202                9  \n",
              "4         0.684501        0.054112               10  "
            ],
            "text/html": [
              "\n",
              "  <div id=\"df-d71483d4-473d-4a01-9d41-04b78fc1ed94\">\n",
              "    <div class=\"colab-df-container\">\n",
              "      <div>\n",
              "<style scoped>\n",
              "    .dataframe tbody tr th:only-of-type {\n",
              "        vertical-align: middle;\n",
              "    }\n",
              "\n",
              "    .dataframe tbody tr th {\n",
              "        vertical-align: top;\n",
              "    }\n",
              "\n",
              "    .dataframe thead th {\n",
              "        text-align: right;\n",
              "    }\n",
              "</style>\n",
              "<table border=\"1\" class=\"dataframe\">\n",
              "  <thead>\n",
              "    <tr style=\"text-align: right;\">\n",
              "      <th></th>\n",
              "      <th>l2_regularization</th>\n",
              "      <th>learning_rate</th>\n",
              "      <th>max_leaf_nodes</th>\n",
              "      <th>min_samples_leaf</th>\n",
              "      <th>max_bins</th>\n",
              "      <th>mean_test_score</th>\n",
              "      <th>std_test_score</th>\n",
              "      <th>rank_test_score</th>\n",
              "    </tr>\n",
              "  </thead>\n",
              "  <tbody>\n",
              "    <tr>\n",
              "      <th>6</th>\n",
              "      <td>706.80841</td>\n",
              "      <td>1.527479</td>\n",
              "      <td>10</td>\n",
              "      <td>2</td>\n",
              "      <td>72</td>\n",
              "      <td>0.857006</td>\n",
              "      <td>0.002906</td>\n",
              "      <td>1</td>\n",
              "    </tr>\n",
              "    <tr>\n",
              "      <th>0</th>\n",
              "      <td>0.000099</td>\n",
              "      <td>0.017546</td>\n",
              "      <td>238</td>\n",
              "      <td>2</td>\n",
              "      <td>43</td>\n",
              "      <td>0.851656</td>\n",
              "      <td>0.002146</td>\n",
              "      <td>2</td>\n",
              "    </tr>\n",
              "    <tr>\n",
              "      <th>5</th>\n",
              "      <td>0.000001</td>\n",
              "      <td>0.817556</td>\n",
              "      <td>7</td>\n",
              "      <td>4</td>\n",
              "      <td>4</td>\n",
              "      <td>0.814829</td>\n",
              "      <td>0.000591</td>\n",
              "      <td>3</td>\n",
              "    </tr>\n",
              "    <tr>\n",
              "      <th>1</th>\n",
              "      <td>0.000007</td>\n",
              "      <td>0.279903</td>\n",
              "      <td>21</td>\n",
              "      <td>6</td>\n",
              "      <td>3</td>\n",
              "      <td>0.808277</td>\n",
              "      <td>0.002544</td>\n",
              "      <td>4</td>\n",
              "    </tr>\n",
              "    <tr>\n",
              "      <th>9</th>\n",
              "      <td>154.062223</td>\n",
              "      <td>0.087173</td>\n",
              "      <td>13</td>\n",
              "      <td>3</td>\n",
              "      <td>2</td>\n",
              "      <td>0.802053</td>\n",
              "      <td>0.003308</td>\n",
              "      <td>5</td>\n",
              "    </tr>\n",
              "    <tr>\n",
              "      <th>3</th>\n",
              "      <td>0.000007</td>\n",
              "      <td>0.002287</td>\n",
              "      <td>5</td>\n",
              "      <td>7</td>\n",
              "      <td>15</td>\n",
              "      <td>0.758947</td>\n",
              "      <td>0.000013</td>\n",
              "      <td>6</td>\n",
              "    </tr>\n",
              "    <tr>\n",
              "      <th>7</th>\n",
              "      <td>0.071331</td>\n",
              "      <td>0.001952</td>\n",
              "      <td>3</td>\n",
              "      <td>1</td>\n",
              "      <td>8</td>\n",
              "      <td>0.758947</td>\n",
              "      <td>0.000013</td>\n",
              "      <td>6</td>\n",
              "    </tr>\n",
              "    <tr>\n",
              "      <th>8</th>\n",
              "      <td>82.254663</td>\n",
              "      <td>0.007173</td>\n",
              "      <td>2</td>\n",
              "      <td>5</td>\n",
              "      <td>2</td>\n",
              "      <td>0.758947</td>\n",
              "      <td>0.000013</td>\n",
              "      <td>6</td>\n",
              "    </tr>\n",
              "    <tr>\n",
              "      <th>2</th>\n",
              "      <td>0.018493</td>\n",
              "      <td>1.922879</td>\n",
              "      <td>125</td>\n",
              "      <td>66</td>\n",
              "      <td>13</td>\n",
              "      <td>0.744124</td>\n",
              "      <td>0.009202</td>\n",
              "      <td>9</td>\n",
              "    </tr>\n",
              "    <tr>\n",
              "      <th>4</th>\n",
              "      <td>121.073432</td>\n",
              "      <td>4.954669</td>\n",
              "      <td>10</td>\n",
              "      <td>47</td>\n",
              "      <td>6</td>\n",
              "      <td>0.684501</td>\n",
              "      <td>0.054112</td>\n",
              "      <td>10</td>\n",
              "    </tr>\n",
              "  </tbody>\n",
              "</table>\n",
              "</div>\n",
              "      <button class=\"colab-df-convert\" onclick=\"convertToInteractive('df-d71483d4-473d-4a01-9d41-04b78fc1ed94')\"\n",
              "              title=\"Convert this dataframe to an interactive table.\"\n",
              "              style=\"display:none;\">\n",
              "        \n",
              "  <svg xmlns=\"http://www.w3.org/2000/svg\" height=\"24px\"viewBox=\"0 0 24 24\"\n",
              "       width=\"24px\">\n",
              "    <path d=\"M0 0h24v24H0V0z\" fill=\"none\"/>\n",
              "    <path d=\"M18.56 5.44l.94 2.06.94-2.06 2.06-.94-2.06-.94-.94-2.06-.94 2.06-2.06.94zm-11 1L8.5 8.5l.94-2.06 2.06-.94-2.06-.94L8.5 2.5l-.94 2.06-2.06.94zm10 10l.94 2.06.94-2.06 2.06-.94-2.06-.94-.94-2.06-.94 2.06-2.06.94z\"/><path d=\"M17.41 7.96l-1.37-1.37c-.4-.4-.92-.59-1.43-.59-.52 0-1.04.2-1.43.59L10.3 9.45l-7.72 7.72c-.78.78-.78 2.05 0 2.83L4 21.41c.39.39.9.59 1.41.59.51 0 1.02-.2 1.41-.59l7.78-7.78 2.81-2.81c.8-.78.8-2.07 0-2.86zM5.41 20L4 18.59l7.72-7.72 1.47 1.35L5.41 20z\"/>\n",
              "  </svg>\n",
              "      </button>\n",
              "      \n",
              "  <style>\n",
              "    .colab-df-container {\n",
              "      display:flex;\n",
              "      flex-wrap:wrap;\n",
              "      gap: 12px;\n",
              "    }\n",
              "\n",
              "    .colab-df-convert {\n",
              "      background-color: #E8F0FE;\n",
              "      border: none;\n",
              "      border-radius: 50%;\n",
              "      cursor: pointer;\n",
              "      display: none;\n",
              "      fill: #1967D2;\n",
              "      height: 32px;\n",
              "      padding: 0 0 0 0;\n",
              "      width: 32px;\n",
              "    }\n",
              "\n",
              "    .colab-df-convert:hover {\n",
              "      background-color: #E2EBFA;\n",
              "      box-shadow: 0px 1px 2px rgba(60, 64, 67, 0.3), 0px 1px 3px 1px rgba(60, 64, 67, 0.15);\n",
              "      fill: #174EA6;\n",
              "    }\n",
              "\n",
              "    [theme=dark] .colab-df-convert {\n",
              "      background-color: #3B4455;\n",
              "      fill: #D2E3FC;\n",
              "    }\n",
              "\n",
              "    [theme=dark] .colab-df-convert:hover {\n",
              "      background-color: #434B5C;\n",
              "      box-shadow: 0px 1px 3px 1px rgba(0, 0, 0, 0.15);\n",
              "      filter: drop-shadow(0px 1px 2px rgba(0, 0, 0, 0.3));\n",
              "      fill: #FFFFFF;\n",
              "    }\n",
              "  </style>\n",
              "\n",
              "      <script>\n",
              "        const buttonEl =\n",
              "          document.querySelector('#df-d71483d4-473d-4a01-9d41-04b78fc1ed94 button.colab-df-convert');\n",
              "        buttonEl.style.display =\n",
              "          google.colab.kernel.accessAllowed ? 'block' : 'none';\n",
              "\n",
              "        async function convertToInteractive(key) {\n",
              "          const element = document.querySelector('#df-d71483d4-473d-4a01-9d41-04b78fc1ed94');\n",
              "          const dataTable =\n",
              "            await google.colab.kernel.invokeFunction('convertToInteractive',\n",
              "                                                     [key], {});\n",
              "          if (!dataTable) return;\n",
              "\n",
              "          const docLinkHtml = 'Like what you see? Visit the ' +\n",
              "            '<a target=\"_blank\" href=https://colab.research.google.com/notebooks/data_table.ipynb>data table notebook</a>'\n",
              "            + ' to learn more about interactive tables.';\n",
              "          element.innerHTML = '';\n",
              "          dataTable['output_type'] = 'display_data';\n",
              "          await google.colab.output.renderOutput(dataTable, element);\n",
              "          const docLink = document.createElement('div');\n",
              "          docLink.innerHTML = docLinkHtml;\n",
              "          element.appendChild(docLink);\n",
              "        }\n",
              "      </script>\n",
              "    </div>\n",
              "  </div>\n",
              "  "
            ]
          },
          "metadata": {},
          "execution_count": 17
        }
      ]
    },
    {
      "cell_type": "markdown",
      "source": [
        "### Exploration des résultats"
      ],
      "metadata": {
        "id": "Rd_9KeAZoEzP"
      }
    },
    {
      "cell_type": "code",
      "source": [
        "import seaborn as sns\n",
        "import numpy as np\n",
        "\n",
        "df = pd.DataFrame(\n",
        "    {\n",
        "        \"max_leaf_nodes\": cv_results[\"max_leaf_nodes\"],\n",
        "        \"learning_rate\": cv_results[\"learning_rate\"],\n",
        "        \"score_bin\": pd.cut(\n",
        "            cv_results[\"mean_test_score\"], bins=np.linspace(0.5, 1.0, 6)\n",
        "        ),\n",
        "    }\n",
        ")\n",
        "sns.set_palette(\"YlGnBu_r\")\n",
        "ax = sns.scatterplot(\n",
        "    data=df,\n",
        "    x=\"max_leaf_nodes\",\n",
        "    y=\"learning_rate\",\n",
        "    hue=\"score_bin\",\n",
        "    s=50,\n",
        "    color=\"k\",\n",
        "    edgecolor=None,\n",
        ")\n",
        "ax.set_xscale(\"log\")\n",
        "ax.set_yscale(\"log\")\n",
        "\n",
        "_ = ax.legend(title=\"mean_test_score\", loc=\"center left\", bbox_to_anchor=(1, 0.5))"
      ],
      "metadata": {
        "colab": {
          "base_uri": "https://localhost:8080/",
          "height": 284
        },
        "id": "drT-S-troGdX",
        "outputId": "4de541fd-cc3a-4457-ad92-c27be6295032"
      },
      "execution_count": 18,
      "outputs": [
        {
          "output_type": "display_data",
          "data": {
            "text/plain": [
              "<Figure size 432x288 with 1 Axes>"
            ],
            "image/png": "[encoded data removed]"
          },
          "metadata": {
            "needs_background": "light"
          }
        }
      ]
    },
    {
      "cell_type": "code",
      "source": [
        ""
      ],
      "metadata": {
        "id": "mW24hwwcoKrs"
      },
      "execution_count": 18,
      "outputs": []
    }
  ]
}