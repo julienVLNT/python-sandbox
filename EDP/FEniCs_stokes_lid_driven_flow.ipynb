{
  "cells": [
    {
      "cell_type": "markdown",
      "metadata": {
        "id": "view-in-github",
        "colab_type": "text"
      },
      "source": [
        "<a href=\"https://colab.research.google.com/github/julienVLNT/python-sandbox/blob/main/EDP/FEniCs_stokes_lid_driven_flow.ipynb\" target=\"_parent\"><img src=\"https://colab.research.google.com/assets/colab-badge.svg\" alt=\"Open In Colab\"/></a>"
      ]
    },
    {
      "cell_type": "markdown",
      "id": "b5c95959-b02c-4152-8da4-d65cf6a77d39",
      "metadata": {
        "id": "b5c95959-b02c-4152-8da4-d65cf6a77d39"
      },
      "source": [
        "# Exemple d'écoulement entraîné dans une cavité rectangulaire à l'aide d'éléments finis de Taylor-Hood\n",
        "\n",
        "> https://github.com/FEniCS\n",
        "\n",
        "Soit à résoudre le problème de Stokes\n",
        "\n",
        "\\begin{eqnarray}\n",
        "-\\Delta u + \\nabla p & = & f \\\\\n",
        "\\nabla \\cdot u & = & 0 \\\\\n",
        "u_{|\\Gamma_0} & = & 0 \\\\\n",
        "u_{|\\Gamma_1} & = & 1\n",
        "\\end{eqnarray}\n",
        "\n",
        "dans $\\Omega := (0,1)^2$ où $\\Gamma_1 := \\{ y = 1 \\}$, $\\Gamma_0 = \\partial \\Omega - \\Gamma_1$. On rappelle que $u$ est le champ de vitesse, $p$ le champ de pression et $f$ un terme source.\n",
        "\n",
        "\\begin{eqnarray}\n",
        "f & := & \\Omega \\rightarrow \\mathbb{R}^2 \\\\\n",
        "u & := & \\Omega \\rightarrow \\mathbb{R}^2 \\\\\n",
        "p & := & \\Omega \\rightarrow \\mathbb{R}\n",
        "\\end{eqnarray}\n",
        "\n",
        "Notons\n",
        "\\begin{eqnarray}\n",
        "V & := & \\left[ H^1_0(\\Omega) \\right]^2 \\\\\n",
        "Q & := & \\left\\{ q \\in L^2(\\Omega), \\int_\\Omega q = 0 \\right\\}\n",
        "\\end{eqnarray}\n",
        "\n",
        "Soient les formes\n",
        "\n",
        "\\begin{eqnarray}\n",
        "a(u, v) & := & \\int_\\Omega \\nabla u \\cdot \\nabla v dx \\\\\n",
        "b(v, q) & := & \\int_\\Omega \\left( \\nabla \\cdot v \\right) q dx \\\\\n",
        "(f, v) & := & \\int_\\Omega f \\cdot v dx\n",
        "\\end{eqnarray}\n",
        "\n",
        "Alors la formulation variationnelle du problème de Stokes est\n",
        "\n",
        "> **trouver** $u \\in V$ telle que\n",
        "\\begin{eqnarray}\n",
        "a(u, v) - b(v, p) & = & (f, v) & \\forall v \\in V \\\\\n",
        "b(u, q) & = & 0 & \\forall q \\in Q\n",
        "\\end{eqnarray}"
      ]
    },
    {
      "cell_type": "markdown",
      "id": "f3e1aa64-cf07-4750-ad4b-dd4e0669eb2c",
      "metadata": {
        "id": "f3e1aa64-cf07-4750-ad4b-dd4e0669eb2c"
      },
      "source": [
        "### Imports"
      ]
    },
    {
      "cell_type": "code",
      "execution_count": null,
      "id": "1cc3ccfc-02b7-4476-b808-08e1bb21038e",
      "metadata": {
        "id": "1cc3ccfc-02b7-4476-b808-08e1bb21038e"
      },
      "outputs": [],
      "source": [
        "import numpy as np\n",
        "\n",
        "import ufl\n",
        "from dolfinx import cpp as _cpp\n",
        "from dolfinx import fem\n",
        "from dolfinx.fem import (Constant, Function, FunctionSpace, dirichletbc,\n",
        "                         extract_function_spaces, form,\n",
        "                         locate_dofs_geometrical, locate_dofs_topological)\n",
        "from dolfinx.io import XDMFFile\n",
        "from dolfinx.mesh import (CellType, GhostMode, create_rectangle,\n",
        "                          locate_entities_boundary)\n",
        "from ufl import div, dx, grad, inner\n",
        "\n",
        "from mpi4py import MPI\n",
        "from petsc4py import PETSc"
      ]
    },
    {
      "cell_type": "markdown",
      "id": "9f9baff6-8849-405d-855f-d7209aad6ab3",
      "metadata": {
        "id": "9f9baff6-8849-405d-855f-d7209aad6ab3"
      },
      "source": [
        "### Setup : géométrie du domaine"
      ]
    },
    {
      "cell_type": "code",
      "execution_count": null,
      "id": "ab928405-71e6-452d-8102-40d8e50b0907",
      "metadata": {
        "id": "ab928405-71e6-452d-8102-40d8e50b0907"
      },
      "outputs": [],
      "source": [
        "msh = create_rectangle(MPI.COMM_WORLD,\n",
        "                       [np.array([0, 0]), np.array([1, 1])],\n",
        "                       [32, 32],\n",
        "                       CellType.triangle, GhostMode.none)\n",
        "\n",
        "def noslip_boundary(x):\n",
        "    return np.logical_or(np.logical_or(np.isclose(x[0], 0.0),\n",
        "                                       np.isclose(x[0], 1.0)),\n",
        "                         np.isclose(x[1], 0.0))\n",
        "\n",
        "def lid(x):\n",
        "    return np.isclose(x[1], 1.0)\n",
        "\n",
        "def lid_velocity_expression(x):\n",
        "    return np.stack((np.ones(x.shape[1]), np.zeros(x.shape[1])))"
      ]
    },
    {
      "cell_type": "markdown",
      "id": "7685927e-8201-4f78-b193-47fa5dce5507",
      "metadata": {
        "id": "7685927e-8201-4f78-b193-47fa5dce5507"
      },
      "source": [
        "### Setup : espaces fonctionnels"
      ]
    },
    {
      "cell_type": "code",
      "execution_count": null,
      "id": "1b2b01d5-bb67-4414-a366-11800f90a5b4",
      "metadata": {
        "id": "1b2b01d5-bb67-4414-a366-11800f90a5b4"
      },
      "outputs": [],
      "source": [
        "P2 = ufl.VectorElement(\"Lagrange\", msh.ufl_cell(), 2)\n",
        "P1 = ufl.FiniteElement(\"Lagrange\", msh.ufl_cell(), 1)\n",
        "V, Q = FunctionSpace(msh, P2), FunctionSpace(msh, P1)"
      ]
    },
    {
      "cell_type": "markdown",
      "id": "dab3ab1c-b3e0-4aeb-8218-b4bad4cea60a",
      "metadata": {
        "id": "dab3ab1c-b3e0-4aeb-8218-b4bad4cea60a"
      },
      "source": [
        "### Setup : formulation des conditions aux limites"
      ]
    },
    {
      "cell_type": "code",
      "execution_count": null,
      "id": "e7a84a29-df7c-4c24-b190-2726a74dfcca",
      "metadata": {
        "id": "e7a84a29-df7c-4c24-b190-2726a74dfcca"
      },
      "outputs": [],
      "source": [
        "noslip = np.zeros(msh.geometry.dim, dtype=PETSc.ScalarType)\n",
        "facets = locate_entities_boundary(msh, 1, noslip_boundary)\n",
        "bc0 = dirichletbc(noslip, locate_dofs_topological(V, 1, facets), V)\n",
        "\n",
        "lid_velocity = Function(V)\n",
        "lid_velocity.interpolate(lid_velocity_expression)\n",
        "facets = locate_entities_boundary(msh, 1, lid)\n",
        "bc1 = dirichletbc(lid_velocity, locate_dofs_topological(V, 1, facets))\n",
        "\n",
        "bcs = [bc0, bc1]"
      ]
    },
    {
      "cell_type": "markdown",
      "id": "2f14b368-b838-4fa8-91be-e1e69e456a61",
      "metadata": {
        "id": "2f14b368-b838-4fa8-91be-e1e69e456a61"
      },
      "source": [
        "### Setup : formulation du problème variationnel"
      ]
    },
    {
      "cell_type": "code",
      "execution_count": null,
      "id": "ff60c1f2-14af-4b32-bd03-e9d1fe4175b2",
      "metadata": {
        "id": "ff60c1f2-14af-4b32-bd03-e9d1fe4175b2"
      },
      "outputs": [],
      "source": [
        "(u, p) = ufl.TrialFunction(V), ufl.TrialFunction(Q)\n",
        "(v, q) = ufl.TestFunction(V), ufl.TestFunction(Q)\n",
        "f = Constant(msh, (PETSc.ScalarType(0), PETSc.ScalarType(0)))\n",
        "\n",
        "a = form([[inner(grad(u), grad(v)) * dx, inner(p, div(v)) * dx],\n",
        "          [inner(div(u), q) * dx, None]])\n",
        "L = form([inner(f, v) * dx, inner(Constant(msh, PETSc.ScalarType(0)), q) * dx])\n",
        "\n",
        "a_p11 = form(inner(p, q) * dx)\n",
        "a_p = [[a[0][0], None],\n",
        "       [None, a_p11]]"
      ]
    },
    {
      "cell_type": "markdown",
      "id": "ab5e4011-aead-4d6c-a63c-a3b3e47b71c5",
      "metadata": {
        "id": "ab5e4011-aead-4d6c-a63c-a3b3e47b71c5"
      },
      "source": [
        "### Résolution itérative du système imbriqué"
      ]
    },
    {
      "cell_type": "code",
      "execution_count": null,
      "id": "5fd3be91-04a3-4260-bfb1-5343a56242ed",
      "metadata": {
        "id": "5fd3be91-04a3-4260-bfb1-5343a56242ed",
        "outputId": "5bc3c169-15a5-4de9-fdc7-df78db2a78c1"
      },
      "outputs": [
        {
          "name": "stdout",
          "output_type": "stream",
          "text": [
            "(A) Norm of velocity coefficient vector (nested, iterative): 17.478370166029634\n",
            "(A) Norm of pressure coefficient vector (nested, iterative): 311.44253795240957\n"
          ]
        }
      ],
      "source": [
        "A = fem.petsc.assemble_matrix_nest(a, bcs=bcs)\n",
        "A.assemble()\n",
        "\n",
        "# We create a nested matrix `P` to use as the preconditioner. The\n",
        "# top-left block of `P` is shared with the top-left block of `A`. The\n",
        "# bottom-right diagonal entry is assembled from the form `a_p11`:\n",
        "\n",
        "P11 = fem.petsc.assemble_matrix(a_p11, [])\n",
        "P = PETSc.Mat().createNest([[A.getNestSubMatrix(0, 0), None], [None, P11]])\n",
        "P.assemble()\n",
        "\n",
        "# Next, the right-hand side vector is assembled and then modified to\n",
        "# account for non-homogeneous Dirichlet boundary conditions:\n",
        "\n",
        "# +\n",
        "b = fem.petsc.assemble_vector_nest(L)\n",
        "\n",
        "# Modify ('lift') the RHS for Dirichlet boundary conditions\n",
        "fem.petsc.apply_lifting_nest(b, a, bcs=bcs)\n",
        "\n",
        "# Sum contributions from ghost entries on the owner\n",
        "for b_sub in b.getNestSubVecs():\n",
        "    b_sub.ghostUpdate(addv=PETSc.InsertMode.ADD, mode=PETSc.ScatterMode.REVERSE)\n",
        "\n",
        "# Set Dirichlet boundary condition values in the RHS\n",
        "bcs0 = fem.bcs_by_block(extract_function_spaces(L), bcs)\n",
        "fem.petsc.set_bc_nest(b, bcs0)\n",
        "# -\n",
        "\n",
        "# Ths pressure field for this problem is determined only up to a\n",
        "# constant. We can supply the vector that spans the nullspace and any\n",
        "# component of the solution in this direction will be eliminated during\n",
        "# the iterative linear solution process.\n",
        "\n",
        "# +\n",
        "# Create nullspace vector\n",
        "null_vec = fem.petsc.create_vector_nest(L)\n",
        "\n",
        "# Set velocity part to zero and the pressure part to a non-zero constant\n",
        "null_vecs = null_vec.getNestSubVecs()\n",
        "null_vecs[0].set(0.0), null_vecs[1].set(1.0)\n",
        "\n",
        "# Normalize the vector, create a nullspace object, and attach it to the\n",
        "# matrix\n",
        "null_vec.normalize()\n",
        "nsp = PETSc.NullSpace().create(vectors=[null_vec])\n",
        "assert nsp.test(A)\n",
        "A.setNullSpace(nsp)\n",
        "# -\n",
        "\n",
        "# Now we create a Krylov Subspace Solver `ksp`. We configure it to use\n",
        "# the MINRES method, and a block-diagonal preconditioner using PETSc's\n",
        "# additive fieldsplit type preconditioner:\n",
        "\n",
        "# +\n",
        "ksp = PETSc.KSP().create(msh.comm)\n",
        "ksp.setOperators(A, P)\n",
        "ksp.setType(\"minres\")\n",
        "ksp.setTolerances(rtol=1e-9)\n",
        "ksp.getPC().setType(\"fieldsplit\")\n",
        "ksp.getPC().setFieldSplitType(PETSc.PC.CompositeType.ADDITIVE)\n",
        "\n",
        "# Define the matrix blocks in the preconditioner with the velocity and\n",
        "# pressure matrix index sets\n",
        "nested_IS = P.getNestISs()\n",
        "ksp.getPC().setFieldSplitIS(\n",
        "    (\"u\", nested_IS[0][0]),\n",
        "    (\"p\", nested_IS[0][1]))\n",
        "\n",
        "# Set the preconditioners for each block\n",
        "ksp_u, ksp_p = ksp.getPC().getFieldSplitSubKSP()\n",
        "ksp_u.setType(\"preonly\")\n",
        "ksp_u.getPC().setType(\"gamg\")\n",
        "ksp_p.setType(\"preonly\")\n",
        "ksp_p.getPC().setType(\"jacobi\")\n",
        "\n",
        "\"\"\"\n",
        "# Monitor the convergence of the KSP\n",
        "opts = PETSc.Options()\n",
        "opts[\"ksp_monitor\"] = None\n",
        "opts[\"ksp_view\"] = None\n",
        "ksp.setFromOptions()\n",
        "\"\"\"\n",
        "# -\n",
        "\n",
        "# To compute the solution, we create finite element {py:class}`Function\n",
        "# <fem.Function>` for the velocity (on the space `V`) and\n",
        "# for the pressure (on the space `Q`). The vectors for `u` and `p` are\n",
        "# combined to form a nested vector and the system is solved:\n",
        "\n",
        "u, p = Function(V), Function(Q)\n",
        "x = PETSc.Vec().createNest([_cpp.la.petsc.create_vector_wrap(u.x), _cpp.la.petsc.create_vector_wrap(p.x)])\n",
        "ksp.solve(b, x)\n",
        "\n",
        "# Norms of the solution vectors are computed:\n",
        "\n",
        "norm_u_0 = u.x.norm()\n",
        "norm_p_0 = p.x.norm()\n",
        "if MPI.COMM_WORLD.rank == 0:\n",
        "    print(\"(A) Norm of velocity coefficient vector (nested, iterative): {}\".format(norm_u_0))\n",
        "    print(\"(A) Norm of pressure coefficient vector (nested, iterative): {}\".format(norm_p_0))"
      ]
    },
    {
      "cell_type": "markdown",
      "id": "f4581563-cf3c-4787-b6a2-7838bd93a3a8",
      "metadata": {
        "id": "f4581563-cf3c-4787-b6a2-7838bd93a3a8"
      },
      "source": [
        "### Résolution itérative du système *monolithique*"
      ]
    },
    {
      "cell_type": "code",
      "execution_count": null,
      "id": "bb29ec0c-afd3-4567-a0af-983624d16e46",
      "metadata": {
        "id": "bb29ec0c-afd3-4567-a0af-983624d16e46",
        "outputId": "66c701c2-9c85-4e16-e6b9-bc98a0ccee39"
      },
      "outputs": [
        {
          "name": "stdout",
          "output_type": "stream",
          "text": [
            "(B) Norm of velocity coefficient vector (blocked, iterative): 17.478370159175324\n",
            "(B) Norm of pressure coefficient vector (blocked, interative): 311.4425379816701\n"
          ]
        }
      ],
      "source": [
        "A = fem.petsc.assemble_matrix_block(a, bcs=bcs)\n",
        "A.assemble()\n",
        "P = fem.petsc.assemble_matrix_block(a_p, bcs=bcs)\n",
        "P.assemble()\n",
        "b = fem.petsc.assemble_vector_block(L, a, bcs=bcs)\n",
        "\n",
        "# Set near null space for pressure\n",
        "null_vec = A.createVecLeft()\n",
        "offset = V.dofmap.index_map.size_local * V.dofmap.index_map_bs\n",
        "null_vec.array[offset:] = 1.0\n",
        "null_vec.normalize()\n",
        "nsp = PETSc.NullSpace().create(vectors=[null_vec])\n",
        "assert nsp.test(A)\n",
        "A.setNullSpace(nsp)\n",
        "\n",
        "# Build IndexSets for each field (global dof indices for each field)\n",
        "V_map = V.dofmap.index_map\n",
        "Q_map = Q.dofmap.index_map\n",
        "offset_u = V_map.local_range[0] * V.dofmap.index_map_bs + Q_map.local_range[0]\n",
        "offset_p = offset_u + V_map.size_local * V.dofmap.index_map_bs\n",
        "is_u = PETSc.IS().createStride(V_map.size_local * V.dofmap.index_map_bs, offset_u, 1, comm=PETSc.COMM_SELF)\n",
        "is_p = PETSc.IS().createStride(Q_map.size_local, offset_p, 1, comm=PETSc.COMM_SELF)\n",
        "\n",
        "# Create Krylov solver\n",
        "ksp = PETSc.KSP().create(msh.comm)\n",
        "ksp.setOperators(A, P)\n",
        "ksp.setTolerances(rtol=1e-9)\n",
        "ksp.setType(\"minres\")\n",
        "ksp.getPC().setType(\"fieldsplit\")\n",
        "ksp.getPC().setFieldSplitType(PETSc.PC.CompositeType.ADDITIVE)\n",
        "ksp.getPC().setFieldSplitIS(\n",
        "    (\"u\", is_u),\n",
        "    (\"p\", is_p))\n",
        "\n",
        "# Configure velocity and pressure sub KSPs\n",
        "ksp_u, ksp_p = ksp.getPC().getFieldSplitSubKSP()\n",
        "ksp_u.setType(\"preonly\")\n",
        "ksp_u.getPC().setType(\"gamg\")\n",
        "ksp_p.setType(\"preonly\")\n",
        "ksp_p.getPC().setType(\"jacobi\")\n",
        "\n",
        "\"\"\"\n",
        "# Monitor the convergence of the KSP\n",
        "opts = PETSc.Options()\n",
        "opts[\"ksp_monitor\"] = None\n",
        "opts[\"ksp_view\"] = None\n",
        "ksp.setFromOptions()\n",
        "# -\n",
        "\"\"\"\n",
        "\n",
        "# We also need to create a block vector,\\`\\`x\\`\\`, to store the (full)\n",
        "# solution, which we initialize using the block RHS form `L`.\n",
        "\n",
        "# +\n",
        "# Compute solution\n",
        "x = A.createVecRight()\n",
        "ksp.solve(b, x)\n",
        "\n",
        "# Create Functions and scatter x solution\n",
        "u, p = Function(V), Function(Q)\n",
        "offset = V_map.size_local * V.dofmap.index_map_bs\n",
        "u.x.array[:offset] = x.array_r[:offset]\n",
        "p.x.array[:(len(x.array_r) - offset)] = x.array_r[offset:]\n",
        "# -\n",
        "\n",
        "# We can calculate the $L^2$ norms of u and p as follows:\n",
        "\n",
        "norm_u_1 = u.x.norm()\n",
        "norm_p_1 = p.x.norm()\n",
        "if MPI.COMM_WORLD.rank == 0:\n",
        "    print(\"(B) Norm of velocity coefficient vector (blocked, iterative): {}\".format(norm_u_1))\n",
        "    print(\"(B) Norm of pressure coefficient vector (blocked, interative): {}\".format(norm_p_1))\n",
        "assert np.isclose(norm_u_1, norm_u_0)\n",
        "assert np.isclose(norm_p_1, norm_p_0)"
      ]
    },
    {
      "cell_type": "markdown",
      "id": "caa517af-73a3-4266-b5f7-66630ec474e6",
      "metadata": {
        "id": "caa517af-73a3-4266-b5f7-66630ec474e6"
      },
      "source": [
        "### Résolution directe du problème *monolithique*"
      ]
    },
    {
      "cell_type": "code",
      "execution_count": null,
      "id": "1c8a482b-9a70-417f-bf8e-0ef44509f759",
      "metadata": {
        "id": "1c8a482b-9a70-417f-bf8e-0ef44509f759",
        "outputId": "42a44d77-2363-47e8-f5ce-39877f19603f"
      },
      "outputs": [
        {
          "name": "stdout",
          "output_type": "stream",
          "text": [
            "(C) Norm of velocity coefficient vector (blocked, direct): 17.478370157080896\n",
            "(C) Norm of pressure coefficient vector (blocked, direct): 311.4425379775819\n"
          ]
        }
      ],
      "source": [
        "# Create LU solver\n",
        "ksp = PETSc.KSP().create(msh.comm)\n",
        "ksp.setOperators(A)\n",
        "ksp.setType(\"preonly\")\n",
        "ksp.getPC().setType(\"lu\")\n",
        "ksp.getPC().setFactorSolverType(\"superlu_dist\")\n",
        "\n",
        "# We also need to create a block vector,\\`\\`x\\`\\`, to store the (full)\n",
        "# solution, which we initialize using the block RHS form `L`.\n",
        "\n",
        "# +\n",
        "# Compute solution\n",
        "x = A.createVecLeft()\n",
        "ksp.solve(b, x)\n",
        "\n",
        "# Create Functions and scatter x solution\n",
        "u, p = Function(V), Function(Q)\n",
        "offset = V_map.size_local * V.dofmap.index_map_bs\n",
        "u.x.array[:offset] = x.array_r[:offset]\n",
        "p.x.array[:(len(x.array_r) - offset)] = x.array_r[offset:]\n",
        "# -\n",
        "\n",
        "# We can calculate the $L^2$ norms of u and p as follows:\n",
        "\n",
        "norm_u_2 = u.x.norm()\n",
        "norm_p_2 = p.x.norm()\n",
        "if MPI.COMM_WORLD.rank == 0:\n",
        "    print(\"(C) Norm of velocity coefficient vector (blocked, direct): {}\".format(norm_u_2))\n",
        "    print(\"(C) Norm of pressure coefficient vector (blocked, direct): {}\".format(norm_p_2))\n",
        "assert np.isclose(norm_u_2, norm_u_0)\n",
        "assert np.isclose(norm_p_2, norm_p_0)"
      ]
    },
    {
      "cell_type": "markdown",
      "id": "9eee30b0-7070-4ca6-b56a-3e46ebc2f303",
      "metadata": {
        "id": "9eee30b0-7070-4ca6-b56a-3e46ebc2f303"
      },
      "source": [
        "### Résolution directe du système *non-blocked* "
      ]
    },
    {
      "cell_type": "code",
      "execution_count": null,
      "id": "92891808-9287-4c6c-b2f4-1cbaeb598a87",
      "metadata": {
        "id": "92891808-9287-4c6c-b2f4-1cbaeb598a87",
        "outputId": "a1af0a38-95b3-47d9-a36d-c55ee49f5d4f"
      },
      "outputs": [
        {
          "name": "stdout",
          "output_type": "stream",
          "text": [
            "(D) Norm of velocity coefficient vector (monolithic, direct): 17.478370157081226\n",
            "(D) Norm of pressure coefficient vector (monolithic, direct): 311.5914181997734\n"
          ]
        }
      ],
      "source": [
        "# +\n",
        "# Create the function space\n",
        "TH = P2 * P1\n",
        "W = FunctionSpace(msh, TH)\n",
        "W0, _ = W.sub(0).collapse()\n",
        "\n",
        "# No slip boundary condition\n",
        "noslip = Function(V)\n",
        "facets = locate_entities_boundary(msh, 1, noslip_boundary)\n",
        "dofs = locate_dofs_topological((W.sub(0), V), 1, facets)\n",
        "bc0 = dirichletbc(noslip, dofs, W.sub(0))\n",
        "\n",
        "\n",
        "# Driving velocity condition u = (1, 0) on top boundary (y = 1)\n",
        "lid_velocity = Function(W0)\n",
        "lid_velocity.interpolate(lid_velocity_expression)\n",
        "facets = locate_entities_boundary(msh, 1, lid)\n",
        "dofs = locate_dofs_topological((W.sub(0), V), 1, facets)\n",
        "bc1 = dirichletbc(lid_velocity, dofs, W.sub(0))\n",
        "\n",
        "\n",
        "# Since for this problem the pressure is only determined up to a\n",
        "# constant, we pin the pressure at the point (0, 0)\n",
        "zero = Function(Q)\n",
        "zero.x.set(0.0)\n",
        "dofs = locate_dofs_geometrical((W.sub(1), Q), lambda x: np.isclose(x.T, [0, 0, 0]).all(axis=1))\n",
        "bc2 = dirichletbc(zero, dofs, W.sub(1))\n",
        "\n",
        "# Collect Dirichlet boundary conditions\n",
        "bcs = [bc0, bc1, bc2]\n",
        "\n",
        "# Define variational problem\n",
        "(u, p) = ufl.TrialFunctions(W)\n",
        "(v, q) = ufl.TestFunctions(W)\n",
        "f = Function(W0)\n",
        "a = form((inner(grad(u), grad(v)) + inner(p, div(v)) + inner(div(u), q)) * dx)\n",
        "L = form(inner(f, v) * dx)\n",
        "\n",
        "\n",
        "# Assemble LHS matrix and RHS vector\n",
        "A = fem.petsc.assemble_matrix(a, bcs=bcs)\n",
        "A.assemble()\n",
        "b = fem.petsc.assemble_vector(L)\n",
        "\n",
        "fem.petsc.apply_lifting(b, [a], bcs=[bcs])\n",
        "b.ghostUpdate(addv=PETSc.InsertMode.ADD, mode=PETSc.ScatterMode.REVERSE)\n",
        "\n",
        "# Set Dirichlet boundary condition values in the RHS\n",
        "fem.petsc.set_bc(b, bcs)\n",
        "\n",
        "# Create and configure solver\n",
        "ksp = PETSc.KSP().create(msh.comm)\n",
        "ksp.setOperators(A)\n",
        "ksp.setType(\"preonly\")\n",
        "ksp.getPC().setType(\"lu\")\n",
        "ksp.getPC().setFactorSolverType(\"superlu_dist\")\n",
        "\n",
        "# Compute the solution\n",
        "U = Function(W)\n",
        "ksp.solve(b, U.vector)\n",
        "\n",
        "# Split the mixed solution and collapse\n",
        "u = U.sub(0).collapse()\n",
        "p = U.sub(1).collapse()\n",
        "\n",
        "# Compute norms\n",
        "norm_u_3 = u.x.norm()\n",
        "norm_p_3 = p.x.norm()\n",
        "if MPI.COMM_WORLD.rank == 0:\n",
        "    print(\"(D) Norm of velocity coefficient vector (monolithic, direct): {}\".format(norm_u_3))\n",
        "    print(\"(D) Norm of pressure coefficient vector (monolithic, direct): {}\".format(norm_p_3))\n",
        "assert np.isclose(norm_u_3, norm_u_0)"
      ]
    },
    {
      "cell_type": "markdown",
      "id": "936a4af2-8855-4dbd-8623-d759a8efc2f7",
      "metadata": {
        "id": "936a4af2-8855-4dbd-8623-d759a8efc2f7"
      },
      "source": [
        "### Export\n",
        "\n",
        "```python\n",
        "with XDMFFile(MPI.COMM_WORLD, \"out_stokes/new_velocity.xdmf\", \"w\") as ufile_xdmf:\n",
        "    u.x.scatter_forward()\n",
        "    ufile_xdmf.write_mesh(msh)\n",
        "    ufile_xdmf.write_function(u)\n",
        "\n",
        "with XDMFFile(MPI.COMM_WORLD, \"out_stokes/my.xdmf\", \"w\") as pfile_xdmf:\n",
        "    p.x.scatter_forward()\n",
        "    pfile_xdmf.write_mesh(msh)\n",
        "    pfile_xdmf.write_function(p)\n",
        "```"
      ]
    }
  ],
  "metadata": {
    "kernelspec": {
      "display_name": "Python 3 (DOLFINx complex)",
      "language": "python",
      "name": "python3-complex"
    },
    "language_info": {
      "codemirror_mode": {
        "name": "ipython",
        "version": 3
      },
      "file_extension": ".py",
      "mimetype": "text/x-python",
      "name": "python",
      "nbconvert_exporter": "python",
      "pygments_lexer": "ipython3",
      "version": "3.9.7"
    },
    "colab": {
      "name": "FEniCs_stokes_lid-driven-flow.ipynb",
      "provenance": [],
      "include_colab_link": true
    }
  },
  "nbformat": 4,
  "nbformat_minor": 5
}