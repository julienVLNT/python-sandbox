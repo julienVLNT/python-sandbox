{
  "cells": [
    {
      "cell_type": "markdown",
      "metadata": {
        "id": "view-in-github",
        "colab_type": "text"
      },
      "source": [
        "<a href=\"https://colab.research.google.com/github/julienVLNT/python-sandbox/blob/main/EDP/FEniCs_00_hello_dolfinx.ipynb\" target=\"_parent\"><img src=\"https://colab.research.google.com/assets/colab-badge.svg\" alt=\"Open In Colab\"/></a>"
      ]
    },
    {
      "cell_type": "code",
      "execution_count": null,
      "id": "5ef577be-5cde-4cfc-838e-1c2faaad6a1e",
      "metadata": {
        "id": "5ef577be-5cde-4cfc-838e-1c2faaad6a1e",
        "outputId": "ec59726c-5ca4-4f0e-b372-11e485bcfd67"
      },
      "outputs": [
        {
          "name": "stdout",
          "output_type": "stream",
          "text": [
            "Python 3.9.7\n"
          ]
        }
      ],
      "source": [
        "!python3 --version"
      ]
    },
    {
      "cell_type": "markdown",
      "id": "2a9e458c-e835-435e-83b8-cb43686af4b2",
      "metadata": {
        "id": "2a9e458c-e835-435e-83b8-cb43686af4b2"
      },
      "source": [
        "**Julien VALENTIN**, **avril 2022** : prise en main du logiciel `FEniCSx`."
      ]
    },
    {
      "cell_type": "markdown",
      "id": "061b5aa5-e079-4f3c-9a2d-4dd5bdae5484",
      "metadata": {
        "id": "061b5aa5-e079-4f3c-9a2d-4dd5bdae5484"
      },
      "source": [
        "### Installation\n",
        "\n",
        "On se rapporte à la page https://fenicsproject.org/download/"
      ]
    },
    {
      "cell_type": "code",
      "execution_count": null,
      "id": "286bd15d-e488-4081-812c-967a24c784e6",
      "metadata": {
        "id": "286bd15d-e488-4081-812c-967a24c784e6",
        "outputId": "ad70218c-f3ed-43e5-d43c-db18537e77be"
      },
      "outputs": [
        {
          "name": "stdout",
          "output_type": "stream",
          "text": [
            "DOLFINx version: 0.3.1.0 based on GIT commit: 9e4eaf1cfb6f5fc297f0fbce3ead5f0c4f3efea4 of https://github.com/FEniCS/dolfinx/\n"
          ]
        }
      ],
      "source": [
        "import dolfinx\n",
        "print(f\"DOLFINx version: {dolfinx.__version__} based on GIT commit: {dolfinx.git_commit_hash} of https://github.com/FEniCS/dolfinx/\")"
      ]
    },
    {
      "cell_type": "markdown",
      "id": "26731e72-b7ca-4d19-9292-c2862faa0407",
      "metadata": {
        "id": "26731e72-b7ca-4d19-9292-c2862faa0407"
      },
      "source": [
        "### Documentation"
      ]
    },
    {
      "cell_type": "markdown",
      "id": "19dfb1a8-41e2-40ad-b385-73d3fc28a5c4",
      "metadata": {
        "id": "19dfb1a8-41e2-40ad-b385-73d3fc28a5c4"
      },
      "source": [
        "> https://docs.fenicsproject.org/dolfinx/main/python/index.html"
      ]
    },
    {
      "cell_type": "markdown",
      "id": "a7724c63-dca2-4fca-b63e-937cb25d2ceb",
      "metadata": {
        "id": "a7724c63-dca2-4fca-b63e-937cb25d2ceb"
      },
      "source": [
        "### Sous-modules et dépendances"
      ]
    },
    {
      "cell_type": "markdown",
      "id": "4d1ba38a-e895-43e8-9c97-244c56cfe8bd",
      "metadata": {
        "id": "4d1ba38a-e895-43e8-9c97-244c56cfe8bd"
      },
      "source": [
        "> https://docs.fenicsproject.org/dolfinx/main/python/api.html#python"
      ]
    },
    {
      "cell_type": "code",
      "execution_count": null,
      "id": "721a1a7e-b56e-46af-9848-fe15b71ef7e8",
      "metadata": {
        "id": "721a1a7e-b56e-46af-9848-fe15b71ef7e8"
      },
      "outputs": [],
      "source": [
        ""
      ]
    }
  ],
  "metadata": {
    "kernelspec": {
      "display_name": "Python 3 (DOLFINx complex)",
      "language": "python",
      "name": "python3-complex"
    },
    "language_info": {
      "codemirror_mode": {
        "name": "ipython",
        "version": 3
      },
      "file_extension": ".py",
      "mimetype": "text/x-python",
      "name": "python",
      "nbconvert_exporter": "python",
      "pygments_lexer": "ipython3",
      "version": "3.9.7"
    },
    "colab": {
      "name": "FEniCs_00_hello_dolfinx.ipynb",
      "provenance": [],
      "include_colab_link": true
    }
  },
  "nbformat": 4,
  "nbformat_minor": 5
}