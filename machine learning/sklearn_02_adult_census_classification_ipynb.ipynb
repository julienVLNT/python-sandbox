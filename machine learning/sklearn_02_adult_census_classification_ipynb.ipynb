{
  "nbformat": 4,
  "nbformat_minor": 0,
  "metadata": {
    "colab": {
      "name": "sklearn_02_adult_census_classification.ipynb.ipynb",
      "provenance": [],
      "collapsed_sections": []
    },
    "kernelspec": {
      "name": "python3",
      "display_name": "Python 3"
    },
    "language_info": {
      "name": "python"
    }
  },
  "cells": [
    {
      "cell_type": "code",
      "execution_count": 1,
      "metadata": {
        "colab": {
          "base_uri": "https://localhost:8080/"
        },
        "id": "TM7T6wFubkRk",
        "outputId": "327e3179-1bf4-4c17-e210-ea26faccea12"
      },
      "outputs": [
        {
          "output_type": "stream",
          "name": "stdout",
          "text": [
            "Python 3.7.13\n"
          ]
        }
      ],
      "source": [
        "!python --version"
      ]
    },
    {
      "cell_type": "markdown",
      "source": [
        "**Julien VALENTIN**, **mars 2022** d'après\n",
        "\n",
        "> [Machine learning in Python with scikit-learn](https://www.fun-mooc.fr/fr/cours/machine-learning-python-scikit-learn/) d'I.N.R.I.A sur [F.U.N](https://www.fun-mooc.fr/fr/)."
      ],
      "metadata": {
        "id": "rijBMAyQbrtw"
      }
    },
    {
      "cell_type": "markdown",
      "source": [
        "### Téléchargement"
      ],
      "metadata": {
        "id": "Qn1XLKIobvrn"
      }
    },
    {
      "cell_type": "markdown",
      "source": [
        "Le jeu de données est décrit et disponible ici : [https://archive.ics.uci.edu/ml/datasets/adult](https://archive.ics.uci.edu/ml/datasets/adult)"
      ],
      "metadata": {
        "id": "2FQcA-V0b2_p"
      }
    },
    {
      "cell_type": "code",
      "source": [
        "!wget -O sample_data/adult.data https://archive.ics.uci.edu/ml/machine-learning-databases/adult/adult.data"
      ],
      "metadata": {
        "colab": {
          "base_uri": "https://localhost:8080/"
        },
        "id": "5fRhyaw6boYh",
        "outputId": "da56e5e1-9f3c-42a8-bfc7-361a8af28bba"
      },
      "execution_count": 2,
      "outputs": [
        {
          "output_type": "stream",
          "name": "stdout",
          "text": [
            "--2022-03-28 14:23:22--  https://archive.ics.uci.edu/ml/machine-learning-databases/adult/adult.data\n",
            "Resolving archive.ics.uci.edu (archive.ics.uci.edu)... 128.195.10.252\n",
            "Connecting to archive.ics.uci.edu (archive.ics.uci.edu)|128.195.10.252|:443... connected.\n",
            "HTTP request sent, awaiting response... 200 OK\n",
            "Length: 3974305 (3.8M) [application/x-httpd-php]\n",
            "Saving to: ‘sample_data/adult.data’\n",
            "\n",
            "sample_data/adult.d 100%[===================>]   3.79M  6.65MB/s    in 0.6s    \n",
            "\n",
            "2022-03-28 14:23:23 (6.65 MB/s) - ‘sample_data/adult.data’ saved [3974305/3974305]\n",
            "\n"
          ]
        }
      ]
    },
    {
      "cell_type": "markdown",
      "source": [
        "### Import"
      ],
      "metadata": {
        "id": "o7OKIFn6b6d9"
      }
    },
    {
      "cell_type": "code",
      "source": [
        "import pandas"
      ],
      "metadata": {
        "id": "Ojy_dBFnb5d7"
      },
      "execution_count": 3,
      "outputs": []
    },
    {
      "cell_type": "code",
      "source": [
        "names = [\"age\", \"workclass\", \"fnlwgt\", \"education\", \"education-num\", \"marital-status\", \"occupation\", \n",
        "         \"relationship\", \"race\", \"sex\", \"capital-gain\", \"capital-loss\", \"hours-per-week\", \"native-country\", \n",
        "         \"income\"]\n",
        "\n",
        "dataset = pandas.read_csv(\"sample_data/adult.data\", index_col=False, names=names)\n",
        "dataset.info()"
      ],
      "metadata": {
        "colab": {
          "base_uri": "https://localhost:8080/"
        },
        "id": "7cjToNmIb8r4",
        "outputId": "c73e0194-9ab0-43e0-9088-a419589bc016"
      },
      "execution_count": 4,
      "outputs": [
        {
          "output_type": "stream",
          "name": "stdout",
          "text": [
            "<class 'pandas.core.frame.DataFrame'>\n",
            "RangeIndex: 32561 entries, 0 to 32560\n",
            "Data columns (total 15 columns):\n",
            " #   Column          Non-Null Count  Dtype \n",
            "---  ------          --------------  ----- \n",
            " 0   age             32561 non-null  int64 \n",
            " 1   workclass       32561 non-null  object\n",
            " 2   fnlwgt          32561 non-null  int64 \n",
            " 3   education       32561 non-null  object\n",
            " 4   education-num   32561 non-null  int64 \n",
            " 5   marital-status  32561 non-null  object\n",
            " 6   occupation      32561 non-null  object\n",
            " 7   relationship    32561 non-null  object\n",
            " 8   race            32561 non-null  object\n",
            " 9   sex             32561 non-null  object\n",
            " 10  capital-gain    32561 non-null  int64 \n",
            " 11  capital-loss    32561 non-null  int64 \n",
            " 12  hours-per-week  32561 non-null  int64 \n",
            " 13  native-country  32561 non-null  object\n",
            " 14  income          32561 non-null  object\n",
            "dtypes: int64(6), object(9)\n",
            "memory usage: 3.7+ MB\n"
          ]
        }
      ]
    },
    {
      "cell_type": "markdown",
      "source": [
        "### séparation des prédicteurs et de l'attribut à expliquer"
      ],
      "metadata": {
        "id": "-CXNNbBRcSj3"
      }
    },
    {
      "cell_type": "code",
      "source": [
        "target = dataset[\"income\"]\n",
        "target.value_counts()"
      ],
      "metadata": {
        "colab": {
          "base_uri": "https://localhost:8080/"
        },
        "id": "hdRx2wN_cQQZ",
        "outputId": "f40c7506-1f30-442d-d9f7-6f2d391f1fc3"
      },
      "execution_count": 5,
      "outputs": [
        {
          "output_type": "execute_result",
          "data": {
            "text/plain": [
              " <=50K    24720\n",
              " >50K      7841\n",
              "Name: income, dtype: int64"
            ]
          },
          "metadata": {},
          "execution_count": 5
        }
      ]
    },
    {
      "cell_type": "code",
      "source": [
        "data = dataset.drop(columns = \"income\")\n",
        "data.info()"
      ],
      "metadata": {
        "colab": {
          "base_uri": "https://localhost:8080/"
        },
        "id": "iPKQw1dXcdfU",
        "outputId": "4a1dd51b-a58c-4d11-dc71-5187de4ae654"
      },
      "execution_count": 6,
      "outputs": [
        {
          "output_type": "stream",
          "name": "stdout",
          "text": [
            "<class 'pandas.core.frame.DataFrame'>\n",
            "RangeIndex: 32561 entries, 0 to 32560\n",
            "Data columns (total 14 columns):\n",
            " #   Column          Non-Null Count  Dtype \n",
            "---  ------          --------------  ----- \n",
            " 0   age             32561 non-null  int64 \n",
            " 1   workclass       32561 non-null  object\n",
            " 2   fnlwgt          32561 non-null  int64 \n",
            " 3   education       32561 non-null  object\n",
            " 4   education-num   32561 non-null  int64 \n",
            " 5   marital-status  32561 non-null  object\n",
            " 6   occupation      32561 non-null  object\n",
            " 7   relationship    32561 non-null  object\n",
            " 8   race            32561 non-null  object\n",
            " 9   sex             32561 non-null  object\n",
            " 10  capital-gain    32561 non-null  int64 \n",
            " 11  capital-loss    32561 non-null  int64 \n",
            " 12  hours-per-week  32561 non-null  int64 \n",
            " 13  native-country  32561 non-null  object\n",
            "dtypes: int64(6), object(8)\n",
            "memory usage: 3.5+ MB\n"
          ]
        }
      ]
    },
    {
      "cell_type": "markdown",
      "source": [
        "### Sélecteur de colonnes par type"
      ],
      "metadata": {
        "id": "89LyELV1de9I"
      }
    },
    {
      "cell_type": "code",
      "source": [
        "from sklearn.compose import make_column_selector as selector\n",
        "\n",
        "numerical_selector = selector(dtype_exclude=object)\n",
        "categorical_selector = selector(dtype_include=object)\n",
        "\n",
        "numerical_columns = numerical_selector(data)\n",
        "categorical_columns = categorical_selector(data)"
      ],
      "metadata": {
        "id": "_4-y5kF7chJI"
      },
      "execution_count": 7,
      "outputs": []
    },
    {
      "cell_type": "markdown",
      "source": [
        "### Modèle de référence"
      ],
      "metadata": {
        "id": "2q_u_WbdhKNo"
      }
    },
    {
      "cell_type": "code",
      "source": [
        "import time\n",
        "\n",
        "from sklearn.model_selection import cross_validate\n",
        "from sklearn.pipeline import make_pipeline\n",
        "from sklearn.compose import ColumnTransformer\n",
        "from sklearn.preprocessing import OrdinalEncoder\n",
        "from sklearn.ensemble import HistGradientBoostingClassifier\n",
        "\n",
        "categorical_preprocessor = OrdinalEncoder(handle_unknown=\"use_encoded_value\",\n",
        "                                          unknown_value=-1)\n",
        "preprocessor = ColumnTransformer([\n",
        "    ('categorical', categorical_preprocessor, categorical_columns)],\n",
        "    remainder=\"passthrough\")\n",
        "\n",
        "model = make_pipeline(preprocessor, HistGradientBoostingClassifier())\n",
        "\n",
        "start = time.time()\n",
        "cv_results = cross_validate(model, data, target)\n",
        "elapsed_time = time.time() - start\n",
        "\n",
        "scores = cv_results[\"test_score\"]\n",
        "\n",
        "print(\"The mean cross-validation accuracy is: \"\n",
        "      f\"{scores.mean():.3f} +/- {scores.std():.3f} \"\n",
        "      f\"with a fitting time of {elapsed_time:.3f}\")"
      ],
      "metadata": {
        "colab": {
          "base_uri": "https://localhost:8080/"
        },
        "id": "HEiARldR4xwI",
        "outputId": "6cdc21ed-af12-47e0-def3-0cea1282dbc5"
      },
      "execution_count": 8,
      "outputs": [
        {
          "output_type": "stream",
          "name": "stdout",
          "text": [
            "The mean cross-validation accuracy is: 0.872 +/- 0.002 with a fitting time of 19.362\n"
          ]
        }
      ]
    },
    {
      "cell_type": "markdown",
      "source": [
        "### Avec mise à l'échelle des attributs numériques"
      ],
      "metadata": {
        "id": "sqTOFIgq5Zlr"
      }
    },
    {
      "cell_type": "code",
      "source": [
        "from sklearn.preprocessing import StandardScaler\n",
        "\n",
        "numerical_preprocessor = StandardScaler()\n",
        "\n",
        "preprocessor = ColumnTransformer([\n",
        "    ('categorical', categorical_preprocessor, categorical_columns),\n",
        "    ('numerical',   numerical_preprocessor,   numerical_columns)],\n",
        "    remainder=\"passthrough\")\n",
        "\n",
        "model = make_pipeline(preprocessor, HistGradientBoostingClassifier())\n",
        "\n",
        "start = time.time()\n",
        "cv_results = cross_validate(model, data, target)\n",
        "elapsed_time = time.time() - start\n",
        "\n",
        "scores = cv_results[\"test_score\"]\n",
        "\n",
        "print(\"The mean cross-validation accuracy is: \"\n",
        "      f\"{scores.mean():.3f} +/- {scores.std():.3f} \"\n",
        "      f\"with a fitting time of {elapsed_time:.3f}\")"
      ],
      "metadata": {
        "colab": {
          "base_uri": "https://localhost:8080/"
        },
        "id": "xdx-ETC-46_7",
        "outputId": "415811d0-b729-47d4-82c0-d00d88dc2b20"
      },
      "execution_count": 9,
      "outputs": [
        {
          "output_type": "stream",
          "name": "stdout",
          "text": [
            "The mean cross-validation accuracy is: 0.872 +/- 0.002 with a fitting time of 5.402\n"
          ]
        }
      ]
    },
    {
      "cell_type": "markdown",
      "source": [
        "### Avec *One hot encoding* pour les attributs catégoriels"
      ],
      "metadata": {
        "id": "guyf2VZg5xxB"
      }
    },
    {
      "cell_type": "code",
      "source": [
        "from sklearn.preprocessing import OneHotEncoder\n",
        "\n",
        "categorical_preprocessor = OneHotEncoder(handle_unknown=\"ignore\", sparse=False)\n",
        "\n",
        "preprocessor = ColumnTransformer([\n",
        "    ('categorical', categorical_preprocessor, categorical_columns)],\n",
        "    remainder=\"passthrough\")\n",
        "\n",
        "model = make_pipeline(preprocessor, HistGradientBoostingClassifier())\n",
        "\n",
        "start = time.time()\n",
        "cv_results = cross_validate(model, data, target)\n",
        "elapsed_time = time.time() - start\n",
        "\n",
        "scores = cv_results[\"test_score\"]\n",
        "\n",
        "print(\"The mean cross-validation accuracy is: \"\n",
        "      f\"{scores.mean():.3f} +/- {scores.std():.3f} \"\n",
        "      f\"with a fitting time of {elapsed_time:.3f}\")"
      ],
      "metadata": {
        "colab": {
          "base_uri": "https://localhost:8080/"
        },
        "id": "6huJ7-Ru5gkt",
        "outputId": "40616c73-b486-49b0-823d-5b782333d883"
      },
      "execution_count": 10,
      "outputs": [
        {
          "output_type": "stream",
          "name": "stdout",
          "text": [
            "The mean cross-validation accuracy is: 0.872 +/- 0.003 with a fitting time of 13.966\n"
          ]
        }
      ]
    },
    {
      "cell_type": "code",
      "source": [
        ""
      ],
      "metadata": {
        "id": "UTnSQHCZ51kM"
      },
      "execution_count": 10,
      "outputs": []
    }
  ]
}