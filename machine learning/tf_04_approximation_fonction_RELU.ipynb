{
  "nbformat": 4,
  "nbformat_minor": 0,
  "metadata": {
    "colab": {
      "name": "tf_04_approximation_fonction_RELU.ipynb",
      "provenance": [],
      "collapsed_sections": [],
      "authorship_tag": "ABX9TyNiRu3Rvwuel+Z91MfxjkdY",
      "include_colab_link": true
    },
    "kernelspec": {
      "name": "python3",
      "display_name": "Python 3"
    },
    "language_info": {
      "name": "python"
    }
  },
  "cells": [
    {
      "cell_type": "markdown",
      "metadata": {
        "id": "view-in-github",
        "colab_type": "text"
      },
      "source": [
        "<a href=\"https://colab.research.google.com/github/julienVLNT/python-sandbox/blob/main/machine%20learning/tf_04_approximation_fonction_RELU.ipynb\" target=\"_parent\"><img src=\"https://colab.research.google.com/assets/colab-badge.svg\" alt=\"Open In Colab\"/></a>"
      ]
    },
    {
      "cell_type": "code",
      "execution_count": 1,
      "metadata": {
        "colab": {
          "base_uri": "https://localhost:8080/"
        },
        "id": "MCil5GqknqfS",
        "outputId": "d3b156a4-63a0-4a18-a41e-234d9b8d2702"
      },
      "outputs": [
        {
          "output_type": "stream",
          "name": "stdout",
          "text": [
            "Python 3.7.13\n"
          ]
        }
      ],
      "source": [
        "!python --version"
      ]
    },
    {
      "cell_type": "markdown",
      "source": [
        "**Julien VALENTIN**, **mars 2022**, selon les T.P de [Bruno DESPRES](https://www.ljll.math.upmc.fr/despres/)\n",
        "\n",
        "> https://www.ljll.math.upmc.fr/~despres/BD_fichiers/ReLU.py"
      ],
      "metadata": {
        "id": "ndiTgIoLQgWk"
      }
    },
    {
      "cell_type": "code",
      "source": [
        "from matplotlib import pyplot\n",
        "\n",
        "import numpy\n",
        "\n",
        "import tensorflow\n",
        "from tensorflow import keras\n",
        "from keras import backend as K\n",
        "from keras import initializers\n",
        "from keras import utils\n",
        "from keras.models import Sequential\n",
        "from keras.layers import Conv2D, Dense, MaxPooling2D\n",
        "from keras.utils.generic_utils import get_custom_objects"
      ],
      "metadata": {
        "id": "ipcv-R5hn0n2"
      },
      "execution_count": 2,
      "outputs": []
    },
    {
      "cell_type": "markdown",
      "source": [
        "# Introduction"
      ],
      "metadata": {
        "id": "b04QSbXzwoVk"
      }
    },
    {
      "cell_type": "markdown",
      "source": [
        "Dans ce notebook, on cherche à approcher des fonctions continues par des interpolations grâce à des unités linéaires rectifiées, `RELU`."
      ],
      "metadata": {
        "id": "Zg6RpuWOwqSy"
      }
    },
    {
      "cell_type": "markdown",
      "source": [
        "# Paramètres numériques"
      ],
      "metadata": {
        "id": "xblViJ_Cw162"
      }
    },
    {
      "cell_type": "code",
      "source": [
        "N  = 40      # nombre de points de la discrétisation\n",
        "dx = 1./N    # pas d'espace"
      ],
      "metadata": {
        "id": "iZl8S8Aqw5kA"
      },
      "execution_count": 3,
      "outputs": []
    },
    {
      "cell_type": "markdown",
      "source": [
        "# Fonctions à approcher"
      ],
      "metadata": {
        "id": "oIPZ5BPNxCQU"
      }
    },
    {
      "cell_type": "code",
      "source": [
        "def u(x: float) -> float:\n",
        "    \"Fonction lisse périodique\"\n",
        "    return 1 - numpy.cos( 2*numpy.pi * x )"
      ],
      "metadata": {
        "id": "paSlNhDfxEfh"
      },
      "execution_count": 4,
      "outputs": []
    },
    {
      "cell_type": "code",
      "source": [
        "def d2u(x: float) -> float:\n",
        "    \"Dérivée seconde spatiale de u\"\n",
        "    return 4 * numpy.pi**2 * numpy.cos( 2*numpy.pi * x)"
      ],
      "metadata": {
        "id": "cHdDQHbhxN4h"
      },
      "execution_count": 5,
      "outputs": []
    },
    {
      "cell_type": "markdown",
      "source": [
        "# Construction du modèle"
      ],
      "metadata": {
        "id": "ob-QtADQxm5r"
      }
    },
    {
      "cell_type": "code",
      "source": [
        "# dtype=None est nécessaire car dtype est passé par tensorflow lors des appels.\n",
        "# les encapsulations vectorielles sont là pour des compatibilités de dimensions : (1,N)\n",
        "\n",
        "def init_W0(shape: int, dtype=None) -> K.constant:\n",
        "    \"Initialise le vecteur de biais W0\"\n",
        "    W0 = numpy.ones(N)\n",
        "    W0 = numpy.array([W0])    # nécessaire pour avoir shape = (1,N)\n",
        "    return K.constant(W0)\n",
        "\n",
        "def init_W1(shape: int, dtype=None) -> K.constant:\n",
        "    \"Initialise la transposée de W1\"\n",
        "    W1 = numpy.array([d2u(i*dx)*dx for i in range(N)])\n",
        "    W1 = numpy.array([W1])\n",
        "    return K.constant(W1.T)\n",
        "\n",
        "def init_b0(shape: int, dtype=None) -> K.constant:\n",
        "    \"Initialise le vecteur de biais\"\n",
        "    b0 = -numpy.linspace(0, 1, N)\n",
        "    return K.constant(b0)"
      ],
      "metadata": {
        "id": "NFnDy07Nxspk"
      },
      "execution_count": 6,
      "outputs": []
    },
    {
      "cell_type": "code",
      "source": [
        "model = Sequential()\n",
        "\n",
        "model.add(\n",
        "          Dense(N,\n",
        "                input_dim=1,\n",
        "                name=\"in_layer\",\n",
        "                kernel_initializer=init_W0,\n",
        "                use_bias=True,\n",
        "                bias_initializer=init_b0,\n",
        "                activation=\"relu\"\n",
        "               )\n",
        ")\n",
        "\n",
        "model.add(\n",
        "          Dense(1,\n",
        "                name=\"out_layer\",\n",
        "                kernel_initializer=init_W1,\n",
        "                use_bias=False,\n",
        "                activation='linear',\n",
        "                )\n",
        ")"
      ],
      "metadata": {
        "id": "SCpQHlZbzqPw"
      },
      "execution_count": 7,
      "outputs": []
    },
    {
      "cell_type": "markdown",
      "source": [
        "# Approximation de $u$"
      ],
      "metadata": {
        "id": "TrHRnzTHzo-C"
      }
    },
    {
      "cell_type": "code",
      "source": [
        "x   = numpy.linspace(0, 1, N)\n",
        "y_p = model.predict(x)"
      ],
      "metadata": {
        "id": "yxFKswI_0aHw"
      },
      "execution_count": 8,
      "outputs": []
    },
    {
      "cell_type": "markdown",
      "source": [
        "# Visualisation"
      ],
      "metadata": {
        "id": "scFp-m5K0ibc"
      }
    },
    {
      "cell_type": "code",
      "source": [
        "pyplot.figure(dpi=150)\n",
        "pyplot.plot(x, y_p, marker=\"x\")\n",
        "pyplot.xlabel(\"x\")\n",
        "pyplot.ylabel(\"$u(x)$\")\n",
        "pyplot.show()"
      ],
      "metadata": {
        "colab": {
          "base_uri": "https://localhost:8080/",
          "height": 562
        },
        "id": "iIjZ_dzH0k6D",
        "outputId": "5857e485-d407-4dcb-c5ee-761364ce20b9"
      },
      "execution_count": 9,
      "outputs": [
        {
          "output_type": "display_data",
          "data": {
            "text/plain": [
              "<Figure size 900x600 with 1 Axes>"
            ],
            "image/png": "[encoded data removed]"
          },
          "metadata": {
            "needs_background": "light"
          }
        }
      ]
    },
    {
      "cell_type": "code",
      "source": [
        ""
      ],
      "metadata": {
        "id": "-ZPev6HH1Y0v"
      },
      "execution_count": 9,
      "outputs": []
    }
  ]
}