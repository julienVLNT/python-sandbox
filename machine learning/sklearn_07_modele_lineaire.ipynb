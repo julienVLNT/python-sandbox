{
  "nbformat": 4,
  "nbformat_minor": 0,
  "metadata": {
    "colab": {
      "name": "sklearn_07_modele_lineaire.ipynb",
      "provenance": [],
      "collapsed_sections": [],
      "authorship_tag": "ABX9TyOpt7xJhr3/BNWEYkqcmwei",
      "include_colab_link": true
    },
    "kernelspec": {
      "name": "python3",
      "display_name": "Python 3"
    },
    "language_info": {
      "name": "python"
    }
  },
  "cells": [
    {
      "cell_type": "markdown",
      "metadata": {
        "id": "view-in-github",
        "colab_type": "text"
      },
      "source": [
        "<a href=\"https://colab.research.google.com/github/julienVLNT/python-sandbox/blob/main/machine%20learning/sklearn_07_modele_lineaire.ipynb\" target=\"_parent\"><img src=\"https://colab.research.google.com/assets/colab-badge.svg\" alt=\"Open In Colab\"/></a>"
      ]
    },
    {
      "cell_type": "code",
      "execution_count": 1,
      "metadata": {
        "colab": {
          "base_uri": "https://localhost:8080/"
        },
        "id": "Nzah-qvAo8VA",
        "outputId": "d4499de7-2bf2-4281-8dee-bc6714189153"
      },
      "outputs": [
        {
          "output_type": "stream",
          "name": "stdout",
          "text": [
            "Python 3.7.13\n"
          ]
        }
      ],
      "source": [
        "!python --version"
      ]
    },
    {
      "cell_type": "markdown",
      "source": [
        "**Julien VALENTIN**, **mars 2022**, d'après \n",
        "\n",
        "> [Machine learning in Python with scikit-learn](https://www.fun-mooc.fr/fr/cours/machine-learning-python-scikit-learn/) d'I.N.R.I.A sur [F.U.N](https://www.fun-mooc.fr/fr/)"
      ],
      "metadata": {
        "id": "AK6TbjhELgsE"
      }
    },
    {
      "cell_type": "markdown",
      "source": [
        "# Régression linéaire pour un modèle linéaire"
      ],
      "metadata": {
        "id": "jD8mvmz63imB"
      }
    },
    {
      "cell_type": "markdown",
      "source": [
        "### Import"
      ],
      "metadata": {
        "id": "rHu5kH3OpNIV"
      }
    },
    {
      "cell_type": "code",
      "source": [
        "import pandas"
      ],
      "metadata": {
        "id": "nP7-juklpOE8"
      },
      "execution_count": 2,
      "outputs": []
    },
    {
      "cell_type": "code",
      "source": [
        "html_data = pandas.read_html(\"https://github.com/INRIA/scikit-learn-mooc/blob/57f2e69a976136a9d1f9409b69ef0d6b3509903c/datasets/penguins_regression.csv\")\n",
        "\n",
        "data = html_data[0]\n",
        "data.head(10)"
      ],
      "metadata": {
        "colab": {
          "base_uri": "https://localhost:8080/",
          "height": 363
        },
        "id": "cFbl_RemsNqT",
        "outputId": "192aff90-981c-4ecb-ab1c-287321589629"
      },
      "execution_count": 3,
      "outputs": [
        {
          "output_type": "execute_result",
          "data": {
            "text/plain": [
              "   Unnamed: 0  Flipper Length (mm)  Body Mass (g)\n",
              "0         NaN                181.0         3750.0\n",
              "1         NaN                186.0         3800.0\n",
              "2         NaN                195.0         3250.0\n",
              "3         NaN                193.0         3450.0\n",
              "4         NaN                190.0         3650.0\n",
              "5         NaN                181.0         3625.0\n",
              "6         NaN                195.0         4675.0\n",
              "7         NaN                193.0         3475.0\n",
              "8         NaN                190.0         4250.0\n",
              "9         NaN                186.0         3300.0"
            ],
            "text/html": [
              "\n",
              "  <div id=\"df-38db2d75-0639-4912-a5a9-f3e49f7ec598\">\n",
              "    <div class=\"colab-df-container\">\n",
              "      <div>\n",
              "<style scoped>\n",
              "    .dataframe tbody tr th:only-of-type {\n",
              "        vertical-align: middle;\n",
              "    }\n",
              "\n",
              "    .dataframe tbody tr th {\n",
              "        vertical-align: top;\n",
              "    }\n",
              "\n",
              "    .dataframe thead th {\n",
              "        text-align: right;\n",
              "    }\n",
              "</style>\n",
              "<table border=\"1\" class=\"dataframe\">\n",
              "  <thead>\n",
              "    <tr style=\"text-align: right;\">\n",
              "      <th></th>\n",
              "      <th>Unnamed: 0</th>\n",
              "      <th>Flipper Length (mm)</th>\n",
              "      <th>Body Mass (g)</th>\n",
              "    </tr>\n",
              "  </thead>\n",
              "  <tbody>\n",
              "    <tr>\n",
              "      <th>0</th>\n",
              "      <td>NaN</td>\n",
              "      <td>181.0</td>\n",
              "      <td>3750.0</td>\n",
              "    </tr>\n",
              "    <tr>\n",
              "      <th>1</th>\n",
              "      <td>NaN</td>\n",
              "      <td>186.0</td>\n",
              "      <td>3800.0</td>\n",
              "    </tr>\n",
              "    <tr>\n",
              "      <th>2</th>\n",
              "      <td>NaN</td>\n",
              "      <td>195.0</td>\n",
              "      <td>3250.0</td>\n",
              "    </tr>\n",
              "    <tr>\n",
              "      <th>3</th>\n",
              "      <td>NaN</td>\n",
              "      <td>193.0</td>\n",
              "      <td>3450.0</td>\n",
              "    </tr>\n",
              "    <tr>\n",
              "      <th>4</th>\n",
              "      <td>NaN</td>\n",
              "      <td>190.0</td>\n",
              "      <td>3650.0</td>\n",
              "    </tr>\n",
              "    <tr>\n",
              "      <th>5</th>\n",
              "      <td>NaN</td>\n",
              "      <td>181.0</td>\n",
              "      <td>3625.0</td>\n",
              "    </tr>\n",
              "    <tr>\n",
              "      <th>6</th>\n",
              "      <td>NaN</td>\n",
              "      <td>195.0</td>\n",
              "      <td>4675.0</td>\n",
              "    </tr>\n",
              "    <tr>\n",
              "      <th>7</th>\n",
              "      <td>NaN</td>\n",
              "      <td>193.0</td>\n",
              "      <td>3475.0</td>\n",
              "    </tr>\n",
              "    <tr>\n",
              "      <th>8</th>\n",
              "      <td>NaN</td>\n",
              "      <td>190.0</td>\n",
              "      <td>4250.0</td>\n",
              "    </tr>\n",
              "    <tr>\n",
              "      <th>9</th>\n",
              "      <td>NaN</td>\n",
              "      <td>186.0</td>\n",
              "      <td>3300.0</td>\n",
              "    </tr>\n",
              "  </tbody>\n",
              "</table>\n",
              "</div>\n",
              "      <button class=\"colab-df-convert\" onclick=\"convertToInteractive('df-38db2d75-0639-4912-a5a9-f3e49f7ec598')\"\n",
              "              title=\"Convert this dataframe to an interactive table.\"\n",
              "              style=\"display:none;\">\n",
              "        \n",
              "  <svg xmlns=\"http://www.w3.org/2000/svg\" height=\"24px\"viewBox=\"0 0 24 24\"\n",
              "       width=\"24px\">\n",
              "    <path d=\"M0 0h24v24H0V0z\" fill=\"none\"/>\n",
              "    <path d=\"M18.56 5.44l.94 2.06.94-2.06 2.06-.94-2.06-.94-.94-2.06-.94 2.06-2.06.94zm-11 1L8.5 8.5l.94-2.06 2.06-.94-2.06-.94L8.5 2.5l-.94 2.06-2.06.94zm10 10l.94 2.06.94-2.06 2.06-.94-2.06-.94-.94-2.06-.94 2.06-2.06.94z\"/><path d=\"M17.41 7.96l-1.37-1.37c-.4-.4-.92-.59-1.43-.59-.52 0-1.04.2-1.43.59L10.3 9.45l-7.72 7.72c-.78.78-.78 2.05 0 2.83L4 21.41c.39.39.9.59 1.41.59.51 0 1.02-.2 1.41-.59l7.78-7.78 2.81-2.81c.8-.78.8-2.07 0-2.86zM5.41 20L4 18.59l7.72-7.72 1.47 1.35L5.41 20z\"/>\n",
              "  </svg>\n",
              "      </button>\n",
              "      \n",
              "  <style>\n",
              "    .colab-df-container {\n",
              "      display:flex;\n",
              "      flex-wrap:wrap;\n",
              "      gap: 12px;\n",
              "    }\n",
              "\n",
              "    .colab-df-convert {\n",
              "      background-color: #E8F0FE;\n",
              "      border: none;\n",
              "      border-radius: 50%;\n",
              "      cursor: pointer;\n",
              "      display: none;\n",
              "      fill: #1967D2;\n",
              "      height: 32px;\n",
              "      padding: 0 0 0 0;\n",
              "      width: 32px;\n",
              "    }\n",
              "\n",
              "    .colab-df-convert:hover {\n",
              "      background-color: #E2EBFA;\n",
              "      box-shadow: 0px 1px 2px rgba(60, 64, 67, 0.3), 0px 1px 3px 1px rgba(60, 64, 67, 0.15);\n",
              "      fill: #174EA6;\n",
              "    }\n",
              "\n",
              "    [theme=dark] .colab-df-convert {\n",
              "      background-color: #3B4455;\n",
              "      fill: #D2E3FC;\n",
              "    }\n",
              "\n",
              "    [theme=dark] .colab-df-convert:hover {\n",
              "      background-color: #434B5C;\n",
              "      box-shadow: 0px 1px 3px 1px rgba(0, 0, 0, 0.15);\n",
              "      filter: drop-shadow(0px 1px 2px rgba(0, 0, 0, 0.3));\n",
              "      fill: #FFFFFF;\n",
              "    }\n",
              "  </style>\n",
              "\n",
              "      <script>\n",
              "        const buttonEl =\n",
              "          document.querySelector('#df-38db2d75-0639-4912-a5a9-f3e49f7ec598 button.colab-df-convert');\n",
              "        buttonEl.style.display =\n",
              "          google.colab.kernel.accessAllowed ? 'block' : 'none';\n",
              "\n",
              "        async function convertToInteractive(key) {\n",
              "          const element = document.querySelector('#df-38db2d75-0639-4912-a5a9-f3e49f7ec598');\n",
              "          const dataTable =\n",
              "            await google.colab.kernel.invokeFunction('convertToInteractive',\n",
              "                                                     [key], {});\n",
              "          if (!dataTable) return;\n",
              "\n",
              "          const docLinkHtml = 'Like what you see? Visit the ' +\n",
              "            '<a target=\"_blank\" href=https://colab.research.google.com/notebooks/data_table.ipynb>data table notebook</a>'\n",
              "            + ' to learn more about interactive tables.';\n",
              "          element.innerHTML = '';\n",
              "          dataTable['output_type'] = 'display_data';\n",
              "          await google.colab.output.renderOutput(dataTable, element);\n",
              "          const docLink = document.createElement('div');\n",
              "          docLink.innerHTML = docLinkHtml;\n",
              "          element.appendChild(docLink);\n",
              "        }\n",
              "      </script>\n",
              "    </div>\n",
              "  </div>\n",
              "  "
            ]
          },
          "metadata": {},
          "execution_count": 3
        }
      ]
    },
    {
      "cell_type": "code",
      "source": [
        "data = data.drop(columns=\"Unnamed: 0\")\n",
        "data.head()"
      ],
      "metadata": {
        "colab": {
          "base_uri": "https://localhost:8080/",
          "height": 206
        },
        "id": "oTikE97CsZHP",
        "outputId": "ccf25068-f72f-4dbe-a4ce-73d08d5f099a"
      },
      "execution_count": 4,
      "outputs": [
        {
          "output_type": "execute_result",
          "data": {
            "text/plain": [
              "   Flipper Length (mm)  Body Mass (g)\n",
              "0                181.0         3750.0\n",
              "1                186.0         3800.0\n",
              "2                195.0         3250.0\n",
              "3                193.0         3450.0\n",
              "4                190.0         3650.0"
            ],
            "text/html": [
              "\n",
              "  <div id=\"df-099cefa0-cb57-4790-aba8-99e14311b68d\">\n",
              "    <div class=\"colab-df-container\">\n",
              "      <div>\n",
              "<style scoped>\n",
              "    .dataframe tbody tr th:only-of-type {\n",
              "        vertical-align: middle;\n",
              "    }\n",
              "\n",
              "    .dataframe tbody tr th {\n",
              "        vertical-align: top;\n",
              "    }\n",
              "\n",
              "    .dataframe thead th {\n",
              "        text-align: right;\n",
              "    }\n",
              "</style>\n",
              "<table border=\"1\" class=\"dataframe\">\n",
              "  <thead>\n",
              "    <tr style=\"text-align: right;\">\n",
              "      <th></th>\n",
              "      <th>Flipper Length (mm)</th>\n",
              "      <th>Body Mass (g)</th>\n",
              "    </tr>\n",
              "  </thead>\n",
              "  <tbody>\n",
              "    <tr>\n",
              "      <th>0</th>\n",
              "      <td>181.0</td>\n",
              "      <td>3750.0</td>\n",
              "    </tr>\n",
              "    <tr>\n",
              "      <th>1</th>\n",
              "      <td>186.0</td>\n",
              "      <td>3800.0</td>\n",
              "    </tr>\n",
              "    <tr>\n",
              "      <th>2</th>\n",
              "      <td>195.0</td>\n",
              "      <td>3250.0</td>\n",
              "    </tr>\n",
              "    <tr>\n",
              "      <th>3</th>\n",
              "      <td>193.0</td>\n",
              "      <td>3450.0</td>\n",
              "    </tr>\n",
              "    <tr>\n",
              "      <th>4</th>\n",
              "      <td>190.0</td>\n",
              "      <td>3650.0</td>\n",
              "    </tr>\n",
              "  </tbody>\n",
              "</table>\n",
              "</div>\n",
              "      <button class=\"colab-df-convert\" onclick=\"convertToInteractive('df-099cefa0-cb57-4790-aba8-99e14311b68d')\"\n",
              "              title=\"Convert this dataframe to an interactive table.\"\n",
              "              style=\"display:none;\">\n",
              "        \n",
              "  <svg xmlns=\"http://www.w3.org/2000/svg\" height=\"24px\"viewBox=\"0 0 24 24\"\n",
              "       width=\"24px\">\n",
              "    <path d=\"M0 0h24v24H0V0z\" fill=\"none\"/>\n",
              "    <path d=\"M18.56 5.44l.94 2.06.94-2.06 2.06-.94-2.06-.94-.94-2.06-.94 2.06-2.06.94zm-11 1L8.5 8.5l.94-2.06 2.06-.94-2.06-.94L8.5 2.5l-.94 2.06-2.06.94zm10 10l.94 2.06.94-2.06 2.06-.94-2.06-.94-.94-2.06-.94 2.06-2.06.94z\"/><path d=\"M17.41 7.96l-1.37-1.37c-.4-.4-.92-.59-1.43-.59-.52 0-1.04.2-1.43.59L10.3 9.45l-7.72 7.72c-.78.78-.78 2.05 0 2.83L4 21.41c.39.39.9.59 1.41.59.51 0 1.02-.2 1.41-.59l7.78-7.78 2.81-2.81c.8-.78.8-2.07 0-2.86zM5.41 20L4 18.59l7.72-7.72 1.47 1.35L5.41 20z\"/>\n",
              "  </svg>\n",
              "      </button>\n",
              "      \n",
              "  <style>\n",
              "    .colab-df-container {\n",
              "      display:flex;\n",
              "      flex-wrap:wrap;\n",
              "      gap: 12px;\n",
              "    }\n",
              "\n",
              "    .colab-df-convert {\n",
              "      background-color: #E8F0FE;\n",
              "      border: none;\n",
              "      border-radius: 50%;\n",
              "      cursor: pointer;\n",
              "      display: none;\n",
              "      fill: #1967D2;\n",
              "      height: 32px;\n",
              "      padding: 0 0 0 0;\n",
              "      width: 32px;\n",
              "    }\n",
              "\n",
              "    .colab-df-convert:hover {\n",
              "      background-color: #E2EBFA;\n",
              "      box-shadow: 0px 1px 2px rgba(60, 64, 67, 0.3), 0px 1px 3px 1px rgba(60, 64, 67, 0.15);\n",
              "      fill: #174EA6;\n",
              "    }\n",
              "\n",
              "    [theme=dark] .colab-df-convert {\n",
              "      background-color: #3B4455;\n",
              "      fill: #D2E3FC;\n",
              "    }\n",
              "\n",
              "    [theme=dark] .colab-df-convert:hover {\n",
              "      background-color: #434B5C;\n",
              "      box-shadow: 0px 1px 3px 1px rgba(0, 0, 0, 0.15);\n",
              "      filter: drop-shadow(0px 1px 2px rgba(0, 0, 0, 0.3));\n",
              "      fill: #FFFFFF;\n",
              "    }\n",
              "  </style>\n",
              "\n",
              "      <script>\n",
              "        const buttonEl =\n",
              "          document.querySelector('#df-099cefa0-cb57-4790-aba8-99e14311b68d button.colab-df-convert');\n",
              "        buttonEl.style.display =\n",
              "          google.colab.kernel.accessAllowed ? 'block' : 'none';\n",
              "\n",
              "        async function convertToInteractive(key) {\n",
              "          const element = document.querySelector('#df-099cefa0-cb57-4790-aba8-99e14311b68d');\n",
              "          const dataTable =\n",
              "            await google.colab.kernel.invokeFunction('convertToInteractive',\n",
              "                                                     [key], {});\n",
              "          if (!dataTable) return;\n",
              "\n",
              "          const docLinkHtml = 'Like what you see? Visit the ' +\n",
              "            '<a target=\"_blank\" href=https://colab.research.google.com/notebooks/data_table.ipynb>data table notebook</a>'\n",
              "            + ' to learn more about interactive tables.';\n",
              "          element.innerHTML = '';\n",
              "          dataTable['output_type'] = 'display_data';\n",
              "          await google.colab.output.renderOutput(dataTable, element);\n",
              "          const docLink = document.createElement('div');\n",
              "          docLink.innerHTML = docLinkHtml;\n",
              "          element.appendChild(docLink);\n",
              "        }\n",
              "      </script>\n",
              "    </div>\n",
              "  </div>\n",
              "  "
            ]
          },
          "metadata": {},
          "execution_count": 4
        }
      ]
    },
    {
      "cell_type": "code",
      "source": [
        "data.info()"
      ],
      "metadata": {
        "colab": {
          "base_uri": "https://localhost:8080/"
        },
        "id": "G5MtpR45s7Na",
        "outputId": "961061d4-6053-47c6-8762-ea585075a315"
      },
      "execution_count": 5,
      "outputs": [
        {
          "output_type": "stream",
          "name": "stdout",
          "text": [
            "<class 'pandas.core.frame.DataFrame'>\n",
            "RangeIndex: 342 entries, 0 to 341\n",
            "Data columns (total 2 columns):\n",
            " #   Column               Non-Null Count  Dtype  \n",
            "---  ------               --------------  -----  \n",
            " 0   Flipper Length (mm)  342 non-null    float64\n",
            " 1   Body Mass (g)        342 non-null    float64\n",
            "dtypes: float64(2)\n",
            "memory usage: 5.5 KB\n"
          ]
        }
      ]
    },
    {
      "cell_type": "markdown",
      "source": [
        "### Séparation de l'attribut et de la cible"
      ],
      "metadata": {
        "id": "nvVHfTnktOM3"
      }
    },
    {
      "cell_type": "code",
      "source": [
        "target_name = \"Body Mass (g)\"\n",
        "feature_name = \"Flipper Length (mm)\"\n",
        "\n",
        "x, y = data[[feature_name]], data[target_name]"
      ],
      "metadata": {
        "id": "JonjuGpUtA0t"
      },
      "execution_count": 6,
      "outputs": []
    },
    {
      "cell_type": "markdown",
      "source": [
        "### Modélisation"
      ],
      "metadata": {
        "id": "jyc6IVHOtlFO"
      }
    },
    {
      "cell_type": "code",
      "source": [
        "from sklearn.linear_model import LinearRegression\n",
        "\n",
        "linear_regression = LinearRegression()    # Modèle\n",
        "linear_regression.fit(x, y)               # Entraînement"
      ],
      "metadata": {
        "colab": {
          "base_uri": "https://localhost:8080/"
        },
        "id": "q4U85vuytfej",
        "outputId": "81d49cb1-8a2e-4a7a-bb0c-77c515c089ba"
      },
      "execution_count": 7,
      "outputs": [
        {
          "output_type": "execute_result",
          "data": {
            "text/plain": [
              "LinearRegression()"
            ]
          },
          "metadata": {},
          "execution_count": 7
        }
      ]
    },
    {
      "cell_type": "code",
      "source": [
        "weight_flipper_length = linear_regression.coef_[0]    # Coefficient directeur\n",
        "weight_flipper_length"
      ],
      "metadata": {
        "colab": {
          "base_uri": "https://localhost:8080/"
        },
        "id": "ssgFHyWut8wO",
        "outputId": "933b6716-a842-461a-f379-b2bc0cfaffea"
      },
      "execution_count": 8,
      "outputs": [
        {
          "output_type": "execute_result",
          "data": {
            "text/plain": [
              "49.68556640610011"
            ]
          },
          "metadata": {},
          "execution_count": 8
        }
      ]
    },
    {
      "cell_type": "code",
      "source": [
        "intercept_body_mass = linear_regression.intercept_    # Translation\n",
        "intercept_body_mass"
      ],
      "metadata": {
        "colab": {
          "base_uri": "https://localhost:8080/"
        },
        "id": "ie_T3uKcuGUH",
        "outputId": "55113e0a-e8cd-4781-dce3-9970df3c46d2"
      },
      "execution_count": 9,
      "outputs": [
        {
          "output_type": "execute_result",
          "data": {
            "text/plain": [
              "-5780.831358077066"
            ]
          },
          "metadata": {},
          "execution_count": 9
        }
      ]
    },
    {
      "cell_type": "markdown",
      "source": [
        "### Reconstruction du modèle linéaire"
      ],
      "metadata": {
        "id": "ylbNjxEluUHV"
      }
    },
    {
      "cell_type": "code",
      "source": [
        "import numpy\n",
        "\n",
        "flipper_length_range = numpy.linspace(x.min(), x.max(), num=300)\n",
        "\n",
        "predicted_body_mass = (\n",
        "    weight_flipper_length * flipper_length_range + intercept_body_mass)"
      ],
      "metadata": {
        "id": "L5j0AiV_uOBx"
      },
      "execution_count": 10,
      "outputs": []
    },
    {
      "cell_type": "markdown",
      "source": [
        "Voyons le résultat."
      ],
      "metadata": {
        "id": "iY8fAyMQu-EA"
      }
    },
    {
      "cell_type": "code",
      "source": [
        "from matplotlib import pyplot\n",
        "import seaborn\n",
        "\n",
        "seaborn.scatterplot(x=data[feature_name], y=y, color=\"black\", alpha=0.5)\n",
        "pyplot.plot(flipper_length_range, predicted_body_mass)\n",
        "_ = pyplot.title(\"Modèle linéaire\")"
      ],
      "metadata": {
        "colab": {
          "base_uri": "https://localhost:8080/",
          "height": 295
        },
        "id": "BqvHpcQhucPQ",
        "outputId": "5d9d4f8b-b418-458f-aad5-7beb5f8679cd"
      },
      "execution_count": 11,
      "outputs": [
        {
          "output_type": "display_data",
          "data": {
            "text/plain": [
              "<Figure size 432x288 with 1 Axes>"
            ],
            "image/png": "[encoded data removed]"
          },
          "metadata": {
            "needs_background": "light"
          }
        }
      ]
    },
    {
      "cell_type": "markdown",
      "source": [
        "### Evaluation du modèle"
      ],
      "metadata": {
        "id": "qUxc2FYJu8qa"
      }
    },
    {
      "cell_type": "markdown",
      "source": [
        "Deux exemples de métriques permettant d'évaluer le modèle sont les moindres carrés et les écarts moyens."
      ],
      "metadata": {
        "id": "3AQJoEnW1_nQ"
      }
    },
    {
      "cell_type": "code",
      "source": [
        "from sklearn.metrics import mean_squared_error\n",
        "\n",
        "prediction = linear_regression.predict(x)\n",
        "erreur = mean_squared_error(y, prediction)\n",
        "print(f\"L'erreur de moindres carrés est {erreur:.2f}\")"
      ],
      "metadata": {
        "colab": {
          "base_uri": "https://localhost:8080/"
        },
        "id": "ygw2pId-uhq2",
        "outputId": "7d6de5ff-8ec4-4180-84ee-9dc118b06be6"
      },
      "execution_count": 12,
      "outputs": [
        {
          "output_type": "stream",
          "name": "stdout",
          "text": [
            "L'erreur de moindres carrés est 154546.19\n"
          ]
        }
      ]
    },
    {
      "cell_type": "code",
      "source": [
        "from sklearn.metrics import mean_absolute_error\n",
        "\n",
        "model_error = mean_absolute_error(y, prediction)\n",
        "print(f\"L'erreur des écarts moyens est {model_error:.2f} g\")"
      ],
      "metadata": {
        "colab": {
          "base_uri": "https://localhost:8080/"
        },
        "id": "wdV3cTK-2Ywp",
        "outputId": "a3620a13-e0f5-4eb6-a412-99ec3049e2c4"
      },
      "execution_count": 13,
      "outputs": [
        {
          "output_type": "stream",
          "name": "stdout",
          "text": [
            "L'erreur des écarts moyens est 313.00 g\n"
          ]
        }
      ]
    },
    {
      "cell_type": "markdown",
      "source": [
        "# Régression linéaire pour un modèle non-linéaire"
      ],
      "metadata": {
        "id": "YElWf-vq3nzA"
      }
    },
    {
      "cell_type": "markdown",
      "source": [
        "On construit un faux jeu de données bruité à deux dimensions. On suppose une expérience d'un processus :\n",
        "\n",
        "$$ y = x^3 - \\frac{1}{2} x^2 + \\epsilon $$\n",
        "\n",
        "où $\\epsilon$ suit une loi normale standard."
      ],
      "metadata": {
        "id": "EYsmCfT13zfj"
      }
    },
    {
      "cell_type": "code",
      "source": [
        "graine = numpy.random.RandomState(0)    # pour la reproductibilité\n",
        "\n",
        "# Construction du jeu de données\n",
        "N = 100                            # nombre de données\n",
        "xg = -1.5                          # \n",
        "xd =  1.5                          # \n",
        "dx = xd - xg                       # longueur du jeu de données\n",
        "\n",
        "x_ = graine.rand(N) * dx - dx/2    # paramètre échantilloné sur le segment [xg, xd]\n",
        "\n",
        "bruit = graine.randn(N) * .3         # bruit\n",
        "\n",
        "y_ = x_**3 - .5*x_**2 + bruit        # mesures\n",
        "\n",
        "import pandas\n",
        "donnees = pandas.DataFrame({\"data\": x_, \"target\": y_})\n",
        "\n",
        "# Visualisation\n",
        "import seaborn\n",
        "_ = seaborn.scatterplot(data=donnees, x=\"data\", y=\"target\", color=\"black\", alpha=0.5)"
      ],
      "metadata": {
        "colab": {
          "base_uri": "https://localhost:8080/",
          "height": 279
        },
        "id": "3IAwG_3-2hiy",
        "outputId": "5f3ba4a7-ed69-4b89-b9f6-84624f40854e"
      },
      "execution_count": 14,
      "outputs": [
        {
          "output_type": "display_data",
          "data": {
            "text/plain": [
              "<Figure size 432x288 with 1 Axes>"
            ],
            "image/png": "[encoded data removed]"
          },
          "metadata": {
            "needs_background": "light"
          }
        }
      ]
    },
    {
      "cell_type": "markdown",
      "source": [
        "### Intuition à la main"
      ],
      "metadata": {
        "id": "zDyEoxjG8Gty"
      }
    },
    {
      "cell_type": "markdown",
      "source": [
        "$$ f(x) = a \\cdot x + b $$"
      ],
      "metadata": {
        "id": "L_HfpdEt6zzz"
      }
    },
    {
      "cell_type": "code",
      "source": [
        "def f(x, a=0, b=0):\n",
        "    \"Droite dirigée par theta et translatée de y0\"\n",
        "    y = a * x + b\n",
        "    return y\n",
        "\n",
        "y = f(x_, a=1.2, b=-0.2)\n",
        "\n",
        "ax = seaborn.scatterplot(data=donnees, x=\"data\", y=\"target\", color=\"black\", alpha=0.5)\n",
        "_ = ax.plot(x_, y)"
      ],
      "metadata": {
        "colab": {
          "base_uri": "https://localhost:8080/",
          "height": 279
        },
        "id": "tvY_6DrD4Atd",
        "outputId": "8f805c0c-2353-4b92-8bfb-c527f70f6141"
      },
      "execution_count": 15,
      "outputs": [
        {
          "output_type": "display_data",
          "data": {
            "text/plain": [
              "<Figure size 432x288 with 1 Axes>"
            ],
            "image/png": "[encoded data removed]"
          },
          "metadata": {
            "needs_background": "light"
          }
        }
      ]
    },
    {
      "cell_type": "code",
      "source": [
        "erreur = mean_squared_error(y_, f(x_, a=1.2, b=-0.2))\n",
        "print(f\"L'erreur des moindres carrés vaut {erreur}\")"
      ],
      "metadata": {
        "colab": {
          "base_uri": "https://localhost:8080/"
        },
        "id": "ZVcGOP3a7bdP",
        "outputId": "8a63b921-70d9-456c-89e0-42d9fb1b6862"
      },
      "execution_count": 16,
      "outputs": [
        {
          "output_type": "stream",
          "name": "stdout",
          "text": [
            "L'erreur des moindres carrés vaut 0.5526142096258004\n"
          ]
        }
      ]
    },
    {
      "cell_type": "markdown",
      "source": [
        "### Avec `scikit-learn`"
      ],
      "metadata": {
        "id": "H1iK5bPY8JZC"
      }
    },
    {
      "cell_type": "code",
      "source": [
        "regression = LinearRegression()\n",
        "x_2D = x_.reshape(-1, 1)\n",
        "regression.fit(x_2D, y_)\n",
        "\n",
        "predictions = regression.predict(x_2D)"
      ],
      "metadata": {
        "id": "0ISpHn0v7wZe"
      },
      "execution_count": 17,
      "outputs": []
    },
    {
      "cell_type": "code",
      "source": [
        "erreur = mean_squared_error(y_, predictions)\n",
        "print(f\"L'erreur des moindres carrés vaut {erreur}\")"
      ],
      "metadata": {
        "colab": {
          "base_uri": "https://localhost:8080/"
        },
        "id": "Bzdd79uI8sUk",
        "outputId": "9eff6063-f84a-4864-a070-fa99d1448393"
      },
      "execution_count": 18,
      "outputs": [
        {
          "output_type": "stream",
          "name": "stdout",
          "text": [
            "L'erreur des moindres carrés vaut 0.48771439636719294\n"
          ]
        }
      ]
    },
    {
      "cell_type": "markdown",
      "source": [
        "# Régression linéaire avec plusieurs attributs"
      ],
      "metadata": {
        "id": "RJw7Z1lx9vEz"
      }
    },
    {
      "cell_type": "code",
      "source": [
        "from sklearn.datasets import fetch_california_housing\n",
        "\n",
        "data, target = fetch_california_housing(as_frame=True, return_X_y=True)\n",
        "target *= 100    # changement d'échelle (k$)\n",
        "data.head()"
      ],
      "metadata": {
        "colab": {
          "base_uri": "https://localhost:8080/",
          "height": 206
        },
        "id": "2Ov7AUkq9a4b",
        "outputId": "2d47e84f-6760-4c8d-cd94-c014995b874b"
      },
      "execution_count": 19,
      "outputs": [
        {
          "output_type": "execute_result",
          "data": {
            "text/plain": [
              "   MedInc  HouseAge  AveRooms  AveBedrms  Population  AveOccup  Latitude  \\\n",
              "0  8.3252      41.0  6.984127   1.023810       322.0  2.555556     37.88   \n",
              "1  8.3014      21.0  6.238137   0.971880      2401.0  2.109842     37.86   \n",
              "2  7.2574      52.0  8.288136   1.073446       496.0  2.802260     37.85   \n",
              "3  5.6431      52.0  5.817352   1.073059       558.0  2.547945     37.85   \n",
              "4  3.8462      52.0  6.281853   1.081081       565.0  2.181467     37.85   \n",
              "\n",
              "   Longitude  \n",
              "0    -122.23  \n",
              "1    -122.22  \n",
              "2    -122.24  \n",
              "3    -122.25  \n",
              "4    -122.25  "
            ],
            "text/html": [
              "\n",
              "  <div id=\"df-93405a6a-2c81-441f-a4a8-e5a3b46f87fb\">\n",
              "    <div class=\"colab-df-container\">\n",
              "      <div>\n",
              "<style scoped>\n",
              "    .dataframe tbody tr th:only-of-type {\n",
              "        vertical-align: middle;\n",
              "    }\n",
              "\n",
              "    .dataframe tbody tr th {\n",
              "        vertical-align: top;\n",
              "    }\n",
              "\n",
              "    .dataframe thead th {\n",
              "        text-align: right;\n",
              "    }\n",
              "</style>\n",
              "<table border=\"1\" class=\"dataframe\">\n",
              "  <thead>\n",
              "    <tr style=\"text-align: right;\">\n",
              "      <th></th>\n",
              "      <th>MedInc</th>\n",
              "      <th>HouseAge</th>\n",
              "      <th>AveRooms</th>\n",
              "      <th>AveBedrms</th>\n",
              "      <th>Population</th>\n",
              "      <th>AveOccup</th>\n",
              "      <th>Latitude</th>\n",
              "      <th>Longitude</th>\n",
              "    </tr>\n",
              "  </thead>\n",
              "  <tbody>\n",
              "    <tr>\n",
              "      <th>0</th>\n",
              "      <td>8.3252</td>\n",
              "      <td>41.0</td>\n",
              "      <td>6.984127</td>\n",
              "      <td>1.023810</td>\n",
              "      <td>322.0</td>\n",
              "      <td>2.555556</td>\n",
              "      <td>37.88</td>\n",
              "      <td>-122.23</td>\n",
              "    </tr>\n",
              "    <tr>\n",
              "      <th>1</th>\n",
              "      <td>8.3014</td>\n",
              "      <td>21.0</td>\n",
              "      <td>6.238137</td>\n",
              "      <td>0.971880</td>\n",
              "      <td>2401.0</td>\n",
              "      <td>2.109842</td>\n",
              "      <td>37.86</td>\n",
              "      <td>-122.22</td>\n",
              "    </tr>\n",
              "    <tr>\n",
              "      <th>2</th>\n",
              "      <td>7.2574</td>\n",
              "      <td>52.0</td>\n",
              "      <td>8.288136</td>\n",
              "      <td>1.073446</td>\n",
              "      <td>496.0</td>\n",
              "      <td>2.802260</td>\n",
              "      <td>37.85</td>\n",
              "      <td>-122.24</td>\n",
              "    </tr>\n",
              "    <tr>\n",
              "      <th>3</th>\n",
              "      <td>5.6431</td>\n",
              "      <td>52.0</td>\n",
              "      <td>5.817352</td>\n",
              "      <td>1.073059</td>\n",
              "      <td>558.0</td>\n",
              "      <td>2.547945</td>\n",
              "      <td>37.85</td>\n",
              "      <td>-122.25</td>\n",
              "    </tr>\n",
              "    <tr>\n",
              "      <th>4</th>\n",
              "      <td>3.8462</td>\n",
              "      <td>52.0</td>\n",
              "      <td>6.281853</td>\n",
              "      <td>1.081081</td>\n",
              "      <td>565.0</td>\n",
              "      <td>2.181467</td>\n",
              "      <td>37.85</td>\n",
              "      <td>-122.25</td>\n",
              "    </tr>\n",
              "  </tbody>\n",
              "</table>\n",
              "</div>\n",
              "      <button class=\"colab-df-convert\" onclick=\"convertToInteractive('df-93405a6a-2c81-441f-a4a8-e5a3b46f87fb')\"\n",
              "              title=\"Convert this dataframe to an interactive table.\"\n",
              "              style=\"display:none;\">\n",
              "        \n",
              "  <svg xmlns=\"http://www.w3.org/2000/svg\" height=\"24px\"viewBox=\"0 0 24 24\"\n",
              "       width=\"24px\">\n",
              "    <path d=\"M0 0h24v24H0V0z\" fill=\"none\"/>\n",
              "    <path d=\"M18.56 5.44l.94 2.06.94-2.06 2.06-.94-2.06-.94-.94-2.06-.94 2.06-2.06.94zm-11 1L8.5 8.5l.94-2.06 2.06-.94-2.06-.94L8.5 2.5l-.94 2.06-2.06.94zm10 10l.94 2.06.94-2.06 2.06-.94-2.06-.94-.94-2.06-.94 2.06-2.06.94z\"/><path d=\"M17.41 7.96l-1.37-1.37c-.4-.4-.92-.59-1.43-.59-.52 0-1.04.2-1.43.59L10.3 9.45l-7.72 7.72c-.78.78-.78 2.05 0 2.83L4 21.41c.39.39.9.59 1.41.59.51 0 1.02-.2 1.41-.59l7.78-7.78 2.81-2.81c.8-.78.8-2.07 0-2.86zM5.41 20L4 18.59l7.72-7.72 1.47 1.35L5.41 20z\"/>\n",
              "  </svg>\n",
              "      </button>\n",
              "      \n",
              "  <style>\n",
              "    .colab-df-container {\n",
              "      display:flex;\n",
              "      flex-wrap:wrap;\n",
              "      gap: 12px;\n",
              "    }\n",
              "\n",
              "    .colab-df-convert {\n",
              "      background-color: #E8F0FE;\n",
              "      border: none;\n",
              "      border-radius: 50%;\n",
              "      cursor: pointer;\n",
              "      display: none;\n",
              "      fill: #1967D2;\n",
              "      height: 32px;\n",
              "      padding: 0 0 0 0;\n",
              "      width: 32px;\n",
              "    }\n",
              "\n",
              "    .colab-df-convert:hover {\n",
              "      background-color: #E2EBFA;\n",
              "      box-shadow: 0px 1px 2px rgba(60, 64, 67, 0.3), 0px 1px 3px 1px rgba(60, 64, 67, 0.15);\n",
              "      fill: #174EA6;\n",
              "    }\n",
              "\n",
              "    [theme=dark] .colab-df-convert {\n",
              "      background-color: #3B4455;\n",
              "      fill: #D2E3FC;\n",
              "    }\n",
              "\n",
              "    [theme=dark] .colab-df-convert:hover {\n",
              "      background-color: #434B5C;\n",
              "      box-shadow: 0px 1px 3px 1px rgba(0, 0, 0, 0.15);\n",
              "      filter: drop-shadow(0px 1px 2px rgba(0, 0, 0, 0.3));\n",
              "      fill: #FFFFFF;\n",
              "    }\n",
              "  </style>\n",
              "\n",
              "      <script>\n",
              "        const buttonEl =\n",
              "          document.querySelector('#df-93405a6a-2c81-441f-a4a8-e5a3b46f87fb button.colab-df-convert');\n",
              "        buttonEl.style.display =\n",
              "          google.colab.kernel.accessAllowed ? 'block' : 'none';\n",
              "\n",
              "        async function convertToInteractive(key) {\n",
              "          const element = document.querySelector('#df-93405a6a-2c81-441f-a4a8-e5a3b46f87fb');\n",
              "          const dataTable =\n",
              "            await google.colab.kernel.invokeFunction('convertToInteractive',\n",
              "                                                     [key], {});\n",
              "          if (!dataTable) return;\n",
              "\n",
              "          const docLinkHtml = 'Like what you see? Visit the ' +\n",
              "            '<a target=\"_blank\" href=https://colab.research.google.com/notebooks/data_table.ipynb>data table notebook</a>'\n",
              "            + ' to learn more about interactive tables.';\n",
              "          element.innerHTML = '';\n",
              "          dataTable['output_type'] = 'display_data';\n",
              "          await google.colab.output.renderOutput(dataTable, element);\n",
              "          const docLink = document.createElement('div');\n",
              "          docLink.innerHTML = docLinkHtml;\n",
              "          element.appendChild(docLink);\n",
              "        }\n",
              "      </script>\n",
              "    </div>\n",
              "  </div>\n",
              "  "
            ]
          },
          "metadata": {},
          "execution_count": 19
        }
      ]
    },
    {
      "cell_type": "markdown",
      "source": [
        "### Entraînement d'une régression linéaire"
      ],
      "metadata": {
        "id": "O_p0g_EnB7wn"
      }
    },
    {
      "cell_type": "code",
      "source": [
        "modele = LinearRegression()\n",
        "modele.fit(data, target)"
      ],
      "metadata": {
        "colab": {
          "base_uri": "https://localhost:8080/"
        },
        "id": "WHPFLDkdB4qS",
        "outputId": "85c5b964-08be-48db-e660-587ad6796fe1"
      },
      "execution_count": 20,
      "outputs": [
        {
          "output_type": "execute_result",
          "data": {
            "text/plain": [
              "LinearRegression()"
            ]
          },
          "metadata": {},
          "execution_count": 20
        }
      ]
    },
    {
      "cell_type": "markdown",
      "source": [
        "### `cross_validation` avec $10$ boucles"
      ],
      "metadata": {
        "id": "aVBFjliXCeWd"
      }
    },
    {
      "cell_type": "code",
      "source": [
        "from sklearn.model_selection import cross_validate\n",
        "\n",
        "resultats = cross_validate(modele,\n",
        "                           data,\n",
        "                           target,\n",
        "                           scoring=\"neg_mean_absolute_error\",\n",
        "                           return_estimator=True,\n",
        "                           cv=10,\n",
        "                           n_jobs=2)"
      ],
      "metadata": {
        "id": "V8sEEcU-CDwz"
      },
      "execution_count": 21,
      "outputs": []
    },
    {
      "cell_type": "code",
      "source": [
        "print(f\"Erreur des écarts moyens: \"\n",
        "      f\"{-resultats['test_score'].mean():.3f} k$ +/- \"\n",
        "      f\"{resultats['test_score'].std():.3f}\")"
      ],
      "metadata": {
        "colab": {
          "base_uri": "https://localhost:8080/"
        },
        "id": "UcI518-3DFst",
        "outputId": "049dcaa1-bfcf-4d37-b1e7-ccf375a0ba99"
      },
      "execution_count": 22,
      "outputs": [
        {
          "output_type": "stream",
          "name": "stdout",
          "text": [
            "Erreur des écarts moyens: 54.452 k$ +/- 9.109\n"
          ]
        }
      ]
    },
    {
      "cell_type": "code",
      "source": [
        "import pandas\n",
        "\n",
        "poids = pandas.DataFrame([estimateur.coef_ for estimateur in resultats[\"estimator\"]], columns=data.columns)\n",
        "poids.describe()"
      ],
      "metadata": {
        "colab": {
          "base_uri": "https://localhost:8080/",
          "height": 300
        },
        "id": "_0BQb08HDXbs",
        "outputId": "c9eac095-6739-42ec-a6bf-a347916f4601"
      },
      "execution_count": 23,
      "outputs": [
        {
          "output_type": "execute_result",
          "data": {
            "text/plain": [
              "          MedInc   HouseAge   AveRooms  AveBedrms  Population   AveOccup  \\\n",
              "count  10.000000  10.000000  10.000000  10.000000   10.000000  10.000000   \n",
              "mean   43.611974   0.938978 -10.650642  64.472052   -0.000405  -0.391396   \n",
              "std     0.813154   0.119980   1.618097   8.938181    0.000598   0.066839   \n",
              "min    42.629253   0.635488 -12.817547  50.807236   -0.001602  -0.561852   \n",
              "25%    42.815174   0.911945 -11.551795  58.492370   -0.000641  -0.404144   \n",
              "50%    43.821881   0.964193 -11.122685  66.383735   -0.000433  -0.377852   \n",
              "75%    44.180161   0.995565  -9.563624  68.108931   -0.000128  -0.350502   \n",
              "max    44.701461   1.073691  -7.777559  81.709895    0.000484  -0.336350   \n",
              "\n",
              "        Latitude  Longitude  \n",
              "count  10.000000  10.000000  \n",
              "mean  -42.149547 -43.454539  \n",
              "std     1.325018   2.010166  \n",
              "min   -45.087728 -47.999610  \n",
              "25%   -42.650960 -44.068720  \n",
              "50%   -42.026490 -43.375942  \n",
              "75%   -41.193983 -42.446086  \n",
              "max   -40.634870 -40.638396  "
            ],
            "text/html": [
              "\n",
              "  <div id=\"df-c3883b29-b737-46fb-9673-a38a7cb61bd8\">\n",
              "    <div class=\"colab-df-container\">\n",
              "      <div>\n",
              "<style scoped>\n",
              "    .dataframe tbody tr th:only-of-type {\n",
              "        vertical-align: middle;\n",
              "    }\n",
              "\n",
              "    .dataframe tbody tr th {\n",
              "        vertical-align: top;\n",
              "    }\n",
              "\n",
              "    .dataframe thead th {\n",
              "        text-align: right;\n",
              "    }\n",
              "</style>\n",
              "<table border=\"1\" class=\"dataframe\">\n",
              "  <thead>\n",
              "    <tr style=\"text-align: right;\">\n",
              "      <th></th>\n",
              "      <th>MedInc</th>\n",
              "      <th>HouseAge</th>\n",
              "      <th>AveRooms</th>\n",
              "      <th>AveBedrms</th>\n",
              "      <th>Population</th>\n",
              "      <th>AveOccup</th>\n",
              "      <th>Latitude</th>\n",
              "      <th>Longitude</th>\n",
              "    </tr>\n",
              "  </thead>\n",
              "  <tbody>\n",
              "    <tr>\n",
              "      <th>count</th>\n",
              "      <td>10.000000</td>\n",
              "      <td>10.000000</td>\n",
              "      <td>10.000000</td>\n",
              "      <td>10.000000</td>\n",
              "      <td>10.000000</td>\n",
              "      <td>10.000000</td>\n",
              "      <td>10.000000</td>\n",
              "      <td>10.000000</td>\n",
              "    </tr>\n",
              "    <tr>\n",
              "      <th>mean</th>\n",
              "      <td>43.611974</td>\n",
              "      <td>0.938978</td>\n",
              "      <td>-10.650642</td>\n",
              "      <td>64.472052</td>\n",
              "      <td>-0.000405</td>\n",
              "      <td>-0.391396</td>\n",
              "      <td>-42.149547</td>\n",
              "      <td>-43.454539</td>\n",
              "    </tr>\n",
              "    <tr>\n",
              "      <th>std</th>\n",
              "      <td>0.813154</td>\n",
              "      <td>0.119980</td>\n",
              "      <td>1.618097</td>\n",
              "      <td>8.938181</td>\n",
              "      <td>0.000598</td>\n",
              "      <td>0.066839</td>\n",
              "      <td>1.325018</td>\n",
              "      <td>2.010166</td>\n",
              "    </tr>\n",
              "    <tr>\n",
              "      <th>min</th>\n",
              "      <td>42.629253</td>\n",
              "      <td>0.635488</td>\n",
              "      <td>-12.817547</td>\n",
              "      <td>50.807236</td>\n",
              "      <td>-0.001602</td>\n",
              "      <td>-0.561852</td>\n",
              "      <td>-45.087728</td>\n",
              "      <td>-47.999610</td>\n",
              "    </tr>\n",
              "    <tr>\n",
              "      <th>25%</th>\n",
              "      <td>42.815174</td>\n",
              "      <td>0.911945</td>\n",
              "      <td>-11.551795</td>\n",
              "      <td>58.492370</td>\n",
              "      <td>-0.000641</td>\n",
              "      <td>-0.404144</td>\n",
              "      <td>-42.650960</td>\n",
              "      <td>-44.068720</td>\n",
              "    </tr>\n",
              "    <tr>\n",
              "      <th>50%</th>\n",
              "      <td>43.821881</td>\n",
              "      <td>0.964193</td>\n",
              "      <td>-11.122685</td>\n",
              "      <td>66.383735</td>\n",
              "      <td>-0.000433</td>\n",
              "      <td>-0.377852</td>\n",
              "      <td>-42.026490</td>\n",
              "      <td>-43.375942</td>\n",
              "    </tr>\n",
              "    <tr>\n",
              "      <th>75%</th>\n",
              "      <td>44.180161</td>\n",
              "      <td>0.995565</td>\n",
              "      <td>-9.563624</td>\n",
              "      <td>68.108931</td>\n",
              "      <td>-0.000128</td>\n",
              "      <td>-0.350502</td>\n",
              "      <td>-41.193983</td>\n",
              "      <td>-42.446086</td>\n",
              "    </tr>\n",
              "    <tr>\n",
              "      <th>max</th>\n",
              "      <td>44.701461</td>\n",
              "      <td>1.073691</td>\n",
              "      <td>-7.777559</td>\n",
              "      <td>81.709895</td>\n",
              "      <td>0.000484</td>\n",
              "      <td>-0.336350</td>\n",
              "      <td>-40.634870</td>\n",
              "      <td>-40.638396</td>\n",
              "    </tr>\n",
              "  </tbody>\n",
              "</table>\n",
              "</div>\n",
              "      <button class=\"colab-df-convert\" onclick=\"convertToInteractive('df-c3883b29-b737-46fb-9673-a38a7cb61bd8')\"\n",
              "              title=\"Convert this dataframe to an interactive table.\"\n",
              "              style=\"display:none;\">\n",
              "        \n",
              "  <svg xmlns=\"http://www.w3.org/2000/svg\" height=\"24px\"viewBox=\"0 0 24 24\"\n",
              "       width=\"24px\">\n",
              "    <path d=\"M0 0h24v24H0V0z\" fill=\"none\"/>\n",
              "    <path d=\"M18.56 5.44l.94 2.06.94-2.06 2.06-.94-2.06-.94-.94-2.06-.94 2.06-2.06.94zm-11 1L8.5 8.5l.94-2.06 2.06-.94-2.06-.94L8.5 2.5l-.94 2.06-2.06.94zm10 10l.94 2.06.94-2.06 2.06-.94-2.06-.94-.94-2.06-.94 2.06-2.06.94z\"/><path d=\"M17.41 7.96l-1.37-1.37c-.4-.4-.92-.59-1.43-.59-.52 0-1.04.2-1.43.59L10.3 9.45l-7.72 7.72c-.78.78-.78 2.05 0 2.83L4 21.41c.39.39.9.59 1.41.59.51 0 1.02-.2 1.41-.59l7.78-7.78 2.81-2.81c.8-.78.8-2.07 0-2.86zM5.41 20L4 18.59l7.72-7.72 1.47 1.35L5.41 20z\"/>\n",
              "  </svg>\n",
              "      </button>\n",
              "      \n",
              "  <style>\n",
              "    .colab-df-container {\n",
              "      display:flex;\n",
              "      flex-wrap:wrap;\n",
              "      gap: 12px;\n",
              "    }\n",
              "\n",
              "    .colab-df-convert {\n",
              "      background-color: #E8F0FE;\n",
              "      border: none;\n",
              "      border-radius: 50%;\n",
              "      cursor: pointer;\n",
              "      display: none;\n",
              "      fill: #1967D2;\n",
              "      height: 32px;\n",
              "      padding: 0 0 0 0;\n",
              "      width: 32px;\n",
              "    }\n",
              "\n",
              "    .colab-df-convert:hover {\n",
              "      background-color: #E2EBFA;\n",
              "      box-shadow: 0px 1px 2px rgba(60, 64, 67, 0.3), 0px 1px 3px 1px rgba(60, 64, 67, 0.15);\n",
              "      fill: #174EA6;\n",
              "    }\n",
              "\n",
              "    [theme=dark] .colab-df-convert {\n",
              "      background-color: #3B4455;\n",
              "      fill: #D2E3FC;\n",
              "    }\n",
              "\n",
              "    [theme=dark] .colab-df-convert:hover {\n",
              "      background-color: #434B5C;\n",
              "      box-shadow: 0px 1px 3px 1px rgba(0, 0, 0, 0.15);\n",
              "      filter: drop-shadow(0px 1px 2px rgba(0, 0, 0, 0.3));\n",
              "      fill: #FFFFFF;\n",
              "    }\n",
              "  </style>\n",
              "\n",
              "      <script>\n",
              "        const buttonEl =\n",
              "          document.querySelector('#df-c3883b29-b737-46fb-9673-a38a7cb61bd8 button.colab-df-convert');\n",
              "        buttonEl.style.display =\n",
              "          google.colab.kernel.accessAllowed ? 'block' : 'none';\n",
              "\n",
              "        async function convertToInteractive(key) {\n",
              "          const element = document.querySelector('#df-c3883b29-b737-46fb-9673-a38a7cb61bd8');\n",
              "          const dataTable =\n",
              "            await google.colab.kernel.invokeFunction('convertToInteractive',\n",
              "                                                     [key], {});\n",
              "          if (!dataTable) return;\n",
              "\n",
              "          const docLinkHtml = 'Like what you see? Visit the ' +\n",
              "            '<a target=\"_blank\" href=https://colab.research.google.com/notebooks/data_table.ipynb>data table notebook</a>'\n",
              "            + ' to learn more about interactive tables.';\n",
              "          element.innerHTML = '';\n",
              "          dataTable['output_type'] = 'display_data';\n",
              "          await google.colab.output.renderOutput(dataTable, element);\n",
              "          const docLink = document.createElement('div');\n",
              "          docLink.innerHTML = docLinkHtml;\n",
              "          element.appendChild(docLink);\n",
              "        }\n",
              "      </script>\n",
              "    </div>\n",
              "  </div>\n",
              "  "
            ]
          },
          "metadata": {},
          "execution_count": 23
        }
      ]
    },
    {
      "cell_type": "code",
      "source": [
        "import matplotlib.pyplot as plt\n",
        "\n",
        "color = {\"whiskers\": \"black\", \"medians\": \"black\", \"caps\": \"black\"}\n",
        "poids.plot.box(color=color, vert=False)\n",
        "_ = plt.title(\"Valeur des coefficients de la régression\")"
      ],
      "metadata": {
        "colab": {
          "base_uri": "https://localhost:8080/",
          "height": 281
        },
        "id": "W9BEFPeJDtp2",
        "outputId": "1d2474e0-250f-46b6-b9b8-880885a968f7"
      },
      "execution_count": 24,
      "outputs": [
        {
          "output_type": "display_data",
          "data": {
            "text/plain": [
              "<Figure size 432x288 with 1 Axes>"
            ],
            "image/png": "[encoded data removed]"
          },
          "metadata": {
            "needs_background": "light"
          }
        }
      ]
    },
    {
      "cell_type": "markdown",
      "source": [
        "# Régression pour une classification"
      ],
      "metadata": {
        "id": "K5RU8RwuEZ89"
      }
    },
    {
      "cell_type": "markdown",
      "source": [
        "## Un exemple sur les espèces de pingouins"
      ],
      "metadata": {
        "id": "F0HzQQTjF-Gb"
      }
    },
    {
      "cell_type": "markdown",
      "source": [
        "### Téléchargement et import"
      ],
      "metadata": {
        "id": "P_ZsGPPzGO5w"
      }
    },
    {
      "cell_type": "code",
      "source": [
        "dataset = pandas.read_html(\"https://github.com/INRIA/scikit-learn-mooc/blob/57f2e69a976136a9d1f9409b69ef0d6b3509903c/datasets/penguins_classification.csv\")[0]\n",
        "dataset = dataset.drop(columns=\"Unnamed: 0\")\n",
        "dataset.info()"
      ],
      "metadata": {
        "colab": {
          "base_uri": "https://localhost:8080/"
        },
        "id": "q79qvY6ADxGw",
        "outputId": "541aec87-ed82-4842-b7ec-9932bcbd0148"
      },
      "execution_count": 25,
      "outputs": [
        {
          "output_type": "stream",
          "name": "stdout",
          "text": [
            "<class 'pandas.core.frame.DataFrame'>\n",
            "RangeIndex: 342 entries, 0 to 341\n",
            "Data columns (total 3 columns):\n",
            " #   Column              Non-Null Count  Dtype  \n",
            "---  ------              --------------  -----  \n",
            " 0   Culmen Length (mm)  342 non-null    float64\n",
            " 1   Culmen Depth (mm)   342 non-null    float64\n",
            " 2   Species             342 non-null    object \n",
            "dtypes: float64(2), object(1)\n",
            "memory usage: 8.1+ KB\n"
          ]
        }
      ]
    },
    {
      "cell_type": "code",
      "source": [
        "dataset.head(10)"
      ],
      "metadata": {
        "colab": {
          "base_uri": "https://localhost:8080/",
          "height": 363
        },
        "id": "6HN_pF9kGRDv",
        "outputId": "c5895565-bd96-48ee-bdcc-17b42bad8d26"
      },
      "execution_count": 26,
      "outputs": [
        {
          "output_type": "execute_result",
          "data": {
            "text/plain": [
              "   Culmen Length (mm)  Culmen Depth (mm) Species\n",
              "0                39.1               18.7  Adelie\n",
              "1                39.5               17.4  Adelie\n",
              "2                40.3               18.0  Adelie\n",
              "3                36.7               19.3  Adelie\n",
              "4                39.3               20.6  Adelie\n",
              "5                38.9               17.8  Adelie\n",
              "6                39.2               19.6  Adelie\n",
              "7                34.1               18.1  Adelie\n",
              "8                42.0               20.2  Adelie\n",
              "9                37.8               17.1  Adelie"
            ],
            "text/html": [
              "\n",
              "  <div id=\"df-9e6502fc-9bf1-4eef-8aef-7f35c6d0561d\">\n",
              "    <div class=\"colab-df-container\">\n",
              "      <div>\n",
              "<style scoped>\n",
              "    .dataframe tbody tr th:only-of-type {\n",
              "        vertical-align: middle;\n",
              "    }\n",
              "\n",
              "    .dataframe tbody tr th {\n",
              "        vertical-align: top;\n",
              "    }\n",
              "\n",
              "    .dataframe thead th {\n",
              "        text-align: right;\n",
              "    }\n",
              "</style>\n",
              "<table border=\"1\" class=\"dataframe\">\n",
              "  <thead>\n",
              "    <tr style=\"text-align: right;\">\n",
              "      <th></th>\n",
              "      <th>Culmen Length (mm)</th>\n",
              "      <th>Culmen Depth (mm)</th>\n",
              "      <th>Species</th>\n",
              "    </tr>\n",
              "  </thead>\n",
              "  <tbody>\n",
              "    <tr>\n",
              "      <th>0</th>\n",
              "      <td>39.1</td>\n",
              "      <td>18.7</td>\n",
              "      <td>Adelie</td>\n",
              "    </tr>\n",
              "    <tr>\n",
              "      <th>1</th>\n",
              "      <td>39.5</td>\n",
              "      <td>17.4</td>\n",
              "      <td>Adelie</td>\n",
              "    </tr>\n",
              "    <tr>\n",
              "      <th>2</th>\n",
              "      <td>40.3</td>\n",
              "      <td>18.0</td>\n",
              "      <td>Adelie</td>\n",
              "    </tr>\n",
              "    <tr>\n",
              "      <th>3</th>\n",
              "      <td>36.7</td>\n",
              "      <td>19.3</td>\n",
              "      <td>Adelie</td>\n",
              "    </tr>\n",
              "    <tr>\n",
              "      <th>4</th>\n",
              "      <td>39.3</td>\n",
              "      <td>20.6</td>\n",
              "      <td>Adelie</td>\n",
              "    </tr>\n",
              "    <tr>\n",
              "      <th>5</th>\n",
              "      <td>38.9</td>\n",
              "      <td>17.8</td>\n",
              "      <td>Adelie</td>\n",
              "    </tr>\n",
              "    <tr>\n",
              "      <th>6</th>\n",
              "      <td>39.2</td>\n",
              "      <td>19.6</td>\n",
              "      <td>Adelie</td>\n",
              "    </tr>\n",
              "    <tr>\n",
              "      <th>7</th>\n",
              "      <td>34.1</td>\n",
              "      <td>18.1</td>\n",
              "      <td>Adelie</td>\n",
              "    </tr>\n",
              "    <tr>\n",
              "      <th>8</th>\n",
              "      <td>42.0</td>\n",
              "      <td>20.2</td>\n",
              "      <td>Adelie</td>\n",
              "    </tr>\n",
              "    <tr>\n",
              "      <th>9</th>\n",
              "      <td>37.8</td>\n",
              "      <td>17.1</td>\n",
              "      <td>Adelie</td>\n",
              "    </tr>\n",
              "  </tbody>\n",
              "</table>\n",
              "</div>\n",
              "      <button class=\"colab-df-convert\" onclick=\"convertToInteractive('df-9e6502fc-9bf1-4eef-8aef-7f35c6d0561d')\"\n",
              "              title=\"Convert this dataframe to an interactive table.\"\n",
              "              style=\"display:none;\">\n",
              "        \n",
              "  <svg xmlns=\"http://www.w3.org/2000/svg\" height=\"24px\"viewBox=\"0 0 24 24\"\n",
              "       width=\"24px\">\n",
              "    <path d=\"M0 0h24v24H0V0z\" fill=\"none\"/>\n",
              "    <path d=\"M18.56 5.44l.94 2.06.94-2.06 2.06-.94-2.06-.94-.94-2.06-.94 2.06-2.06.94zm-11 1L8.5 8.5l.94-2.06 2.06-.94-2.06-.94L8.5 2.5l-.94 2.06-2.06.94zm10 10l.94 2.06.94-2.06 2.06-.94-2.06-.94-.94-2.06-.94 2.06-2.06.94z\"/><path d=\"M17.41 7.96l-1.37-1.37c-.4-.4-.92-.59-1.43-.59-.52 0-1.04.2-1.43.59L10.3 9.45l-7.72 7.72c-.78.78-.78 2.05 0 2.83L4 21.41c.39.39.9.59 1.41.59.51 0 1.02-.2 1.41-.59l7.78-7.78 2.81-2.81c.8-.78.8-2.07 0-2.86zM5.41 20L4 18.59l7.72-7.72 1.47 1.35L5.41 20z\"/>\n",
              "  </svg>\n",
              "      </button>\n",
              "      \n",
              "  <style>\n",
              "    .colab-df-container {\n",
              "      display:flex;\n",
              "      flex-wrap:wrap;\n",
              "      gap: 12px;\n",
              "    }\n",
              "\n",
              "    .colab-df-convert {\n",
              "      background-color: #E8F0FE;\n",
              "      border: none;\n",
              "      border-radius: 50%;\n",
              "      cursor: pointer;\n",
              "      display: none;\n",
              "      fill: #1967D2;\n",
              "      height: 32px;\n",
              "      padding: 0 0 0 0;\n",
              "      width: 32px;\n",
              "    }\n",
              "\n",
              "    .colab-df-convert:hover {\n",
              "      background-color: #E2EBFA;\n",
              "      box-shadow: 0px 1px 2px rgba(60, 64, 67, 0.3), 0px 1px 3px 1px rgba(60, 64, 67, 0.15);\n",
              "      fill: #174EA6;\n",
              "    }\n",
              "\n",
              "    [theme=dark] .colab-df-convert {\n",
              "      background-color: #3B4455;\n",
              "      fill: #D2E3FC;\n",
              "    }\n",
              "\n",
              "    [theme=dark] .colab-df-convert:hover {\n",
              "      background-color: #434B5C;\n",
              "      box-shadow: 0px 1px 3px 1px rgba(0, 0, 0, 0.15);\n",
              "      filter: drop-shadow(0px 1px 2px rgba(0, 0, 0, 0.3));\n",
              "      fill: #FFFFFF;\n",
              "    }\n",
              "  </style>\n",
              "\n",
              "      <script>\n",
              "        const buttonEl =\n",
              "          document.querySelector('#df-9e6502fc-9bf1-4eef-8aef-7f35c6d0561d button.colab-df-convert');\n",
              "        buttonEl.style.display =\n",
              "          google.colab.kernel.accessAllowed ? 'block' : 'none';\n",
              "\n",
              "        async function convertToInteractive(key) {\n",
              "          const element = document.querySelector('#df-9e6502fc-9bf1-4eef-8aef-7f35c6d0561d');\n",
              "          const dataTable =\n",
              "            await google.colab.kernel.invokeFunction('convertToInteractive',\n",
              "                                                     [key], {});\n",
              "          if (!dataTable) return;\n",
              "\n",
              "          const docLinkHtml = 'Like what you see? Visit the ' +\n",
              "            '<a target=\"_blank\" href=https://colab.research.google.com/notebooks/data_table.ipynb>data table notebook</a>'\n",
              "            + ' to learn more about interactive tables.';\n",
              "          element.innerHTML = '';\n",
              "          dataTable['output_type'] = 'display_data';\n",
              "          await google.colab.output.renderOutput(dataTable, element);\n",
              "          const docLink = document.createElement('div');\n",
              "          docLink.innerHTML = docLinkHtml;\n",
              "          element.appendChild(docLink);\n",
              "        }\n",
              "      </script>\n",
              "    </div>\n",
              "  </div>\n",
              "  "
            ]
          },
          "metadata": {},
          "execution_count": 26
        }
      ]
    },
    {
      "cell_type": "markdown",
      "source": [
        "### Séparation des prédicteurs et de la classe à prédire, visualisation"
      ],
      "metadata": {
        "id": "kEQKQMK5G22J"
      }
    },
    {
      "cell_type": "code",
      "source": [
        "dataset = dataset.set_index(\"Species\").loc[ [\"Adelie\", \"Chinstrap\"] ].reset_index()\n",
        "\n",
        "nom_predicteurs = [\"Culmen Length (mm)\", \"Culmen Depth (mm)\"]\n",
        "nom_cible = \"Species\"\n",
        "\n",
        "for nom in nom_predicteurs:\n",
        "    pyplot.figure()\n",
        "\n",
        "    dataset.groupby(\"Species\")[nom].plot.hist(alpha=0.5, legend=True)\n",
        "    pyplot.xlabel(feature_name)"
      ],
      "metadata": {
        "colab": {
          "base_uri": "https://localhost:8080/",
          "height": 541
        },
        "id": "ZHcIAcotGtuu",
        "outputId": "6be6cc5d-e0a4-42db-d9f3-f9781e83ee48"
      },
      "execution_count": 27,
      "outputs": [
        {
          "output_type": "display_data",
          "data": {
            "text/plain": [
              "<Figure size 432x288 with 1 Axes>"
            ],
            "image/png": "[encoded data removed]"
          },
          "metadata": {
            "needs_background": "light"
          }
        },
        {
          "output_type": "display_data",
          "data": {
            "text/plain": [
              "<Figure size 432x288 with 1 Axes>"
            ],
            "image/png": "[encoded data removed]"
          },
          "metadata": {
            "needs_background": "light"
          }
        }
      ]
    },
    {
      "cell_type": "markdown",
      "source": [
        "### Séparation en jeux d'entraînements et de test"
      ],
      "metadata": {
        "id": "EYrsELpdHrtA"
      }
    },
    {
      "cell_type": "code",
      "source": [
        "from sklearn.model_selection import train_test_split\n",
        "\n",
        "dataset_train, dataset_test = train_test_split(dataset, random_state=0)\n",
        "\n",
        "data_train = dataset_train[nom_predicteurs]\n",
        "data_test  = dataset_test[nom_predicteurs]\n",
        "\n",
        "cible_train = dataset_train[nom_cible]\n",
        "cible_test  = dataset_test[nom_cible]"
      ],
      "metadata": {
        "id": "v77LKwF8Hg_-"
      },
      "execution_count": 28,
      "outputs": []
    },
    {
      "cell_type": "markdown",
      "source": [
        "### Modélisation"
      ],
      "metadata": {
        "id": "0hO31b5JIK0r"
      }
    },
    {
      "cell_type": "code",
      "source": [
        "import sklearn\n",
        "sklearn.set_config(display=\"diagram\")"
      ],
      "metadata": {
        "id": "wq9hwaY7IEOE"
      },
      "execution_count": 29,
      "outputs": []
    },
    {
      "cell_type": "code",
      "source": [
        "from sklearn.pipeline import make_pipeline\n",
        "from sklearn.preprocessing import StandardScaler\n",
        "from sklearn.linear_model import LogisticRegression\n",
        "\n",
        "modele = make_pipeline(\n",
        "    StandardScaler(), LogisticRegression(penalty=\"none\")\n",
        ")\n",
        "modele"
      ],
      "metadata": {
        "colab": {
          "base_uri": "https://localhost:8080/",
          "height": 126
        },
        "id": "up6gY7OhIRXR",
        "outputId": "69340c75-8b13-4503-9ed4-0b2083cfbe7c"
      },
      "execution_count": 30,
      "outputs": [
        {
          "output_type": "execute_result",
          "data": {
            "text/plain": [
              "Pipeline(steps=[('standardscaler', StandardScaler()),\n",
              "                ('logisticregression', LogisticRegression(penalty='none'))])"
            ],
            "text/html": [
              "<style>#sk-4435813a-f003-4b97-ade3-6f300adab830 {color: black;background-color: white;}#sk-4435813a-f003-4b97-ade3-6f300adab830 pre{padding: 0;}#sk-4435813a-f003-4b97-ade3-6f300adab830 div.sk-toggleable {background-color: white;}#sk-4435813a-f003-4b97-ade3-6f300adab830 label.sk-toggleable__label {cursor: pointer;display: block;width: 100%;margin-bottom: 0;padding: 0.3em;box-sizing: border-box;text-align: center;}#sk-4435813a-f003-4b97-ade3-6f300adab830 label.sk-toggleable__label-arrow:before {content: \"▸\";float: left;margin-right: 0.25em;color: #696969;}#sk-4435813a-f003-4b97-ade3-6f300adab830 label.sk-toggleable__label-arrow:hover:before {color: black;}#sk-4435813a-f003-4b97-ade3-6f300adab830 div.sk-estimator:hover label.sk-toggleable__label-arrow:before {color: black;}#sk-4435813a-f003-4b97-ade3-6f300adab830 div.sk-toggleable__content {max-height: 0;max-width: 0;overflow: hidden;text-align: left;background-color: #f0f8ff;}#sk-4435813a-f003-4b97-ade3-6f300adab830 div.sk-toggleable__content pre {margin: 0.2em;color: black;border-radius: 0.25em;background-color: #f0f8ff;}#sk-4435813a-f003-4b97-ade3-6f300adab830 input.sk-toggleable__control:checked~div.sk-toggleable__content {max-height: 200px;max-width: 100%;overflow: auto;}#sk-4435813a-f003-4b97-ade3-6f300adab830 input.sk-toggleable__control:checked~label.sk-toggleable__label-arrow:before {content: \"▾\";}#sk-4435813a-f003-4b97-ade3-6f300adab830 div.sk-estimator input.sk-toggleable__control:checked~label.sk-toggleable__label {background-color: #d4ebff;}#sk-4435813a-f003-4b97-ade3-6f300adab830 div.sk-label input.sk-toggleable__control:checked~label.sk-toggleable__label {background-color: #d4ebff;}#sk-4435813a-f003-4b97-ade3-6f300adab830 input.sk-hidden--visually {border: 0;clip: rect(1px 1px 1px 1px);clip: rect(1px, 1px, 1px, 1px);height: 1px;margin: -1px;overflow: hidden;padding: 0;position: absolute;width: 1px;}#sk-4435813a-f003-4b97-ade3-6f300adab830 div.sk-estimator {font-family: monospace;background-color: #f0f8ff;border: 1px dotted black;border-radius: 0.25em;box-sizing: border-box;margin-bottom: 0.5em;}#sk-4435813a-f003-4b97-ade3-6f300adab830 div.sk-estimator:hover {background-color: #d4ebff;}#sk-4435813a-f003-4b97-ade3-6f300adab830 div.sk-parallel-item::after {content: \"\";width: 100%;border-bottom: 1px solid gray;flex-grow: 1;}#sk-4435813a-f003-4b97-ade3-6f300adab830 div.sk-label:hover label.sk-toggleable__label {background-color: #d4ebff;}#sk-4435813a-f003-4b97-ade3-6f300adab830 div.sk-serial::before {content: \"\";position: absolute;border-left: 1px solid gray;box-sizing: border-box;top: 2em;bottom: 0;left: 50%;}#sk-4435813a-f003-4b97-ade3-6f300adab830 div.sk-serial {display: flex;flex-direction: column;align-items: center;background-color: white;padding-right: 0.2em;padding-left: 0.2em;}#sk-4435813a-f003-4b97-ade3-6f300adab830 div.sk-item {z-index: 1;}#sk-4435813a-f003-4b97-ade3-6f300adab830 div.sk-parallel {display: flex;align-items: stretch;justify-content: center;background-color: white;}#sk-4435813a-f003-4b97-ade3-6f300adab830 div.sk-parallel::before {content: \"\";position: absolute;border-left: 1px solid gray;box-sizing: border-box;top: 2em;bottom: 0;left: 50%;}#sk-4435813a-f003-4b97-ade3-6f300adab830 div.sk-parallel-item {display: flex;flex-direction: column;position: relative;background-color: white;}#sk-4435813a-f003-4b97-ade3-6f300adab830 div.sk-parallel-item:first-child::after {align-self: flex-end;width: 50%;}#sk-4435813a-f003-4b97-ade3-6f300adab830 div.sk-parallel-item:last-child::after {align-self: flex-start;width: 50%;}#sk-4435813a-f003-4b97-ade3-6f300adab830 div.sk-parallel-item:only-child::after {width: 0;}#sk-4435813a-f003-4b97-ade3-6f300adab830 div.sk-dashed-wrapped {border: 1px dashed gray;margin: 0 0.4em 0.5em 0.4em;box-sizing: border-box;padding-bottom: 0.4em;background-color: white;position: relative;}#sk-4435813a-f003-4b97-ade3-6f300adab830 div.sk-label label {font-family: monospace;font-weight: bold;background-color: white;display: inline-block;line-height: 1.2em;}#sk-4435813a-f003-4b97-ade3-6f300adab830 div.sk-label-container {position: relative;z-index: 2;text-align: center;}#sk-4435813a-f003-4b97-ade3-6f300adab830 div.sk-container {/* jupyter's `normalize.less` sets `[hidden] { display: none; }` but bootstrap.min.css set `[hidden] { display: none !important; }` so we also need the `!important` here to be able to override the default hidden behavior on the sphinx rendered scikit-learn.org. See: https://github.com/scikit-learn/scikit-learn/issues/21755 */display: inline-block !important;position: relative;}#sk-4435813a-f003-4b97-ade3-6f300adab830 div.sk-text-repr-fallback {display: none;}</style><div id=\"sk-4435813a-f003-4b97-ade3-6f300adab830\" class=\"sk-top-container\"><div class=\"sk-text-repr-fallback\"><pre>Pipeline(steps=[(&#x27;standardscaler&#x27;, StandardScaler()),\n",
              "                (&#x27;logisticregression&#x27;, LogisticRegression(penalty=&#x27;none&#x27;))])</pre><b>Please rerun this cell to show the HTML repr or trust the notebook.</b></div><div class=\"sk-container\" hidden><div class=\"sk-item sk-dashed-wrapped\"><div class=\"sk-label-container\"><div class=\"sk-label sk-toggleable\"><input class=\"sk-toggleable__control sk-hidden--visually\" id=\"91717354-586a-4f9f-9574-4aaebb309bab\" type=\"checkbox\" ><label for=\"91717354-586a-4f9f-9574-4aaebb309bab\" class=\"sk-toggleable__label sk-toggleable__label-arrow\">Pipeline</label><div class=\"sk-toggleable__content\"><pre>Pipeline(steps=[(&#x27;standardscaler&#x27;, StandardScaler()),\n",
              "                (&#x27;logisticregression&#x27;, LogisticRegression(penalty=&#x27;none&#x27;))])</pre></div></div></div><div class=\"sk-serial\"><div class=\"sk-item\"><div class=\"sk-estimator sk-toggleable\"><input class=\"sk-toggleable__control sk-hidden--visually\" id=\"b169b9db-9f01-44d1-aa92-cb291d08e228\" type=\"checkbox\" ><label for=\"b169b9db-9f01-44d1-aa92-cb291d08e228\" class=\"sk-toggleable__label sk-toggleable__label-arrow\">StandardScaler</label><div class=\"sk-toggleable__content\"><pre>StandardScaler()</pre></div></div></div><div class=\"sk-item\"><div class=\"sk-estimator sk-toggleable\"><input class=\"sk-toggleable__control sk-hidden--visually\" id=\"7525e777-dc40-4d66-a184-a698025b1d9f\" type=\"checkbox\" ><label for=\"7525e777-dc40-4d66-a184-a698025b1d9f\" class=\"sk-toggleable__label sk-toggleable__label-arrow\">LogisticRegression</label><div class=\"sk-toggleable__content\"><pre>LogisticRegression(penalty=&#x27;none&#x27;)</pre></div></div></div></div></div></div></div>"
            ]
          },
          "metadata": {},
          "execution_count": 30
        }
      ]
    },
    {
      "cell_type": "markdown",
      "source": [
        "### Entraînement et évaluation de la précision"
      ],
      "metadata": {
        "id": "-ylYeAy-Ix8Q"
      }
    },
    {
      "cell_type": "code",
      "source": [
        "modele.fit(data_train, cible_train)\n",
        "precision = modele.score(data_test, cible_test)\n",
        "print(f\"Précision du modèle : {precision:.3f}\")"
      ],
      "metadata": {
        "colab": {
          "base_uri": "https://localhost:8080/"
        },
        "id": "nt6KoY_qIL4j",
        "outputId": "3f7a670f-a972-4e94-bbb7-1612f0b4bbf6"
      },
      "execution_count": 31,
      "outputs": [
        {
          "output_type": "stream",
          "name": "stdout",
          "text": [
            "Précision du modèle : 1.000\n"
          ]
        }
      ]
    },
    {
      "cell_type": "markdown",
      "source": [
        "### Visualisation"
      ],
      "metadata": {
        "id": "UXslYgsLI-B1"
      }
    },
    {
      "cell_type": "markdown",
      "source": [
        "Afin de visualiser les frontières de décision de la régression, on utilise un script développé par les auteurs du MOOC (voir doc de la cellule suivante)."
      ],
      "metadata": {
        "id": "-dzJmff8KGjg"
      }
    },
    {
      "cell_type": "code",
      "source": [
        "# This helper code is adapted from:\n",
        "# https://github.com/scikit-learn/scikit-learn/pull/16061\n",
        "# TODO: remove this code from the MOOC when the feature is\n",
        "# made available in a stable version of scikit-learn itself.\n",
        "import numpy as np\n",
        "import pandas as pd\n",
        "\n",
        "from sklearn.preprocessing import LabelEncoder\n",
        "from sklearn.utils import check_matplotlib_support\n",
        "from sklearn.utils import _safe_indexing\n",
        "\n",
        "\n",
        "def _check_boundary_response_method(estimator, response_method):\n",
        "    \"\"\"Return prediction method from the `response_method` for decision boundary.\n",
        "    Parameters\n",
        "    ----------\n",
        "    estimator : object\n",
        "        Estimator to check.\n",
        "    response_method : {'auto', 'predict_proba', 'decision_function', 'predict'}\n",
        "        Specifies whether to use :term:`predict_proba`,\n",
        "        :term:`decision_function`, :term:`predict` as the target response.\n",
        "        If set to 'auto', the response method is tried in the following order:\n",
        "        :term:`predict_proba`, :term:`decision_function`, :term:`predict`.\n",
        "    Returns\n",
        "    -------\n",
        "    prediction_method: callable\n",
        "        Prediction method of estimator.\n",
        "    \"\"\"\n",
        "\n",
        "    possible_response_methods = (\n",
        "        \"predict_proba\",\n",
        "        \"decision_function\",\n",
        "        \"auto\",\n",
        "        \"predict\",\n",
        "    )\n",
        "    if response_method not in possible_response_methods:\n",
        "        raise ValueError(\n",
        "            f\"response_method must be one of {', '.join(possible_response_methods)}\"\n",
        "        )\n",
        "\n",
        "    error_msg = \"response method {} is not defined in {}\"\n",
        "    if response_method != \"auto\":\n",
        "        if not hasattr(estimator, response_method):\n",
        "            raise ValueError(\n",
        "                error_msg.format(response_method, estimator.__class__.__name__)\n",
        "            )\n",
        "        return getattr(estimator, response_method)\n",
        "    elif hasattr(estimator, \"decision_function\"):\n",
        "        return getattr(estimator, \"decision_function\")\n",
        "    elif hasattr(estimator, \"predict_proba\"):\n",
        "        return getattr(estimator, \"predict_proba\")\n",
        "    elif hasattr(estimator, \"predict\"):\n",
        "        return getattr(estimator, \"predict\")\n",
        "\n",
        "    raise ValueError(\n",
        "        error_msg.format(\n",
        "            \"decision_function, predict_proba, or predict\", estimator.__class__.__name__\n",
        "        )\n",
        "    )\n",
        "\n",
        "\n",
        "class DecisionBoundaryDisplay:\n",
        "    \"\"\"Decisions boundary visualization.\n",
        "    It is recommend to use\n",
        "    :func:`~sklearn.inspection.DecisionBoundaryDisplay.from_estimator`\n",
        "    to create a :class:`DecisionBoundaryDisplay`. All parameters are stored as\n",
        "    attributes.\n",
        "    Read more in the :ref:`User Guide <visualizations>`.\n",
        "    .. versionadded:: 1.0\n",
        "    Parameters\n",
        "    ----------\n",
        "    xx0 : ndarray of shape (grid_resolution, grid_resolution)\n",
        "        First output of :func:`meshgrid <numpy.meshgrid>`.\n",
        "    xx1 : ndarray of shape (grid_resolution, grid_resolution)\n",
        "        Second output of :func:`meshgrid <numpy.meshgrid>`.\n",
        "    response : ndarray of shape (grid_resolution, grid_resolution)\n",
        "        Values of the response function.\n",
        "    xlabel : str, default=\"\"\n",
        "        Default label to place on x axis.\n",
        "    ylabel : str, default=\"\"\n",
        "        Default label to place on y axis.\n",
        "    Attributes\n",
        "    ----------\n",
        "    surface_ : matplotlib `QuadContourSet` or `QuadMesh`\n",
        "        If `plot_method` is 'contour' or 'contourf', `surface_` is a\n",
        "        :class:`QuadContourSet <matplotlib.contour.QuadContourSet>`. If\n",
        "        `plot_method is `pcolormesh`, `surface_` is a\n",
        "        :class:`QuadMesh <matplotlib.collections.QuadMesh>`.\n",
        "    ax_ : matplotlib Axes\n",
        "        Axes with confusion matrix.\n",
        "    figure_ : matplotlib Figure\n",
        "        Figure containing the confusion matrix.\n",
        "    \"\"\"\n",
        "\n",
        "    def __init__(self, *, xx0, xx1, response, xlabel=None, ylabel=None):\n",
        "        self.xx0 = xx0\n",
        "        self.xx1 = xx1\n",
        "        self.response = response\n",
        "        self.xlabel = xlabel\n",
        "        self.ylabel = ylabel\n",
        "\n",
        "    def plot(self, plot_method=\"contourf\", ax=None, xlabel=None, ylabel=None, **kwargs):\n",
        "        \"\"\"Plot visualization.\n",
        "        Parameters\n",
        "        ----------\n",
        "        plot_method : {'contourf', 'contour', 'pcolormesh'}, default='contourf'\n",
        "            Plotting method to call when plotting the response. Please refer\n",
        "            to the following matplotlib documentation for details:\n",
        "            :func:`contourf <matplotlib.pyplot.contourf>`,\n",
        "            :func:`contour <matplotlib.pyplot.contour>`,\n",
        "            :func:`pcolomesh <matplotlib.pyplot.pcolomesh>`.\n",
        "        ax : Matplotlib axes, default=None\n",
        "            Axes object to plot on. If `None`, a new figure and axes is\n",
        "            created.\n",
        "        xlabel : str, default=None\n",
        "            Overwrite the x-axis label.\n",
        "        ylabel : str, default=None\n",
        "            Overwrite the y-axis label.\n",
        "        **kwargs : dict\n",
        "            Additional keyword arguments to be passed to the `plot_method`.\n",
        "        Returns\n",
        "        -------\n",
        "        display: :class:`~sklearn.inspection.DecisionBoundaryDisplay`\n",
        "        \"\"\"\n",
        "        check_matplotlib_support(\"DecisionBoundaryDisplay.plot\")\n",
        "        import matplotlib.pyplot as plt  # noqa\n",
        "\n",
        "        if plot_method not in (\"contourf\", \"contour\", \"pcolormesh\"):\n",
        "            raise ValueError(\n",
        "                \"plot_method must be 'contourf', 'contour', or 'pcolormesh'\"\n",
        "            )\n",
        "\n",
        "        if ax is None:\n",
        "            _, ax = plt.subplots()\n",
        "\n",
        "        plot_func = getattr(ax, plot_method)\n",
        "        self.surface_ = plot_func(self.xx0, self.xx1, self.response, **kwargs)\n",
        "\n",
        "        if xlabel is not None or not ax.get_xlabel():\n",
        "            xlabel = self.xlabel if xlabel is None else xlabel\n",
        "            ax.set_xlabel(xlabel)\n",
        "        if ylabel is not None or not ax.get_ylabel():\n",
        "            ylabel = self.ylabel if ylabel is None else ylabel\n",
        "            ax.set_ylabel(ylabel)\n",
        "\n",
        "        self.ax_ = ax\n",
        "        self.figure_ = ax.figure\n",
        "        return self\n",
        "\n",
        "    @classmethod\n",
        "    def from_estimator(\n",
        "        cls,\n",
        "        estimator,\n",
        "        X,\n",
        "        *,\n",
        "        grid_resolution=100,\n",
        "        eps=1.0,\n",
        "        plot_method=\"contourf\",\n",
        "        response_method=\"auto\",\n",
        "        xlabel=None,\n",
        "        ylabel=None,\n",
        "        ax=None,\n",
        "        **kwargs,\n",
        "    ):\n",
        "        \"\"\"Plot decision boundary given an estimator.\n",
        "        Read more in the :ref:`User Guide <visualizations>`.\n",
        "        .. versionadded:: 1.0\n",
        "        Parameters\n",
        "        ----------\n",
        "        estimator : object\n",
        "            Trained estimator used to plot the decision boundary.\n",
        "        X : {array-like, sparse matrix, dataframe} of shape (n_samples, 2)\n",
        "            Input data that should be only 2-dimensional.\n",
        "        grid_resolution : int, default=100\n",
        "            Number of grid points to use for plotting decision boundary.\n",
        "            Higher values will make the plot look nicer but be slower to\n",
        "            render.\n",
        "        eps : float, default=1.0\n",
        "            Extends the minimum and maximum values of X for evaluating the\n",
        "            response function.\n",
        "        plot_method : {'contourf', 'contour', 'pcolormesh'}, default='contourf'\n",
        "            Plotting method to call when plotting the response. Please refer\n",
        "            to the following matplotlib documentation for details:\n",
        "            :func:`contourf <matplotlib.pyplot.contourf>`,\n",
        "            :func:`contour <matplotlib.pyplot.contour>`,\n",
        "            :func:`pcolomesh <matplotlib.pyplot.pcolomesh>`.\n",
        "        response_method : {'auto', 'predict_proba', 'decision_function', \\\n",
        "                'predict'}, default='auto'\n",
        "            Specifies whether to use :term:`predict_proba`,\n",
        "            :term:`decision_function`, :term:`predict` as the target response.\n",
        "            If set to 'auto', the response method is tried in the following order:\n",
        "            :term:`predict_proba`, :term:`decision_function`, :term:`predict`.\n",
        "        xlabel : str, default=None\n",
        "            The label used for the x-axis. If `None`, an attempt is made to\n",
        "            extract a label from `X` if it is a dataframe, otherwise an empty\n",
        "            string is used.\n",
        "        ylabel : str, default=None\n",
        "            The label used for the y-axis. If `None`, an attempt is made to\n",
        "            extract a label from `X` if it is a dataframe, otherwise an empty\n",
        "            string is used.\n",
        "        ax : Matplotlib axes, default=None\n",
        "            Axes object to plot on. If `None`, a new figure and axes is\n",
        "            created.\n",
        "        **kwargs : dict\n",
        "            Additional keyword arguments to be passed to the\n",
        "            `plot_method`.\n",
        "        Returns\n",
        "        -------\n",
        "        display : :class:`~sklearn.inspection.DecisionBoundaryDisplay`\n",
        "            Object that stores the result.\n",
        "        See Also\n",
        "        --------\n",
        "        DecisionBoundaryDisplay : Decision boundary visualization.\n",
        "        ConfusionMatrixDisplay.from_estimator : Plot the confusion matrix\n",
        "            given an estimator, the data, and the label.\n",
        "        ConfusionMatrixDisplay.from_predictions : Plot the confusion matrix\n",
        "            given the true and predicted labels.\n",
        "        Examples\n",
        "        --------\n",
        "        >>> import matplotlib.pyplot as plt\n",
        "        >>> from sklearn.datasets import load_iris\n",
        "        >>> from sklearn.linear_model import LogisticRegression\n",
        "        >>> from sklearn.inspection import DecisionBoundaryDisplay\n",
        "        >>> iris = load_iris()\n",
        "        >>> X = iris.data[:, :2]\n",
        "        >>> classifier = LogisticRegression().fit(X, iris.target)\n",
        "        >>> disp = DecisionBoundaryDisplay.from_estimator(\n",
        "        ...     classifier, X, response_method=\"predict\",\n",
        "        ...     xlabel=iris.feature_names[0], ylabel=iris.feature_names[1],\n",
        "        ...     alpha=0.5,\n",
        "        ... )\n",
        "        >>> disp.ax_.scatter(X[:, 0], X[:, 1], c=iris.target, edgecolor=\"k\")\n",
        "        <...>\n",
        "        >>> plt.show()\n",
        "        \"\"\"\n",
        "        check_matplotlib_support(f\"{cls.__name__}.from_estimator\")\n",
        "\n",
        "        if not grid_resolution > 1:\n",
        "            raise ValueError(\n",
        "                \"grid_resolution must be greater than 1. Got\"\n",
        "                f\" {grid_resolution} instead.\"\n",
        "            )\n",
        "\n",
        "        if not eps >= 0:\n",
        "            raise ValueError(\n",
        "                f\"eps must be greater than or equal to 0. Got {eps} instead.\"\n",
        "            )\n",
        "\n",
        "        possible_plot_methods = (\"contourf\", \"contour\", \"pcolormesh\")\n",
        "        if plot_method not in possible_plot_methods:\n",
        "            avaliable_methods = \", \".join(possible_plot_methods)\n",
        "            raise ValueError(\n",
        "                f\"plot_method must be one of {avaliable_methods}. \"\n",
        "                f\"Got {plot_method} instead.\"\n",
        "            )\n",
        "\n",
        "        x0, x1 = _safe_indexing(X, 0, axis=1), _safe_indexing(X, 1, axis=1)\n",
        "\n",
        "        x0_min, x0_max = x0.min() - eps, x0.max() + eps\n",
        "        x1_min, x1_max = x1.min() - eps, x1.max() + eps\n",
        "\n",
        "        xx0, xx1 = np.meshgrid(\n",
        "            np.linspace(x0_min, x0_max, grid_resolution),\n",
        "            np.linspace(x1_min, x1_max, grid_resolution),\n",
        "        )\n",
        "        X_for_pred = np.c_[xx0.ravel(), xx1.ravel()]\n",
        "        if isinstance(X, pd.DataFrame):\n",
        "            X_for_pred = pd.DataFrame(X_for_pred, columns=X.columns)\n",
        "\n",
        "        pred_func = _check_boundary_response_method(estimator, response_method)\n",
        "        response = pred_func(X_for_pred)\n",
        "\n",
        "        if response_method == \"predict\":\n",
        "            label_encoder = LabelEncoder()\n",
        "            label_encoder.classes_ = estimator.classes_\n",
        "            response = label_encoder.transform(response)\n",
        "\n",
        "        if response.ndim != 1:\n",
        "            if response.shape[1] != 2:\n",
        "                raise ValueError(\n",
        "                    \"Multiclass classifiers are only supported when \"\n",
        "                    \"response_method='predict'\"\n",
        "                )\n",
        "            response = response[:, 1]\n",
        "\n",
        "        if xlabel is not None:\n",
        "            xlabel = xlabel\n",
        "        else:\n",
        "            xlabel = X.columns[0] if hasattr(X, \"columns\") else \"\"\n",
        "\n",
        "        if ylabel is not None:\n",
        "            ylabel = ylabel\n",
        "        else:\n",
        "            ylabel = X.columns[1] if hasattr(X, \"columns\") else \"\"\n",
        "\n",
        "        display = DecisionBoundaryDisplay(\n",
        "            xx0=xx0,\n",
        "            xx1=xx1,\n",
        "            response=response.reshape(xx0.shape),\n",
        "            xlabel=xlabel,\n",
        "            ylabel=ylabel,\n",
        "        )\n",
        "        return display.plot(ax=ax, plot_method=plot_method, **kwargs)"
      ],
      "metadata": {
        "id": "ATvAh9hbKENu"
      },
      "execution_count": 32,
      "outputs": []
    },
    {
      "cell_type": "code",
      "source": [
        "DecisionBoundaryDisplay.from_estimator(\n",
        "    modele, data_test, response_method=\"predict\", cmap=\"RdBu_r\", alpha=0.5\n",
        ")\n",
        "\n",
        "seaborn.scatterplot(\n",
        "    data=dataset_test, x=nom_predicteurs[0], y=nom_predicteurs[1],\n",
        "    hue=nom_cible, palette=[\"tab:red\", \"tab:blue\"])\n",
        "_ = pyplot.title(\"Frontière de décision de la régression\")"
      ],
      "metadata": {
        "colab": {
          "base_uri": "https://localhost:8080/",
          "height": 295
        },
        "id": "w5gK_OZ-IraT",
        "outputId": "d442ba97-7bca-4db4-df57-c751b9782890"
      },
      "execution_count": 33,
      "outputs": [
        {
          "output_type": "display_data",
          "data": {
            "text/plain": [
              "<Figure size 432x288 with 1 Axes>"
            ],
            "image/png": "[encoded data removed]"
          },
          "metadata": {
            "needs_background": "light"
          }
        }
      ]
    },
    {
      "cell_type": "markdown",
      "source": [
        "## Impact d'un paramètre sur la frontière de décision"
      ],
      "metadata": {
        "id": "9p5ht_RCK6Yy"
      }
    },
    {
      "cell_type": "code",
      "source": [
        "modele = make_pipeline(\n",
        "    StandardScaler(), LogisticRegression(penalty=\"l2\")    # avec pénalisation L^2\n",
        ")\n",
        "modele"
      ],
      "metadata": {
        "colab": {
          "base_uri": "https://localhost:8080/",
          "height": 126
        },
        "id": "d4LyCwODI_YH",
        "outputId": "22ce40f9-ab86-4735-ccfc-60e0b5fa1002"
      },
      "execution_count": 34,
      "outputs": [
        {
          "output_type": "execute_result",
          "data": {
            "text/plain": [
              "Pipeline(steps=[('standardscaler', StandardScaler()),\n",
              "                ('logisticregression', LogisticRegression())])"
            ],
            "text/html": [
              "<style>#sk-61f95259-adc9-4428-a1fa-eb284fc4fb5a {color: black;background-color: white;}#sk-61f95259-adc9-4428-a1fa-eb284fc4fb5a pre{padding: 0;}#sk-61f95259-adc9-4428-a1fa-eb284fc4fb5a div.sk-toggleable {background-color: white;}#sk-61f95259-adc9-4428-a1fa-eb284fc4fb5a label.sk-toggleable__label {cursor: pointer;display: block;width: 100%;margin-bottom: 0;padding: 0.3em;box-sizing: border-box;text-align: center;}#sk-61f95259-adc9-4428-a1fa-eb284fc4fb5a label.sk-toggleable__label-arrow:before {content: \"▸\";float: left;margin-right: 0.25em;color: #696969;}#sk-61f95259-adc9-4428-a1fa-eb284fc4fb5a label.sk-toggleable__label-arrow:hover:before {color: black;}#sk-61f95259-adc9-4428-a1fa-eb284fc4fb5a div.sk-estimator:hover label.sk-toggleable__label-arrow:before {color: black;}#sk-61f95259-adc9-4428-a1fa-eb284fc4fb5a div.sk-toggleable__content {max-height: 0;max-width: 0;overflow: hidden;text-align: left;background-color: #f0f8ff;}#sk-61f95259-adc9-4428-a1fa-eb284fc4fb5a div.sk-toggleable__content pre {margin: 0.2em;color: black;border-radius: 0.25em;background-color: #f0f8ff;}#sk-61f95259-adc9-4428-a1fa-eb284fc4fb5a input.sk-toggleable__control:checked~div.sk-toggleable__content {max-height: 200px;max-width: 100%;overflow: auto;}#sk-61f95259-adc9-4428-a1fa-eb284fc4fb5a input.sk-toggleable__control:checked~label.sk-toggleable__label-arrow:before {content: \"▾\";}#sk-61f95259-adc9-4428-a1fa-eb284fc4fb5a div.sk-estimator input.sk-toggleable__control:checked~label.sk-toggleable__label {background-color: #d4ebff;}#sk-61f95259-adc9-4428-a1fa-eb284fc4fb5a div.sk-label input.sk-toggleable__control:checked~label.sk-toggleable__label {background-color: #d4ebff;}#sk-61f95259-adc9-4428-a1fa-eb284fc4fb5a input.sk-hidden--visually {border: 0;clip: rect(1px 1px 1px 1px);clip: rect(1px, 1px, 1px, 1px);height: 1px;margin: -1px;overflow: hidden;padding: 0;position: absolute;width: 1px;}#sk-61f95259-adc9-4428-a1fa-eb284fc4fb5a div.sk-estimator {font-family: monospace;background-color: #f0f8ff;border: 1px dotted black;border-radius: 0.25em;box-sizing: border-box;margin-bottom: 0.5em;}#sk-61f95259-adc9-4428-a1fa-eb284fc4fb5a div.sk-estimator:hover {background-color: #d4ebff;}#sk-61f95259-adc9-4428-a1fa-eb284fc4fb5a div.sk-parallel-item::after {content: \"\";width: 100%;border-bottom: 1px solid gray;flex-grow: 1;}#sk-61f95259-adc9-4428-a1fa-eb284fc4fb5a div.sk-label:hover label.sk-toggleable__label {background-color: #d4ebff;}#sk-61f95259-adc9-4428-a1fa-eb284fc4fb5a div.sk-serial::before {content: \"\";position: absolute;border-left: 1px solid gray;box-sizing: border-box;top: 2em;bottom: 0;left: 50%;}#sk-61f95259-adc9-4428-a1fa-eb284fc4fb5a div.sk-serial {display: flex;flex-direction: column;align-items: center;background-color: white;padding-right: 0.2em;padding-left: 0.2em;}#sk-61f95259-adc9-4428-a1fa-eb284fc4fb5a div.sk-item {z-index: 1;}#sk-61f95259-adc9-4428-a1fa-eb284fc4fb5a div.sk-parallel {display: flex;align-items: stretch;justify-content: center;background-color: white;}#sk-61f95259-adc9-4428-a1fa-eb284fc4fb5a div.sk-parallel::before {content: \"\";position: absolute;border-left: 1px solid gray;box-sizing: border-box;top: 2em;bottom: 0;left: 50%;}#sk-61f95259-adc9-4428-a1fa-eb284fc4fb5a div.sk-parallel-item {display: flex;flex-direction: column;position: relative;background-color: white;}#sk-61f95259-adc9-4428-a1fa-eb284fc4fb5a div.sk-parallel-item:first-child::after {align-self: flex-end;width: 50%;}#sk-61f95259-adc9-4428-a1fa-eb284fc4fb5a div.sk-parallel-item:last-child::after {align-self: flex-start;width: 50%;}#sk-61f95259-adc9-4428-a1fa-eb284fc4fb5a div.sk-parallel-item:only-child::after {width: 0;}#sk-61f95259-adc9-4428-a1fa-eb284fc4fb5a div.sk-dashed-wrapped {border: 1px dashed gray;margin: 0 0.4em 0.5em 0.4em;box-sizing: border-box;padding-bottom: 0.4em;background-color: white;position: relative;}#sk-61f95259-adc9-4428-a1fa-eb284fc4fb5a div.sk-label label {font-family: monospace;font-weight: bold;background-color: white;display: inline-block;line-height: 1.2em;}#sk-61f95259-adc9-4428-a1fa-eb284fc4fb5a div.sk-label-container {position: relative;z-index: 2;text-align: center;}#sk-61f95259-adc9-4428-a1fa-eb284fc4fb5a div.sk-container {/* jupyter's `normalize.less` sets `[hidden] { display: none; }` but bootstrap.min.css set `[hidden] { display: none !important; }` so we also need the `!important` here to be able to override the default hidden behavior on the sphinx rendered scikit-learn.org. See: https://github.com/scikit-learn/scikit-learn/issues/21755 */display: inline-block !important;position: relative;}#sk-61f95259-adc9-4428-a1fa-eb284fc4fb5a div.sk-text-repr-fallback {display: none;}</style><div id=\"sk-61f95259-adc9-4428-a1fa-eb284fc4fb5a\" class=\"sk-top-container\"><div class=\"sk-text-repr-fallback\"><pre>Pipeline(steps=[(&#x27;standardscaler&#x27;, StandardScaler()),\n",
              "                (&#x27;logisticregression&#x27;, LogisticRegression())])</pre><b>Please rerun this cell to show the HTML repr or trust the notebook.</b></div><div class=\"sk-container\" hidden><div class=\"sk-item sk-dashed-wrapped\"><div class=\"sk-label-container\"><div class=\"sk-label sk-toggleable\"><input class=\"sk-toggleable__control sk-hidden--visually\" id=\"014b3bce-0f60-4393-b929-0a4797d99c4c\" type=\"checkbox\" ><label for=\"014b3bce-0f60-4393-b929-0a4797d99c4c\" class=\"sk-toggleable__label sk-toggleable__label-arrow\">Pipeline</label><div class=\"sk-toggleable__content\"><pre>Pipeline(steps=[(&#x27;standardscaler&#x27;, StandardScaler()),\n",
              "                (&#x27;logisticregression&#x27;, LogisticRegression())])</pre></div></div></div><div class=\"sk-serial\"><div class=\"sk-item\"><div class=\"sk-estimator sk-toggleable\"><input class=\"sk-toggleable__control sk-hidden--visually\" id=\"832b33e0-4e1c-4b46-9063-fadd5100a919\" type=\"checkbox\" ><label for=\"832b33e0-4e1c-4b46-9063-fadd5100a919\" class=\"sk-toggleable__label sk-toggleable__label-arrow\">StandardScaler</label><div class=\"sk-toggleable__content\"><pre>StandardScaler()</pre></div></div></div><div class=\"sk-item\"><div class=\"sk-estimator sk-toggleable\"><input class=\"sk-toggleable__control sk-hidden--visually\" id=\"38bf20cc-8331-4878-a707-7279843839c0\" type=\"checkbox\" ><label for=\"38bf20cc-8331-4878-a707-7279843839c0\" class=\"sk-toggleable__label sk-toggleable__label-arrow\">LogisticRegression</label><div class=\"sk-toggleable__content\"><pre>LogisticRegression()</pre></div></div></div></div></div></div></div>"
            ]
          },
          "metadata": {},
          "execution_count": 34
        }
      ]
    },
    {
      "cell_type": "code",
      "source": [
        "Cs = [0.01, 0.1, 1, 10]    # valeurs admissibles pour C\n",
        "\n",
        "for C in Cs:\n",
        "    modele.set_params(logisticregression__C=C)\n",
        "    modele.fit(data_train, cible_train)\n",
        "    precision = modele.score(data_test, cible_test)\n",
        "\n",
        "    DecisionBoundaryDisplay.from_estimator(\n",
        "        modele,\n",
        "        dataset_test,\n",
        "        response_method=\"predict\",\n",
        "        cmap=\"RdBu_r\",\n",
        "    )\n",
        "    seaborn.scatterplot(\n",
        "        data=dataset_test, x=nom_predicteurs[0], y=nom_predicteurs[1],\n",
        "        hue=nom_cible, palette=[\"tab:red\", \"tab:blue\"])\n",
        "    pyplot.legend(bbox_to_anchor=(1.05, 0.8), loc=\"upper left\")\n",
        "    pyplot.title(f\"C: {C} \\n Accuracy on the test set: {precision:.2f}\")"
      ],
      "metadata": {
        "colab": {
          "base_uri": "https://localhost:8080/",
          "height": 357
        },
        "id": "smc7RosrLJyi",
        "outputId": "65275912-8704-41f0-cb5c-87cdc8e4fd2a"
      },
      "execution_count": 35,
      "outputs": [
        {
          "output_type": "error",
          "ename": "TypeError",
          "evalue": "ignored",
          "traceback": [
            "\u001b[0;31m---------------------------------------------------------------------------\u001b[0m",
            "\u001b[0;31mTypeError\u001b[0m                                 Traceback (most recent call last)",
            "\u001b[0;32m<ipython-input-35-5f1a1fb76813>\u001b[0m in \u001b[0;36m<module>\u001b[0;34m()\u001b[0m\n\u001b[1;32m     10\u001b[0m         \u001b[0mdataset_test\u001b[0m\u001b[0;34m,\u001b[0m\u001b[0;34m\u001b[0m\u001b[0;34m\u001b[0m\u001b[0m\n\u001b[1;32m     11\u001b[0m         \u001b[0mresponse_method\u001b[0m\u001b[0;34m=\u001b[0m\u001b[0;34m\"predict\"\u001b[0m\u001b[0;34m,\u001b[0m\u001b[0;34m\u001b[0m\u001b[0;34m\u001b[0m\u001b[0m\n\u001b[0;32m---> 12\u001b[0;31m         \u001b[0mcmap\u001b[0m\u001b[0;34m=\u001b[0m\u001b[0;34m\"RdBu_r\"\u001b[0m\u001b[0;34m,\u001b[0m\u001b[0;34m\u001b[0m\u001b[0;34m\u001b[0m\u001b[0m\n\u001b[0m\u001b[1;32m     13\u001b[0m     )\n\u001b[1;32m     14\u001b[0m     seaborn.scatterplot(\n",
            "\u001b[0;32m<ipython-input-32-39878a704f25>\u001b[0m in \u001b[0;36mfrom_estimator\u001b[0;34m(cls, estimator, X, grid_resolution, eps, plot_method, response_method, xlabel, ylabel, ax, **kwargs)\u001b[0m\n\u001b[1;32m    257\u001b[0m         \u001b[0mx0\u001b[0m\u001b[0;34m,\u001b[0m \u001b[0mx1\u001b[0m \u001b[0;34m=\u001b[0m \u001b[0m_safe_indexing\u001b[0m\u001b[0;34m(\u001b[0m\u001b[0mX\u001b[0m\u001b[0;34m,\u001b[0m \u001b[0;36m0\u001b[0m\u001b[0;34m,\u001b[0m \u001b[0maxis\u001b[0m\u001b[0;34m=\u001b[0m\u001b[0;36m1\u001b[0m\u001b[0;34m)\u001b[0m\u001b[0;34m,\u001b[0m \u001b[0m_safe_indexing\u001b[0m\u001b[0;34m(\u001b[0m\u001b[0mX\u001b[0m\u001b[0;34m,\u001b[0m \u001b[0;36m1\u001b[0m\u001b[0;34m,\u001b[0m \u001b[0maxis\u001b[0m\u001b[0;34m=\u001b[0m\u001b[0;36m1\u001b[0m\u001b[0;34m)\u001b[0m\u001b[0;34m\u001b[0m\u001b[0;34m\u001b[0m\u001b[0m\n\u001b[1;32m    258\u001b[0m \u001b[0;34m\u001b[0m\u001b[0m\n\u001b[0;32m--> 259\u001b[0;31m         \u001b[0mx0_min\u001b[0m\u001b[0;34m,\u001b[0m \u001b[0mx0_max\u001b[0m \u001b[0;34m=\u001b[0m \u001b[0mx0\u001b[0m\u001b[0;34m.\u001b[0m\u001b[0mmin\u001b[0m\u001b[0;34m(\u001b[0m\u001b[0;34m)\u001b[0m \u001b[0;34m-\u001b[0m \u001b[0meps\u001b[0m\u001b[0;34m,\u001b[0m \u001b[0mx0\u001b[0m\u001b[0;34m.\u001b[0m\u001b[0mmax\u001b[0m\u001b[0;34m(\u001b[0m\u001b[0;34m)\u001b[0m \u001b[0;34m+\u001b[0m \u001b[0meps\u001b[0m\u001b[0;34m\u001b[0m\u001b[0;34m\u001b[0m\u001b[0m\n\u001b[0m\u001b[1;32m    260\u001b[0m         \u001b[0mx1_min\u001b[0m\u001b[0;34m,\u001b[0m \u001b[0mx1_max\u001b[0m \u001b[0;34m=\u001b[0m \u001b[0mx1\u001b[0m\u001b[0;34m.\u001b[0m\u001b[0mmin\u001b[0m\u001b[0;34m(\u001b[0m\u001b[0;34m)\u001b[0m \u001b[0;34m-\u001b[0m \u001b[0meps\u001b[0m\u001b[0;34m,\u001b[0m \u001b[0mx1\u001b[0m\u001b[0;34m.\u001b[0m\u001b[0mmax\u001b[0m\u001b[0;34m(\u001b[0m\u001b[0;34m)\u001b[0m \u001b[0;34m+\u001b[0m \u001b[0meps\u001b[0m\u001b[0;34m\u001b[0m\u001b[0;34m\u001b[0m\u001b[0m\n\u001b[1;32m    261\u001b[0m \u001b[0;34m\u001b[0m\u001b[0m\n",
            "\u001b[0;31mTypeError\u001b[0m: unsupported operand type(s) for -: 'str' and 'float'"
          ]
        }
      ]
    },
    {
      "cell_type": "markdown",
      "source": [
        "### Visualisation de l'impact de `C` sur les coefficients de la régression"
      ],
      "metadata": {
        "id": "MxGGIugLOQRW"
      }
    }
  ]
}