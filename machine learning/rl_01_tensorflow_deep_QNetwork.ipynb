{
  "nbformat": 4,
  "nbformat_minor": 0,
  "metadata": {
    "colab": {
      "name": "rl_01_tensorflow_deep_QNetwork.ipynb",
      "provenance": [],
      "collapsed_sections": [
        "ohN9uPVH2GcA"
      ],
      "authorship_tag": "ABX9TyO9usSm8CvPVIDNyImjuG4H",
      "include_colab_link": true
    },
    "kernelspec": {
      "name": "python3",
      "display_name": "Python 3"
    },
    "language_info": {
      "name": "python"
    }
  },
  "cells": [
    {
      "cell_type": "markdown",
      "metadata": {
        "id": "view-in-github",
        "colab_type": "text"
      },
      "source": [
        "<a href=\"https://colab.research.google.com/github/julienVLNT/python-sandbox/blob/main/machine%20learning/rl_01_tensorflow_deep_QNetwork.ipynb\" target=\"_parent\"><img src=\"https://colab.research.google.com/assets/colab-badge.svg\" alt=\"Open In Colab\"/></a>"
      ]
    },
    {
      "cell_type": "code",
      "execution_count": 1,
      "metadata": {
        "colab": {
          "base_uri": "https://localhost:8080/"
        },
        "id": "-G7pnWHl1qKR",
        "outputId": "f57617ff-d8a0-420d-8a45-ed51e91c7c9f"
      },
      "outputs": [
        {
          "output_type": "stream",
          "name": "stdout",
          "text": [
            "Python 3.7.13\n"
          ]
        }
      ],
      "source": [
        "!python --version"
      ]
    },
    {
      "cell_type": "markdown",
      "source": [
        "**Julien VALENTIN**, **avril 2022** d'après le tutoriel Tensorflow\n",
        "\n",
        "> https://www.tensorflow.org/agents/tutorials/1_dqn_tutorial\n",
        "\n",
        "---\n",
        "\n",
        "Un `QAgent` est représenté par un réseau de neurones `QNetwork` : modèle de réseau de neurones séquentiel à couches denses pouvant apprendre un nombre fini de valeurs (les rendements attendus), associées à chaque action."
      ],
      "metadata": {
        "id": "__Kf5yxZ1-XS"
      }
    },
    {
      "cell_type": "markdown",
      "source": [
        "### Installation des dépendances"
      ],
      "metadata": {
        "id": "ohN9uPVH2GcA"
      }
    },
    {
      "cell_type": "code",
      "source": [
        "%%bash\n",
        "sudo apt-get update\n",
        "sudo apt-get install -y xvfb ffmpeg freeglut3-dev\n",
        "pip install 'imgaug<2.7.0'\n",
        "pip install 'imageio==2.4.0'\n",
        "pip install pyvirtualdisplay\n",
        "pip install tf-agents[reverb]\n",
        "pip install pyglet"
      ],
      "metadata": {
        "colab": {
          "base_uri": "https://localhost:8080/"
        },
        "id": "Ike7134g19nm",
        "outputId": "3140fad1-1fb4-4ea1-f35f-7a0c89e225cf"
      },
      "execution_count": 2,
      "outputs": [
        {
          "output_type": "stream",
          "name": "stdout",
          "text": [
            "Hit:1 http://security.ubuntu.com/ubuntu bionic-security InRelease\n",
            "Hit:2 https://cloud.r-project.org/bin/linux/ubuntu bionic-cran40/ InRelease\n",
            "Ign:3 https://developer.download.nvidia.com/compute/cuda/repos/ubuntu1804/x86_64  InRelease\n",
            "Hit:4 http://archive.ubuntu.com/ubuntu bionic InRelease\n",
            "Hit:5 http://ppa.launchpad.net/c2d4u.team/c2d4u4.0+/ubuntu bionic InRelease\n",
            "Ign:6 https://developer.download.nvidia.com/compute/machine-learning/repos/ubuntu1804/x86_64  InRelease\n",
            "Hit:7 https://developer.download.nvidia.com/compute/cuda/repos/ubuntu1804/x86_64  Release\n",
            "Get:8 http://archive.ubuntu.com/ubuntu bionic-updates InRelease [88.7 kB]\n",
            "Hit:9 https://developer.download.nvidia.com/compute/machine-learning/repos/ubuntu1804/x86_64  Release\n",
            "Hit:10 http://ppa.launchpad.net/cran/libgit2/ubuntu bionic InRelease\n",
            "Hit:11 http://ppa.launchpad.net/deadsnakes/ppa/ubuntu bionic InRelease\n",
            "Get:12 http://archive.ubuntu.com/ubuntu bionic-backports InRelease [74.6 kB]\n",
            "Hit:13 http://ppa.launchpad.net/graphics-drivers/ppa/ubuntu bionic InRelease\n",
            "Fetched 163 kB in 1s (120 kB/s)\n",
            "Reading package lists...\n",
            "Reading package lists...\n",
            "Building dependency tree...\n",
            "Reading state information...\n",
            "freeglut3-dev is already the newest version (2.8.1-3).\n",
            "ffmpeg is already the newest version (7:3.4.8-0ubuntu0.2).\n",
            "xvfb is already the newest version (2:1.19.6-1ubuntu4.10).\n",
            "0 upgraded, 0 newly installed, 0 to remove and 94 not upgraded.\n",
            "Requirement already satisfied: imgaug<2.7.0 in /usr/local/lib/python3.7/dist-packages (0.2.9)\n",
            "Requirement already satisfied: Pillow in /usr/local/lib/python3.7/dist-packages (from imgaug<2.7.0) (7.1.2)\n",
            "Requirement already satisfied: six in /usr/local/lib/python3.7/dist-packages (from imgaug<2.7.0) (1.15.0)\n",
            "Requirement already satisfied: Shapely in /usr/local/lib/python3.7/dist-packages (from imgaug<2.7.0) (1.8.1.post1)\n",
            "Requirement already satisfied: scikit-image>=0.11.0 in /usr/local/lib/python3.7/dist-packages (from imgaug<2.7.0) (0.18.3)\n",
            "Requirement already satisfied: matplotlib in /usr/local/lib/python3.7/dist-packages (from imgaug<2.7.0) (3.2.2)\n",
            "Requirement already satisfied: scipy in /usr/local/lib/python3.7/dist-packages (from imgaug<2.7.0) (1.4.1)\n",
            "Requirement already satisfied: numpy>=1.15.0 in /usr/local/lib/python3.7/dist-packages (from imgaug<2.7.0) (1.21.5)\n",
            "Requirement already satisfied: opencv-python in /usr/local/lib/python3.7/dist-packages (from imgaug<2.7.0) (4.1.2.30)\n",
            "Requirement already satisfied: imageio in /usr/local/lib/python3.7/dist-packages (from imgaug<2.7.0) (2.4.0)\n",
            "Requirement already satisfied: networkx>=2.0 in /usr/local/lib/python3.7/dist-packages (from scikit-image>=0.11.0->imgaug<2.7.0) (2.6.3)\n",
            "Requirement already satisfied: PyWavelets>=1.1.1 in /usr/local/lib/python3.7/dist-packages (from scikit-image>=0.11.0->imgaug<2.7.0) (1.3.0)\n",
            "Requirement already satisfied: tifffile>=2019.7.26 in /usr/local/lib/python3.7/dist-packages (from scikit-image>=0.11.0->imgaug<2.7.0) (2021.11.2)\n",
            "Requirement already satisfied: pyparsing!=2.0.4,!=2.1.2,!=2.1.6,>=2.0.1 in /usr/local/lib/python3.7/dist-packages (from matplotlib->imgaug<2.7.0) (3.0.7)\n",
            "Requirement already satisfied: python-dateutil>=2.1 in /usr/local/lib/python3.7/dist-packages (from matplotlib->imgaug<2.7.0) (2.8.2)\n",
            "Requirement already satisfied: kiwisolver>=1.0.1 in /usr/local/lib/python3.7/dist-packages (from matplotlib->imgaug<2.7.0) (1.4.0)\n",
            "Requirement already satisfied: cycler>=0.10 in /usr/local/lib/python3.7/dist-packages (from matplotlib->imgaug<2.7.0) (0.11.0)\n",
            "Requirement already satisfied: typing-extensions in /usr/local/lib/python3.7/dist-packages (from kiwisolver>=1.0.1->matplotlib->imgaug<2.7.0) (3.10.0.2)\n",
            "Requirement already satisfied: imageio==2.4.0 in /usr/local/lib/python3.7/dist-packages (2.4.0)\n",
            "Requirement already satisfied: pillow in /usr/local/lib/python3.7/dist-packages (from imageio==2.4.0) (7.1.2)\n",
            "Requirement already satisfied: numpy in /usr/local/lib/python3.7/dist-packages (from imageio==2.4.0) (1.21.5)\n",
            "Requirement already satisfied: pyvirtualdisplay in /usr/local/lib/python3.7/dist-packages (3.0)\n",
            "Requirement already satisfied: tf-agents[reverb] in /usr/local/lib/python3.7/dist-packages (0.12.0)\n",
            "Requirement already satisfied: absl-py>=0.6.1 in /usr/local/lib/python3.7/dist-packages (from tf-agents[reverb]) (1.0.0)\n",
            "Requirement already satisfied: cloudpickle>=1.3 in /usr/local/lib/python3.7/dist-packages (from tf-agents[reverb]) (1.3.0)\n",
            "Requirement already satisfied: gym>=0.17.0 in /usr/local/lib/python3.7/dist-packages (from tf-agents[reverb]) (0.17.3)\n",
            "Requirement already satisfied: numpy>=1.13.3 in /usr/local/lib/python3.7/dist-packages (from tf-agents[reverb]) (1.21.5)\n",
            "Requirement already satisfied: protobuf>=3.11.3 in /usr/local/lib/python3.7/dist-packages (from tf-agents[reverb]) (3.17.3)\n",
            "Requirement already satisfied: wrapt>=1.11.1 in /usr/local/lib/python3.7/dist-packages (from tf-agents[reverb]) (1.14.0)\n",
            "Requirement already satisfied: tensorflow-probability>=0.16.0 in /usr/local/lib/python3.7/dist-packages (from tf-agents[reverb]) (0.16.0)\n",
            "Requirement already satisfied: typing-extensions>=3.7.4.3 in /usr/local/lib/python3.7/dist-packages (from tf-agents[reverb]) (3.10.0.2)\n",
            "Requirement already satisfied: pillow in /usr/local/lib/python3.7/dist-packages (from tf-agents[reverb]) (7.1.2)\n",
            "Requirement already satisfied: gin-config>=0.4.0 in /usr/local/lib/python3.7/dist-packages (from tf-agents[reverb]) (0.5.0)\n",
            "Requirement already satisfied: six>=1.10.0 in /usr/local/lib/python3.7/dist-packages (from tf-agents[reverb]) (1.15.0)\n",
            "Requirement already satisfied: tensorflow~=2.8.0 in /usr/local/lib/python3.7/dist-packages (from tf-agents[reverb]) (2.8.0)\n",
            "Requirement already satisfied: dm-reverb~=0.7.0 in /usr/local/lib/python3.7/dist-packages (from tf-agents[reverb]) (0.7.0)\n",
            "Requirement already satisfied: portpicker in /usr/local/lib/python3.7/dist-packages (from dm-reverb~=0.7.0->tf-agents[reverb]) (1.3.9)\n",
            "Requirement already satisfied: dm-tree in /usr/local/lib/python3.7/dist-packages (from dm-reverb~=0.7.0->tf-agents[reverb]) (0.1.6)\n",
            "Requirement already satisfied: pyglet<=1.5.0,>=1.4.0 in /usr/local/lib/python3.7/dist-packages (from gym>=0.17.0->tf-agents[reverb]) (1.5.0)\n",
            "Requirement already satisfied: scipy in /usr/local/lib/python3.7/dist-packages (from gym>=0.17.0->tf-agents[reverb]) (1.4.1)\n",
            "Requirement already satisfied: future in /usr/local/lib/python3.7/dist-packages (from pyglet<=1.5.0,>=1.4.0->gym>=0.17.0->tf-agents[reverb]) (0.16.0)\n",
            "Requirement already satisfied: google-pasta>=0.1.1 in /usr/local/lib/python3.7/dist-packages (from tensorflow~=2.8.0->tf-agents[reverb]) (0.2.0)\n",
            "Requirement already satisfied: keras-preprocessing>=1.1.1 in /usr/local/lib/python3.7/dist-packages (from tensorflow~=2.8.0->tf-agents[reverb]) (1.1.2)\n",
            "Requirement already satisfied: tf-estimator-nightly==2.8.0.dev2021122109 in /usr/local/lib/python3.7/dist-packages (from tensorflow~=2.8.0->tf-agents[reverb]) (2.8.0.dev2021122109)\n",
            "Requirement already satisfied: tensorflow-io-gcs-filesystem>=0.23.1 in /usr/local/lib/python3.7/dist-packages (from tensorflow~=2.8.0->tf-agents[reverb]) (0.24.0)\n",
            "Requirement already satisfied: grpcio<2.0,>=1.24.3 in /usr/local/lib/python3.7/dist-packages (from tensorflow~=2.8.0->tf-agents[reverb]) (1.44.0)\n",
            "Requirement already satisfied: termcolor>=1.1.0 in /usr/local/lib/python3.7/dist-packages (from tensorflow~=2.8.0->tf-agents[reverb]) (1.1.0)\n",
            "Requirement already satisfied: opt-einsum>=2.3.2 in /usr/local/lib/python3.7/dist-packages (from tensorflow~=2.8.0->tf-agents[reverb]) (3.3.0)\n",
            "Requirement already satisfied: flatbuffers>=1.12 in /usr/local/lib/python3.7/dist-packages (from tensorflow~=2.8.0->tf-agents[reverb]) (2.0)\n",
            "Requirement already satisfied: astunparse>=1.6.0 in /usr/local/lib/python3.7/dist-packages (from tensorflow~=2.8.0->tf-agents[reverb]) (1.6.3)\n",
            "Requirement already satisfied: keras<2.9,>=2.8.0rc0 in /usr/local/lib/python3.7/dist-packages (from tensorflow~=2.8.0->tf-agents[reverb]) (2.8.0)\n",
            "Requirement already satisfied: gast>=0.2.1 in /usr/local/lib/python3.7/dist-packages (from tensorflow~=2.8.0->tf-agents[reverb]) (0.5.3)\n",
            "Requirement already satisfied: setuptools in /usr/local/lib/python3.7/dist-packages (from tensorflow~=2.8.0->tf-agents[reverb]) (57.4.0)\n",
            "Requirement already satisfied: h5py>=2.9.0 in /usr/local/lib/python3.7/dist-packages (from tensorflow~=2.8.0->tf-agents[reverb]) (3.1.0)\n",
            "Requirement already satisfied: tensorboard<2.9,>=2.8 in /usr/local/lib/python3.7/dist-packages (from tensorflow~=2.8.0->tf-agents[reverb]) (2.8.0)\n",
            "Requirement already satisfied: libclang>=9.0.1 in /usr/local/lib/python3.7/dist-packages (from tensorflow~=2.8.0->tf-agents[reverb]) (13.0.0)\n",
            "Requirement already satisfied: wheel<1.0,>=0.23.0 in /usr/local/lib/python3.7/dist-packages (from astunparse>=1.6.0->tensorflow~=2.8.0->tf-agents[reverb]) (0.37.1)\n",
            "Requirement already satisfied: cached-property in /usr/local/lib/python3.7/dist-packages (from h5py>=2.9.0->tensorflow~=2.8.0->tf-agents[reverb]) (1.5.2)\n",
            "Requirement already satisfied: tensorboard-plugin-wit>=1.6.0 in /usr/local/lib/python3.7/dist-packages (from tensorboard<2.9,>=2.8->tensorflow~=2.8.0->tf-agents[reverb]) (1.8.1)\n",
            "Requirement already satisfied: markdown>=2.6.8 in /usr/local/lib/python3.7/dist-packages (from tensorboard<2.9,>=2.8->tensorflow~=2.8.0->tf-agents[reverb]) (3.3.6)\n",
            "Requirement already satisfied: tensorboard-data-server<0.7.0,>=0.6.0 in /usr/local/lib/python3.7/dist-packages (from tensorboard<2.9,>=2.8->tensorflow~=2.8.0->tf-agents[reverb]) (0.6.1)\n",
            "Requirement already satisfied: requests<3,>=2.21.0 in /usr/local/lib/python3.7/dist-packages (from tensorboard<2.9,>=2.8->tensorflow~=2.8.0->tf-agents[reverb]) (2.23.0)\n",
            "Requirement already satisfied: google-auth-oauthlib<0.5,>=0.4.1 in /usr/local/lib/python3.7/dist-packages (from tensorboard<2.9,>=2.8->tensorflow~=2.8.0->tf-agents[reverb]) (0.4.6)\n",
            "Requirement already satisfied: werkzeug>=0.11.15 in /usr/local/lib/python3.7/dist-packages (from tensorboard<2.9,>=2.8->tensorflow~=2.8.0->tf-agents[reverb]) (1.0.1)\n",
            "Requirement already satisfied: google-auth<3,>=1.6.3 in /usr/local/lib/python3.7/dist-packages (from tensorboard<2.9,>=2.8->tensorflow~=2.8.0->tf-agents[reverb]) (1.35.0)\n",
            "Requirement already satisfied: pyasn1-modules>=0.2.1 in /usr/local/lib/python3.7/dist-packages (from google-auth<3,>=1.6.3->tensorboard<2.9,>=2.8->tensorflow~=2.8.0->tf-agents[reverb]) (0.2.8)\n",
            "Requirement already satisfied: cachetools<5.0,>=2.0.0 in /usr/local/lib/python3.7/dist-packages (from google-auth<3,>=1.6.3->tensorboard<2.9,>=2.8->tensorflow~=2.8.0->tf-agents[reverb]) (4.2.4)\n",
            "Requirement already satisfied: rsa<5,>=3.1.4 in /usr/local/lib/python3.7/dist-packages (from google-auth<3,>=1.6.3->tensorboard<2.9,>=2.8->tensorflow~=2.8.0->tf-agents[reverb]) (4.8)\n",
            "Requirement already satisfied: requests-oauthlib>=0.7.0 in /usr/local/lib/python3.7/dist-packages (from google-auth-oauthlib<0.5,>=0.4.1->tensorboard<2.9,>=2.8->tensorflow~=2.8.0->tf-agents[reverb]) (1.3.1)\n",
            "Requirement already satisfied: importlib-metadata>=4.4 in /usr/local/lib/python3.7/dist-packages (from markdown>=2.6.8->tensorboard<2.9,>=2.8->tensorflow~=2.8.0->tf-agents[reverb]) (4.11.3)\n",
            "Requirement already satisfied: zipp>=0.5 in /usr/local/lib/python3.7/dist-packages (from importlib-metadata>=4.4->markdown>=2.6.8->tensorboard<2.9,>=2.8->tensorflow~=2.8.0->tf-agents[reverb]) (3.7.0)\n",
            "Requirement already satisfied: pyasn1<0.5.0,>=0.4.6 in /usr/local/lib/python3.7/dist-packages (from pyasn1-modules>=0.2.1->google-auth<3,>=1.6.3->tensorboard<2.9,>=2.8->tensorflow~=2.8.0->tf-agents[reverb]) (0.4.8)\n",
            "Requirement already satisfied: certifi>=2017.4.17 in /usr/local/lib/python3.7/dist-packages (from requests<3,>=2.21.0->tensorboard<2.9,>=2.8->tensorflow~=2.8.0->tf-agents[reverb]) (2021.10.8)\n",
            "Requirement already satisfied: chardet<4,>=3.0.2 in /usr/local/lib/python3.7/dist-packages (from requests<3,>=2.21.0->tensorboard<2.9,>=2.8->tensorflow~=2.8.0->tf-agents[reverb]) (3.0.4)\n",
            "Requirement already satisfied: idna<3,>=2.5 in /usr/local/lib/python3.7/dist-packages (from requests<3,>=2.21.0->tensorboard<2.9,>=2.8->tensorflow~=2.8.0->tf-agents[reverb]) (2.10)\n",
            "Requirement already satisfied: urllib3!=1.25.0,!=1.25.1,<1.26,>=1.21.1 in /usr/local/lib/python3.7/dist-packages (from requests<3,>=2.21.0->tensorboard<2.9,>=2.8->tensorflow~=2.8.0->tf-agents[reverb]) (1.24.3)\n",
            "Requirement already satisfied: oauthlib>=3.0.0 in /usr/local/lib/python3.7/dist-packages (from requests-oauthlib>=0.7.0->google-auth-oauthlib<0.5,>=0.4.1->tensorboard<2.9,>=2.8->tensorflow~=2.8.0->tf-agents[reverb]) (3.2.0)\n",
            "Requirement already satisfied: decorator in /usr/local/lib/python3.7/dist-packages (from tensorflow-probability>=0.16.0->tf-agents[reverb]) (4.4.2)\n",
            "Requirement already satisfied: pyglet in /usr/local/lib/python3.7/dist-packages (1.5.0)\n",
            "Requirement already satisfied: future in /usr/local/lib/python3.7/dist-packages (from pyglet) (0.16.0)\n"
          ]
        }
      ]
    },
    {
      "cell_type": "markdown",
      "source": [
        "### Import"
      ],
      "metadata": {
        "id": "XPsE8W7I3MHW"
      }
    },
    {
      "cell_type": "code",
      "source": [
        "from __future__ import absolute_import, division, print_function\n",
        "\n",
        "import base64\n",
        "import imageio\n",
        "import IPython\n",
        "import matplotlib\n",
        "import matplotlib.pyplot as plt\n",
        "import numpy as np\n",
        "import PIL.Image\n",
        "import pyvirtualdisplay\n",
        "import reverb\n",
        "\n",
        "import tensorflow as tf\n",
        "\n",
        "from tf_agents.agents.dqn import dqn_agent\n",
        "from tf_agents.drivers import py_driver\n",
        "from tf_agents.environments import suite_gym\n",
        "from tf_agents.environments import tf_py_environment\n",
        "from tf_agents.eval import metric_utils\n",
        "from tf_agents.metrics import tf_metrics\n",
        "from tf_agents.networks import sequential\n",
        "from tf_agents.policies import py_tf_eager_policy\n",
        "from tf_agents.policies import random_tf_policy\n",
        "from tf_agents.replay_buffers import reverb_replay_buffer\n",
        "from tf_agents.replay_buffers import reverb_utils\n",
        "from tf_agents.trajectories import trajectory\n",
        "from tf_agents.specs import tensor_spec\n",
        "from tf_agents.utils import common"
      ],
      "metadata": {
        "id": "X_dxFMM82Kyj"
      },
      "execution_count": 3,
      "outputs": []
    },
    {
      "cell_type": "markdown",
      "source": [
        "### Initialisation d'un affichage virtuel"
      ],
      "metadata": {
        "id": "RFfWPAlX3O5_"
      }
    },
    {
      "cell_type": "code",
      "source": [
        "display = pyvirtualdisplay.Display(visible=0, size=(1400, 900)).start()"
      ],
      "metadata": {
        "id": "ilOw83AA3N8P"
      },
      "execution_count": 4,
      "outputs": []
    },
    {
      "cell_type": "markdown",
      "source": [
        "### Paramétrage de la simulation"
      ],
      "metadata": {
        "id": "ai7LYU5U3kAo"
      }
    },
    {
      "cell_type": "code",
      "source": [
        "num_iterations = 20000 # @param {type:\"integer\"}\n",
        "\n",
        "initial_collect_steps = 100  # @param {type:\"integer\"}\n",
        "collect_steps_per_iteration =   1# @param {type:\"integer\"}\n",
        "replay_buffer_max_length = 100000  # @param {type:\"integer\"}\n",
        "\n",
        "batch_size = 64  # @param {type:\"integer\"}\n",
        "learning_rate = 1e-3  # @param {type:\"number\"}\n",
        "log_interval = 200  # @param {type:\"integer\"}\n",
        "\n",
        "num_eval_episodes = 10  # @param {type:\"integer\"}\n",
        "eval_interval = 1000  # @param {type:\"integer\"}"
      ],
      "metadata": {
        "id": "ezFHUOed3T3h"
      },
      "execution_count": 5,
      "outputs": []
    },
    {
      "cell_type": "markdown",
      "source": [
        "### Chargement de l'environnement `CartPole` depuis l'outil `OpenAI Gym`"
      ],
      "metadata": {
        "id": "ra1rJfwj3yjw"
      }
    },
    {
      "cell_type": "code",
      "source": [
        "env_name = 'CartPole-v0'\n",
        "env = suite_gym.load(env_name)"
      ],
      "metadata": {
        "id": "ZKlQ48At38wm"
      },
      "execution_count": 6,
      "outputs": []
    },
    {
      "cell_type": "markdown",
      "source": [
        "On peut afficher sa situation initiale."
      ],
      "metadata": {
        "id": "nBh2_IT54Djx"
      }
    },
    {
      "cell_type": "code",
      "source": [
        "env.reset()\n",
        "PIL.Image.fromarray(env.render())"
      ],
      "metadata": {
        "id": "1Sb07Mp63__9",
        "colab": {
          "base_uri": "https://localhost:8080/",
          "height": 417
        },
        "outputId": "e3a5f1a7-acaa-47de-bdbe-f615c417e45c"
      },
      "execution_count": 7,
      "outputs": [
        {
          "output_type": "execute_result",
          "data": {
            "text/plain": [
              "<PIL.Image.Image image mode=RGB size=600x400 at 0x7F0D67116710>"
            ],
            "image/png": "[encoded data removed]"
          },
          "metadata": {},
          "execution_count": 7
        }
      ]
    },
    {
      "cell_type": "markdown",
      "source": [
        "L'exécution d'une action se fait à l'aide de la méthode `environment.step(a)` prenant en paramètre une action `a` et retournant un objet `TimeStep` contenant\n",
        "- la prochaine observation `environment.time_step_spec().observation`\n",
        "- la récompense de l'action effectuée `a` `environment.time_step_spec().reward`"
      ],
      "metadata": {
        "id": "Vuk20MTt4Smz"
      }
    },
    {
      "cell_type": "code",
      "source": [
        "print(env.time_step_spec().observation)"
      ],
      "metadata": {
        "id": "TCu7jEHh4Fw1",
        "colab": {
          "base_uri": "https://localhost:8080/"
        },
        "outputId": "fb72b742-8243-4426-ce58-4e198d969c76"
      },
      "execution_count": 8,
      "outputs": [
        {
          "output_type": "stream",
          "name": "stdout",
          "text": [
            "BoundedArraySpec(shape=(4,), dtype=dtype('float32'), name='observation', minimum=[-4.8000002e+00 -3.4028235e+38 -4.1887903e-01 -3.4028235e+38], maximum=[4.8000002e+00 3.4028235e+38 4.1887903e-01 3.4028235e+38])\n"
          ]
        }
      ]
    },
    {
      "cell_type": "code",
      "source": [
        "print(env.time_step_spec().reward)"
      ],
      "metadata": {
        "id": "lQYdM_X-4-7R",
        "colab": {
          "base_uri": "https://localhost:8080/"
        },
        "outputId": "15b30b30-b35a-4d02-e0df-29e2bb835395"
      },
      "execution_count": 9,
      "outputs": [
        {
          "output_type": "stream",
          "name": "stdout",
          "text": [
            "ArraySpec(shape=(), dtype=dtype('float32'), name='reward')\n"
          ]
        }
      ]
    },
    {
      "cell_type": "markdown",
      "source": [
        "D'autre part, les actions permises depuis l'état `state` courant sont accessibles depuis la méthode `environment.action_spec()`"
      ],
      "metadata": {
        "id": "zLhCovpc5Hr9"
      }
    },
    {
      "cell_type": "code",
      "source": [
        "print(env.action_spec())"
      ],
      "metadata": {
        "id": "xLjr0JQg5B-Q",
        "colab": {
          "base_uri": "https://localhost:8080/"
        },
        "outputId": "de345223-78f3-4da2-b856-3e0c35cd6194"
      },
      "execution_count": 10,
      "outputs": [
        {
          "output_type": "stream",
          "name": "stdout",
          "text": [
            "BoundedArraySpec(shape=(), dtype=dtype('int64'), name='action', minimum=0, maximum=1)\n"
          ]
        }
      ]
    },
    {
      "cell_type": "markdown",
      "source": [
        "Par exemple, la politique de choix aléatoire s'obtiendrait par un tirage aléatoire sur la liste `[minimum, maximum]`. En fait, l'environnement `CartPole` se décline ainsi\n",
        "\n",
        "> `observation` est un tableau de quatre nombres réels contenant la position et la vitesse du chariot d'une part et la vitesse angulaire et la position du sommet d'autre part.\n",
        "\n",
        "> `reward` est un nombre réel scalaire\n",
        "\n",
        "> `action` est un nombre entier : $0$ ou $1$, respectivement *déplacer vers la gauche* et *déplacer vers la droite*."
      ],
      "metadata": {
        "id": "hwa6CdvD5VNZ"
      }
    },
    {
      "cell_type": "markdown",
      "source": [
        "### Impact d'un déplacement vers la droite : `action = np.array(1, dtype=np.int32)`"
      ],
      "metadata": {
        "id": "hc5UAsBt6W6g"
      }
    },
    {
      "cell_type": "code",
      "source": [
        "time_step = env.reset()\n",
        "print('time step:')\n",
        "print(10*\"-\")\n",
        "print(time_step)\n",
        "print()\n",
        "\n",
        "action = np.array(1, dtype=np.int32)\n",
        "\n",
        "next_time_step = env.step(action)\n",
        "print('Next time step:')\n",
        "print(15*\"-\")\n",
        "print(next_time_step)"
      ],
      "metadata": {
        "id": "HPsXwNTL5eEP",
        "colab": {
          "base_uri": "https://localhost:8080/"
        },
        "outputId": "9d6a135f-08cc-4338-c055-69d353ac0c92"
      },
      "execution_count": 11,
      "outputs": [
        {
          "output_type": "stream",
          "name": "stdout",
          "text": [
            "time step:\n",
            "----------\n",
            "TimeStep(\n",
            "{'discount': array(1., dtype=float32),\n",
            " 'observation': array([-0.03325634,  0.02344959,  0.02523835, -0.03136761], dtype=float32),\n",
            " 'reward': array(0., dtype=float32),\n",
            " 'step_type': array(0, dtype=int32)})\n",
            "\n",
            "Next time step:\n",
            "---------------\n",
            "TimeStep(\n",
            "{'discount': array(1., dtype=float32),\n",
            " 'observation': array([-0.03278735,  0.21820068,  0.02461099, -0.31598195], dtype=float32),\n",
            " 'reward': array(1., dtype=float32),\n",
            " 'step_type': array(1, dtype=int32)})\n"
          ]
        }
      ]
    },
    {
      "cell_type": "markdown",
      "source": [
        "### `train test splitting`"
      ],
      "metadata": {
        "id": "WLTU2yCH7AkZ"
      }
    },
    {
      "cell_type": "code",
      "source": [
        "train_py_env = suite_gym.load(env_name)\n",
        "eval_py_env = suite_gym.load(env_name)\n",
        "\n",
        "train_env = tf_py_environment.TFPyEnvironment(train_py_env)\n",
        "eval_env = tf_py_environment.TFPyEnvironment(eval_py_env)"
      ],
      "metadata": {
        "id": "bl2hgwIk6fwc"
      },
      "execution_count": 12,
      "outputs": []
    },
    {
      "cell_type": "markdown",
      "source": [
        "### Implémentation d'un objet `QNetwork`\n",
        "\n",
        "C'est le réseau de neurones qui permet l'évaluation des fonctions valeurs des états et des actions sous une politique $\\pi$. "
      ],
      "metadata": {
        "id": "rybdgr_c7Tzu"
      }
    },
    {
      "cell_type": "code",
      "source": [
        "fc_layer_params = (100, 50)\n",
        "action_tensor_spec = tensor_spec.from_spec(env.action_spec())\n",
        "num_actions = action_tensor_spec.maximum - action_tensor_spec.minimum + 1\n",
        "\n",
        "# Fonction permettant de générer une couche dense de num_units neurones\n",
        "# générique : chaque couche est initialisée par cette fonction.\n",
        "def dense_layer(num_units):\n",
        "  return tf.keras.layers.Dense(\n",
        "      num_units,\n",
        "      activation=tf.keras.activations.relu,\n",
        "      kernel_initializer=tf.keras.initializers.VarianceScaling(\n",
        "          scale=2.0, mode='fan_in', distribution='truncated_normal'))\n",
        "\n",
        "# Implémentation du QNetwork.\n",
        "dense_layers = [dense_layer(num_units) for num_units in fc_layer_params]\n",
        "q_values_layer = tf.keras.layers.Dense(\n",
        "    num_actions,\n",
        "    activation=None,\n",
        "    kernel_initializer=tf.keras.initializers.RandomUniform(\n",
        "        minval=-0.03, maxval=0.03),\n",
        "    bias_initializer=tf.keras.initializers.Constant(-0.2))\n",
        "q_net = sequential.Sequential(dense_layers + [q_values_layer])"
      ],
      "metadata": {
        "id": "HAsr4ogn7StF"
      },
      "execution_count": 13,
      "outputs": []
    },
    {
      "cell_type": "markdown",
      "source": [
        "### Implémentation du `QAgent`"
      ],
      "metadata": {
        "id": "FrG2juRUDMX8"
      }
    },
    {
      "cell_type": "markdown",
      "source": [
        "Conformément au formalisme vu précédemment, un agent est un objet composé de \n",
        "\n",
        "- un `QNetwork` permettant d'évaluer ce qu'il y a à évaluer,\n",
        "- un `TimeSpec` rendu par l'environnement et qui correspond à ses capteurs d'informations (observation, récompense)\n",
        "- une méthode d'optimisation pour la résolution\n",
        "- une fonction de perte\n",
        "\n",
        "Ces deux derniers objets servent à l'apprentissage de l'agent, à chaque épisode, l'agent a modifié les paramètres du `QNetwork`. L'apprentissage se fait par rétropropagation de l'erreur. On cherche à atteindre un minimum de la fonction de perte."
      ],
      "metadata": {
        "id": "4q8Pib6WDfIp"
      }
    },
    {
      "cell_type": "code",
      "source": [
        "optimizer = tf.keras.optimizers.Adam(learning_rate=learning_rate)\n",
        "\n",
        "train_step_counter = tf.Variable(0)\n",
        "\n",
        "agent = dqn_agent.DqnAgent(\n",
        "    train_env.time_step_spec(),\n",
        "    train_env.action_spec(),\n",
        "    q_network=q_net,\n",
        "    optimizer=optimizer,\n",
        "    td_errors_loss_fn=common.element_wise_squared_loss,\n",
        "    train_step_counter=train_step_counter)\n",
        "\n",
        "agent.initialize()"
      ],
      "metadata": {
        "id": "53M7w9DsC1QI"
      },
      "execution_count": 14,
      "outputs": []
    },
    {
      "cell_type": "markdown",
      "source": [
        "### Les stratégies, ou politiques\n",
        "\n",
        "La tâche à accomplir est de maintenir le poteau droit sur le chariot. Une stratégie associe à chaque état (position et vitesse du chariot plus position du sommet du poteau et vitesse angulaire de celui-ci) une action : déplacer le poteau vers la gauche ou vers la droite. La stratégie affecte l'action à l'état à chaque date de la simulation.\n",
        "\n",
        "Un agent possède deux stratégies : une première, `agent.policy`, utilisée pour l'entraînement et l'évaluation de l'agent ; la seconde, `agent.collect_policy`, utilisée pour la récolte de données.\n",
        "\n",
        "**Stratégie de choix aléatoire**\n",
        "\n",
        "On commence par essayer la stratégie de choix aléatoire : peu importe l'état, on choisit un déplacement par tirage selon la loi uniforme discrète.\n",
        "- $\\mathbb{P}(A=0|S) = \\frac{1}{2}$\n",
        "- $\\mathbb{P}(A=1|S) = \\frac{1}{2}$\n",
        "\n",
        "quel que soit l'état $S$."
      ],
      "metadata": {
        "id": "Dr-zY-eYEUkk"
      }
    },
    {
      "cell_type": "code",
      "source": [
        "random_policy = random_tf_policy.RandomTFPolicy(train_env.time_step_spec(),\n",
        "                                                train_env.action_spec())"
      ],
      "metadata": {
        "id": "ov_ou-7WESEy"
      },
      "execution_count": 15,
      "outputs": []
    },
    {
      "cell_type": "markdown",
      "source": [
        "Pour obtenir l'action associée à un état, on appelle `policy.action(time_step)`. Son retour est un objet `PolicyStep` contenant\n",
        "\n",
        "- `action`, ici `0` ou `1`\n",
        "- `state`, l'état, utilisé pour les stratégies *stateful* ?\n",
        "- `info`, métadonnées sur l'action rendue."
      ],
      "metadata": {
        "id": "4qSMzlbTGM19"
      }
    },
    {
      "cell_type": "code",
      "source": [
        "example_environment = tf_py_environment.TFPyEnvironment(\n",
        "    suite_gym.load('CartPole-v0'))\n",
        "\n",
        "time_step = example_environment.reset()\n",
        "\n",
        "random_policy.action(time_step)"
      ],
      "metadata": {
        "id": "i9uUUpGdF8r4",
        "colab": {
          "base_uri": "https://localhost:8080/"
        },
        "outputId": "6b24a36a-fd36-43ba-ef68-72c4174f51b0"
      },
      "execution_count": 16,
      "outputs": [
        {
          "output_type": "execute_result",
          "data": {
            "text/plain": [
              "PolicyStep(action=<tf.Tensor: shape=(1,), dtype=int64, numpy=array([1])>, state=(), info=())"
            ]
          },
          "metadata": {},
          "execution_count": 16
        }
      ]
    },
    {
      "cell_type": "markdown",
      "source": [
        "### Métrique et évaluation"
      ],
      "metadata": {
        "id": "2JuE3k7ZG0qm"
      }
    },
    {
      "cell_type": "code",
      "source": [
        "def compute_avg_return(environment, policy, num_episodes=10):\n",
        "\n",
        "  total_return = 0.0\n",
        "  for _ in range(num_episodes):\n",
        "\n",
        "    time_step = environment.reset()\n",
        "    episode_return = 0.0\n",
        "\n",
        "    while not time_step.is_last():\n",
        "      action_step = policy.action(time_step)\n",
        "      time_step = environment.step(action_step.action)\n",
        "      episode_return += time_step.reward\n",
        "    total_return += episode_return\n",
        "\n",
        "  avg_return = total_return / num_episodes\n",
        "  return avg_return.numpy()[0]"
      ],
      "metadata": {
        "id": "AzcpFkisGtRi"
      },
      "execution_count": 17,
      "outputs": []
    },
    {
      "cell_type": "markdown",
      "source": [
        "D'autres métriques que le retour moyen existent. Plus d'informations sur\n",
        "\n",
        "> https://github.com/tensorflow/agents/tree/master/tf_agents/metrics\n",
        "\n",
        "L'estimation de la performance de la stratégie aléatoire se fait en appelant la fonction précédente dans l'environnement de test."
      ],
      "metadata": {
        "id": "c6dQZKisG8-j"
      }
    },
    {
      "cell_type": "code",
      "source": [
        "compute_avg_return(eval_env, random_policy, num_eval_episodes)"
      ],
      "metadata": {
        "id": "HAjmfO15G8Fz",
        "colab": {
          "base_uri": "https://localhost:8080/"
        },
        "outputId": "5e2509c2-e0bb-499d-b689-b63e307d09fb"
      },
      "execution_count": 18,
      "outputs": [
        {
          "output_type": "execute_result",
          "data": {
            "text/plain": [
              "23.7"
            ]
          },
          "metadata": {},
          "execution_count": 18
        }
      ]
    },
    {
      "cell_type": "markdown",
      "source": [
        "### Histoire de la dynamique : les trajectoires, et le tampon de collecte de données\n",
        "\n",
        "On peut garder en mémoire certaines données primordiales pour visualiser l'évolution des performances de l'algorithme sur le problème. En particulier, on stocke les tenseurs correspondants aux données de l'expérience."
      ],
      "metadata": {
        "id": "JnPDYcE7HYzF"
      }
    },
    {
      "cell_type": "code",
      "source": [
        "table_name = 'uniform_table'\n",
        "replay_buffer_signature = tensor_spec.from_spec(\n",
        "      agent.collect_data_spec)\n",
        "replay_buffer_signature = tensor_spec.add_outer_dim(\n",
        "    replay_buffer_signature)\n",
        "\n",
        "table = reverb.Table(\n",
        "    table_name,\n",
        "    max_size=replay_buffer_max_length,\n",
        "    sampler=reverb.selectors.Uniform(),\n",
        "    remover=reverb.selectors.Fifo(),\n",
        "    rate_limiter=reverb.rate_limiters.MinSize(1),\n",
        "    signature=replay_buffer_signature)\n",
        "\n",
        "reverb_server = reverb.Server([table])\n",
        "\n",
        "replay_buffer = reverb_replay_buffer.ReverbReplayBuffer(\n",
        "    agent.collect_data_spec,\n",
        "    table_name=table_name,\n",
        "    sequence_length=2,\n",
        "    local_server=reverb_server)\n",
        "\n",
        "rb_observer = reverb_utils.ReverbAddTrajectoryObserver(\n",
        "  replay_buffer.py_client,\n",
        "  table_name,\n",
        "  sequence_length=2)"
      ],
      "metadata": {
        "id": "u1_D8WoDHNbQ"
      },
      "execution_count": 19,
      "outputs": []
    },
    {
      "cell_type": "markdown",
      "source": [
        "En général, les informations pertinentes à garder son stockées dans un objet `Trajectory`, c.f exemple"
      ],
      "metadata": {
        "id": "V0eEIda1H28m"
      }
    },
    {
      "cell_type": "code",
      "source": [
        "agent.collect_data_spec"
      ],
      "metadata": {
        "id": "gvNZ23HXHtNv",
        "colab": {
          "base_uri": "https://localhost:8080/"
        },
        "outputId": "8ab1d80d-7e2e-41ea-c015-b63e34035439"
      },
      "execution_count": 20,
      "outputs": [
        {
          "output_type": "execute_result",
          "data": {
            "text/plain": [
              "Trajectory(\n",
              "{'action': BoundedTensorSpec(shape=(), dtype=tf.int64, name='action', minimum=array(0), maximum=array(1)),\n",
              " 'discount': BoundedTensorSpec(shape=(), dtype=tf.float32, name='discount', minimum=array(0., dtype=float32), maximum=array(1., dtype=float32)),\n",
              " 'next_step_type': TensorSpec(shape=(), dtype=tf.int32, name='step_type'),\n",
              " 'observation': BoundedTensorSpec(shape=(4,), dtype=tf.float32, name='observation', minimum=array([-4.8000002e+00, -3.4028235e+38, -4.1887903e-01, -3.4028235e+38],\n",
              "      dtype=float32), maximum=array([4.8000002e+00, 3.4028235e+38, 4.1887903e-01, 3.4028235e+38],\n",
              "      dtype=float32)),\n",
              " 'policy_info': (),\n",
              " 'reward': TensorSpec(shape=(), dtype=tf.float32, name='reward'),\n",
              " 'step_type': TensorSpec(shape=(), dtype=tf.int32, name='step_type')})"
            ]
          },
          "metadata": {},
          "execution_count": 20
        }
      ]
    },
    {
      "cell_type": "markdown",
      "source": [
        "Il se manipule comme un dictionnaire dont les entrées sont accessibles."
      ],
      "metadata": {
        "id": "wWOTzT48ID-q"
      }
    },
    {
      "cell_type": "code",
      "source": [
        "agent.collect_data_spec._fields"
      ],
      "metadata": {
        "id": "dBX2wNqfHwYq",
        "colab": {
          "base_uri": "https://localhost:8080/"
        },
        "outputId": "a8f398a0-9b3b-47ca-8506-b3fb9f2aab3f"
      },
      "execution_count": 21,
      "outputs": [
        {
          "output_type": "execute_result",
          "data": {
            "text/plain": [
              "('step_type',\n",
              " 'observation',\n",
              " 'action',\n",
              " 'policy_info',\n",
              " 'next_step_type',\n",
              " 'reward',\n",
              " 'discount')"
            ]
          },
          "metadata": {},
          "execution_count": 21
        }
      ]
    },
    {
      "cell_type": "code",
      "source": [
        "agent.collect_data_spec[0]"
      ],
      "metadata": {
        "id": "-fmNuCKxH1vM",
        "colab": {
          "base_uri": "https://localhost:8080/"
        },
        "outputId": "89494be5-05b3-489e-949c-3ab4bbb99db9"
      },
      "execution_count": 22,
      "outputs": [
        {
          "output_type": "execute_result",
          "data": {
            "text/plain": [
              "TensorSpec(shape=(), dtype=tf.int32, name='step_type')"
            ]
          },
          "metadata": {},
          "execution_count": 22
        }
      ]
    },
    {
      "cell_type": "markdown",
      "source": [
        "### On effectue quelques boucles afin de récolter les données dans le tampon pour les inspecter"
      ],
      "metadata": {
        "id": "VJduTUcFIs_X"
      }
    },
    {
      "cell_type": "code",
      "source": [
        "py_driver.PyDriver(\n",
        "    env,\n",
        "    py_tf_eager_policy.PyTFEagerPolicy(\n",
        "      random_policy, use_tf_function=True),\n",
        "    [rb_observer],\n",
        "    max_steps=initial_collect_steps).run(train_py_env.reset())"
      ],
      "metadata": {
        "id": "iO-NQ5m_IME-",
        "colab": {
          "base_uri": "https://localhost:8080/"
        },
        "outputId": "99a03336-e36f-4512-81bb-d514a73bb2b1"
      },
      "execution_count": 23,
      "outputs": [
        {
          "output_type": "execute_result",
          "data": {
            "text/plain": [
              "(TimeStep(\n",
              "{'discount': array(1., dtype=float32),\n",
              " 'observation': array([ 0.03859759, -0.01173052, -0.0402656 , -0.09064916], dtype=float32),\n",
              " 'reward': array(1., dtype=float32),\n",
              " 'step_type': array(1, dtype=int32)}),\n",
              " ())"
            ]
          },
          "metadata": {},
          "execution_count": 23
        }
      ]
    },
    {
      "cell_type": "code",
      "source": [
        "iter(replay_buffer.as_dataset()).next()"
      ],
      "metadata": {
        "id": "WQgBRTSoIzdZ",
        "colab": {
          "base_uri": "https://localhost:8080/"
        },
        "outputId": "f132bd5f-7184-4e9b-e0e6-4a446710a65c"
      },
      "execution_count": 24,
      "outputs": [
        {
          "output_type": "execute_result",
          "data": {
            "text/plain": [
              "(Trajectory(\n",
              "{'action': <tf.Tensor: shape=(2,), dtype=int64, numpy=array([0, 0])>,\n",
              " 'discount': <tf.Tensor: shape=(2,), dtype=float32, numpy=array([1., 1.], dtype=float32)>,\n",
              " 'next_step_type': <tf.Tensor: shape=(2,), dtype=int32, numpy=array([1, 1], dtype=int32)>,\n",
              " 'observation': <tf.Tensor: shape=(2, 4), dtype=float32, numpy=\n",
              "array([[-0.06404723, -0.38368443,  0.14418337,  0.9600658 ],\n",
              "       [-0.07172092, -0.58041924,  0.16338469,  1.2943491 ]],\n",
              "      dtype=float32)>,\n",
              " 'policy_info': (),\n",
              " 'reward': <tf.Tensor: shape=(2,), dtype=float32, numpy=array([1., 1.], dtype=float32)>,\n",
              " 'step_type': <tf.Tensor: shape=(2,), dtype=int32, numpy=array([1, 1], dtype=int32)>}),\n",
              " SampleInfo(key=<tf.Tensor: shape=(2,), dtype=uint64, numpy=array([308596924531348335, 308596924531348335], dtype=uint64)>, probability=<tf.Tensor: shape=(2,), dtype=float64, numpy=array([0.01030928, 0.01030928])>, table_size=<tf.Tensor: shape=(2,), dtype=int64, numpy=array([97, 97])>, priority=<tf.Tensor: shape=(2,), dtype=float64, numpy=array([1., 1.])>))"
            ]
          },
          "metadata": {},
          "execution_count": 24
        }
      ]
    },
    {
      "cell_type": "code",
      "source": [
        "dataset = replay_buffer.as_dataset(\n",
        "    num_parallel_calls=3,\n",
        "    sample_batch_size=batch_size,\n",
        "    num_steps=2).prefetch(3)\n",
        "\n",
        "dataset"
      ],
      "metadata": {
        "id": "YKq9W0PFI2xj",
        "colab": {
          "base_uri": "https://localhost:8080/"
        },
        "outputId": "0736aaa9-f060-4831-a722-1b65be831893"
      },
      "execution_count": 25,
      "outputs": [
        {
          "output_type": "execute_result",
          "data": {
            "text/plain": [
              "<PrefetchDataset element_spec=(Trajectory(\n",
              "{'action': TensorSpec(shape=(64, 2), dtype=tf.int64, name=None),\n",
              " 'discount': TensorSpec(shape=(64, 2), dtype=tf.float32, name=None),\n",
              " 'next_step_type': TensorSpec(shape=(64, 2), dtype=tf.int32, name=None),\n",
              " 'observation': TensorSpec(shape=(64, 2, 4), dtype=tf.float32, name=None),\n",
              " 'policy_info': (),\n",
              " 'reward': TensorSpec(shape=(64, 2), dtype=tf.float32, name=None),\n",
              " 'step_type': TensorSpec(shape=(64, 2), dtype=tf.int32, name=None)}), SampleInfo(key=TensorSpec(shape=(64, 2), dtype=tf.uint64, name=None), probability=TensorSpec(shape=(64, 2), dtype=tf.float64, name=None), table_size=TensorSpec(shape=(64, 2), dtype=tf.int64, name=None), priority=TensorSpec(shape=(64, 2), dtype=tf.float64, name=None)))>"
            ]
          },
          "metadata": {},
          "execution_count": 25
        }
      ]
    },
    {
      "cell_type": "code",
      "source": [
        "iterator = iter(dataset)"
      ],
      "metadata": {
        "id": "GOXzqQAfJO5s"
      },
      "execution_count": 26,
      "outputs": []
    },
    {
      "cell_type": "markdown",
      "source": [
        "### Entraînement de l'agent"
      ],
      "metadata": {
        "id": "gP-mCgWkJCVO"
      }
    },
    {
      "cell_type": "code",
      "source": [
        "%%time\n",
        "agent.train = common.function(agent.train)\n",
        "\n",
        "# Reset the train step.\n",
        "agent.train_step_counter.assign(0)\n",
        "\n",
        "# Evaluate the agent's policy once before training.\n",
        "avg_return = compute_avg_return(eval_env, agent.policy, num_eval_episodes)\n",
        "returns = [avg_return]\n",
        "\n",
        "# Reset the environment.\n",
        "time_step = train_py_env.reset()\n",
        "\n",
        "# Create a driver to collect experience.\n",
        "collect_driver = py_driver.PyDriver(\n",
        "    env,\n",
        "    py_tf_eager_policy.PyTFEagerPolicy(\n",
        "      agent.collect_policy, use_tf_function=True),\n",
        "    [rb_observer],\n",
        "    max_steps=collect_steps_per_iteration)\n",
        "\n",
        "for _ in range(num_iterations):\n",
        "\n",
        "  # Collect a few steps and save to the replay buffer.\n",
        "  time_step, _ = collect_driver.run(time_step)\n",
        "\n",
        "  # Sample a batch of data from the buffer and update the agent's network.\n",
        "  experience, unused_info = next(iterator)\n",
        "  train_loss = agent.train(experience).loss\n",
        "\n",
        "  step = agent.train_step_counter.numpy()\n",
        "\n",
        "  if step % log_interval == 0:\n",
        "    print('step = {0}: loss = {1}'.format(step, train_loss))\n",
        "\n",
        "  if step % eval_interval == 0:\n",
        "    avg_return = compute_avg_return(eval_env, agent.policy, num_eval_episodes)\n",
        "    print('step = {0}: Average Return = {1}'.format(step, avg_return))\n",
        "    returns.append(avg_return)"
      ],
      "metadata": {
        "id": "CbA3wWMWI-t0",
        "colab": {
          "base_uri": "https://localhost:8080/"
        },
        "outputId": "c9b065e5-0d5b-473f-ed62-3fe03225ea09"
      },
      "execution_count": 27,
      "outputs": [
        {
          "output_type": "stream",
          "name": "stdout",
          "text": [
            "WARNING:tensorflow:From /usr/local/lib/python3.7/dist-packages/tensorflow/python/util/dispatch.py:1082: calling foldr_v2 (from tensorflow.python.ops.functional_ops) with back_prop=False is deprecated and will be removed in a future version.\n",
            "Instructions for updating:\n",
            "back_prop=False is deprecated. Consider using tf.stop_gradient instead.\n",
            "Instead of:\n",
            "results = tf.foldr(fn, elems, back_prop=False)\n",
            "Use:\n",
            "results = tf.nest.map_structure(tf.stop_gradient, tf.foldr(fn, elems))\n",
            "step = 200: loss = 23.601720809936523\n",
            "step = 400: loss = 10.51016616821289\n",
            "step = 600: loss = 175.2891082763672\n",
            "step = 800: loss = 1151.6298828125\n",
            "step = 1000: loss = 26559.703125\n",
            "step = 1000: Average Return = 26.899999618530273\n",
            "step = 1200: loss = 120784.4609375\n",
            "step = 1400: loss = 567972.25\n",
            "step = 1600: loss = 1305213.0\n",
            "step = 1800: loss = 5189801.5\n",
            "step = 2000: loss = 4898877.0\n",
            "step = 2000: Average Return = 176.5\n",
            "step = 2200: loss = 34646640.0\n",
            "step = 2400: loss = 6461748.5\n",
            "step = 2600: loss = 21770346.0\n",
            "step = 2800: loss = 32009656.0\n",
            "step = 3000: loss = 41327376.0\n",
            "step = 3000: Average Return = 126.69999694824219\n",
            "step = 3200: loss = 24809388.0\n",
            "step = 3400: loss = 45277044.0\n",
            "step = 3600: loss = 68610864.0\n",
            "step = 3800: loss = 36840872.0\n",
            "step = 4000: loss = 57453036.0\n",
            "step = 4000: Average Return = 79.0\n",
            "step = 4200: loss = 505966912.0\n",
            "step = 4400: loss = 133730848.0\n",
            "step = 4600: loss = 272270880.0\n",
            "step = 4800: loss = 119632432.0\n",
            "step = 5000: loss = 1121753344.0\n",
            "step = 5000: Average Return = 200.0\n",
            "step = 5200: loss = 132014448.0\n",
            "step = 5400: loss = 158554784.0\n",
            "step = 5600: loss = 357120544.0\n",
            "step = 5800: loss = 148864960.0\n",
            "step = 6000: loss = 1740965504.0\n",
            "step = 6000: Average Return = 182.89999389648438\n",
            "step = 6200: loss = 154713056.0\n",
            "step = 6400: loss = 7306649088.0\n",
            "step = 6600: loss = 971818816.0\n",
            "step = 6800: loss = 301740192.0\n",
            "step = 7000: loss = 155570320.0\n",
            "step = 7000: Average Return = 39.0\n",
            "step = 7200: loss = 148135968.0\n",
            "step = 7400: loss = 117025776.0\n",
            "step = 7600: loss = 156560928.0\n",
            "step = 7800: loss = 169101232.0\n",
            "step = 8000: loss = 166589936.0\n",
            "step = 8000: Average Return = 90.0\n",
            "step = 8200: loss = 148616112.0\n",
            "step = 8400: loss = 172445408.0\n",
            "step = 8600: loss = 1551926912.0\n",
            "step = 8800: loss = 2017156096.0\n",
            "step = 9000: loss = 120956160.0\n",
            "step = 9000: Average Return = 113.9000015258789\n",
            "step = 9200: loss = 158050800.0\n",
            "step = 9400: loss = 142951376.0\n",
            "step = 9600: loss = 212714016.0\n",
            "step = 9800: loss = 109953416.0\n",
            "step = 10000: loss = 103312424.0\n",
            "step = 10000: Average Return = 38.599998474121094\n",
            "step = 10200: loss = 147016528.0\n",
            "step = 10400: loss = 120164896.0\n",
            "step = 10600: loss = 445797824.0\n",
            "step = 10800: loss = 1616964224.0\n",
            "step = 11000: loss = 1666800128.0\n",
            "step = 11000: Average Return = 49.400001525878906\n",
            "step = 11200: loss = 734523200.0\n",
            "step = 11400: loss = 2348381696.0\n",
            "step = 11600: loss = 889444160.0\n",
            "step = 11800: loss = 10852726784.0\n",
            "step = 12000: loss = 106757168.0\n",
            "step = 12000: Average Return = 129.5\n",
            "step = 12200: loss = 1088207616.0\n",
            "step = 12400: loss = 2227731200.0\n",
            "step = 12600: loss = 516982720.0\n",
            "step = 12800: loss = 1208308608.0\n",
            "step = 13000: loss = 79627896.0\n",
            "step = 13000: Average Return = 125.9000015258789\n",
            "step = 13200: loss = 66341524.0\n",
            "step = 13400: loss = 98609312.0\n",
            "step = 13600: loss = 92928264.0\n",
            "step = 13800: loss = 1386891392.0\n",
            "step = 14000: loss = 9025101824.0\n",
            "step = 14000: Average Return = 110.19999694824219\n",
            "step = 14200: loss = 6976514560.0\n",
            "step = 14400: loss = 62292604.0\n",
            "step = 14600: loss = 1173737472.0\n",
            "step = 14800: loss = 86095784.0\n",
            "step = 15000: loss = 1338011136.0\n",
            "step = 15000: Average Return = 87.0\n",
            "step = 15200: loss = 485822336.0\n",
            "step = 15400: loss = 247797888.0\n",
            "step = 15600: loss = 71913056.0\n",
            "step = 15800: loss = 48672580.0\n",
            "step = 16000: loss = 60684948.0\n",
            "step = 16000: Average Return = 133.10000610351562\n",
            "step = 16200: loss = 613758528.0\n",
            "step = 16400: loss = 1199027840.0\n",
            "step = 16600: loss = 2277729024.0\n",
            "step = 16800: loss = 1507754112.0\n",
            "step = 17000: loss = 28601120.0\n",
            "step = 17000: Average Return = 153.6999969482422\n",
            "step = 17200: loss = 48385184.0\n",
            "step = 17400: loss = 732808128.0\n",
            "step = 17600: loss = 29426136.0\n",
            "step = 17800: loss = 33481342.0\n",
            "step = 18000: loss = 968851520.0\n",
            "step = 18000: Average Return = 169.0\n",
            "step = 18200: loss = 94684928.0\n",
            "step = 18400: loss = 383868224.0\n",
            "step = 18600: loss = 582478208.0\n",
            "step = 18800: loss = 23763170.0\n",
            "step = 19000: loss = 21624792.0\n",
            "step = 19000: Average Return = 199.5\n",
            "step = 19200: loss = 25685216.0\n",
            "step = 19400: loss = 853160128.0\n",
            "step = 19600: loss = 599990784.0\n",
            "step = 19800: loss = 24397072.0\n",
            "step = 20000: loss = 14622002.0\n",
            "step = 20000: Average Return = 181.89999389648438\n",
            "CPU times: user 7min 41s, sys: 25.1 s, total: 8min 6s\n",
            "Wall time: 6min 2s\n"
          ]
        }
      ]
    },
    {
      "cell_type": "markdown",
      "source": [
        "### Visualisation"
      ],
      "metadata": {
        "id": "uBslw1WRJztc"
      }
    },
    {
      "cell_type": "code",
      "source": [
        "iterations = range(0, num_iterations + 1, eval_interval)\n",
        "plt.plot(iterations, returns)\n",
        "plt.ylabel('Average Return')\n",
        "plt.xlabel('Iterations')\n",
        "plt.ylim(top=250)"
      ],
      "metadata": {
        "id": "d-CrNe6XJKt2",
        "colab": {
          "base_uri": "https://localhost:8080/",
          "height": 300
        },
        "outputId": "48675383-1aac-4af9-9389-16eb4189a33a"
      },
      "execution_count": 28,
      "outputs": [
        {
          "output_type": "execute_result",
          "data": {
            "text/plain": [
              "(0.1849997997283932, 250.0)"
            ]
          },
          "metadata": {},
          "execution_count": 28
        },
        {
          "output_type": "display_data",
          "data": {
            "text/plain": [
              "<Figure size 432x288 with 1 Axes>"
            ],
            "image/png": "[encoded data removed]"
          },
          "metadata": {
            "needs_background": "light"
          }
        }
      ]
    },
    {
      "cell_type": "code",
      "source": [
        "def embed_mp4(filename):\n",
        "  \"\"\"Embeds an mp4 file in the notebook.\"\"\"\n",
        "  video = open(filename,'rb').read()\n",
        "  b64 = base64.b64encode(video)\n",
        "  tag = '''\n",
        "  <video width=\"640\" height=\"480\" controls>\n",
        "    <source src=\"data:video/mp4;base64,{0}\" type=\"video/mp4\">\n",
        "  Your browser does not support the video tag.\n",
        "  </video>'''.format(b64.decode())\n",
        "\n",
        "  return IPython.display.HTML(tag)"
      ],
      "metadata": {
        "id": "AFanGHIgJ5W2"
      },
      "execution_count": 29,
      "outputs": []
    },
    {
      "cell_type": "code",
      "source": [
        "def create_policy_eval_video(policy, filename, num_episodes=5, fps=30):\n",
        "  filename = filename + \".mp4\"\n",
        "  with imageio.get_writer(filename, fps=fps) as video:\n",
        "    for _ in range(num_episodes):\n",
        "      time_step = eval_env.reset()\n",
        "      video.append_data(eval_py_env.render())\n",
        "      while not time_step.is_last():\n",
        "        action_step = policy.action(time_step)\n",
        "        time_step = eval_env.step(action_step.action)\n",
        "        video.append_data(eval_py_env.render())\n",
        "  return embed_mp4(filename)\n",
        "\n",
        "create_policy_eval_video(agent.policy, \"trained-agent\")"
      ],
      "metadata": {
        "id": "ESVhRvOHJ8uM",
        "colab": {
          "base_uri": "https://localhost:8080/",
          "height": 539
        },
        "outputId": "f85cc298-2167-4c6c-9311-27ee9a68c521"
      },
      "execution_count": 30,
      "outputs": [
        {
          "output_type": "stream",
          "name": "stderr",
          "text": [
            "WARNING:root:IMAGEIO FFMPEG_WRITER WARNING: input image is not divisible by macro_block_size=16, resizing from (400, 600) to (400, 608) to ensure video compatibility with most codecs and players. To prevent resizing, make your input image divisible by the macro_block_size or set the macro_block_size to None (risking incompatibility). You may also see a FFMPEG warning concerning speedloss due to data not being aligned.\n"
          ]
        },
        {
          "output_type": "execute_result",
          "data": {
            "text/plain": [
              "<IPython.core.display.HTML object>"
            ],
            "text/html": [
              "\n",
              "  <video width=\"640\" height=\"480\" controls>\n",
              "    <source src=\"data:video/mp4;base64,AAAAIGZ0eXBpc29tAAACAGlzb21pc28yYXZjMW1wNDEAAAAIZnJlZQAA7ABtZGF0AAACrgYF//+q3EXpvebZSLeWLNgg2SPu73gyNjQgLSBjb3JlIDE1MiByMjg1NCBlOWE1OTAzIC0gSC4yNjQvTVBFRy00IEFWQyBjb2RlYyAtIENvcHlsZWZ0IDIwMDMtMjAxNyAtIGh0dHA6Ly93d3cudmlkZW9sYW4ub3JnL3gyNjQuaHRtbCAtIG9wdGlvbnM6IGNhYmFjPTEgcmVmPTMgZGVibG9jaz0xOjA6MCBhbmFseXNlPTB4MzoweDExMyBtZT1oZXggc3VibWU9NyBwc3k9MSBwc3lfcmQ9MS4wMDowLjAwIG1peGVkX3JlZj0xIG1lX3JhbmdlPTE2IGNocm9tYV9tZT0xIHRyZWxsaXM9MSA4eDhkY3Q9MSBjcW09MCBkZWFkem9uZT0yMSwxMSBmYXN0X3Bza2lwPTEgY2hyb21hX3FwX29mZnNldD0tMiB0aHJlYWRzPTMgbG9va2FoZWFkX3RocmVhZHM9MSBzbGljZWRfdGhyZWFkcz0wIG5yPTAgZGVjaW1hdGU9MSBpbnRlcmxhY2VkPTAgYmx1cmF5X2NvbXBhdD0wIGNvbnN0cmFpbmVkX2ludHJhPTAgYmZyYW1lcz0zIGJfcHlyYW1pZD0yIGJfYWRhcHQ9MSBiX2JpYXM9MCBkaXJlY3Q9MSB3ZWlnaHRiPTEgb3Blbl9nb3A9MCB3ZWlnaHRwPTIga2V5aW50PTI1MCBrZXlpbnRfbWluPTI1IHNjZW5lY3V0PTQwIGludHJhX3JlZnJlc2g9MCByY19sb29rYWhlYWQ9NDAgcmM9Y3JmIG1idHJlZT0xIGNyZj0yNS4wIHFjb21wPTAuNjAgcXBtaW49MCBxcG1heD02OSBxcHN0ZXA9NCBpcF9yYXRpbz0xLjQwIGFxPTE6MS4wMACAAAAB7WWIhAA3//72rvzLK0cLlS4dWXuzUfLoSXL9iDB9aAAAAwAAAwAAJuKiZ0WFMeJsgAAALmAIWElDyDzETFWKgSvGXwOeIAPivva3MXz4RZLRLl5vbFrS6zr1phRM5ceFa2FP6H/RPg/nzWQYrSN3b/JVf1Y9Zjoj0KCfODMRwwUtdpz0N3M1gOUuS3od0ZG1/m/2vqrGX7P7rexU12zccOSyCev5NB10CEj4Q7i9CU4FRcHVA0sTrn5ecQSEiH+fx/GVUAElzBcMyLd7pempd982AGgxEIQuYNxErQR3j/LENmSwAS4IAAvOmT/ZRSpFp3PjWjaGzo4fYd7HWJwYRAcx5/AtxiDooJaBnIoUdT+6/ii8fgP+rtyVCMI/H8o6FkwLZLUMn8XVRFI0uJnO9OXcvsAAJ4f2JdxnysDnvqWlBvK/t+ttliCeqIA8u/9iW26DAT+dSE2AsMmrZjomJd35X4CvNq/c42nhTKoCHSovc4lUjVwwrU8S+qdXCVOvW7bKUojXQv/tEjHQETDlflrSG30CZSBnQb23VR19VWEKv5DeJCMuLAv8t5SAABDLwSROuofedEQ5Uac3lLh6NJmLC+wY8WQRS0LOzEDhzaoC8IZM+4v6jF2KtydEwCs1iLy33WAAAAMAAAMACTkAAACgQZokbEN//oywAABGEqnAf5v8wnMS6BlCEDEONUth6rJ30a4o8a35bVwb3WmWX4QoArhW3Sec/XPCEP5yo2PH82z0H0W87Jyhh5+mmxMTK6v0BV4mEiS5WUQPeHM8n8tB3tvCz8eemtpm3IakfuZiOhmD+6SAIQ+QnU+SCRi2CVYLFLFyIw4TNZV90lQHRs3QAAADAAAH1ic2p5LLuEDScAAAADhBnkJ4hX8AABYuXx0pgreLTwgATh00Y73WPjwfzF4ZaI/3FGg8TOg9P5TRsIAAAAMAOI+3GWBNwQAAADEBnmF0Qn8AAAUcUmnV2h1IMNnmmWj2i/trO5V1FF/KkImqeN4vYAAAAwAALoHk8IEvAAAAJQGeY2pCfwAAIrIxPSBeaWSDrl1+RZk0JtbEZEUAAAMAcUHhA6cAAABdQZpoSahBaJlMCG///oywAABGAs/y+qAP0DDzJmKJe/qRV0aQQnhY4DPkyA+Ca32q1ZTrL6k8C6XQcjcBK3jqIjeoUsYqSVZZp8JeOaxus64H3+Oh0PfMkS6ovM6FAAAAKUGehkURLCv/AAAWtUNOpyOwx8CVwSkId8tSQiV78JwQgFdgq7zbVmf/AAAAKgGepXRCfwAAI6v4W7VQALcAXrYS3o8GFr38Q43CwM7nOGAl/wuPDKpaMQAAACwBnqdqQn8AACKyNPnYKAvBUJUAF0AKPPeBjgXhx4DYhL2H1rYkXV+0+KA/8AAAAIBBmqxJqEFsmUwIb//+jLAAAEYQ/B6dwDV9ShLrSA/vnKNKVi2HEKEs/pzga1EZhnY8bdSSOiy51f3h+k61cHhEpN0IUOI8t0ag+E6CwvXxeFrdtcp6iFMnzQAZIfN9+awCzpBZNSYffQyPdpx7IREoD29IdCNVKHq8WbR7UtpolwAAACRBnspFFSwr/wAAFrxHFf7JAweSa+UkZqaMeGXLc7z/qGjtEYEAAAARAZ7pdEJ/AAAiwz+xKTPWvIAAAAAjAZ7rakJ/AAAjvYK3WfEtEBaa7Q3soovPAyyjv4cDvsMHfpAAAABgQZrwSahBbJlMCG///oywAABF+uYABs6TBkb3hFeQhxNBEcYGoWvQW1laVx1EQtqLVYwgZgOKnuGrNjhWJkzd5Y5z45h1H49JnphDPxFJLzeCwm9/sMCvYBteHwcfFbPBAAAAI0GfDkUVLCv/AAAWvE8ez92a0ZC9kxKIiqFm4MN7r61akA3pAAAAFwGfLXRCfwAAI8hsPMSfZTzRVjOczNuBAAAAKwGfL2pCfwAAI78cVZj1cRkjrA42pxMcEyIAEwmFoKCwau/XvoxYx9AeKjAAAABNQZs0SahBbJlMCG///oywAABGKZPOgHem6gC56tdHXiDSpYIXg8aaL4czDeclm+xhu5Cn1U3cNVYEZhNsmqChFPBtyjStvH1JWArP2TkAAAAnQZ9SRRUsK/8AABbAVoIIzLP0CK0oRQJdnjYkFlMRFVxMDcbJNSVBAAAAHwGfcXRCfwAAI6v4W3gSndv+SrJRTaA7yUsdCBIif4AAAAAiAZ9zakJ/AAAjvxwIUGq4jKbnEAFqIyqEh+dUIfoCTrhi2gAAAHNBm3dJqEFsmUwIb//+jLAAABqhXeAUAG0Gh+SbQ/6uVjt6n7oSnPxUFHnnDR2/fOHzOfepHiAiHgYJjRXSfVhahNVC11QVxKLWAdxsjrXEs2VELHSAe/gAcC8QdwhTr/rCQyBjCmTr+P8XkjQAJhoAWwZBAAAAKUGflUUVLCv/AAAIbyOK/0uNbwedgtIXXLVEsVjmEf6F1VLqyrBWBmKgAAAAJgGftmpCfwAADYSVLQxJSUb8vlGkGXFLRXfSkdjWxWeUP5p5cXbBAAAAekGbu0moQWyZTAhv//6MsAAARimT8rcOEekkLPY+xMumNcyr/cHCwS5xqY/iqEAVAOpGjjyT6wlG/KeJgDh8ky3K6laB7+htTZTrW1oTGi8E8+9Ipb7oTiPf6oDP/RjCAHoDGIAjIadWnZ3eQSZTEVA4aHFeRA8xT+HLAAAAO0Gf2UUVLCv/AAAWtSs3a44milWoKwATjFTtomKjeIp8Yp4SksV7WF2rbnmk3JhTwSCc72sOPyqTbIlQAAAAMwGf+HRCfwAAI8MXagQvnIQwoocWAAtZ/OecoqQI0weZv8+fic8je3k+jg5dWob8J1U/bQAAACABn/pqQn8AAAMB5isrgIj8ey0ku0rsxBWE7rcSZ/4bgAAAAJ1Bm/9JqEFsmUwIb//+jLAAABqhXQkkknlIBoW2YeAM/lOkyH2Ed1uaiEqxgGVuWh+lP74HefgNJYb511rI+j2YQIjst8eHBC71uh5IuGZkRwSv3OR7jUgc4zf1ayY/q+V2BTNjrE+LKYuZQXMm/q9f+ZotLYFCS6M8TRkJo5MWnRzMghVk+3AYTYZvp1oabsDReSKzgf6gd1snwTDhAAAAO0GeHUUVLCv/AAAIdbYYAOBJiE2JRlDNPIXgW9BFUrCWtXDKQ0kbptSFDBIufQXTD+ZjIOEoS5ZxHrZhAAAAIQGePHRCfwAADYXdLDc34I7tgFbCTkd2ZpGhIjjnuhoE7AAAADABnj5qQn8AAA11Bivys01FfWBTp4JgERCqJoD3mgAGxP0wbFz+/sAy/sNyRbNWYEAAAABQQZojSahBbJlMCG///oywAABGAtPeARFNAyr4f2Cp7BKfRt5UTOa7oA0AZ6dswyPNq3PdqkRBZpFBIPjmdzJZ5799mgIgZKgJYmtOOfMS4sEAAAAmQZ5BRRUsK/8AABa1N5be2pvS00MW5KVBQV2ZDQhq00aY49i9/bAAAAAgAZ5gdEJ/AAAirEJUJRm2hd+oso1xUXB7EKWhXUZTbMEAAAAVAZ5iakJ/AAADALhCK/RdzQsE9+2UAAAASUGaZ0moQWyZTAhv//6MsAAAGoc+wCeQnxo4E4FVlcdVJ3bOnqvWcgwK+RzTv//+Gs3GyetzF53WSULYoE2zZ97aeqRRxH4+BvUAAAAlQZ6FRRUsK/8AABYwn9XMGVCw6XmzPQAcYYXe60NPy+KrsUjakQAAACoBnqR0Qn8AAAMB5q+NyD+mOEXM34YAEqCmM/lRcYwZ67d657erZViMs4EAAAAWAZ6makJ/AAAFHkjdUUWdqaudIW21IQAAAHBBmqtJqEFsmUwIb//+jLAAAEYaGJJ/AB0DQxbPxCtmEqFUa6HHo5z/KEFhiiSKqrfC4ETxQZtHBJgZIz/aLjNJalwKB+tyTgGnxJG21xUTdjtIbOI9/LtLjVVXTfTWaYIPX4YlTLJJ7fn1watKQMWAAAAAGkGeyUUVLCv/AAAWqlfExMFcwkLTv9cUVOh8AAAAFQGe6HRCfwAAI6v4W3gSndF7F0yzgQAAABIBnupqQn8AACOyMKNNPhRYneQAAAArQZrvSahBbJlMCG///oywAAAKBioIJpm+q1vj6wiO8mAb0TSJJyZFbbs44AAAABVBnw1FFSwr/wAAFsCfkDTBgNUjf+EAAAASAZ8sdEJ/AAAjrDxRpaNendTdAAAAEAGfLmpCfwAAI7IwoyPV4g8AAAA1QZszSahBbJlMCG///oywAABF9jx997cAmubF+S2JU2TwndPJcUwbYT/+mUuwfvBJaElQpIAAAAAjQZ9RRRUsK/8AABbAn5FhR36fHTkTBaaEvDY2eud5r9GFbMAAAAAqAZ9wdEJ/AAAjrDxbF5ZAivXTR4AH854oy/nh/2uc+aZG1KmiXNcNE2GzAAAAGQGfcmpCfwAAI7IwtiLO49erwlIJAl5e2YAAAABPQZt3SahBbJlMCG///oywAABGEa0M2smq6WY4ePzqhKgtPG/jyxtbmf+HCvHuIpRaU8lo3W+bqhXwMxZ7PCDaT1YmwM4ZiEGC1lQG0OW9mAAAACZBn5VFFSwr/wAAFr51tGmGL3yFQZusON4X3u+pwOIv8bu3QyDZgQAAABQBn7R0Qn8AACOsNt+/VUonaEXB4AAAACYBn7ZqQn8AACOyKwgJnpRIGwAFvEHLxMXB7IPijs6ZxtPMcdldswAAACdBm7tJqEFsmUwIb//+jLAAAEYC094BF0m7wKRSvtExuP4LC/AA2YEAAAAgQZ/ZRRUsK/8AABbAnz5ulEGkpUdM18gYvSDdC95qEbMAAAAeAZ/4dEJ/AAAjrDkGc6ps9cKW/2Q9nsgFwHO5eLZhAAAAGQGf+mpCfwAAI7Iw2fSwKez0kXG889coftgAAAAzQZv/SahBbJlMCG///oywAAAahz7AV36q758T5FqJPGd/z2aYmPG9XChKrvtToMsMZw/xAAAAF0GeHUUVLCv/AAAWwJ+Qfx/J22mc8GDBAAAAEgGePHRCfwAAI6w8UZGY58D1wAAAABIBnj5qQn8AACOyMKfyBbhyV0kAAAAxQZojSahBbJlMCG///oywAABGXQEABWpdp/ExfVGlOYd/wFRs4RGgGjnPhxtV7rZLwQAAABZBnkFFFSwr/wAAFrVaU2YUPWnWQMGAAAAAEwGeYHRCfwAAI6w8U/ak2isBBg0AAAAQAZ5iakJ/AAADAAOg/8VswAAAADRBmmdJqEFsmUwIb//+jLAAAEYC1iMAbSnGPZ8wX/WFInM7urSpnt7cvjPTgA22aWkGEGhBAAAAJ0GehUUVLCv/AAAWqogpJQAjAZKYBcRw9WspMN5dbxfKH0hRrLtqoQAAABEBnqR0Qn8AACOsPFGRnPzagQAAAB4BnqZqQn8AACOyK3eAAS1Gzq68SzbL3LfffIzO1UEAAABCQZqrSahBbJlMCG///oywAAAKF+K8ABDxJSa9A4a/W1pN53a4s6ivlZcM04UMRCpfETQON6O/8kT2JAXBND0QPLHwAAAAR0GeyUUVLCv/AAAWc7O6iQp4G4QE5liv+BhSjdjkyxcn9sBBJXMnYIOjgVrwW7AtLtYNCqKhBMZ53s99jN7RxekojmcPIRgIAAAAKgGe6HRCfwAAI6nq96zcy/PgAXUEF6HwkojIYIWgtbWyir+M6KoCRC/bZwAAACUBnupqQn8AACOyMNog7BwAXE+npJfvhgIPLres0znnXQ5kzTmzAAAAdkGa70moQWyZTAhv//6MsAAARge5ACD0W2RHu0bzOz7Zy3S3AfdaKOSEQXWMbVkj9zBKa5y19s7rzS3tRyEMnx1H0hHQ3gJFX4QxHzyCnEGhYErcRPUP8dO2cP80QRR8cfw+BYOtgycKnxFWke0pnoY2uzwwGMAAAAAgQZ8NRRUsK/8AABbAn9PMoDIK9gMHBLmOv0g/1mMD9wMAAAAbAZ8sdEJ/AAAjrDydUJXS4DcCg0sGYQ31aFuBAAAAFAGfLmpCfwAAI7IwqG/tGqP9LW/5AAAAHUGbM0moQWyZTAhv//6MsAAAAwAUDplPd+KhFFJAAAAAGUGfUUUVLCv/AAAWwJ/TzJ2lqoDWIQNs6EAAAAAUAZ9wdEJ/AAAjrDxUNRrsm3X8jN0AAAAQAZ9yakJ/AAAjsjCjI9XiDgAAAEFBm3dJqEFsmUwIb//+jLAAAEYC0P5nDzzhj2WAtOq7V89FLXLC5+qYyCaEN+MvKrwmH7m9uUIIVMD3nTCUjwAEPAAAADRBn5VFFSwr/wAAFsCfcdLo8EOphzbOAE4RsVWgdeiHit9O7LLP6JfoMfzUUdSURVnC2O2BAAAAIAGftHRCfwAAI6w8nYebu48Bb3zJMTUqJT2xypnz1MCAAAAAIQGftmpCfwAAI7IanOEzqJeECASI+DwbXpAspiW3aC4xUQAAAFZBm7tJqEFsmUwIb//+jLAAAEYUcUtwCaUW2OIEotxeLfNd8dIvX/nF9pHPoaGEW8IptCtIH63OPz/5weI+2ke+knSI4ZJvbWB3v5hXUjMqoiO6UZDEyQAAADZBn9lFFSwr/wAAFnC+YBCACIS7c0T9OXeI5dyJahxRbMv+0ZP0VaKRyMBe9Vlo+LpLWLf45bMAAAAjAZ/4dEJ/AAAjeLtxBEM8euORlA7MRnXgg3ZQECOkpmfwQmEAAAAaAZ/6akJ/AAAjRL0puBWvW5lAvv4CMY+68fAAAAAvQZv/SahBbJlMCG///oywAABGNFEOM73smY6Ok1E9su75O/WBuJbZtOy8HzmdBg8AAAAdQZ4dRRUsK/8AABbAn2S6R+ZLmqi76paxI2O7xoEAAAAZAZ48dEJ/AAAjrD0dzltcMRskEwSVwDSDgAAAABQBnj5qQn8AACOyMKfyBd9qEIS80AAAADFBmiNJqEFsmUwIb//+jLAAAAMAEwSHKgGXPnWWg8Frti4EB2C0yLqASQsKcDsbM0bBAAAAFUGeQUUVLCv/AAAIcU/IrJcs/AVW4gAAABIBnmB0Qn8AAAMACasQt8QKu4EAAAAQAZ5iakJ/AAADAAPM/8VnwAAAAIlBmmdJqEFsmUwIb//+jLAAAEYlvfJT5oBNfUoRrACTMo4REljcFoThTyRrmXiMHD3fWzRmi+ORKbm7KH3tKV/FwwSZCCf9XFr83xPijAAnLebX/0eMPqgFxocjvilBtyChkBRP8WBYNfSqMMdXuNJ1bcibEzXC8NgYevi+UGkY2iQTmwivEThRoQAAAD1BnoVFFSwr/wAAFqqYzetQAHHsgT/kCqaSjFKzT6OnOdE7GQFNTbRE0KaSQFDh2kwl2meYdWTD9AY6r5mBAAAAKQGepHRCfwAAI6w+fjiQ/unkAFhE30b6w2QyWPXoPMi/DWh8EuuBQ1YrAAAAFAGepmpCfwAAI7IrBxTJ11p2MuTdAAAAIkGaq0moQWyZTAhv//6MsAAAAwA1Xrd/TEXidoAwTY6J8LAAAAAiQZ7JRRUsK/8AABa+dbUsntRr8D4F5y5xyHpoAR3iCgHcAgAAACUBnuh0Qn8AACOsPGzrJU7QARnyFOrewd+hHzIzXBgZlT4sTghNAAAAGQGe6mpCfwAAI7IwtiLO5VMRAopG3LRn/lQAAAA7QZrvSahBbJlMCG///oywAABGIVSifACfPyrBTDKDMdOhWW8wRS+EEr4qVRIyMsJJcNpAHYbFWVA+HzAAAAAUQZ8NRRUsK/8AABbAn5AyXH9CGBEAAAARAZ8sdEJ/AAAjrDxRkZz82oEAAAAQAZ8uakJ/AAAjsjCjI9XiDwAAAINBmzNJqEFsmUwIb//+jLAAAEgHroCgqv4m9kXmfXYPdW6uHX26H7c9xyAvWSxJFi61ZJbm25op9uwZualzc1ePZv8RStz8tmypIJx0k3DLFZXXLO92HJLPKzHEv2IT3gqxbNW0+lNbOOERPBTyWj+ButPyByz2CBEhPT0bGlVCJEOJcAAAACpBn1FFFSwr/wAAF0xDzbcVzLDHlQAP20aIxNHV1MtotbIsIAAzXDUkAhMAAAAdAZ9wdEJ/AAADAfGvj7j4iQCUR4/GM9L7X2JLi2EAAAAfAZ9yakJ/AAAkvwQqikYQASOHyZ1ZvnSh5fepFigMWAAAAB5Bm3dJqEFsmUwIb//+jLAAAAMAB3QdBuy/dMV9MCAAAABGQZ+VRRUsK/8AABaoZXaioAC2dFkpUsvo74EqCU2YGzgxzh+XYeiRhxkhk8ZfgNo+HZVaziIUswZBf/joXZCT5C0mN9cAgQAAABwBn7R0Qn8AACOsPG245jUvNzlX3fUQeMNrCXAgAAAAGQGftmpCfwAAI7Iw2fSwKfBEYpik8sT5FuEAAAAdQZu7SahBbJlMCG///oywAAADABSfXNJxoDQHD0kAAAAUQZ/ZRRUsK/8AABbAn5AyXH9CGBAAAAARAZ/4dEJ/AAAjrDxRkZz82oEAAAAQAZ/6akJ/AAAjsjCjI9XiDgAAAGxBm/9JqEFsmUwIb//+jLAAAEgC6kXMeIvFAGI+qk3aWPG1BdrtaS/8jfTWUS/uoYwNdCIkpvBVlSZN6q5PophNsx+99SbIkvWiePpiIDhnvmcogC4rc7mVM3NEW7+r15hlJDYLT/mmDgpcmxsAAAAxQZ4dRRUsK/8AABdQVoIJuGCIgAmmEjakXNCrEsCzYuUvTnE2VSFfA9xxT/MUHCyFsQAAABUBnjx0Qn8AACTC7OGD6Ba/UBgP5uAAAAAsAZ4+akJ/AAAkx72LGb/LazsP5mUQ5DvuAC1Eu5Gw6acolIPDkj59u59RoW4AAAAaQZojSahBbJlMCG///oywAAADABQlZFtPoj8AAAAvQZ5BRRUsK/8AABdQmz/LrYr7iaAD8v97MQQMRT2BSHbz80UQL9L49SevJ+eP6lQAAAApAZ5gdEJ/AAAjrDydN1kvoAK8A6t7kqhj+bVD/q2LtI/uP+txSd5G83EAAAAbAZ5iakJ/AAAjsjDZ89LYZPPUizLBPnj4XSb0AAAAVEGaZ0moQWyZTAhv//6MsAAASA5oz4Bsl3hjO0AmhIn2CUgRu9WmCyDiFmSB3Za//L4oZYqTlOEfG9k2zH7awKiijRzvgeLx9ghaLiIIrCDBc0E8YQAAACZBnoVFFSwr/wAAF0xDz4R0leoc/QABUnVDYPQ5YLEXWvFX1ibq7QAAACoBnqR0Qn8AAAMACoCuKaIOWFxABwaIMSiVBPS9QVk+BxNwMpEHpLBzyrEAAAAXAZ6makJ/AAAkscwqpxFb+CI8Binp14EAAABaQZqrSahBbJlMCG///oywAABIEPwmLc2YAoJnC0Ko81G/HqJO+erBFU8DguQWAeJLDHhAz/O92q/myaiYiiK0eR3F2FMbENlT6zSRQI5L9cqv0Jv1YYbuKUNgAAAAOkGeyUUVLCv/AAAXRRRC5BIAOPYrM3zSFPcdhI2plShpYE6iXeWW1iojShLn8lNudbbW/pF/JjKzA9wAAAAVAZ7odEJ/AAAkq/hfVX3TDSbDPu7RAAAALgGe6mpCfwAAJMe9ixm/yySRqe0+FLZahACNKs64PdP6YLVBDCT0nFQ2mfSJj3AAAAAdQZrvSahBbJlMCG///oywAAADADP8gFABQm39BvQAAAAlQZ8NRRUsK/8AABdJM8yqQAi9nBfqarBCtshOn3xW6+0/3b+XKwAAACYBnyx0Qn8AACSp54S0HPftlKACMiVphovozUhHVBRgvvUI11qC8wAAABIBny5qQn8AACSxzCqioC3BdeUAAAApQZszSahBbJlMCG///oywAAADAAd8IhTwCCO5oDP1I2A+YAKTb0T6YEAAAAAjQZ9RRRUsK/8AABa5NeSAA4rGBf7uIoSfAKfHslH9Et2wKg4AAAAdAZ9wdEJ/AAAjrDxRnQMvwpoEoAEPuagHDIpoDlUAAAAQAZ9yakJ/AAAjsjCjI9XiDgAAAHFBm3dJqEFsmUwIb//+jLAAAEgC0Icv+sA1d73fyTGuX+gFmUd/NdXYtsokSurzk+WFT6PsW3k+oEsg+aSFNhYwTYP2X8fj/UY5CgFBMpyxvHojDgBJrg22A19gTsicOsSym0ru3qbS3hG90tY4q3cYQAAAACtBn5VFFSwr/wAAF0UTi9yBiFY1aFoGcYOJ2pJjqDkFcL8esY8kf/iN213BAAAAFgGftHRCfwAAJKv4V+ASXgvDAZfGXkAAAAAcAZ+2akJ/AAAFQTAOG5Qa4vW+oDqm0rDKcmg4IQAAABdBm7tJqEFsmUwIb//+jLAAAAMAAAMDQwAAACtBn9lFFSwr/wAAF0kznCpqgCJAhFYv/D7BCtkyBe0C4xdreUE0R88Hfy5UAAAAEgGf+HRCfwAAJKv4Z4DkgyDhNwAAABIBn/pqQn8AACSxzCqioC3BdeQAAAAaQZv/SahBbJlMCG///oywAAADABKem9Pdgb0AAAAtQZ4dRRUsK/8AABdQmz/LGeoCy8AAL66kmfy9iNBxDdgZgDpYp+I0UX1U90yvAAAAGgGePHRCfwAAJKv4Z4J0OQ+Ntx2zZQm5r6uwAAAAFwGePmpCfwAAJLHMKqcRW/giPAYp6deAAAAAYEGaI0moQWyZTAhv//6MsAAASALPV66ABlsSONWJsAVOWGwEsPOdR024A2bz8yDgC68nOtHjYF6DKSUDcz0BUV6APJ7EHSH849axuzLBfTid6onHhzs4o0soRVnSZ1iERQAAAEZBnkFFFSwr/wAAF1CbP3ZrWQP9KFCCcciXxB1bsaKnWnd7eCdlj3iaoY9IJaxtvjqSW9ImKTO+e/arm8AdxMPaBkfu+3vcAAAAHgGeYHRCfwAAJKv4aLockPAZMABou6GWdqsalkyRYQAAACkBnmJqQn8AACSxzAlvqXgblFsAC6gEK4BA6StrJ4weoRqUM7hR8aZteAAAACFBmmdJqEFsmUwIb//+jLAAAAMAFJx+jAGzQb5HNN9gZUEAAAAhQZ6FRRUsK/8AAAMAdvcKPYf2JzLZd9GQgEnrZBu6kN9TAAAAJAGepHRCfwAAAwBHGfJL0AF1EHp4fcIxbqWMx/jMHWFaCI/kWQAAABcBnqZqQn8AAAMAGv9tNm77XcqDv9Pa8QAAADhBmqtJqEFsmUwIb//+jLAAAEgC094DTM41ylXdW8OkNuf3s8phTVJNZwdqiMN4HEymjh4JAl+oIAAAAEtBnslFFSwr/wAAF03dxsDYxAAjAGeoANgAbx/i+rWxP/+h4ncFY3nSrTq0CP9U5w3BQF2KxdFjm7Dfpt/vE44JfVbTrlxt1bEkosAAAAAaAZ7odEJ/AAAkq/hngnRI6R2xzPvKeNWs+1MAAAAbAZ7qakJ/AAAkx72LUUOmdO5++qwDcHKAFTggAAAAWUGa70moQWyZTAhv//6MsAAAR/xC4wD4VgkR4Ycrj57ca0ha1zZpgQcMngJo/Fbc+yJ9eqLbmEIPGYwywSnEFFznsPcNCSZOL7XMYH/8EUwcjcX29exJc/YEAAAAJkGfDUUVLCv/AAAXSTO9MuL+zM7KOsTqQVjsBIwayHnHTdw5wz2vAAAALQGfLHRCfwAAJKnpxxOL6gAW8EF6HsQs9kYmAfK3i+brMptIXZGX7cRKzCvDgwAAABkBny5qQn8AACSxzCqnEYQxgr7vFdR7t73BAAAAN0GbM0moQWyZTAhv//6MsAAAAwAUn7Q+WNeDNnHAAcIfNbHQ4lDhiU8l5+7R1m5i9WAeMAHt3nYAAAAcQZ9RRRUsK/8AABdQmz/LGe3DDRlbNT6dCmVXBAAAABgBn3B0Qn8AACSr+GeCcl/Eyp4OOJEj73EAAAAUAZ9yakJ/AAAkscwqoqAtx5Rj5XgAAABHQZt3SahBbJlMCG///oywAABIAs9XgABnzQJDSgQQh0vaBRIUuJD7tMgHJTp6ms3o9FfirSk2YdAn7F1QJwzMHK6jKLkjLYAAAAAkQZ+VRRUsK/8AABdMRSPAPFFG8NGNa1iFF/HOXEAJjy8fvgV5AAAAIwGftHRCfwAAJLCi1d9ABGAC9w4hsI4c4GRnUouZMeTUJGvAAAAAHAGftmpCfwAAJMcrughmVaKJdKovtaGk327OdSUAAABZQZu7SahBbJlMCG///oywAABIFHQd+q95/cVUmQCUIotofKlVPkL97ByOodEKmVaN0oaacIBy85qxTlvI1yKap7JOaOKyXkK9P5UMC7xXeZpz1L+yzHrGf90AAAAiQZ/ZRRUsK/8AABdOdaoCCPgGuD3yf51WMN2T5g9wXbyFgAAAABsBn/h0Qn8AAAMAvuALEXsoV/dVx2bTCmIMPqUAAAASAZ/6akJ/AAAkscwqoqAtwXXkAAAATEGb/0moQWyZTAhv//6MsAAAAwPQgVZkR62BzOADMfZrpeZ6DoRqwI7WyrDY9vcxjePBumyfB/rQyz6Umu0T4zA4xvBLdN/j8KTsr0kAAAAiQZ4dRRUsK/8AABdQmz/P4y5KC5SGW+57tCsYCVknTE7XgQAAABIBnjx0Qn8AACSsPFGRmOfA80AAAAAnAZ4+akJ/AAAkscwr+cBktQzcVQASDyIptXPNjb7yHQ4I+xuoMSLAAAAAL0GaI0moQWyZTAhv//6MsAAASCmVC4BeIuj+ZK5Jb5GyVgVEUI6vhoh6OCKjQkbvAAAAM0GeQUUVLCv/AAAXPd53eKcFpmQ6LCjpTgBNCf4VRk9hdxjn3gN2fcJT/bhChLxDfm2DrwAAACoBnmB0Qn8AACSr+Ft4Ep3VVEKEIAFnFglbwA6BNZMyBr2AAIP7PEabakEAAAAYAZ5iakJ/AAAkscwqslUmNugq3P9Lp4e4AAAAN0GaZ0moQWyZTAhv//6MsAAASBH9OAoNzKwC18quXOX6c4GtSPjyoD+h11fIQEHgy40ZJOkPfkEAAAAdQZ6FRRUsK/8AABdQvnwBW+oroiwysJiCGGa4OVEAAAASAZ6kdEJ/AAAkq/hngOSDIOE3AAAAEwGepmpCfwAAJMe3qGhyvNy8JuEAAACqQZqrSahBbJlMCG///oywAABIfiXtdGONSAoYtv34fH9tqNRTGLf2p4nYVoA2nPDnuPTAj/7wateSieE+P/S4T2HD4Vykg/j07brDENViO7D7JKyyc8nAGff+ysKpm1ojXysx7vWE5kZjcawMaiTbfevX1MdXRjeVZ/HQ1YQUN30iLhypiSJ1MSgY3Mv/G+7H5Uw7HCmY6sCzEDAcPKof1V6ITkNYj1g0iUwAAAA0QZ7JRRUsK/8AABdFMur4wAcdmQamU9WAaIqmEy780EHCoJazmWawfkNQ6SU15dohwlHV2wAAADkBnuh0Qn8AACSjZ66nG/ghCha1ExW/oAFadTDxncvVF3DCzKX8kM/u4EZfjSYtK+wG+5Ew2rr+jZkAAAATAZ7qakJ/AAAjvwQrwHKL1EdgwAAAAI1Bmu9JqEFsmUwIb//+jLAAAEYC1TEAzQ9JFE3rO1b1xSTQxdFwALmgaW5dd+BAsFezN6LgAjiwFYy+hFlOU9juR0KRCvNqV+9nkWPi7tPXXSjhGVFyS6ghSl40CXuFi4Rc6JZwjmMhdZ+WchzfxEIbEouyophRZLaecJWf3jE0gtvtnDCMDG4R7huMWUYAAAArQZ8NRRUsK/8AABa7ip/y6rZY/JbXM65atymLV94JU6121AnAjtzbGll5MQAAADQBnyx0Qn8AACM/7urJgBuYxHZ2CmOVUn1qkme0cQD2a2SBSzlec8Vcs8QlHI4LhysX+VihAAAAGQGfLmpCfwAAAwBFfjWehmHykRCdB6KKnAcAAACXQZszSahBbJlMCG///oywAABGEg56AalajHqMGO5VnRIQs5O7j2Hi4Ze+eRvZcCN2ibVMtwL6YTPDU/2IPkbnLSEG9vVmPP/ifHN53QpTEcPDzFx8/RVaPhHFCDXA3VEKLeHNQvX/5Pqj8LRG0xW8u3uGdm0YDR1JWrpfnSXfAENvrUv2wv6+LaXFLPYs9e9DYWp1xhe4wAAAAD5Bn1FFFSwr/wAAFrUrObllViAD8gsW3BezYcYpfiemztcaSTT8/zY9dlEPlyU7cPU5T9CckMmtVYdnGz81QAAAACoBn3B0Qn8AACOsPm47x00QqAC4YQ5U7uhgB3GCT4rOz1ngUmrKnLIn7YEAAAAXAZ9yakJ/AAANhJ1afesvoC7srMRieXAAAABEQZt3SahBbJlMCG///oywAABGAtdowBsythdI8dEgGTvIKv5UEA3dLnacolG03tXthv6vSCeIhlj3LJOKFLAt4/2NsqAAAAAzQZ+VRRUsK/8AABa1WGPQnHEAaJ6rhuKhyKNGQghq097U82ZsRlhTRLYGUElcK2tii0alAAAAGAGftHRCfwAAI8M80f3eOKE7yDwyA9QGpAAAAB8Bn7ZqQn8AAAMB5n/OG7ABKhVEqmi8RQL307HAjdalAAAAPkGbu0moQWyZTAhv//6MsAAARgLW/wBaTShMQ9mDM/E8EOmbXR2XrK4rkg+KNQ+ilrqJVcJ/hxg2q6NE6DZhAAAANkGf2UUVLCv/AAAWvE1+oyAAEu17uMc+8BjXvnVBUl7FFikzW62MlwqkXL99Ns8IJ6GhOe3m4AAAABcBn/h0Qn8AACO4W6nuG/Wp+V9U6AcUnQAAACEBn/pqQn8AACOyKwk46U9qB+qnLVkL62fCU+aMOkaK7YAAAABGQZv/SahBbJlMCG///oywAAADA776t4LLTurD6DzXTpH/C/af+wAz19oZcgOywYzn1bbdcLzJD8MRK0UxMgGvRqAnRon6kQAAAClBnh1FFSwr/wAAAwE15Oc0CAE0wgJj7lX73MrQStJolnjE27yFa+/swQAAAB0Bnjx0Qn8AAAMAv13TNoHIEc8xiBeAtoynqvljAQAAABQBnj5qQn8AAAMB5oASsbh74WYQ8AAAACVBmiNJqEFsmUwIb//+jLAAAEYC0Pmc1jpLj4+LPcxKkooUWPmBAAAAMkGeQUUVLCv/AAAWqGV2IUskbyIvsxZQSaWvm+p0Wdg4+72AEtkw8gnsivT8nOIflw7YAAAAGwGeYHRCfwAAI7jBOz23r8bFsJJw68LbZDm2YQAAABkBnmJqQn8AACO/G9q6TIezqnUhu2ZtPJmzAAAARkGaZ0moQWyZTAhv//6MsAAAAwCIrKmb0DVJYRn0JQAo32gX+OskxsJkeBvYR6NuOkEboE3ftDbqEWhPxBdHfx0yhFROfeEAAAAgQZ6FRRUsK/8AABbAn5Og/WVFT2yXAyYgkcIjqG/Dg+EAAAAQAZ6kdEJ/AAAjwz+x66PxBwAAABsBnqZqQn8AACO/G+ofDD46q0PmPH7ADVAheD8AAAA4QZqrSahBbJlMCG///oywAABGAtD5nTmAFP4LQL/HcPVgseDgUhWjPTEyZYKX9cUCGfFvRFgb5LwAAAAlQZ7JRRUsK/8AABaQmni/P1NgkMULtxhkwMZK34SxDDH+Axo34AAAAB0Bnuh0Qn8AACPDPg15U7zLlmabbNI65GY71o9MHwAAACgBnupqQn8AACO/G+oWNwjrPqAeAA9rQ34Puhe4v6cRaj7swp/onE34AAAAXUGa70moQWyZTAhv//6MsAAAAwFtxUECza8HPqUsPHEc95iTv2ICbX/NyclA/O6/kNskQRejbg96C5aGx8UYzkQxN8IBeU7Xx8FiPv7T/Ht6cAz209lD45Bt3Gjh/gAAACRBnw1FFSwr/wAAFsDQBABGRcCjt4V26Mlov2h6eE5YMwL2Hn8AAAAUAZ8sdEJ/AAAkwxd1UVDRRv6LkvEAAAAbAZ8uakJ/AAAksewHgnPAjNiA6CwcVqole6KBAAAAUkGbM0moQWyZTAhv//6MsAAASAf7d7e+8vfcGK0th0gu3DXeLxlu9Usgw+TD/qbSCf8iMYd+Q1GGG07pMsD3smRSJXB6yMrn0/E6rD5hGpphwMAAAAA8QZ9RRRUsK/8AABbAVpXDFaGk4WWTLLABMzWGK8HfhmvpOuFGrDZJPUaJFucv17ve4bbCLm3H3WJY3f7YAAAAIAGfcHRCfwAAJMMXaKmlU9UMAUVSM7UfMNxPZiK50TMTAAAAJwGfcmpCfwAAI78cCDmbgg6cJsABYs+ImPIXP1glWGDRAJIxaGECEwAAACtBm3dJqEFsmUwIb//+jLAAAAMAFC3xMJtjmata0UQBFSu0Qg9erR76TNcQAAAAFkGflUUVLCv/AAAWwJ+Qhq53TP65zcEAAAATAZ+0dEJ/AAAjwz+1T4OYCYNvQAAAABEBn7ZqQn8AACO/G9j1svxBwQAAADBBm7lJqEFsmUwUTCv//eEAAAQ0v0/74MUrumycKyZa4AD34S5z6eOTAXodB7FlakEAAAAnAZ/YakJ/AAAkvwQnEslprVfvrV5AtroWaluu2vqi4PPPfVd3c1RGAAACCmWIggAEP/73Tr8Cm0WXagOSVwr2yqQmWblSawHypgAAAwAAAwAAAwLa9HiTO+TU8TYAAAMBBwAoYVMRISAUsbwqBLaffA6qhNmTezKa8lduO3toICD/fkg02TMAV1D6SO870lPBJgAEWbCfdMzcSGlMEjuSxyVrnMXCd9UH3NJ/kJP2VVTvkzwoThn7bvNAWkgr9WZ+zrFeWRM47IXol4hF2+3vWx7TmmBDTOZsWFNvnQ87GVlqnB1zXJJPRTheitrKPzHEo8BalNLjQbs9RkjYwbYwe7ipc6UIhV96Elvaxh2lxr8q7KFUe8jzwh+cWDMLU+iibKVQ/i37OyHq/BsPxnEGt+Q9FZ2HVy2mTSL8KoszUGIzttqaiYa53iqY6kAebCzO6ZyFW3Z1WNIFLD1RD7etpHKIPo9gyXJjGEN6/ufU43H6mY+BAa+AFTivWG3WUu5pjzBBCAGW+5ffo064S/a0zSd5h57tw1IAKRTZn83ulHq/v2nrApw6M673/VWgssKSyB+uuRKyls75QY9FfCZe2CT9l/IDFlMMlW9JDFu1QU8xfMyICi99IwYs0r7rDnbrsEwbHcfKtMBW1j6eTcTlCFRzU7rL864pVE5EYnvX2QBJJTFHOOuVSLI8VsL3OhSaTKMWOKbiYGYCAEr2aI8e9b5Omjof/AV46+dYwAAAAwAAAwAHxQAAAJBBmiRsQ3/+jLAAAAMBbfuCATbU0E9hwboSn1MZFdhqrgrDYpUxYZ0ckbJ15cFnwBEzRAiHYWlNo1bv0gV4wi670LdP2BNqha4zIc0+H8mxKEeMHa51fgiokByBhj/DzPHWv/vufyQuxdKuR9WHPUld+eacnpPE7UvOE96Zywqp+GBHPeAAALHGapmMNAceRoAAAABOQZ5CeIV/AAAXSVqINnnJACL40uSB8uudImUuaWhYAzG+r4bYzumpTAlexGYLnIh69TsX2HBhbwAAF+Z+o5LDEJfDy8AAAAMAelNGWCVhAAAAJQGeYXRCfwAAI6w8baTGCHFWute1nn0pgBY5gAAAAwANAUZYJuEAAAAhAZ5jakJ/AAAjsjCnwp5EE4hNeXNloAAAAwAbwkzUywFTAAAAUkGaaEmoQWiZTAhv//6MsAAASBD8KAQDvcQfQBx7Rc4OYztqONaJ+dj4v4SuCy582VF4B5uLDJhT1wmu6k8er49AAAADAAADAAADAAAYeqZYlYAAAAAvQZ6GRREsK/8AABdQm1nJACMhPepUwBS3z18d+7NO7y/29E5oQ4aAAABp09SqA9MAAAAeAZ6ldEJ/AAAjrDxRkaLUpdRBVzIAAAMBZkWjLBowAAAAKAGep2pCfwAAJLHMCW8hcIXABFVVBdMwIlAjl5Bruc2yq5HTSGhTJuEAAABHQZqsSahBbJlMCG///oywAABGFHDSUPBCOO9A+wbeVgDKKX1R7dUgtTJ055wxLu0sbJWwcx+GNAMKQ2qbvpCBdg2UF1lfF14AAAAiQZ7KRRUsK/8AABdJM70y4ZpQ+dlHWRHHTfjiAy4XrJHe4QAAABsBnul0Qn8AACSr+GesuX/RftouqDV3Ng04OCEAAAASAZ7rakJ/AAAkscwqoqAtwXXlAAAAP0Ga8EmoQWyZTAhv//6MsAAASALPnJf6PUYCge98bsNJEfnxMvVuSrOWDLSBocs5MD65FniLjBIMv8fMpwD0gQAAABtBnw5FFSwr/wAAF1CbP3ZrWv5yX6QQd1Zm96YAAAASAZ8tdEJ/AAAkq/hngOSDIOE3AAAAJAGfL2pCfwAAJLHMCW+yEAAWy3N+mRfA+aJQAZ6t+oaSB6aDwQAAAGxBmzRJqEFsmUwIb//+jLAAAEgr/wQENCauiEAA47PN2XYFe9W4cKTcJ5IxTndbAeOPf1MDD5+oZeTOatpGycf22pI01+oKjxfqALy3ttPF16QMBT7zIuQR1LIvL/A2PoY5/YCJkhsIX2B9hIAAAAA1QZ9SRRUsK/8AABdMOVV7kgBGPKAlAZHzxYd4CuNLw854dO/TtuK07KMxQLdPwZ/ffaT9teAAAAAbAZ9xdEJ/AAAjrDyfeqv+sNicgHBcNnBx4h7hAAAAGgGfc2pCfwAAJLHMKqcVdeI9VJn4Ua3jV3uBAAAAMEGbeEmoQWyZTAhv//6MsAAASALT3gJmFz2J1vtpNdhE/dezhg0PL2/oc8M96Tgz4QAAACtBn5ZFFSwr/wAAF06jpZEACMATD25BS3z18d+7M6EIS2kpp6j/yGnqEh7gAAAAFwGftXRCfwAAJKv4Z4JyTJ2IWve8om2pAAAAHwGft2pCfwAAJMe+DihTP+n0jOeQgCXO6lZht8VwPcEAAAArQZu8SahBbJlMCG///oywAABF+yhEAmhojx6fq8bdWBBSbfu3bZvf8nh8wAAAABlBn9pFFSwr/wAAF0k43TLhYTErfAwKQPNAAAAAEgGf+XRCfwAAJKv4Z4DkgyDhNwAAABMBn/tqQn8AACSx/yBoclgVTCbgAAAARkGb4EmoQWyZTAhv//6MsAAASALwoBADdoMVDvTZKwDjNRHG7A9mf246gCFjsfAxResYyzrf06p7aNypOePvevwPDQXuR5cAAAAoQZ4eRRUsK/8AABdFKzJleAAJxiWElmgU6HJau9QHbaYnuKR45he9MQAAABYBnj10Qn8AACSp6cre77C0yH1V9X+AAAAAFQGeP2pCfwAADc+2jDcez1JG+XIC2wAAAG5BmiRJqEFsmUwIb//+jLAAAEgOXcQA4g+g04YN8VnT0he3oJHVThQBgbzYaULg93SJ1+5uj+vxc1GYdQMLLBITsdL+G80LWT+5+18Adn7kpHSGoapEvsyiA8BGbaSB3L3cIKGYYxaJ8YMMqFvs2AAAACJBnkJFFSwr/wAAF0xBvqZwFm4lqHw1SMQNLDqCjGq1UqRZAAAAGwGeYXRCfwAAAwHlinhOgJGJKHNFeXq6gubD3QAAABQBnmNqQn8AACSxzCqioC3HlGPleAAAAE1BmmhJqEFsmUwIb//+jLAAAEgCz1ehQC7GBuq8o4nJKEoDyBpU2nLNyH8M6WirYMeZHUO/wG0ovKbj4Sw9tQFtW3bzkInFbQSHNA7m2AAAADFBnoZFFSwr/wAAF1BWZIlCzoBkFhACaYSoxYKrR54jssD8k3T/DIpzwnIGSA0ejtOnAAAAJwGepXRCfwAAJKwNMTRHgyABdADQYGhZXeFMSyu08lYvfz+ESnsVsAAAAB0BnqdqQn8AACSx8e9j5UC3QcDSDFn0NN7VBkY4IQAAACNBmqxJqEFsmUwIb//+jLAAAEgRrBEIaF/UWXTOkQBvLilXwAAAABRBnspFFSwr/wAAF0UrQyD60/eBFwAAACQBnul0Qn8AACSr+GeCchtiZNIAIgwvPpM/qvkgm6odoo9y7XkAAAAOAZ7rakJ/AAADAAADAakAAABPQZrwSahBbJlMCG///oywAABIAoXl2YAUGfw7wiaRZsCpLOJ4WPdvI0sGktGZdIo2jaTazXEWvN42q+TnSP6hIre6krTENpK7IPi7XzZdgQAAACZBnw5FFSwr/wAAF051oneBNxdpWXB1NRLGOnNN2jzxYO5Qd0XrXgAAACoBny10Qn8AACSqRIZ6eDtqVwALmpcxfr6Iw/EecajabQf5ZiVCsGQL8cEAAAAUAZ8vakJ/AAAkscwqp0GC/JJl3pkAAAA9QZs0SahBbJlMCG///oywAABIAyq3AJnbs0tqqepMHWK9LaWuEFo7ePXQ2ONWR/xXdtHpsf9364H/Bg0vQAAAAB5Bn1JFFSwr/wAAF1CbP3ZrWv5yZE7J6nkSHvCADZgAAAAWAZ9xdEJ/AAAkpSwz4KDuDmhR1IxOpQAAABwBn3NqQn8AACTHK7n/rENrPLZRAIhzD4LNugVdAAAAUkGbeEmoQWyZTAhv//6MsAAASDRAC+vJnYAYC2Gr/N01dgnsBYenCKiW4UNRRPvj18nyAJ0+gCicPIWr/77C76fwmarAO6Exx2OoYixYVpph53EAAAAqQZ+WRRUsK/8AABdQVoIIzk/qTCAGt0raSY7bEJVNUYaPP1P6HLoQiBJgAAAAHgGftXRCfwAAJKv4Z/UBj0zAAY0WIZwo4Gs5lsPlQAAAABQBn7dqQn8AACSxzCqioC3HlGPleQAAAG1Bm7xJqEFsmUwIb//+jLAAAEgxQdOLZGANkDJbtqz3SfBDJAJVZ5tpifiDBO57QbGV1CcCO3vddPQAJ+PFCd/Vx2tGkTHV6YGltjKod7YfRRdtoSWTGErA/Fa/ayWTfSsxDpaXA9YrzQmJgAd/AAAAJkGf2kUVLCv/AAAXTEPNtxaDY6yFinfFBOTpP1ZANTDGAiT+7RqQAAAAFAGf+XRCfwAAAwC+4S8yWtxRB1CBAAAAKAGf+2pCfwAAJK7zwXaaBgASwcwFIqk4lOUKT+nY+xPqzq3XftFFl4AAAABIQZvgSahBbJlMCG///oywAAADAIgONwS5Y8p83R8UMZ6jk1WAnGTtzl4N5+HtHrOpwuD+dpHOmiAFWp1xDvnJ9QyKJfTKY+5BAAAAH0GeHkUVLCv/AAAXUF3aTiRXZyh0GArfbfrtVK1hdSEAAAAUAZ49dEJ/AAAkq/hngOSDIiCn8rwAAAAaAZ4/akJ/AAAkscwqpxV14j1UFGTuhZEkjgkAAABzQZokSahBbJlMCG///oywAABIAvCk/gBs45BG1of/IdNUZS+7Mgd5gBIw74XT8LOrXn1gpG/1DeLpH+Jb8z8qH0B768OtH4IBBOfa+h54OxAJB0A8OrzIpqe9uSEP1OhBx44mxH7PnQ7N0YVw8YaO3MBeMAAAACVBnkJFFSwr/wAAFwOsSF6H1JxjCFmImQfhga/Feq88zS+Muk4JAAAAHgGeYXRCfwAAJJi2L6bq3RRRcg56DuUAZJ1fLfdp9wAAAB0BnmNqQn8AACTHK7ofISoybLyX8aRmGugh6jK/iwAAAFFBmmhJqEFsmUwIb//+jLAAAEgxJ284gErb35HvgMIIkeyGSL8J8ndV2iJU/0QkUXO41/ZDtAyPi/WEj5iQVFYoMmKxyRy4KE2BjJYZkMpq/BAAAAAhQZ6GRRUsK/8AABdQmG6ZY/Wa5551epG2hT70wc6VpZ0xAAAAFQGepXRCfwAAJKv4Z4DvjRwuwok4EAAAABgBnqdqQn8AACS/BCcSyWmauFZTJLCvXYMAAABRQZqsSahBbJlMCG///oywAAADAIwh6HUcHnMoAJo2YNcwIMRgRyRS64RhMzlQG0to7klg17vMLarHEk+mqn7jLANgjWI5Qz/4dlUlcpJgZgxQAAAANEGeykUVLCv/AAAXAeGpSgBGA3+DgHt7OgFUTH0Cu0yOVIjXCPXbPaHoyAjcCK8mH9cV7qUAAAAcAZ7pdEJ/AAAkrDxtAVtNFqOfLBE3qVoE+tGvcQAAABIBnutqQn8AACSyMKMj19y52y0AAAAzQZrwSahBbJlMCG///oywAABIAtDqOD0c2iSROUkUrpLeOc6lzcGCZB1AJP8BRzj1ft4xAAAAQ0GfDkUVLCv/AAAXUFDI96+KovlufnJME6QQjgWnEHmGQSGyiXnlbAsGWjCzXsAdpHsAqCj05cCtWC9TizRmGgca3BAAAAAlAZ8tdEJ/AAAkqbieCRtfT5B2rdUMlRpww240Kf14tyEMZefpgAAAAB8Bny9qQn8AACSyMNoM3DvuTBSkTa9JY3EgPZVqbawtAAAAYUGbMkmoQWyZTBRMN//+jLAAAEgHuQAX4sLpDF3EIKl8B90wKQFTNZDOG9G2pVXo4vWbAWkbVcw+pvkw0KTdMWKoX5bM+zyrePTGsBZMWylhC8aw83HkRE4dTS30Xf9wORwAAAAcAZ9RakJ/AAAkvxvqJIMciEkMOM7EuLpmVlHgQAAAAGlBm1ZJ4QpSZTAhv/6MsAAASBD1TEAa0YbH0JD77101nm4DclA6wthW1dLz2WKUnbwcs1FZuExLFPWkxGPSxkf0gf8lVNvyHxGkGkbfbioq95tMy5mill15Y0Vl/5K55xjeFruAu1Yr58EAAAAxQZ90RTRMK/8AABdOpqapJ0KIAJtykSF2BMzUYOSL68hqgVe74U7Dotte5i4l31nNSQAAAB8Bn5N0Qn8AACSsPm44j5IEnWTO1k2rBFxVh6GYRgalAAAAHgGflWpCfwAAJLIrBw0ULuRI44/k0KAYF4k6AQV0wAAAAG1Bm5pJqEFomUwIb//+jLAAAEgC0Po1F1xBb+E4jI54uIAMq6ah5+mtu/kv2zTC3ho7DNGWT5UZLWEf1ZCTWJwh1YpX4ZtBj5KHZ7BE9hdsSaFDymeggeT4LZcup4dHWapgv/FCiRK/lNSZGM1QAAAAJkGfuEURLCv/AAAXOuN094EN1zcshxsZmAkVYAkTZhtwAlhnbyEXAAAAHgGf13RCfwAAJJMwp850rIr6LRuEDZKmqg3XxORcoAAAACMBn9lqQn8AACSyK3eAASxUQGrjhNtsIL+XWoaMtNPuRhBdwAAAAGBBm9xJqEFsmUwUTDf//oywAAAKXpx/gTHpAHrvt7tadlnNdvmqSveBuDODqXp6u8woOzE5nx9zVJlVUqsikGas2ALD1egtgtk9elhIJhgIhrLoe6tbygL2zZJD48/tIHEAAAAfAZ/7akJ/AAAFZy5lPURyQEEqVf/nJUDY5gk7klu/cAAAAFdBm+BJ4QpSZTAhv/6MsAAASAKGa6ar4Ezg4BMLCHfy/Igzqs5ITE3KHlKjfxjrHiZmnR+7/4qd8FnIu3YTZixm2m3ASBCgJfNnJdsdsy4Q/kPPiiNXakEAAAAnQZ4eRTRMK/8AABc6tnbUM5tdYZFdWIRcOiZEDcSzWQJ+YB0cCsfBAAAAIgGePXRCfwAAJK2yUAHG5uX2A5riFu9IvEBUxFX4aQ9P70AAAAAhAZ4/akJ/AAAksisIIo+ABZwtfGAn4lYfcVZEhCtueuz5AAAAe0GaJEmoQWiZTAhv//6MsAAASDuEEjwTvo31jRaB7MMO6ukJyeYK4+Gsxe4862hJVS3D1YLHdQP1gY6YuIun5+RdnH3Aov8yotktLVxGq6wzhK+tm+JYQpqM6SjbNKWyvinmnsFtAq3sZb9yVBt3/h+kqWfRgK6RYFDmsAAAAB1BnkJFESwr/wAAF0xO+CBU8dHknNvYIxB/Uzl5qQAAABoBnmF0Qn8AAAMAvuEvMl0HXTOEHwBahSKjwQAAABABnmNqQn8AACSyMKMj1eH+AAAAfEGaaEmoQWyZTAhv//6MsAAASnse/3poE8cwFhkiIAKS6ApNEA3Gc6UwGZ6wyNbK/AR6BO8PYV8ZhC0eIFEcqC8CiHmFyL4p2h/MEZaaDECG2uOQ/veDCCH1Ir/Da8ClG+MnsmvL6vUKOwM9/elHjrYdnmvPGTN3DkOFQkAAAAAtQZ6GRRUsK/8AABfia0G9MrKUViwAjlBACWqsYdr0H8ULL+clO2nFk/Tfgr6ZAAAAKAGepXRCfwAAJav4ZgEEhZzGfyYAJHRUHAa+S7nvRKktHfUWfUAA1IAAAAAYAZ6nakJ/AAADAEdkVhwlqT/8kl9VQYqNAAAAQEGarEmoQWyZTAhv//6MsAAASgLWIy67kWu4yWxwPXnMGzkGhopxKyA2jtEncKEUqL7gVywcwLh2plUnhk7N8qAAAAA9QZ7KRRUsK/8AABfrUDbySMHTUp+tOAZg0+YAUGUXTsZ+X7ZPbpR0PzmyJ1rZ25F7HtnY3RkFMJYl6gEGpQAAACwBnul0Qn8AACSsPJ+76tYxXg/a5D1RQpLWAN4gTt6AWG9bWXyfLLYzyXMH4QAAACkBnutqQn8AACWxzAlvqW+yF96gAXPe1qXQxY46T4c8epDiTF9F8AUKYQAAAFZBmvBJqEFsmUwIb//+jLAAAEoQvGgLW4P/gAUrOjcZzn8trJblLci42U/fdUfEkNKa5D9r1Ntd0n5sdkWzXvdGjuCPSBtvbjp4wFIwi8vRO15hcrwNgQAAAChBnw5FFSwr/wAAF+mDzbcVzKyZSqVbe4LXAcaafMY3sdiflTVy7w1IAAAAGAGfLXRCfwAAAwAbnAGyXaCvHI9TbePjUgAAACkBny9qQn8AACWuXjOGyEmkSoANssiuaHBDuAQHZ7koo67//YsorbJWwQAAAC9BmzNJqEFsmUwIb//+jLAAAEoOZiJlaPzERjTB4cXMI4j1PZFkmDzwtr91QBxO9AAAACRBn1FFFSwr/wAAF+JrQyb0yPCPT6mcetEJTRO4Iwn/6JsIFmAAAAAqAZ9yakJ/AAADABufbTaL8lYJK7cAAs+HgG2eXbEpbnjlBJTThtqD39+BAAAAX0Gbd0moQWyZTAhv//6MsAAASgLPV66AAi50kwWKMtby3HcqhesZpe5UwotWcMWNI4mg3BBTA3AcJ2i5/9wLeOzVLWhndm9eWPJwVmARN/2VynAfzmRGNldYWMG76/XhAAAAMUGflUUVLCv/AAAX6+OeBEu4AW7rYVqU3BW4b4fmQH6IqSXxvsoiJgCh/XDD6Ej3Z8EAAAAeAZ+0dEJ/AAAlwmV6oDntCA+4yI92ey6jj+sZE8gwAAAAFgGftmpCfwAAJb2DgcnLkGF7IMLDhfMAAABcQZu7SahBbJlMCG///oywAABKELz7wC8uKGo6XgenWn3NcIDJZZbSEDC4frYMP/m07vEDJ0eeao8YgAvRGSDMKyoYZa9hRyk+z+S5oMcFS7XLF25PFnqcBRhZpvEAAAAlQZ/ZRRUsK/8AABfpg823FcysmUk+B0KKzPaYEKRsfUeZU71hgAAAAA4Bn/h0Qn8AAAMAAAMBqQAAAC0Bn/pqQn8AACW5zfpnsSQoS6qXIwYAJapq9+zSoAxaeAot1xWt3fBvkoU1PMEAAABHQZv/SahBbJlMCG///oywAABKAvCgEAJzSw39cH435LS7gN0Kg2Gml6dJukdKnkRGPeaOWLTrmfNFUtjgiQKV4qYy4VSfQvAAAAAdQZ4dRRUsK/8AABfgh0guWab/9iXzUxYpYPmw1IEAAAAYAZ48dEJ/AAAlwuK++xYR0IZJd7AR6OmBAAAAIwGePmpCfwAAJbHMCsXAAuerw3qaJaWcntx5GevqF+Uu+jpBAAAAV0GaI0moQWyZTAhv//6MsAAASg5b6IOCwBf1vydGq6aGVN19fwJUUn67cd5XCASmJa61UIHDwm5LzJ7894RwB5RvarHOlVLAEbyg1fkOplUCzZSGb/5XAwAAACVBnkFFFSwr/wAAF+JrQ1D4IKcrytolx7rRg+uHlqLaN9s8tYPMAAAAHQGeYHRCfwAAJcMXdY9fHnLkKQIryogOgEEgNxWhAAAAIAGeYmpCfwAAJcey7S8Mx7RlXy6eXFDJx9JkdmuyN8OBAAAAQEGaZ0moQWyZTAhv//6MsAAASgLwoBABVU0U9GB3f9HK8ehCbAyz3jrGQFPvYaBQcKzBBwvenYm0P2M2fVQgUlYAAAAsQZ6FRRUsK/8AABfictQxtODn/yEvIrpKXVT5hkAIfC4frHlfpLuqQ/eugcAAAAAlAZ6kdEJ/AAAlwwIxNwmoACxzx5xg+iOqh97/hbErBQiJ3I944QAAABYBnqZqQn8AACS/HSzB2uHHxVcaJAuIAAAAZkGaq0moQWyZTAhv//6MsAAAShD138QBp5caWq0XSwQ3HHfdCNcf4E3YGsiM7w92ffyMqNX77BjSnTFikv+Ln8fa6tmHyRbegPhj/LpHTLzgNhhx0R2sCBcICsU030PcUJzDE1CPQwAAACNBnslFFSwr/wAAF+up207dVssfktrhEMk7fjIW8Q2Azzd1gAAAACYBnuh0Qn8AACXDIIeXW8loKB0OSb+OkfsVPULWyOTdKR/fVSJZ8QAAABMBnupqQn8AACW/BCvAcovUR1xBAAAAVEGa70moQWyZTAhv//6MsAAASkKeie5P4A+FYBjWu7BL87KlWi2HaCS57mHTe2Cc6mom9voPQ1OSgQLPZ5K4U8nxZwf+7uKVG4b1K2ql91aQM8zDkQAAACZBnw1FFSwr/wAAF+jKlGTj7vUcbcKLYc4qJNShhAp47AAW4uJIMQAAABIBnyx0Qn8AACXDF2idBj6ACpgAAAAfAZ8uakJ/AAAlvwQsXJlLnp0JAoMczKxpOWzdS4ZB2gAAAF1BmzNJqEFsmUwIb//+jLAAAEoz84SL/uiXaAG8aWqwma5HxENyxNdQNv0WzqlmnclN9shngRX3VHI/zLYKPpQfnEdUAvkHUX6rSlCnUWnSRO1XLqwewIHZs0xpqXkAAAAkQZ9RRRUsK/8AABeay/K/Lfx/K06qlNzumLyT7amybNNvbEvAAAAAFwGfcHRCfwAAJcMXaKmtD4N2t36LrriAAAAAGgGfcmpCfwAAJb8aD4Udd4zBKG5+tlHi3BxxAAAAK0GbdkmoQWyZTAhv//6MsAAAAwAVKvDwF00sMKWPAAnUzBBNxEnB+E8yF+EAAAAYQZ+URRUsK/8AAAMABsCyjixvYAg8wr3dAAAAIQGftWpCfwAAJdUhABxr33CXGidKiovmcfcGDsXBcbedcQAAATBBm7pJqEFsmUwIb//+jLAAAEp+JycqvHYJcAmlPjcwj4alhtKkDzRIdeV5RxXB/AyH2FlQ+jSPchGj0qRXy1+bKSxbZwTuUjgw6sUvhVyvaxeyhe24Ey7c8l5HsvOJyd3AsGN2e7dNqMIdW5jlB5k20+WD0wk+SuInX1bdJ/zP+5ya3UzqT7gWpAHui0n4G1Pm4NhoMyE/u93iwiCx7gyErbvG3cA225PvCIJih9pmbb8ljw1ER8LAh5Z94j4u8cf+cXB3z/7l7K50rOVnDOsJwakuFEHY02yp8bx2mY5KaFSVQSbl4OHs6NLSRLrQr5xCU3yG7mtZEoSXJDMAEEIPT9Qea/USPt1NwcGehckL6eBqIqBTepWtjcTrdpD7uZ1uUkmAlxGpxtZ3iITQw0tpAAAAaUGf2EUVLCv/AAAX4mp/o1eIABFe3u4IRqnWOFhewEOhqqmEElD+eAvlQVEcJfgqITEdEAVxbiVwxPjBe+0urGVo+qhfQZW4YQ6fnSWY1ageCKFw9g+luqc5jEVhYIg19zZa02kjk2Yu2QAAAD8Bn/d0Qn8AACWSKoHJjTDADclWEToWudYtMo95cTdcMYbfl6DwaAOqa9sAI04/k714B3a3nCeLdQOJCPV3JBgAAAAoAZ/5akJ/AAAjsf8f4RtkGp5QjERqcoW6H8z1y1w0PnTgam2TbtlWzAAAAKFBm/5JqEFsmUwIb//+jLAAAEYHuQAg9Fvejo02MPD4G3WfYum54Z6renTLTKPs6/QjePthsxLoSll141FPmMvXdXbGraF0NhgfDnWN7AMp4okiRVs2aZoL5pFci2H3zLNsyU5KpeyMX3CnA3lydd/VpREmJoTEnZPcXAHE3p0mkZfTx8bNYjmuGOZnYLZOi3mPGGLFNkxSYWD8x7mI+YaKwQAAAEtBnhxFFSwr/wAAFrxOGRR2N3xplIWQMngqa3IrfoIYAXFJP7KxgREeVZ+XjADj5r+8DhaxNBnc+5IaBpxO6n/NeT1DjaU4bHADSowAAAAeAZ47dEJ/AAAFQFNSgL23U1Jo2Hzzp212c6j5rgJPAAAAKgGePWpCfwAAI78fQQvvV/tMX2KxbRkddRKP2Ff9yr5t61FqGuzfACAl4QAAAHJBmiJJqEFsmUwIb//+jLAAAEYHuQAhG+AzuIEWl1k+jarsn33azmqsEnDNBvNum2t20T815btnm5XacbgOIk+YqTo5PCnjXohJmvHlMhqwcUiBVdvn+h/7O2iHBuSVE1h14IZzuPqEP135WuJLL26IjVAAAAA8QZ5ARRUsK/8AAAgsDNxMUoVZUHKnAlRFqzYvoK4CisasHsnNuLO373HQAExveeKs8SwM25l2WuBgjYOBAAAAJAGef3RCfwAADS4V6manGLvtBhPmZUjRepgZ73etNy1cKxcBZQAAACYBnmFqQn8AAAVDKp2aNk78LTPEKjFMSK0uKmIAIKGEN98y8soFnQAAAIdBmmZJqEFsmUwIb//+jLAAAEYHuQAX4woSHowJcz96cy6TXfDeR0tad0IHhEsxlo/CC12HW/ld3HAEUMEgpLug9MEpNNvnRBv8jcZcHXEQ+DwsUtpUFG3JDFExuTt4fHcGr+I/g0aHGZyxHDXrTuYVG6ZgxveJXllP4ZY5G7in82Foy6VtVA8AAAA6QZ6ERRUsK/8AABa8RxaT8y4ZN94aRQ4AEzUCkBwLn2xJ/f5y1jES7mUbTJ7VwCTzRPepWSjb91u5IAAAACUBnqN0Qn8AAAVAXM+LdEQbjt04/ddbn6r2C8Dwepi5H1eZvYdsAAAAHAGepWpCfwAAI78dNcHEWuzsc1JEk69phej+TcEAAABkQZqqSahBbJlMCG///oywAABGAtUxAG85WNuLJCqEZ0Flj/doQ5WrYYrMe4G5oMwk+Y+bdkq2vdwQ6/NL/SkUFKMiuohbbeN6ZB0lXX95aWXlCViyiXlpZVGjL6076U4aOtDrwAAAADJBnshFFSwr/wAAFqWkFbQWGAIkQHKWYzJEG9wni46HAjokPW+09tKBWc7xETBiTArWzQAAACYBnud0Qn8AACOsOV4ilpbVECKLZMw8R7xqGowKTpnk1Su0lzc2YAAAACQBnulqQn8AAAUdPrfg4ALOLCcLYC8iRKma0lcIAHaEQ1NE44EAAAB2QZruSahBbJlMCG///oywAABGEPRAPWB4blXncjo+ovAKLNttvQTubsMzvjxxB0978GtLLKbF3JEHhN7h3akZxozMiMizCT/I591UbebQ5sjYqLBXaukNW29tJ7x0txUgM8AI/YhcWXhdgzeBK/r8ccYH9MwjZQAAAB5BnwxFFSwr/wAAFrxHFf8BAhUUNMiAZdI5qGbuhbkAAAAhAZ8rdEJ/AAADALoKTSEzAeXbUJe+2gUYj3vIRg+iZQkxAAAAEAGfLWpCfwAAI6jd6JUAJuAAAABaQZsySahBbJlMCG///oywAABIB7kkxdyXAvzjam/TDpEOjzfrCWJOkxSLM16r4Z8qJhNsfu5FZ0uZBizQmVkgiu/ECb+XR43Ld5eLACd1aH0lqrA0r1JvVb6xAAAAHkGfUEUVLCv/AAAIbAofF69Eb9cwvgKQBx9qnxzFQQAAACkBn290Qn8AACO4wTs91vnReDuAALIR1EV1rfjPfG4M/wpVcRSjnl77ZgAAAA4Bn3FqQn8AACOyMKABZQAAAJlBm3ZJqEFsmUwIb//+jLAAAEgpsf/vgOgwGirgNMgBX8bZB4wuppSO4z9gAtzRkLM83AkdGFON68iO7DiVkOII/deYHbd9wpxgBZbXTJr0N697ERdTMtpBipf2YFSwXY4I2stFTci1XtgynFpqzb9QROpvyzbdrGQLKdhr2BD/JHpU4YDulnPh0gJmVu9LPMPmcThGVI5YHjkAAAA1QZ+URRUsK/8AABdLii+7mXJABxPGtqe7mxn7jH4RvYYDyq8YNVv+CHPfaoq9eQ/cHnvEANsAAAAgAZ+zdEJ/AAAkrBTpPDvYiVIV9Q03+hE9STHiMUHBC2EAAAAUAZ+1akJ/AAAjxyv/sevoqD2m3gYAAABhQZu6SahBbJlMCG///oywAABIVlVcAc/sFBTpQaPP7WbsgeXe8MxsDoWg1nx6PjP51NGNanMHKeLss9i6IJCI7YGnzTvYbgh9nqcrriphRuis36qkt3PCYvUuHonHdJj1gAAAADBBn9hFFSwr/wAAF0w9LmNb75Fhz6TTi2gAjILkjOi0XRVhv93aDKoFIQFebV+YtmEAAAA2AZ/3dEJ/AAAkyNnvTZPdAA43QOVeQXMhQP8mgSzSsqONhDpfSEp3fV5T11hU4L6GhHjuCNmAAAAALgGf+WpCfwAAJLnNVrMmlIAN1X/uZ8aldwqxJIigNvrInv0X0WVro/wz7lC3MqAAAABaQZv+SahBbJlMCG///oywAABGJcF4HiQIFoAHWDYPA614we/BX+SgXlYJZ4O7HHbKNqXzw9+FNpFh4ugUpwHSeioxpJV3cT0W/KT05v/ZGQrUvYOOLPygL3nvAAAAL0GeHEUVLCv/AAAWvFC29NRkS7AZAlXQzQAUpE68XP6DT0lo8EQAPoycjx1vt+EmAAAAFwGeO3RCfwAAAwAKh5fEzeJmmYgB8fixAAAAKAGePWpCfwAAI78fjDe6m4rWnExTpAAs+IUh+UXTtaSty6AEMv2aMs0AAABJQZoiSahBbJlMCG///oywAABIXNEfca3wFxL2FCzLv50AFNBD8as+z7HWEr5T44pLzzuaXnZICuz2CK8w9mkwg0ZFjDxR1D95gAAAACRBnkBFFSwr/wAAF0UOzbX8h3NiY8KhjzOEJcWC1PSt2gRBOcEAAAAaAZ5/dEJ/AAAkq/hbeCLYbjguwtzcfjF2NdgAAAAZAZ5hakJ/AAAjvxxY96Bz2SOsDfNURJo/8QAAAElBmmZJqEFsmUwIb//+jLAAAEgQ89AXGo19tvzij7QDAHTZXwmy+EuIkg6Yf2Th1UzfM6GEpzMBffc8v1hBPnPtEYpTaJT7WSrfAAAAMEGehEUVLCv/AAAXSaq+6voH/u2YejmDkNxJxAADYbrH/wNkV76fUjOInfIkIfTKrAAAACcBnqN0Qn8AACTDF18ufFqYAFxPpuVojE2CyVWnoQQkF+lL8mxAOzAAAAAYAZ6lakJ/AAAkscwq0RB3lqGKxz6GdAgNAAAAgUGaqkmoQWyZTAhv//6MsAAARkQ4cPw/EBKUiLtBCaQ4zUmdTCbMV9FTy4E3qepeFG0b8Mq+wJo1n4qTZ7/RbfUinLyBdk1KC/lYc5oTbTw27zQ0Tnk4ytpzayin1jvuP9RKY9daYwAQKdorSs+Us7e/bash+PxINI21UhsAjV76bAAAADZBnshFFSwr/wAAFrVfTFkAy5OSMSHmJcqDGVd4Dt6YIAH7mGUSpDR1mVjqpsQjY1P20n62vAkAAAAcAZ7ndEJ/AAADAfGtNMB26FiNVO0ik3v2v0IbQAAAACcBnulqQn8AAA3JS4sIP9gy4WBMfKJCnIgAg6r1tNjK/CaB3pyNEvEAAAB3QZruSahBbJlMCG///oywAABIAtPeAXkrhIQxCKoEUs1l1r9QZkInfk5Amh+RbzCyjXOji3s5E/QlwaB/P91eTB38holm9iCLBhDJuTSX5BhCZqxHAWvvfY8siEyWti7TPRUXCSG/Kv5Yb5ibPgj9n+gqXxKhyScAAAA2QZ8MRRUsK/8AABdFN5be2p7Yx26OqgIAPbtPSkLDGzPf61eWtozzS63uKTO4LTzJ8D6GpcWBAAAAIgGfK3RCfwAAJKv4W3ghUIgkxszQFliOl/8ZoSnL63nY9SEAAAAaAZ8takJ/AAADAfEr8i2ZFnDkhpvTkATNEbAAAAA3QZsySahBbJlMCG///oywAABGEeRAFBKQkOgwhlLYcCdex7cEkYVs9JK3yWtcV7GfSC+J2o+hZQAAADRBn1BFFSwr/wAAFrVfTFj/l65NvOHjXndS/R2iAFn7o0WNxNlVUy+VinQgmxquyaeVzQe5AAAAIAGfb3RCfwAABUD0xiixxlbadBf01wS/KYpvCJhlEKnBAAAAIgGfcWpCfwAADdSVLQwIXf1GqRPY3pI0pYRxKmGXv01KDggAAABPQZt2SahBbJlMCG///oywAABIAs9XoUAfjJBMvY/W0dbMBjABWy0sVSUBTb9VWTrkCfwvKc0+UitO6S1IqHLtSSfquXYBGr0LezjkbewHBQAAACpBn5RFFSwr/wAAF1ifgCtIBJi/VE/GrrOwXuwBmWWeO/ey8beVUvZ8ScEAAAAYAZ+zdEJ/AAAN0hOKesn57UP7shAh+PmBAAAAGAGftWpCfwAAJL8cCFCCvnyFMbgH0HoWUAAAAFFBm7pJqEFsmUwIb//+jLAAAEgTYln0Amu9olx9rP/OzY5W26aOrsVmBDGeDKRW9U+ti5GqvDRql7HumPxDcFR4g4QQI3YQVPFRP1qii5Vc1wwAAAAqQZ/YRRUsK/8AABdMQ8+MQei2DEAAs63KK1kotCa+YJnSj9+zcyGsaSLBAAAAFQGf93RCfwAAAwC+9MNfeitIG+vBrQAAAB8Bn/lqQn8AACS5wYH5+TDL1qvVDKxAmEQoRHBIzsPcAAAAQkGb/kmoQWyZTAhv//6MsAAASBGsEQavSAr8hQp5oHvYYUABGV0jOJMJdVHa9qHi17yIzBFhHJqWfjAMAAB3In2+BQAAAB9BnhxFFSwr/wAAF0UrRHvv868EPpH7tAOvEfHkBmHBAAAAIQGeO3RCfwAAJKNj65kN/sX9+NC7I3RBToQtFnIoCcyY9wAAABkBnj1qQn8AACTI4NZpoDJoBeRYSzMebOOBAAAAZkGaIkmoQWyZTAhv//6MsAAASBRwq0beBumUDDBotKkw94Wc2A9iYro8qOygwvs6YrA5/JaMnsO89V9e6D+v2XWiEX4XxX5cJxcr40J4KzajuTRYZeWnXyxAGzZdcmx9h6NELbD0gAAAACVBnkBFFSwr/wAAF0uim6AGpiVMUNasGof+DWhs8/pUek+627UhAAAAFQGef3RCfwAAJMMXafiHWen5xtwB3QAAABgBnmFqQn8AACS/BCvBOdGMXXiVoB2QE68AAABUQZpmSahBbJlMCG///oywAABIEf04A4waEXTBGH8c1MJfSgdS/FoEKEoGmUQEclqdWifrFLqOM/+8W5z+D1FNldA2qJZijqHQZykEmgx5d/F70PxhAAAAGkGehEUVLCv/AAAXRStDIrobaEhJZc1LKSrsAAAAJwGeo3RCfwAAJMMXdVOK4MpagAggc/iAqmi4KtYi1nF0hujKTPhHcAAAABEBnqVqQn8AAAMAA8z9Lg064QAAADtBmqpJqEFsmUwIb//+jLAAAEgUwyGEENC/U8qkgAA/gKTTMIkfYyaixLO6cXw+BuoW4fTYhOhG71KvgAAAACZBnshFFSwr/wAAF1ifgCsgpd+VCBFroVhMEuRRot1A9PpcKrgHmwAAACkBnud0Qn8AACTDP7VTNKZOz1di5NKQAJ1afJ2CcZ4j7ioNzZbB0Ml73AAAABMBnulqQn8AACS/BCvAcovUR15BAAAAUEGa7kmoQWyZTAhv//6MsAAASBOdyAEHVdaWQRfme0CGqirTouxYwTUxq8Oqc42lbAGzE972F+Ja0ScCLGjklPqSR5/EJIoEpt3il2Y4wjiBAAAAHkGfDEUVLCv/AAAXTEPPhTDP6HQdVasqXyrjea0E9wAAAA4Bnyt0Qn8AAAMAAAMBqQAAABkBny1qQn8AACS/BCvDLNKCdp4K2A9i83kWAAAAL0GbMkmoQWyZTAhv//6MsAAAAwF4O4vHM0nkQAY+TEoX5ASxPiUH9OMZzxBwZ+rAAAAAI0GfUEUVLCv/AAAXPfV4EDRiBVN1hHXvaifMbIMG7sePKmHBAAAAHAGfb3RCfwAAJMMXdVkyQIzLnrtq7KdWYK0YbUgAAAAhAZ9xakJ/AAAkv7ogA43RGFgbrNRVXVZiDiBL4ZI6T4D3AAAANUGbdkmoQWyZTAhv//6MsAAAR/KRCbAF/tml+H/t0j//3TFDMuuOm5zHlPA6LyFn6QO99gHpAAAARkGflEUVLCv/AAAXUFcY8AVvAJNRfbE6/V3iWdQFCuHVR0LA6y+pvZ9jfGlMb6O9Y7i/n/Kv6DLEQAdAC6vcQP0Nx6n7ru8AAAAdAZ+zdEJ/AAAkuLg8sutpotRhUddBz+1EjQsdA4MAAAApAZ+1akJ/AAAkvwQnEsr+fynABLFPypnizQYBLsrOuGrM7y0VJ0NHdqQAAAA1QZu5SahBbJlMCE///IQAABBSMhP+TW9TNoxAAVqRST978kOaJjHmWVQp4AUyqvPhcxLkpsAAAAAfQZ/XRRUsJ/8AACS9g4HJy5/pxTdXMnJqu0IWwH9OCQAAAB4Bn/hqQn8AACSxzCrQ22pmxtr9tQ4SVYsxdqEDu4AAAAHRZYiEABD//vdOvwKbRZdqA5JXCvbKpCZZuVJrAfKmAAADAAADAAADAtr0eJM75NTxNgAAAwEHAChhUxEhIBSxvCoEtp98F4+8gEyDsag4NOM9bBVCir/uy93VIg2dVh4ZVNRklggvhbh3d3xcF476vRyvO2GYjRCvyxf+TbUiqruGr8b4DlfsSxLDB50OJvi2YjkSZfJF/9+gG6L3nkKB9cthxQjghWeNZoTHSxgWpgVFUiRhvP3oci+F5Go3xzLiydGkzcsupnU+4H7o/oYUUgSLHGBE6ATVsA35OsvVtd79V9fDHg3Cu/3Yu0zwfoOFPP6Ur9UvElIMGA91ycbEsQqEch40H/TfY/GV4ibG392tEU/xv+O2q/PMySvz/j74yYbJpokpLt4c1Mgwip44z3//8ejlxxfL7/Os4b54z2xAWKVfbhDw7Ut/ge4KU7O8OOxkTvOm/4cxFA4HVeI5b/HmzEfZmEqZc9wFZIAiPMm4eRfeoiB9l4kFEEAV9QbWnsNO7FG/fDaOPMRhKnyMMIpUdKxFIstD7M0q7f7aT2ouERI3Htq59axVQy2Jzs3ezoCKOF4zlfhToZeEAAgTQAHytBAAL0AAAAMAAAMAAB6QAAAAZEGaJGxDf/6MsAAAAwAUoGs4AdHQ7NFXXHnCO3MYnhjDX9IFm0aeApe33bKZiC8VkY8GeURwESPCd7QSEfX+lgU7s+G35Uxo8nZzUxM7Du6dr3IUBUGdbliQTnoEHbQhNqmWCJkAAABMQZ5CeIV/AAAXSTpJQAjItH6gn+3j9BESILkzNrNBMZaUF/0yMhymOUeCB0D5JSXqATaEbhq5ApvDgoQbSAZjy5vLizuR+rx2qZYFlAAAADEBnmF0Qn8AACTDF3VTiU979iq4mQouGPe8HsJIzLMRVZQFrKombqb7v7ZVG7tSqAVNAAAAPAGeY2pCfwAAJL8EK8E50KVFQAfGhIXo4TeYmjhEH2AEVlgPdeQUowvUHhtATZOh6snagGfiWPEMUywFTQAAAFRBmmhJqEFomUwIb//+jLAAAEgSCXADb1DSHMIDlOpTCyg/MRG/98EbDuog0ZubZG7126VWJp4iai0h22tN9Ye62+RSjbn7Z3+A+DiFgAAANs0ZYXEAAAAxQZ6GRREsK/8AABdMQ8+EK5O6CRuNcGS9GQhzWORq7g4kaUeRbk50cZvnR+pqlUB0wQAAAC0BnqV0Qn8AACS5ERABxuxUSerjEovkLRnmhj1fu8wSXm1YgAAAAwClj1TLA9IAAAAfAZ6nakJ/AAAkvwQrwHKL2VjOSBrAAAADAAJQVKoBlQAAACdBmqxJqEFsmUwIb//+jLAAAAMABvKqb9bFxBgyNDgwAA6ndtUyxI0AAAA4QZ7KRRUsK/8AABdQmz/LGeoFMzmbeRLp8ABqkSa8TQRuPewzem688+dTMAAAAwAAJ4nVO1TLA1YAAAAkAZ7pdEJ/AAAkwxd1U4shdyrB+OAFpAAAAwAAE+f0NdUqgEjAAAAAJgGe62pCfwAAJL8EK8E52UWUwAHYnm+tbos6tKDfZeIwEGpiiNSBAAAAF0Ga8EmoQWyZTAhv//6MsAAAAwAAAwNCAAAALUGfDkUVLCv/AAAXUJs/y0JuIAAugJTx3DyDQsQGR8uxDzbUAtcBB7IYQh21IQAAABgBny10Qn8AACTDF3VZL9O3zlZxqUyJfIsAAAAcAZ8vakJ/AAAkvwQrwy0wdtkxDWMhAZzOg4jrUwAAADVBmzRJqEFsmUwIb//+jLAAAEgC1iMAUG2ox7NHI0B2e3S4CUvZm6YQLpD5x33NXtXxthA+YQAAAC1Bn1JFFSwr/wAAF1CbP3ZrWv8mLp+AAmjZ2oOdjasAJ3KpxR2GLw3/ccOgJRcAAAAbAZ9xdEJ/AAAkwxd1jjBqsFJZdupTHbVOlZTZAAAALAGfc2pCfwAAJL8EJxLJabNqdWIQALURlUILAF54igi8jgGgPBIY8I9ag97gAAAAJUGbeEmoQWyZTAhv//6MsAAAAwPQspfBAC3lVgnTTIalCjegKSAAAAAwQZ+WRRUsK/8AABdQmz+If3ACZcp+lLEP3rwjy7LXiTpjQngP5EKtAIKBea4lf+D3AAAAHgGftXRCfwAAJMMXaKnI1CCycI1y/OAA3Y+zoeOnBAAAAB0Bn7dqQn8AACS9g4HJy5/pxTdXMnJqu0IWwH9OCAAAADBBm7xJqEFsmUwIb//+jLAAAEg5PRTsmozK4AAWFGLqIfNzZg0fdXngz+rX+DK9MHkAAAAgQZ/aRRUsK/8AABdQVoIKBdqMxzdZ2KEfDcN34qY4c2EAAAAdAZ/5dEJ/AAAkwxd1aI/oD2+zOiEq1P4sZtAr51MAAAAZAZ/7akJ/AAAkvwQrwyzSgnaeCtgPYvN5FgAAAEBBm+BJqEFsmUwIb//+jLAAABsnPsBjXIhSmQ0u4lyYdWG6P7WxkA6Qt0wYKNxnV89I2yStws+EDkL5xVjOIs3AAAAAMUGeHkUVLCv/AAAXTrpeAImNIt0EVWVJN9BmGmOKoaYRpkxE+nZf0vDFpg8an3B3tSEAAAAcAZ49dEJ/AAAkwxd1WTI6hx2DtLbP1ZtzT/N73AAAABgBnj9qQn8AACS/BCvBOdB1cZ0l6iqwOvAAAABTQZokSahBbJlMCG///oywAABH9KA2ARhGAKDbUY8eU6yAJbfQAIaP2o8q4yW+SywVkQ/DZNkHHLo4lHU3pG0qPCQ5hysXHBcKr8zFYbBp9+l91WkAAAAcQZ5CRRUsK/8AABdMQ8+EdKFp5SqSxKlfSKLflgAAABwBnmF0Qn8AAAMACoeXx0IAAQQNMJe2kphfVKx5AAAAEwGeY2pCfwAAJL8EK8Byi9RHXkEAAABHQZpoSahBbJlMCG///oywAAADABSa8LxSNsAcw9OUIEkDlRgBrm2tckN0J95WyBuFWo9E8flPDFq16vQxMP66TuP7H9dPGXAAAAAcQZ6GRRUsK/8AABdQmz/LGfbd0RBVYK+KNsNXYQAAABQBnqV0Qn8AACSfVwhrgOVRZNnegAAAABgBnqdqQn8AACS/BCvBOdB1cZ0l6iqwOvEAAAA5QZqsSahBbJlMCG///oywAABIAs/yegYCADSaZ/Hrncuo+nDKj322InlTb4B2lj6OGTBqojiygaHVAAAANkGeykUVLCv/AAAXBGqMpeKdVAypIAH38Ffh1F75MqTxVl3FKR3xyN2CZ5ZH9gAEJNQ+74bUgAAAACcBnul0Qn8AACTDF2ippVTjbq0FvAAFyxlkI/fWqGiDS5Ji2/jwOvAAAAApAZ7rakJ/AAAknkpLmy5buekAEWAsWOZj7N6Ryo9syNHIIEYqblUBA90AAAAnQZrwSahBbJlMCG///oywAABIPAeZGAKBkh1ygn95qqF9YPnR82tSAAAAGkGfDkUVLCv/AAAXOx139HI3WcBSX9NOpCbhAAAAIQGfLXRCfwAAJLkREAHGvfcJiyvq3Z6hAr6n+Hmo9Uy4gAAAABUBny9qQn8AACTHvYrv0V6hJ5jAvIEAAAAXQZs0SahBbJlMCG///oywAAADAAADA0MAAAAXQZ9SRRUsK/8AABdOo54ggznTwTYB5oEAAAASAZ9xdEJ/AAAkwxd1UVDRJMJvAAAAEwGfc2pCfwAAJL8EK8Byi9RHXkAAAAAXQZt4SahBbJlMCG///oywAAADAAADA0IAAAAYQZ+WRRUsK/8AABc7ZnO30GQfbF4OgeaBAAAAFAGftXRCfwAAJJ9cWGuA5VFk2d6AAAAAEwGft2pCfwAAJLuryfAco6UB15AAAAAjQZu8SahBbJlMCG///oywAABH+yhEAcsYCba1aFHZX5gAOqEAAAAXQZ/aRRUsK/8AABdP902i1hMTIAklyoEAAAASAZ/5dEJ/AAAkwxd1UVDRJMJvAAAAEwGf+2pCfwAAJL8EK8Byi9RHXkAAAAB3QZvgSahBbJlMCG///oywAABH9G+nyYADoKGuSqjjtpTapMdPfStaislshyCYLC7wzTFtnz+CxzHHyOBqycy8FAZysMYbdXqJdji9VkJpc8yb2A0776DWZ4ukTo/6cgLHCuwakU7zzTVdd/kFEQtS33Sl32pntggAAAAyQZ4eRRUsK/8AABdOul4AiXlAX+53qp9orAed7Pw6fzM8lDo9NGLlTr9qdz4qA6Eg9r0AAAAXAZ49dEJ/AAAkPWrean/pUEvTJZrWC/wAAAAhAZ4/akJ/AAAknwUIxRLnD7ISZAniCA0jykPaLBPHgJ14AAAALkGaJEmoQWyZTAhv//6MsAAASCWze4wO4DBtkIduiem1lFaz66XFXnVTrYoADekAAAAxQZ5CRRUsK/8AABcBjFECeH1A/4E7NDNxAKfgOzqtF8ky/dDmwSrD6IZ/DGUKfJ/vcAAAACMBnmF0Qn8AACTDF2iprL1ZIAM8SQWidWk3P2r5M5yzBz9qQQAAACQBnmNqQn8AACS/G9qpep5EwAH17np/VUuD7ND60az+ZN1617kAAAAXQZpoSahBbJlMCG///oywAAADAAADA0IAAAAZQZ6GRRUsK/8AABc7ZqIEDJYcNtAB8uULuQAAABABnqV0Qn8AACTDP7Hro/D/AAAAEQGep2pCfwAAJLqmzEo9LZqxAAAATEGarEmoQWyZTAhv//6MsAAASF0G1gEGBGUTHEA5wVJqNY385wB9+6XF+BQ4JszsGMjnH/GHCspfnuxMVMZV1GmEOeSEpSTVj4gmqYEAAAAUQZ7KRRUsK/8AABcDEelFUFmGasAAAAAQAZ7pdEJ/AAAkwz+x66Pw/wAAABEBnutqQn8AACS/G9j1svw/wQAAACtBmvBJqEFsmUwIb//+jLAAAEhdCmiAQeiCY0LL5h+Mr+hc793l9Q1uqFBAAAAAIkGfDkUVLCv/AAAXTqa42ZKjPjjR8laJ1Qt8RyiT037G73EAAAAaAZ8tdEJ/AAAkuMHvaZWTUc2YCn0iq60en6YAAAAcAZ8vakJ/AAAkni/k8ogV0fccSZ4wkQ24YVhmpQAAAElBmzRJqEFsmUwIb//+jLAAAEgC1iMAOfTFl6LW1foLX7o77tGehKuq/C/mephqtj0iRvUVO88ZuuJI6GiyNkVXbTActKTNdUkZAAAAO0GfUkUVLCv/AAAXUJ9xescKvttQPnF3qvwWim2kQmf93IXXENB5SGgJi1WWV7aoMbFUN2Cjwmcob3BBAAAAHQGfcXRCfwAAJMNAEy67HDgJwyPle++CAA8t0oixAAAAMAGfc2pCfwAAJJ4voHpGjjWWSFKiwAJUJVI9ClnNQx3nxEadw5XaHnAJsREXbI/NSAAAAEJBm3hJqEFsmUwIb//+jLAAAEgUcNHx6YBvmT9JGx/718oo3GUi8CI7tGJEugmEnTU5ooS0PcicsmxjG9BqOh5RuzMAAAAnQZ+WRRUsK/8AABdQVpMnA5uRm4IAW6hepf5hrJ8A21+1tKc6vb4tAAAAJwGftXRCfwAAJLjCKqgnOhRABJptoAW6rbBiMe6zsNKsuxTINDgIiwAAABsBn7dqQn8AACS/G+mfE8m5zX92DeStOlklakAAAABVQZu8SahBbJlMCG///oywAABIEf04BNfDvc6p6PdN55V4lHPH7MGPa6xfW1I7UcRJzQkVP5DxPdGSQsCC+5h4BH/f5Ur3fYpZdaD6GOKIk+4ykRnjaQAAAC1Bn9pFFSwr/wAAFyyw2GSAHCrsFCxawQgnx93UwXJsJFYI9RFj585XZSxBd4EAAAAdAZ/5dEJ/AAAkwz+98XPu/vTACL/Vd/yCRmzy1IEAAAASAZ/7akJ/AAAkx8cUZL2R2zVgAAAAK0Gb4EmoQWyZTAhv//6MsAAAAwAVL8/8tx4/w//jiAIhCkZdW13M9liOcwIAAAAUQZ4eRRUsK/8AABdOprgeu1yhC7kAAAATAZ49dEJ/AAAkwz+1daJe9Wy4gAAAABEBnj9qQn8AACS/G9j1svw/wAAAAGZBmiRJqEFsmUwIb//+jLAAAAMAFSryOQCp6q6chMm+z/4OIj3zFwoMbMRi2lHRUqAhxE7aTC9PziyOYHMXD0czx49aVXPNIYRNs3Y2/NOnVM412AFK0p6WswQyeJs8EzpGgVKaYc8AAAAcQZ5CRRUsK/8AABdQn5CK7eoi71p0bfit932K8AAAABABnmF0Qn8AACTDP7Hro/D/AAAAGQGeY2pCfwAAJL2ECc6bOT0fFtAkckQxJqUAAAA9QZplSahBbJlMCG///oywAABGf7BAGr48yly+dtyUPD1C2t4ilgdnJZVVmSGTroCws58P/9IaHWzq4I1QwAAAAKBBmolJ4QpSZTAhv/6MsAAASHpvPdmm8TALNbXnP4YyLPZFwNJs3b83XQZ30n2BNROhk8rRtTAHywHgJIBgQmmGhSW+XUazZmc6ijtXQVnWg3dtvH3AiqKusb+GFwiO8CSUMfEqDzsnUOy2dv5QKYvqGiWHSS1jyEHxJV1qrtCqnP7Ku3X4e1TvwObSMKmFyhIiwDMROMjOQ5jDt/eLUiOtAAAAPEGep0U0TCv/AAAXRScIqPoArfeGz34w5Fl6jQE66q9NLWL1AWajR2cmbgpc8QgCkJgBHwCOJxYFN7EeRgAAADYBnsZ0Qn8AACSpJxKkgQcuW1EGzM2aVABLVOqvVqvDOGFC2uevZ38KlPZ/t9pMNETOAWtdyoEAAAAvAZ7IakJ/AAAjvwQsVvuGtL2mPiAFt1KUqckEhzXqAZihOARSWSW0M+wVn/3mvN0AAABRQZrNSahBaJlMCG///oywAAAarWeVC1scBMZgAL1YclI2IQ2SjTPfjVVwUMR8fqYvY0NhPGFFs/V1f0m8e3z7rKKKsv6vSftmctFlo9cqP4nwAAAAG0Ge60URLCv/AAAIa/rnG8sn8oRhf3rp3nN3VAAAACIBnwp0Qn8AAA1+ANN7PABLHlTGtJqJB8IupqsZi1NEmJBdAAAAFAGfDGpCfwAAAwHlyVGvNsmKJApoAAAAP0GbEUmoQWyZTAhv//6MsAAARgL28npmG9IAMtjzcpGbNiy6o5sG6MvR1GDK3h9dkoIS7w4OXFlvO7FVKyhEwQAAADFBny9FFSwr/wAAFrUrQhIdKng34sERP7HI+nRj8Fsk9k0ADNC02y7vOYiXzyNBuO24AAAAHQGfTnRCfwAAI8MXaKnG1aUjVCCzwqbQA8JEnzkhAAAANQGfUGpCfwAADXlnXjvhW+RRYNfz1W3GZuuI17SiNMDTHwATMNVegbyql2PA3/j0diqev2zBAAAAWkGbVUmoQWyZTAhv//6MsAAAGou6soFEoA6cepoABm3zcFwPCnIdVdxp6z+74ZN0OZPLhjZbJaGILwT9xRO9FPaqC5r9gqAmXyHBkRBAoAHOBFd8GWHeUV3vyQAAAChBn3NFFSwr/wAACGv8ivCA7++5MV6/kLCmlVUmG/0M2gcv9uaniLwZAAAALgGfknRCfwAADYI5zAC2zzfWunBg9B1kunVOZUkKdYEugomKl1JWvCh9ZYcpZJgAAAAcAZ+UakJ/AAAFHTAOw26WppYLY03G0QwkX9jxAQAAAE1Bm5lJqEFsmUwIb//+jLAAAEXykQmwCEepQj2y14vD7prIX4aiVuC+HyB9Qk+pjGcniSumgeZ7VeRF6XmrbNAXk+nq3Xaga/cXzHnZ8QAAACZBn7dFFSwr/wAAFrVa/hZJXDwgE80GlH6MJoXUImwK4sgbHar7ZgAAACABn9Z0Qn8AACOsPR3Mc3cNtX+ZMZKfS2ovb+3c+u/ylQAAACQBn9hqQn8AAAMAGmDiYAW3V8s1dQ/la9cbRfuFS2ibifzsdbMAAAAyQZvdSahBbJlMCG///oywAABGFHUpgB0NDu/muXJNMgskIsTNAkrJ+bw0h9eg67t5DekAAAAkQZ/7RRUsK/8AABa1KzdrWl64ooPIgRBeJoqHR2HROl4wLNsxAAAAKAGeGnRCfwAAI6w4/vWS5gASOrM2Gb5rawHJKyWQeSPLK4ArJhECOSAAAAAYAZ4cakJ/AAADABppKl61XzfrREtzePwYAAAAi0GaAUmoQWyZTAhv//6MsAAARgMXmEHwegBYJ/Us+t42vk3jSTkraIhRUcmO4s9AuKUZekf4lvzPyofQHvrv2Qmoyintttl3XSW5ql6xobdqdRW1uX2sQqajFHk9hgllT+p6mIPQDhWHmpRq+Tp+607OdzsGALKess0Tx2KzZXKxVMkwtUakTdYJWYEAAAAuQZ4/RRUsK/8AABa8Q8222XVbVlQKALea5TJ7vIl6vKqmy3a1zI4NhrsbQJRigAAAACkBnl50Qn8AAAMAGlwBsm9EKYADVEZmwytHTwh0+TiowUT+MGbGWO7BgAAAAC0BnkBqQn8AACO9lOlYNcJksoAF1Et0nldXaSM272TYZuLZwA4ChnNJ77Omd5UAAAAzQZpFSahBbJlMCG///oywAABGEMFIWugAvxhR4YbZlLVUL+edZ4h/iH0QGG9Ud8YNyxuOAAAALEGeY0UVLCv/AAAWvd3eWdkKY3EAATt1KeOU+FBE4rvS9bg/WMe6O/60d26pAAAAGwGegnRCfwAAI6wY/1kwRZXgTI45bC1MurZKgQAAAB0BnoRqQn8AACOuzmc7DK2ul946YI2PGtSxGICAgAAAAG9BmolJqEFsmUwIb//+jLAAAEYOZqvH15e5qAAQj08sE2fc+1DJ0XVafOCcGABi9eBoZYVnll+KJholFIhxD77rJuEN+1LMGcOPA8rU1IuiUzc6/PKVpCandwVXr7XQQFwYJtBozx+eqUUZXTBuTpkAAAAjQZ6nRRUsK/8AABa8N4FISvT8Y0OVjIWMBH+TDSvirioG2YAAAAAsAZ7GdEJ/AAANfgDTYQleQsAHBeqACwwK60wEyA2q28RsIQ/gxQB1WGwnvg0AAAATAZ7IakJ/AAAjvwuv6ioTD94UEQAAAEpBms1JqEFsmUwIb//+jLAAAEYQ/ZAWsUrBUc9Cv+9vbD+4PBArhxBALMjIVROWITxBUEfIGB5eehWD98BHMSR9I/1eyvuUAdnfoAAAAC5BnutFFSwr/wAAFrUQRNj+7bKu6NkBSsuDRN7CgL4fH2lXm8/1U6IKtLZdDLbgAAAAFgGfCnRCfwAAI8MXaKmlU9UQJCRZd7sAAAAsAZ8MakJ/AAAisjJF5RISnyUiAAWhC3tKTm2gaTsuaXPg2oStU3gWTEGukgIAAAA+QZsRSahBbJlMCG///oywAABGAWa3XJeASKjUa9WZ7TaZTP0VL6TLF+DeABDfClMM+qfiVOMmZdxwXycQekEAAAAiQZ8vRRUsK/8AABazQrbAThMxZOAaa5ll3e99l4boaM86TgAAABMBn050Qn8AACO39c6fAcqiSV2DAAAAOgGfUGpCfwAAI7DSvBSQAbkjcOHKeB+9Mv7x8GHh6Vgd/2K6XqtHOUlYkcLl+X2EW93QiCJb9OX+2YEAAACIQZtVSahBbJlMCG///oywAABGf74gHiiEuZ1PNe8vQzA+lRcLr443MZ7qWgRLQg0XWOmHD/3mHKe7OVT025Bo8X9XQk/SwuovEfJ09yETl05V1YrEL+5wYlrNvnKYNciX4XFnVjiURDcC9f0Zge6sKADHR5NBJaEAEL8QGIFbDeGpnIIVPXg/yQAAADNBn3NFFSwr/wAAFiMsj/kcSvWrH3AInCQ2paNERRTTh4ITmLp+E1aFMTusrr0L2kbOE2EAAAAsAZ+SdEJ/AAAirDxtpMYIEUI9IAIpg91LO26D/7qpyPFHAcy3MzlROU2HkHAAAAAgAZ+UakJ/AAAixzK6mxSQaUF+xw4Xck5IiHTsL2HfcJwAAAA7QZuZSahBbJlMCG///oywAABEFF1Ya+SzT4/hZ49PBkoBCslUBcM6viIA0iuZnxbT8sWQBRL5E+X49UEAAAAuQZ+3RRUsK/8AABYamR9RUABx6o0etmpbilYoDMS6YXOWYR6usHS2L4j289cLgAAAABEBn9Z0Qn8AACLDP7Hq9PxDwAAAABMBn9hqQn8AACK/Gs577BHS9tfBAAAAcEGb3UmoQWyZTAhv//6MsAAAREQ5+7sxhIQGZmyATZCynzu0qmYThyLiApCtG+r5DErT10CfxvqaK1EhXZdQVoCfRvg+68vs4LiEMVsXlzqv82R+m+Gl+XfgzPjPmrBjEYyCHrF6nsTSaWQlFgb/vT0AAAAgQZ/7RRUsK/8AAAgsCh5FZx3bz/eLpMMJ3nXJCSF1ZgkAAAAsAZ4adEJ/AAAE+Ft5gGCHAAuf3cAu3vVDI+5ND0lYD3c047ux/FpmO+x7FYAAAAATAZ4cakJ/AAADAEF+On2DiLvFwAAAAFhBmgFJqEFsmUwIb//+jLAAAEQ82RqAbAFYeTjecRCqdZnWQzgSb/gLy7Mt8JPhHq3Uw+8Dt2krPhlA7U2aMOmv79wpUrlMCFYj3HXHy9A0myWbe5ueeEiBAAAAKUGeP0UVLCv/AAAWGlmKraF2cs0wIf5kytTsl9AT7R0Mt8X2j5ycx5wgAAAAIAGeXnRCfwAAIsC5luXl2j+ZaTQ6dju72IDhE/7V+BwWAAAAFwGeQGpCfwAAIp5n73fxfKi19DDQtmghAAAAYkGaRUmoQWyZTAhv//6MsAAARBRdSOG9bMFAiLnULsJAh7+jd1XQazWo1NM+ORSQEyRM7Ftd9Ec9JwV3DIY34WKo88dD71Jet2xJn1n73pVfEoXDFArcs8jOZDZvYjS7rSxIAAAAKkGeY0UVLCv/AAAWJSs3lR8YvGLpgBNJ+SKNYqwjeEGKS49c7akmmPQWUQAAACYBnoJ0Qn8AACI3+SfbGB9owASx+aI8WTwpYjSanjLyhp1VnPRDAwAAACcBnoRqQn8AAAMARWOV3iaf0WAWtSACdThxoHp0BSNnQ/ypNWA7Sb0AAACAQZqJSahBbJlMCG///oywAABEJfGqNK9wBTLWvmm8CJeAnuS6unKht9l77KlUAtgcYWsHbdfrbxCR2K7+7scf/zhHZf2/PMvG7M26P1iS4PnEkmtB2OpiVPRQtlrGFWlUGH3LM8Y77L5WZ27lIiVosIlnzlWEtnLhdswqR8YUE5kAAAAzQZ6nRRUsK/8AABYFsPOucQAtaU8dbiQKuThKOxIAiQ9DHEawW+sagq9Brgu0qgajfUiwAAAAIAGexnRCfwAAIsC5nLkmY5ihWd/6ROCcNz94gJCDzOLBAAAAEgGeyGpCfwAAIscyv7Hr6WbZvwAAAGlBms1JqEFsmUwIb//+jLAAAEQUXUlI1hzbWKO+lq/DfaEzGR2D9K+hlx83no6J02T5V+chXyCV2GwWouCcNSsW9tQMQDCrP/tbBb8R9F+hk6RJP0z5vnh83SeEiW5itCLqMD3AWepwYLoAAAAjQZ7rRRUsK/8AABYrlD5acFXh5bn12/LqZVVmrT6t8ADwUx8AAAAzAZ8KdEJ/AAAin50gGAG4P6fDOQDPcf68nofBPMygvV5OfDkf8aoY96LmK3JUX7CPgZG9AAAAEgGfDGpCfwAAIr8b2QH0D54ngwAAADpBmxFJqEFsmUwIb//+jLAAAEQC9vJ6A+j4A2w2mJ+IMDiUjRlX+nbwebsNoHRMCK7aWKwsoBv4ixbRAAAALkGfL0UVLCv/AAAWJSs3a1peuKKG2gIATVgCaN4HQGlF1yRfl6q05e16yFbfqCAAAAAhAZ9OdEJ/AAAiPcs56YPgfHCAJdSU9PStRMOdZp+HGx91AAAAKgGfUGpCfwAAAwBDY5gS4SprBycx7mwAIVhnKIl5cBYhPNboMTxl8PQNwQAAAHNBm1VJqEFsmUwIb//+jLAAAEQlHl+ln0Acw2nnFzz6z1v48SkPdvlKA7ubEOvOuQep9eOdiQ+1EX6OUTI49eEN9UYFlRTC243p9sGwsjkg0qjgKoFovwJXQdGUloMKPNcnPmv/s+bxQqts/n6REFqhxPR5AAAAH0Gfc0UVLCv/AAAWICJWnbpW6/X9zxnbh0iNF4qDEu8AAAAdAZ+SdEJ/AAAiwxdir13iGP2N8SMd2/8J0LR9iFgAAAAVAZ+UakJ/AAAixzKVbFhHgvjqI7GgAAAAO0GbmUmoQWyZTAhv//6MsAAARBRdlTgE0p5H5e87X20IwY2zI5pdxcLCz2e7Fy9u7loAr6qbQbgRMiRBAAAAJEGft0UVLCv/AAAWJSs3a1peuJe3AU49Tlo4Xc6XSw2XSYmk+AAAADEBn9Z0Qn8AACLDF2ippVPU+8hTOleIz1aKDABM1wLgdDmOW3TNJjUugdK/Lo+Ggq7gAAAAGgGf2GpCfwAAAwC1pgHDc3t0Yw0vZ72NZauDAAAAREGb3UmoQWyZTAhv//6MsAAARAL28noTQg3RM9yzDllVFs92KoYbsC1CDdkczEAVaT6KvvwvkwnWId/yReuboj+UvDTlAAAALUGf+0UVLCv/AAAWJSs3a1peuKKDwjC7zhbaXABzFYXBtsv8VB48pWRL34diwQAAACcBnhp0Qn8AACKr+Ft4GFXIAFoz53yr1sX2z0OIRDI/HClQP0fulBAAAAAVAZ4cakJ/AAADAAnyX8KcRXWURxWaAAAAakGaAUmoQWyZTAhv//6MsAAARBRe+YOgttPMfHAXmufKz8tSHUCkvGTwyeZ3kVVi7XUV1QjusQPf6Xsk+IeUJNJhz/7uW/NTO5j3/xU2SHCsOsptTnS+G5Se2sgV7yejWTn3NBeu2M0CBYkAAAAfQZ4/RRUsK/8AABYlIaqdulbr9f3PGduHSIl6aFXggAAAACIBnl50Qn8AACKwowivN0vxfElh/4m/wlSAaEwvMBeTVkLAAAAAFwGeQGpCfwAAIrnBUdsqKiR/KzlWFyghAAAAhkGaRUmoQWyZTAhv//6MsAAARBRBViB7xgGpWpBSgi7lyFifxeMthgR1STDSrcLPjrLQo6oOn3JmBPkOnj7gsEfrBy/KziLSAB5bt3+wFHo3JZsFj1RcmIPHyWODTWauUV5VbnYpGqtKvVzahyMyeMlSeq2mpmTfDszJ/IN7nkji0Zh4M7+XAAAANEGeY0UVLCv/AAAWIywXOCRJ4p1iFrTTwJ97ABM1IxaRb+5CR4drjee9tOX7J2b4E3kQNaEAAAAtAZ6CdEJ/AAAiwLiIVNxFXUUjdr+opsCQ6Halb8CwPRwYAEzTQ9EWoz9jaT59AAAAJwGehGpCfwAAIr8EJxLQO4SFhXPAC26u4NT87TPcxqoTbgjy0TmjwQAAAFBBmolJqEFsmUwIb//+jLAAAEQCrj4BFJwaGzDq2thie8MpTHdl41lSKx9sJQVSjPtKdKFkkQGua3KLqsqIcDR3/wbEfQ13NAFtqHM6bW/G6QAAADNBnqdFFSwr/wAAFh1UYt4b11RP9IkTUGuEV+nELiRYKZrgATt3jfkTacCHbz/XrJnvcEAAAAArAZ7GdEJ/AAAhw0bGfnwOyMMwtCYlAAXE+hqnlpiliy8QDtHpWRMLI1/ELQAAABcBnshqQn8AACK/BB/+JqMZ0i8K6iLDwQAAAFJBms1JqEFsmUwIb//+jLAAAEQQwVywiEFdgQAlfye8+0KXVa04j8m3Veaf5r5P0XSTcqrLcv0W+QwQIxlNvs3Uve7XPwGHxMS20v6CVm+jSoOAAAAALUGe60UVLCv/AAAWIywX5NfoHPMHUlpQQA3dGQzsVkt5j+nBvUPh/9mqbKTQ2gAAAB0Bnwp0Qn8AACHDO6C31h4o9n8/YKugp+0mBjowYQAAACEBnwxqQn8AACKx6GFZkPc0elDN+6cGXhNzLBfNIOWvRxwAAAB7QZsRSahBbJlMCG///oywAABEem3J7PTmNxvwpghfOL0KsqgBK44XFnuFn1nqTypnAFVGuLRPHJrVXOgXiCXLlGy6XJtE+asPXFsNJm32cclcHiuUl5QPwI1xkevZ49HRgxKWlynrjK1tpN/j+bZASgnnrradz/sa5wGBAAAAJkGfL0UVLCv/AAAWLEPNttl4iUgzh4zRfq7SKiibBsT9iuRKe42gAAAADgGfTnRCfwAAAwAAAwGpAAAAMAGfUGpCfwAAIrGFoDDXxAU1qs6IxNwoAFh6FP6WWuldfGfv1p31Dlme29EWeDeLuQAAAIpBm1VJqEFsmUwIb//+jLAAAER6baKKa7W8eMAL/XyNSJTNbSgQherMucabluDvA0Rcv7S1CsEe0u3SsE7452vNtuxnfzolbHY5HcnlrjIonaT4nf15w1+cf4C06KpTzA3OTVzxdK0N1wVPf59KNoYbYo7mBnx89fpyIOngh1yNhC7WY3w28Kxr/oEAAAA0QZ9zRRUsK/8AABYeNHr0u4R2p0XFIF8wqJqc5ACZHn4uklzZKO1JLkNsr/34155raMVP/wAAADMBn5J0Qn8AACHFCBABxN8jHOp5Ui53RrgNbEx28pNuwscy62lq/AQpRcGrcVuMVhmDCoAAAAAqAZ+UakJ/AAAisYkiEXPoP6Jd2dVz+wR1gCGVaJuoTu+QAgtTE1AhBEh4AAAAfkGbmUmoQWyZTAhv//6MsAAAQhDBfyxoWK45f/9h3F5l+yBkUWkUc4Cywcl27ZONRwwMu0qRbWHz5BzvDqNXvTM6R8Cg3ard7ld7Lf2WdlfrZVZA3UPyN5qZI9y4FNx5Zic+YHFxQ/6ibcSQyDC3DMAvfoRCh60/Rrdzf5eagQAAACNBn7dFFSwr/wAAFZVYVYrOP9ihGsz6Hji+aHJZVVz9WJbcKgAAADQBn9Z0Qn8AACGf+Q6cUAHBmp0HfJZyGIVpfNOLrz+8WsOFcg6m6gVqlQYy1LFkawM0CONoAAAAHwGf2GpCfwAAIZpZDTZUV/UPwm4YgVO45RuggVfz1ysAAABeQZvdSahBbJlMCG///oywAABCJSe/OVGRAF+MKEaLEKG09x5GBezRi9Mf93uZoTzzhd++txPLQFinPN+nsMGFyTvSdFPF3a8YtjCDAe+UOQlZh3z7+WrLej2aQasuIQAAADVBn/tFFSwr/wAAFYpZiWW1UludrKqw44S64N0SQAlprDfXjEzTvZHPEup8FAOcDaUlkBDjgQAAACIBnhp0Qn8AACGSLMgGy5P209/GMECKOCFSzVxvMkn13RGAAAAAMwGeHGpCfwAAIbIliJiAAXIoPvNLrm3cPsyZJfFDdiXriAv999QQMEGUQ3AsejFez/xwqAAAAHNBmgFJqEFsmUwIb//+jLAAAEIxLzlDfx2si0536JNySADFFR1QBD7PHxGR/mvwKuCQWN37tNdvosuR61NCT+nksq6TaKRlyp1N5+WJH7fD2zUpsAZ2TdyUmCalHa09Lr+qz0SS3eBlCqZr6M2BjO+11lrhAAAAOEGeP0UVLCv/AAAVkywssXju/IKzIY7R8CH+HmU4G8B2YFHHHKtSUToTV5GILaWZEAyPXIYy+az4AAAAKQGeXnRCfwAAAwHPih5pvBwALSOKEUVGgjl5tjfknojU91RfKy/cqwyoAAAAIwGeQGpCfwAAIUPyvcqJpGrKxZ4AWs/0PuwbSHOUKBZxHwWVAAAAeUGaREmoQWyZTAhv//6MsAAAQiXd8l2YAM3eRQKP94QDRPxj74fre17AfzCA4TCriZ/C5QX4EP7/hFKXumYMpvK3mEbidREB5XkWjd9E3CsV4rsQb6qKYTcSq/8+xXoo4gbaFggtQbIjKZiEAMthtm7v1p6u2VV0FagAAAA3QZ5iRRUsK/8AABVRUe4leug8AE4vMOmp7DP1/9o7esYJG1tXO/i6tS6EB1AFKQz9e3WJWJAdsQAAAC0BnoNqQn8AAAzftow3OMA8AEpGI38Z2UNdIcJI1oxNbkBzeiAsWuKAKSGvPJEAAABfQZqISahBbJlMCG///oywAABCMLq0wYAVXBn9vSdDtaB8ru23M8eqvGIXYuLu4h/LO0bhQSae6DCKEzFwygImSrAnLYkC69JdccZKkFHwio8GEgQ7HWPXacLEy08MMcAAAABBQZ6mRRUsK/8AABWTK/vzYbcXuouGt3BAATt0p824sUWKJMsgwC5Y4kkdXC2B1iCECCVcY9wAZZ1B2DyhEj29KMEAAAAgAZ7FdEJ/AAAgw0ccA01UwCRczY6Vp3FC+zaWUJf5KMAAAAAiAZ7HakJ/AAAhxzKe+nZOfT8j2ONvccm3ABtkOM3Ug9/W0QAAAFlBmsxJqEFsmUwIb//+jLAAAEICqjw+gFevD8OKv/4hyPkSMs7Qx8oU3xoIW2MWiP/53bKLZIzx5/06DcFDq8XjV2fFwrSwJt1Tq/7TImoop4kW0zks79OHEQAAADBBnupFFSwr/wAAFZ5q3Xu1LcXaNy11AF/bw/BCMHcLI5hqRL3rQJAD2pqVKvWZ5IAAAAAdAZ8JdEJ/AAAhw0JXukUEY6WzHljWADsB79Dq44AAAAAwAZ8LakJ/AAAhscwJb4Q9SRvhnEpsY3/AeO286gA/nQs/lf0h058qAJuyvNiB/J3HAAAAb0GbEEmoQWyZTAhv//6MsAAAQgIFeT0CT+UFFQAM3G9bYUBR+oQS7WStrCm0P9OihOQgx9Rgsezp0kaUuU1GyxFKrb+C+fQnp/xjJlZznIpmj4h5ZCCReBPsqAFS2JOi5bQIA7QrMC8S5Fh59+eBoAAAAElBny5FFSwr/wAAFZMrtQW5HK8kj8MD6NwAfsgqRQXg0ilWY/dxoP7Qvq+cQXMlLBbpQmoF+b4IgCxWO/NFdfL9itzd2akqrmAFAAAAKAGfTXRCfwAAIav4X6VUAFetwiKugHzMHDn28G81cZ8d2aaNvGJV2qkAAAApAZ9PakJ/AAAgvx+MN7qbj3UdOD2kACQeRo1M5K25ru839nKpAbOcR5MAAACAQZtUSahBbJlMCG///oywAABCAgV5a0Ahq8nphL9gPLreATzLmxp9OA7H2MZvRH+fAfpau385hf0Jw8Nn5FGA8VjrGPbbpBilMW88n4YX/4Bko0KIye/N2bZi2YlZc7UVcxYW3dbhjcbNSsf5+qq6Fuy1ZpX05/J5A/NNlJvuYoUAAABLQZ9yRRUsK/8AABWTK7UGAM7aO9LSADz2bgpp8JbU5tc1it7BS5V2H/BBop+kD0dODnSHtlN5Z6Z+e0y3ZLdgOdU75t+zPmtgCdyRAAAAOwGfkXRCfwAAIcMXaKmd8VcKfqU7aoAFqGo7FFs/Hf6RIcAhuECSh7Lrn7RxUH2IqXvVLqRQffT6u3HBAAAAHQGfk2pCfwAAIb8EJxLK/qTEwxD/MhXKYe21sFTAAAAAfkGbmEmoQWyZTAhv//6MsAAAQgIFcdwKywwdkJrfpKASHuuSeKUKI2LjPpAi1eBxe74QLws1c8v9poQ/0Z/xrC9k2zUXICH3Ie4RDxgmL3JCy8D5FULruDiTwCBkWuDIk3Lq3Hf0XmMI/iusnP+J+oDi8sa///f08Lh3ZKjSzwAAADlBn7ZFFSwr/wAAFZuUNyMKI1Mbpq2FgBkAMfvp3MGtYnUR6Xy22N7rPpxP5Oezp1w2tzYopZXt+TEAAAAuAZ/VdEJ/AAAhwxdShFBcisRVWAFrWxkmuvD2ZJAAPP/p1IF4jX/EGkxZj8fJgAAAADEBn9dqQn8AACG+qhZ5M1jUtcydqRxoJox8LbVBaw5RDS8C2wAPAqfWb3mYyunvJFTAAAAAS0Gb2UmoQWyZTAhP//yEAAAPJ5Y/GhrDXAy6uAK1eYsmKtIln8Th1durHQhRs0yprKLcVa7jY2M+ZNofxiBvNFwvQN9un3U9QUXwQQAAAk9liIIABD/+906/AptFl2oDklcK9sqkJlm5UmsB8qYAAAMAAAMAAAMC2vR4kzvk1PE2AAADAQcAKGFTESEgFLG8KgSjBcDbTRWj6x9OWx59k5WQLXvr29rPfQKRXO6R0ixbzwTKN44eBgys29ktWUv/brrkXEWvhdfEwasy+lksD/XpqGNTP3zAvJKjens0saB9AryaXRupWeQrmZdXqpf3ifOfs/OwsV8d0lyeUzZlZVjlp/sPBDeYRzn1CqIPprm41MzDdjmvigN/4uo0CW1U/SkgNgH8Uk32FY1L5c4UOUjs3xfxmPcTM3+QMlujabTpTh2U+q53E3FAyYH0I+wNdyft6wQdUcQ7moewdVjlD2CrHyOLi9pzg8be4RHRj55/PI2Y/FTKD26ziG9Z2mAiRXqlaQ9wZk3OC+QI5fodND+zAAADAJJDb597dI3fxGSwRWDvrXTkQYQqq3INE+bMcW0vHzASSUisCwp3le4nfP04u5Biw29fMB79vX75zq+zMiZyCz9SHr6q37FeEbVARMyPPTZ11QeXN/S/Zi5o+i4ss8SoMYAxdJJ5XS04wflz+GL9wv0R2owDepngYxUsIWFPHIJhOvkffr1MwWS0SKiJ+f1ZOI+D/BExd/itGV4SHNKwRLO5cAIMgcQ/sKLd50NtY2/DPOZJAlV02fm6EcJ8rYg4TfoXdoYNo2CAHnXj01YRgOMv1UnlORs5puGnLIadr+SvPsmh9PzmNTBrwnLECeOvMjOdxwC+gAAAyywAAAMAAAMAAAMAAAMAK2EAAADRQZoibEN//oywAABCB01+IsgBHqp6zRVywlN6kun85tAv8deayxI51fyoYf4AhGFNeBoYLUcuZdnJsQ1gLVjB9nN8KVsvTKlZNISd6Qi5lsIqMqdo577jV2KKdnCOknb4S3LPNUmaQBn86F+waekdsAMReI6VYuEWcDmaJiJg/qFpUmjkwkEogeOd4Ll9Fo/d6R2LvW27LB8fylWjuBc9CIS9TC3SwO+k+8bubnakiKJODi4fmxec7X2wNK7MGpgjlch4KhG2vCdqmcDsJO1l9DEAAABBAZ5BeQn/AAAhscwRtPKFTcCjunrnmV2rvKFgdzrEE5qFC4Vq0oak7QEtXKoLRm+s2k5J9jPaobPVQKiUyDwgS8AAAACLQZpGPCGTKYQ3//6MsAAAQAD5VzACw+jEvyiiaJzU+0L0d/7yMlxNl1QS1LeqkcuPOrWh1bMn1czpLNqeen/rlgdluzurQLadTVHKStXFh8/Qz4Hrx91/3pLSuToYsx/CPzFPbyx3vQxxvcHwlb7BKbrKFRliRV7hqfyhOio1JVvnjKeGSPh90JkvEgAAAFpBnmRqU8K/AAAVAyyuEx5shq0YHQOAEWUEoIqYGACc82q/iANfDWzL2k6pTnOgxcnmAmd1FBOhvUWYHASCtBsbvbQHG0XdqvyHFPy8AAADAAADAe3gqdoywScAAAA1AZ6DdEJ/AAAgwLj6jXm3LUFxY5+IMC0rtqxwn1vPxvjFqzVk7cyqn+tUQAAAAwAgneYQFnAAAAAwAZ6FakJ/AAAgxwtVL6+3igYShxZkN5ey5XDIKAP6k8HMpfrfa8YUiLZKn0sOSzrMAAAA1UGaikmoQWiZTAhv//6MsAAAQAD22J6ufWzkYggkYypzOVeMAVameUPaH3Bl1iRtkzDjyCp9R7yHMtJHotuhuo+PT44v52EHJ+DoOhE8VP8T96uBiBDooy4FgXZ156WOCrzMNzvL1UVMwxWhTN5vEsXya5rM2yvcpMvOA8Wjibk6y99DiPs6ScmnUw6hkfdawPN6pHEDO0uc3OwSP5pNTTUFtahSn4jTIzpvgZxqLDaUp4/DfVJxXqQuZCfXTrQ6CScSiTChhn1vvih8iCLupH3yFvqNgQAAAG5BnqhFESwr/wAAFQ5gpeQ1onGIxgYFDwRQWRpv0PdUGX6t39H32mxZANAYmOiJ/BMuo9yEglOpV0LtYaM7Gp0hy6Oz6oY0ibVPevHFN4W7A/3qGKOs0jUX0ToSiXGD8lgkECBVP4uLx/QqCKvzTAAAADIBnsd0Qn8AACDAuLc1b5H/+ynL/nvRA+0yOSnmKCeMgaR9CKvU+yswhXxuCpm0CEM4gQAAADMBnslqQn8AACCuMdGghierJcWIl78iRInF+bndklXdxSGEJDKDvCpRLXj0fXH9OTuFdMEAAADFQZrOSahBbJlMCG///oywAABAFE52kG1dTMidAzEIZVzOnzwJdfyf3pB/9JiLJLqL3EoWtp1JhUCwdQwQhOlv7qBgeT+egfVvpNP7cHJX/WN2FywpcS/BnvjGDJLOEtnJ1qCak/8WNgY+qvpTWEYLdvA9kRtWe9mKeCuTT2S0Db/wTpdG9KDhhKIjv2jO0j4Cad8udOE5otGZuLrncKiKcpBBZpiuAdp1hZU2WM4VBbEXz5GDVm5+XEAz3EROCRscoVFmTJoAAABXQZ7sRRUsK/8AABUQMX3iIf4Lm4rGmRbXjUGzbVOYUIG8Ju6dL8TsfZt0h5K3ZACXK19mXTam17g4kv9LeaOTyanWr9XPnrB9VKR/KW6n1R/AjTv861mBAAAAMwGfC3RCfwAAIMEVBv4PXuUs0lvDbt0YfsjZinZ755GPwNfcDUCXcsNNrxtQ2FsM0f07gAAAADYBnw1qQn8AACCuMdGghiT+kESbUJcWtnjvUHugds1drJO66Vwy7QuOwi0JKdRvMnyLTKgYo7EAAAC8QZsSSahBbJlMCG///oywAABAASBgwA6LmoEIVY2SbbIe8lgWC5e0C4TcTXOb81WP0dDb6CAk7AyDpaqJtEjCMPQgDvR3x/wvV/GDopJBPQKMvq7t6QVfHoEHeZp3pPZ9z91qG/VJ1hsT/1ZgPpXnXD6+BLwShWtYK1/XM+4BkhWgID8kB6Uu6/GI+NBsBVnGo/LYBezQTFEpPsqXZYvxwwggKx1tX1pxsfyv7lvVDIZhu0l+O9gFm94jx4EAAABGQZ8wRRUsK/8AABULX1c61kps7XMimYuS174g8JgISXo3E+oE0pK+suFPlPW2bdYQ55K92Tb48RNjV1y5DSmttOEEiOAfcAAAADABn090Qn8AACDAt906b++PALGoSuC9JX0z7GhROG7VV/4ZqxlTNf7bPSReUNg/RWAAAAAuAZ9RakJ/AAAgvZVmqmLvNBwZeIsiEeNt3agcM44ZlcX1ocT4X1O9LPmf0OF0wQAAAHNBm1RJqEFsmUwUTDf//oywAABAEJOx6nB0/wdAEcWtWzLUhEX2YZkcLhJmy77LevyN1/fZhsUooior02Wn6KrvpDA7tu3VNTTuRUgh61gCaeb+AnnkGQEk/vi7LSAmN91T+J/8CdDCOshuTdSMiVzntnR2AAAAKgGfc2pCfwAAIMbfIXBTBK+RkxxQ70cq3NwjUu1ajrYvJiix3XCf7wH3oQAAAIxBm3hJ4QpSZTAhv/6MsAAAQHpvP9zb34wAceDXEiOG6P/9hJZF5qjk/VniqhX9I7sh5kD78bYkoyfC6mqd97UHduvG7t+6/QfoOyYJLtEPbarmrOK6roQubgFi+4UXBgDQCKrJkKbj6u8u/PO37v38uRxkH95gdZflAADBzN5PfiQjtSZYrl0zlBlS6AAAAElBn5ZFNEwr/wAAFQUl/JYhnB+Y7MaUcYifZFtx9WtaElgArYk3QBcCX7vGig8+SMh6rii4Vj2boatYALcGSPUvHHjtjb1+uumBAAAAJAGftXRCfwAAIKv0lIGBqO20mWM82EScgHNPa0GiP5+UOdCPgQAAAC0Bn7dqQn8AAB+5pxWPtLYKpuQv7nPISBgAEh5STk69EoYvhJVzNZ7w4xCo3TEAAACVQZu8SahBaJlMCG///oywAAA+XIMr3Hjjl/m6lLjgX2kMquiV/eQ/5u5P0AR4ry8C+fAli7xflRfTbW9xqip9ia9MG83Js4W3czeiFsj4FSmnIj0zTDZwE7zNQOtK55fXgdU86BTdpNTEnrkY4PtEIlc053bZSOsQfAIp0msn/wghhm1nlBVwl6LMrIHj5hEv0dJDfTkAAABJQZ/aRREsK/8AABRqSrh7VwzvHPT7Pc2PdN4uM7g/Knc2iOKxbu4I8LbNuUOTk6oLO60CAE+Ye0zI5+/cACZ/QayU3zzqNU5o7AAAADMBn/l0Qn8AAB+2c0VjKtKPzX58FR02Tt2/kuFM4SLYQ8VbxV++cFycD9c2BvOOWxeni90AAAA1AZ/7akJ/AAAfxu6KuA1h94JolR0Anmzq9g3m4r/+iK4TJynVXoNOwKbO/kAEE7/7w4EXhZkAAACxQZv9SahBbJlMCG///oywAAA+XcZPw5RhgJ0FB3yYAHBviQIZ6pn6cVHYO45gaKxAKYFhziiLY/BAq5eaAhEZGDHGd9I0Xn7jprmbaPnXpdmgAhGhUT+dV7AjaQNHL1PswAgQCk9udBaLTZ9W+Yrhr9jvWPccLzECDsgbQkQRuPcNgQUYG/cdzasJVQHvUuHDzTSllK7mXTXOoVaQ+ifWojk9CvmQJ1VVYLwRKLUOec1wAAAAkEGaAUnhClJlMCG//oywAAA+vCc/3OWbxLqqAEe5RQldNga5KgwC1PcsOx9P/gKRd0Lo6tppPqgTqBBXFXxP8z5UcTccMkJO9fVDlL30g3LjngLs3NWTVn3yF6ojMUam7BdAZvIT9E0UDdHOYxvIKDih4jZd4e8nFmcKHDewEvXqiWBWKPkHVWbtbTTMAyRdsAAAAFRBnj9FNEwr/wAAFHH9Lban8l+P0SSghfGB8KWvkGQHYU2oCcv7Ncy2yViQ+nnVDoHsguwGxopNeWcAE7cyfsinpTDOyKsFxuyAy4SX14MtLE+JnoEAAAA4AZ5edEJ/AAAftoklIchAyy1g2tP+3iSvWmnxt8+wChYavMMvIkWKUlsqNsyCK0Ozs2BgQ91WLukAAABBAZ5AakJ/AAAfzj3g8WxHGlLETD5LNXeiMGd9kNQFrEBh85BoRJPnMI/YFcK/I+v5O4CH/GCBdtRTDQzwkdz+L0EAAACnQZpFSahBaJlMCG///oywAAA8/JPELlyaV2Ho0LM6DFJLWw+RERLqYxfrSuA1dxzMUTPu3WN7oUG+ker3pE/pEALXE3UU25WcjS7GPHvZ7bW5ZCVhHgz+uLItWi4UP6wBPIJHkdkOIngsjuCNK5XJLe7ObAZQXITZj+RJulmCdsN8M78nl7Hy4mo3EqAV62ig4OjwH17sRC5LmppakwqK9txW4bGadhgAAABbQZ5jRREsK/8AABPwO0KwJxIJscaIIPzhjjjSiOQKg5n72Yox5/c7zCbeh/UOqxEVKdyRcyhCTFSpJjVUSVCQRZ9+rM4vmxGbZPfJaj4E5fE5FdfBPZuQpgcXdAAAAD0BnoJ0Qn8AAB8Gc5Toic9wFnWoASXYtFtX243xwYT+pI+V+Kr5jdlBFJbyi72MgxRngfGocnjpIIiucntBAAAAPgGehGpCfwAAHx5AfFaERzZW7qExxFhv1qQ3GLDo7+dBvOa9WGDZWe/K1xL0D4a05QAemIinKWoYVy72kde2AAAAxUGaiUmoQWyZTAhv//6MsAAAPPyoaxjSRjAHK245XIvzm/ioyvLf8Zr5lsHaZgn6bYHLR/L7cOm2RSkPx2Wk+VVzQlNvl/TxMW+MS8XXqHAFlCWjjbaVfYV4WEAOrPVnMZo7tCIQT2U2caaCKz4EWPI5fs4EM5Bo7Sq2KBHCvyfXPBgVI9lJ4GOG5fWb0I/kEXN2/7c3SixGNFmjGt2w7iTwbB2AnfpDe6fHQg2LD28Ttpxus5G/nOmewD/6F3akv4wkWh9AAAAAYEGep0UVLCv/AAAT6zI8iAngWvbddzoB9yJmZE/jI3lFzQA46MwxCcpiUSlrdYIrsUu8K3BU/+TuX8UoKJtBMJja2NbZ49o0+rKRkADAeeBnjpQMVvdk4/MlBSVh+QrY4QAAAD8BnsZ0Qn8AAB8YLLlkN+eem9dnbcrV+je2ZbapotaixX7uRaoPJR14P7ICS4YiXyQFX9gyinq4kMBlQZh249IAAABOAZ7IakJ/AAAfCO2smLgG2wxPU6Mx+PsF4qdn+UAJYa7SJYvpZxHEim66pvMebSd0bQ+c2oqaIrIhDGg4Krl1IOz/KBv+Ok1SNyBcOLuhAAAAtEGay0moQWyZTBRMN//+jLAAAD1cJ0GDziQHYAOHhjurC8Uhis8Bx0gLTmD2ZHAG0KLwIZY5m8QBeGu7x7/frNhXM9q0IsxGt8QEGDr2ycw3UJEykZSbc1+3YZbT917oa5khRNisidj0xRbXtKyFqmtAMsF+1wchp5E0G8pHEgWKU2pF8rYAEOmLU7/VOvqgJf2UKyyHpUGvqNC3pF/7ZF6tyuMh0HqA31ZgSFtEzHml9hyAAwAAADsBnupqQn8AAB8MtqdXbtEUw/PArMv2TGrxMcDI4Co6aofKNyl058zOAI2jjh66iy3HaKbW3+vlHnf6aAAAAK5Bmu9J4QpSZTAhv/6MsAAAO5y03CkRGAOMFT9G7Bh0k9YxwzbUPnmOwKUEazQzU7DqhmbQSRqvIkQxmdaUDFdmz5iXqXsPIdPFmtxCnwqODX08M5ttHrFcfHK/NxH0W4DwcPnkc7mEm1lrefLWnmEZTYH0y0TnQeXCTWKX1vUuMjJBNnvMe8O/9HG6r71qGj3AHOZze7hFQLRwvazYwoDwuc2rAEDjiVbvtqKoTkEAAABpQZ8NRTRMK/8AABNdNoNCmfR+Q089uzoew2j5sZW2IP+GG2P3LjfY/VVAjBkPngpzD98HVRMi4Epjz5oJKAD+Y7gLhftwaeruDxUpq175jyDi6ab/tg6Bnl322PEIoSEUPWWA8PvzhvygAAAAOQGfLHRCfwAAHk4pig7LAUv/H4kbbQdJfueInY5RoWBhOVCDCq82Jt7thuGTSwyxptGu/9V/tm+/twAAADwBny5qQn8AAB4Eot8/Woo0BWYM+pamm+aRIAygIRxiC7Vq+/m+geeJ++6JhvsfRpuzXBimpISaJCmne9MAAACCQZsySahBaJlMCG///oywAAA7/Iq6/SAgALr5kKwHHZh23KBhdptmRwUAgqT501NhCy3Y2O12n+aPPPJPxOIyTy4AxtXtu8jjlq7TNdZ1GcaYbXgXVDxgYS7ll076jPG1qOBo1roh3+tdbPavNfWtdXJnVNaUPQ+lWXH2kDAdx9AUoAAAAD5Bn1BFESwr/wAAE11fbrR528+T6kCV4A23hRbTHC8xf5cExXkPNJO+NqR9ZqGLxSbQaQQulCTyQfEVegP2UAAAAEMBn3FqQn8AAB5mY2Y1LcvXs1njmad5b1b+TMuwEc98HgD+nLrXPU+9Wn9ISFHDWvzkLAKrmORf9QAaog3VeKMl8vmBAAAAS0GbdUmoQWyZTAhn//44QAAA6PqNZC1Zl49NjVM47+tGn2Ej82fYpgI3wBl9SzeXqRmNPU3ZgrCf+ZddeoT7mRqh7zJGMTpbTaqSMQAAAFNBn5NFFSwn/wAAHlxpw/7Jlqu6EeEv9svEoNJEeWfz+IbizF/QyyA6PhXV2KCUEXibkhm0LEguDhhL9BEAEMYaTH4bO6B+QzvtFdpjBsa92oF8MQAAAFcBn7RqQn8AAB22Y0lMjm4WFlTb9hI5j9QZOzfu1t0N7PTJh0UebgllmQENZWWdRM5VvtQAIdLkAol1hlvRVtdqvoXLOd7Y6lKU3QZUaFF+NNlq1thLKoAAAAJhZYiEABD//vdOvwKbRZdqA5JXCvbKpCZZuVJrAfKmAAADAAADAAADAtr0eJM75NTxNgAAAwEHAChhUxEhIBSxvCoEsSGePwjoJsBNu5Q9ab2llfiMO+Mjt0eq8aJjU/r00YQiSmUNQyVYOBVl8EK2R/rorOUACOffgoy8uKw8l6swu/vvpOa77nY5SfMgw9M7IHIjk91+ue/DLG6lJTYCR/pgSDg/L267lzvfBXBmyTMbF71S/ei0oxkgbS+uP29ZuAwr6aPnRFcGyiKau68XbwFpNDKv0Z+60/9gcRGebKHJW1D+WS+0rGkaQN7oXIEk00X/rvEefuoxrRQh8mCUbGtsxRCvLqQMEyyy0FLc84Vazcocuw1ysh/bL41vhSZ9IjGDU9IBCLy8Q/ne3qTB1ma1qCYup8M1IjkIoh1FPiICkDQnre/OJZNtOkK5cW7uzq3G8LCTACeroolC9wlKLIiZ5ntEBloRQOlANAkCkK1ak3U+c+SvGEqrBTISX1SU06sg1Qyxk4a/j+JBONqN2gHNkLMmRvEQGjf55UtUH1OMMLS4owmtZK5v/RG5hWfVpoSRtnKFK/hQevCR9DqM/6XD3XUOA8MWUurm7FLAmE8uBB8uyaceJAkxodmvzmV4pW+pTQNTYiTVk1RELzx2m6d3KSAqygbrVsTTDIt0dk+UE9S94yaTWSn+iJAkzMfGBHkuDALi6R7ER8G5vANPwj+SyMOmM4swfV0DIfDB3kHDMQurThzywfO+uFdosLaX5rvNmLpz16fitqriqbU69MdFYy3GVAVMAAADAAADABDxAAAA1UGaJGxDf/6MsAAARgph9VA0gAynFgUeWW89m7IJcKj6QN95UTwO5tmMiA/gk7t//QO7mfKaeifgUCRnE8ReFyfze3+CQFoQhurgrELYNlhp5lU0b+A3Q1XuDB0adsAnLwhe5TgRlMfIp7vtgqbqSw9kPTfD6Ct4a9hp5ZHhjv/URXZ7W+3SEceRRq30S3Hp9SUgjQiVSS5OMYR0M0GLDqCVvqZbRgFPYqqfi4aVNJfC3/xFNwv9NYD2V8F53OY2FoTOARulHLhHQBjU+vR+SB8/CP/OyQAAAENBnkJ4hX8AABa+XQsqadhM2Zs+dGbi5BJ31um38PE+Xiqrc5ETApMHgmuzqwAgMXIrg6kqLuqmvLx217fE9qpuLf+BAAAAJgGeYXRCfwAABRz5vxPO32R5bVpOwVNyTItHBDzSaV2wLj7GkKkhAAAAKwGeY2pCfwAAI7IsgLLCQ7V+0MSP62mlNC0iUvJXwYtOObs0b9fcq/x7EYAAAABxQZpmSahBaJlMFPDf/oywAAAarG4/KTmTaADajswE+xseqX8a5FcoHYUXNlMtM0JKZLP1zHKW7nJfPjqgsoO6l2NvxFs2CJDf6FXhj9+pJCbO7st99UZa/7AciHBgPhumgn9ZwXGcWk/2EaxZI6G+n6wAAAAnAZ6FakJ/AAANgjWhlkHWXU9jEPuZlYk1f48xhIq8hW5HGg3w8FtBAAAAdkGaiUnhClJlMCG//oywAABGFFtYaOYvx4t5nggtUHWbBACPwq1iKJO7seg0I2mwv4u+DixKmKZy3HaqLux+qKEwSk+amIDHyCkkrb8X9YNm0vLTJTkIbwYCVbau22kG/wIYzHnT24mlfOiXcXBsvvoRcF2WUssAAAAxQZ6nRTRMK/8AABbAn1LdxU/t6VhzINFbd6AVloTyEsRxl1pmyJGTYyuBZsSVb4rZgAAAACABnshqQn8AACO/Gs6Eo0ILcLYQ2Gm4Sz4eRqQavDgu4QAAAIJBmsxJqEFomUwIb//+jLAAAEYHuQAR2tSCi1u3/AwbdZ5kEOMK1us+dK/9iMeRE2DHm/6XyHI4ZuThv2tKJlZknOHggU8okcgpyj44wVRF0Ebldm3LLzwl/gsb3Qk/ni7j8Cag7D3FvM75mAzM5/9FuUycoMljxIiGVuJpH5sqbDntAAAAKkGe6kURLCv/AAAWvE6JifVKlkCF7RCRnvJXEjVXghLsRGz2/Y4wo9N1GQAAABwBnwtqQn8AACO/FX5AyGvct1rXE8G4NxtXXPHwAAAAlEGbEEmoQWyZTAhv//6MsAAASAf7aHF2/OBZ9tbEBbOwIoFScPDJb+6Xo1qcVec4HnLmYvVHtQPsvIHBWStH5URU+WYNf5Zy0c6lN+KT7KbXrrz1IJmJzny16bE8x5FdA5FsU23R26x6S//C2uchK+qpLPbXXCEXgREtcrsWzW8lnPanKABr0AS8R6VYYCCjcEyis5gAAABhQZ8uRRUsK/8AABdMPS5sFZ9EQ3jTDwkjdDVIlcizQ8SmR8i/l894GFXPEE84ZBLBKZk+5xaUV+enTYinwfbam/XRvQKGfvAqPsBXWibx77JqPfaBVHzPkGuqNGhz47wNmQAAACkBn010Qn8AACOsN7/jm0z6hrCQxzFy8CNfJqhTwk3J18JalOWh4EaMVAAAACYBn09qQn8AACOo3ehkyxU8EXbZOyAOIjQATJ7HSBFF3fTIm38UEAAAAL1Bm1RJqEFsmUwIb//+jLAAAEgQdpgwUGLe/JIrcVjGLHwN2YstQIiLwJGtglDeylHMJhfX9lksvMCQ1Dpec8bbxTSfXqaSGqb3NfuEwO9iJAY8SJJfV1fhewql9bWtnNypUh3wTzJ62lbaYiEgtTip2E4MygcaFJGLcd3ySZPSAXuwIz2cfeOOSxNvegynbqwn//vf1tSPu5G6ej1RzsQxmDnfl/Ay2j3nNKd6cg06JnVOd82dzYk2xj0bkrkAAABOQZ9yRRUsK/8AABdLipRkchWnb3uAp7UyLhD0OElswrsFQ9xQxrQ4aXN7tKnFCe/4ZbjTggNgfEXkK/bKYUXL/Z5aTRPkL8BJD67WXi+zAAAAMwGfkXRCfwAAJMMXbbUPqAqrauW+pkcUpItnkEXHrFEkmICXr+wAhQp8gU58OSiOp7K6gwAAADgBn5NqQn8AACS/BCbfG5ODB/EAC1EvcOWftMFqx+dduD7+vcqCYYfKNxZHZAbY4DwJxPD0IUfkYQAAAIhBm5hJqEFsmUwIb//+jLAAAEgQvGG6as/6AEI1E6g5OjpHdzYVasCXoZ6Re+Wk7+tdVhCYBTphdDqHhXY8B2eI1HyZvjwlSmdQ+ya0cnCLZPCMlRxqmSwo4e7piP8a2yRpXDc1sTwuc7C0tEF1u/1Zm/sxv4YNPUyj9GtUJ+TTdb1kjdPTLH3cAAAATEGftkUVLCv/AAAXS6JygB0LogcZ8y4aFadAk7z3OYHQPlVSkxC5y1MDjagwXWZ2cfFKJ//3LxRjOaz/YNyQBq/3kj0RFy/oOgP+oOEAAAA7AZ/VdEJ/AAAkt/9BTw4ARkStXsN2cEdQlbyzSq89zx/sfd5dfFu3fdE4861+vgLCssTqJPJdGo4dOpgAAABLAZ/XakJ/AAAksSo5H6chFQAbq3N+mY/ZEMvXztqWgwLEU5oE4aLe3Kr/DdOfQn9tLYJB5ejAaYKcGZp3hbnBEKWC2/BXP8rSRNmBAAAAbEGb3EmoQWyZTAhv//6MsAAASAHxqO/X0eHyAmoq84r97/bDif0DkJb5VeCuoJjfqSQsbJhU9Dq3AlefC4nS/uNOBc+pw4j8mpcuDroEU7YOReZkBNwNzb7OQITf4CYLrhSWkGqpkEprSrC5gQAAADFBn/pFFSwr/wAAF0NHSC15p5dYF0lnRzzKubekvgb6upA4GnCxYFzQqaHoV70obY4EAAAANAGeGXRCfwAAJMMXaKmd8bBcBMSMeO9VgDnZacjjwlMAI90Gw4/PiM4UbF9bFdw0kuvRcCAAAABJAZ4bakJ/AAAksi2vrgAuGEJaAZ8ohCX/SF728Pkvc0udBzlcX2X199HsBND/ZiTwVXwyRzYGtWvSpWAN76Vqb5bEDyjs+FB+sQAAAGtBmgBJqEFsmUwIb//+jLAAAEgAsLVsmJIYQQ+CTDhihYOeySkjlRwzUX3MW+44DylByVN28AVmz71wiToHk3xqDGi+oDi+lIKu3+gLcYUEt1b5PYqC8jZeDDlzXCEvSpzoT7IctDsxGUBkEAAAAEVBnj5FFSwr/wAAF0uKd40KSND4pcW/ihpgOkfHo3y/Kppeys6Z6CS6Un5omsgAXF0lPo+xPejn7FHJfYniOK854gUW02cAAAA8AZ5ddEJ/AAAkrCtSQAiYBATY8q+scjtb+BUDQuhqGdXQLuafzLJ5joCfeZycYhwj9t9IdceFuJCJxWbMAAAANQGeX2pCfwAAJK72fqQAiTnqN0+ZhOmOp7GI2KgbrhPaOO4xmCZ9S9EWe/wdiy+6byqi57UhAAAAbEGaREmoQWyZTAhv//6MsAAASDEDgNvas4i45Z6xgE7gt3I+AvN9PTckevf5YBhuTpiKPzGGA9wv/4HSFC4EMj6rFVYEdborLAOTBaGRauArIk92++PqLCT/UtW5cF1F+ndwawK24ZQal02VfwAAAEBBnmJFFSwr/wAAF0uKlGSOmfqAdjI8dQtdRJ8czKCsSadaFdjh7R0lside2V6agL26xZuSKhUsUUvJMFSFCoptAAAANgGegXRCfwAAI9hcwBEIW13F0I6eOK4/QbgiONFlHYMIM2m/ltnqPK+4r+f1FtPH2loTak8U2QAAADIBnoNqQn8AACS9g0KBs5AAtGfAIek9CqbB84FjJ4xhltRfveAobn1g2ulCfpSJX3LLwAAAAG5BmohJqEFsmUwIb//+jLAAAEgQj0UG/1t/8qR3GhDLEsyQANG8PgOLz8rT6tepOr3je69DpSaK2OXrzTsW/FukuP2XWm5Os3La5+Tv1b4ZpGGGZg61HU4CJiDDaJHniG625LDVV4qd6Vj3M+K3IAAAAD9BnqZFFSwr/wAAF0uKdYjMCTLd7lOOD6Yd8bGxsjOcEV6jfipET1hGQWk3+HP9AwknyRQHZzP8pQ5MiB27pZUAAAAzAZ7FdEJ/AAAkq/hbeBNEOABdQCn7EV1pUNZvWL/SOvc76NzO/J9zfCFA0e6e4+NRHyrKAAAAMAGex2pCfwAAJK5d4SrlbSI7hACy7KOGCmpvxay6KFIrKbaXmyQOFTKraExuKdf9wAAAAI9BmsxJqEFsmUwIb//+jLAAAEgUTKl1C/RsF9AF4xB4G5BZAwN7XMKMVQfLsoGwHl7zAb6O2QW+NFA92bxSLLbjsPuYgIrCc72MVGmmwrQwInQRiGGHGZmDZTvRunVt1b5ll13Y9lvpVXbqdu6919oEkAuQ0+6adTzK2JG4Pid7OapGsMy0xfNi20JXIJzfXQAAADFBnupFFSwr/wAAF0uK0BjKguZRMCuwUd+lkYxu5trQf2V04je3l2+ufNMmIef7/KiLAAAAJgGfCXRCfwAAJLfMIAh6yijsqharzKorL3dz01R3Sq2Xrvzs3grxAAAAIgGfC2pCfwAAJK5gBiczoH0AlO5T5QT979PsqTUb8tLA+mAAAACAQZsQSahBbJlMCG///oywAABKAO3P5uiqVNWkWL2m5Dgq5eEB06tCXIIUFHsfR6PeCbUAYO+3C1Q7oP+9gNuJ4SPmJETsfuPGmaMk9N+pivUzRDyRff1IE6d1nC7PT1pti+trhsO25wZk3dcEUN99qxPoprep1Cs5yog/E588RuAAAAA4QZ8uRRUsK/8AABfpfMNgIFtV1WMuf4AwIUAvzFU6QDCVAVLgc0aDFcO3OTdrSt63jt7jDdVRfcEAAAAyAZ9NdEJ/AAANzhLwzDsELFQAWS7XQN/qWVWRlUM7zY0Nzmaf0j/Y3KbQ778H3wnkm7gAAAAuAZ9PakJ/AAAlvfbuRJC7w9CqXFSStTBYbD2sALk6CV3GqOnKXeXnT3VdosmcIAAAAGVBm1RJqEFsmUwIb//+jLAAAEoQjyxRtAIO1cpsI2dZZulQvXd+UaGhPW6jm9twPfj56h8rw2CPZiD6A2r9tCq1JwxGwsW8xFiCW9lklKhMpyYFvi33QT3RBWEjkzFPEpXM4gDQPQAAADVBn3JFFSwr/wAAF+CH+3Fgrrd9jcAAtn4BKSM8lF+TgzpO3rm/rUc/ytIQl9WowBfEgqeJtwAAACcBn5F0Qn8AACXDF2ipsAvUQYqjAALYxsPFyVEcrkwV2KGafbiL5UEAAAAvAZ+TakJ/AAAlsirupH83ABtPOvfeVx5vBDnWRgyHWiDNJJFKdM6eHDLlpdUVkGEAAABmQZuYSahBbJlMCG///oywAABKEI8sQZ/39LChDlRmi9ka6I4NdkJFj18gf4fQAWHiojeqVdsDItJYNI533gYqm1LJ9qPLP29x/r1VCYU4dj1oQOPFI9wRRUhpLPmW2+hBy7bf2g+AAAAAMUGftkUVLCv/AAAX4Ie3DbkZo8EH9hx3IkH+6nPky1eWo+gq/yFiTwxIFOs4o7H19n0AAAArAZ/VdEJ/AAAlqenHE4WEAABbGzmfDez6UAcWs270nb6GpYsJGobjA/JWnAAAACEBn9dqQn8AACW/BCcSzESF4MMcWKpdQ1n3ozJlp0UNZ8EAAACPQZvcSahBbJlMCG///oywAABKAO4kQCXCjN8YI8KGIEf/o0wvNxCHgx42txGbS5MxVYvylHfhoi89DvfeGawdJVPb3dgEPXZ47Bg3OLhETYR8OeouS+Ke8j+tZZ+AVtWhEKIIubBHwDeDzzJEuJ5fEySozxnO+64IdnqxL/qUHkBMJWx6p6X7Rf8kD9bfaP0AAAAsQZ/6RRUsK/8AABfoynWIw9bjX9cnXh2VwD2maakSo9nNpFhVoTC7BuNAWTgAAAArAZ4ZdEJ/AAAlq/hbeBMqAAEsG3Mf6NKDjdL7qUZx7QPYUySKgk0rTod1gAAAAD4BnhtqQn8AACXVIQAcTxxbc7fZqF6T/edHR6tQbEzwpTGI+CBIPVwrtepgiZWfVl1KkS5cc1ucGaQ8XcWXgQAAAFNBmh5JqEFsmUwUTDf//oywAABKFEi4AAHCS0JfhXKPoU1r+E91YNgHUkErFEER3vT/cN7o2Sf3T3CaodRZhMtjAu9AHbLEP3L8aeaMvSq/uoT3YAAAADwBnj1qQn8AACWZrvatfLpAAuFjvwdSaQUlf8l1gc6Dm8zIrv8AfHpTsOz/VItTrpStg99GFbxMvJRtgIEAAABdQZo/SeEKUmUwIb/+jLAAAEoC0OE+3AYRRW4LQ671gBUpeQyrLgT12ydgFzjSqx11PkDNJbp9p/aJc83vR+Vc3fSb2h3IBKIe8Ed4RkLrfh99z+rDvhHQTZXVtwXgAAAAh0GaQ0nhDomUwIb//oywAABKAQEUJ4xL/g+2Zx2xPrMrBSg6psmkzgkDg6WqIZlc4sAfPp43P4biwqD5hY6v8jQnUkyfT64Clq0CSC16/zf3LG0BI+VYKxAmxasHaJeuF7jJJxOgc+QecTf6BvZNFrPi3OTo+RUW5hSO7B9Me+HeZ5bJ9zc2gQAAADRBnmFFETwr/wAAF+jKfljZMzxKpSdD3HFeVuneVL7jm99Ak/BOS1YATV3HJoDsdAYfLt4NAAAAOgGegHRCfwAAJav4WU+XvI/lBjJBFzhFT3ZqpWZd+0rVeJGbGfW3u+XCi9AAbTmh2Ztol2v0905bwYEAAAAtAZ6CakJ/AAAlrg5H8C3LVdlhgALGs1jAFDNDxxnxDM4IjBrS38OP/zdZq7PhAAAAjkGah0moQWiZTAhv//6MsAAATBH7rUpXeDKO23AJbcggp7poKyZs9IVbv0wOW4GzrhHOGAjdTigEC74Kr8h+A5suvJ9zntqSWY+GiaEuT5kDNBjRV78nTMqaq+Vow8dsd98t4wN2nTTb4SmDRP68COSZuXkFui+8jy4eWAgb6yxtJl1Usm+N3leGUYAUy4AAAAAvQZ6lRREsK/8AABiJfS5jUjKpdOpwlZ3N0j/tNH+b6Wyj7CSzAeymOVuz1x4u8+AAAAAkAZ7EdEJ/AAAlwz4MG2hE1wgUGh1AcKm6K9VD3TO7uBpLpVmfAAAAKgGexmpCfwAAJrIu2Ov2f7Fx9OABLFRB34zV5MjdoDwmrRY5oBuXdhhTAQAAAFtBmstJqEFsmUwIb//+jLAAAEwQjyxRtAF+auVQH7K+nxuSpmCtQHW6AjLwy35CbGnn3pZN1ReAOxVbfxXFNYk3iDNIwxKq+5aR4UymKMdZeX7cz3kgWKoR6Qx4AAAAOkGe6UUVLCv/AAAYgIe3DbkcR+gE6w0v8XqNLtUaPlZKL3opVh/Na95eCXcewGrx2PzOdIhXg5lf3CEAAAAiAZ8IdEJ/AAAmwJnd6V6R3IpdDhFggm5ENsBGe5CL0D8coQAAACkBnwpqQn8AACaxzAlvhNgAAG6trj9IXYuGnFTOLwLpOzJ2v4gO+cXA5QAAAGNBmw9JqEFsmUwIb//+jLAAAEwUTsP3AJo7MLoj0fZW2g8tSnoJu/pnaUEuaNwxbe9SWcZWldsgwGyfP1w6bd71WBm1bd4evQHzD5Ysb4Zfs3X2Rff0NgiM8BRaMsPBtkA01CAAAAA5QZ8tRRUsK/8AABiIm2H0ssiht2XqDK9cIAPPYlmOYIslpCaIoB5Imi6lsK1gD4U7blg0Uf85WLXuAAAAIwGfTHRCfwAAJsCZ4dI3T10ZUAOs5LBgRVCRW4Me5Uyj8bHxAAAALwGfTmpCfwAAJr2DrfYEuCi44N3VZVV4nGI+xmrVZ7W7B+L/vT1Qs+Wa153wAhPCAAAAbkGbU0moQWyZTAhv//6MsAAATADuJEAb7odb588LqueBb4eMaoZ05hSZpnkGxLBxjd+EMaWw+zHeIKm5kpB8R0D3sGXTcXs6i9P3oStBd91gUqEEbxQraf7E2Jl8kDg6/4YOMsZTjhzIRVpnQxVCAAAANUGfcUUVLCv/AAAYjXC3MGBBhAOz28mVxaEAJmwoA/ZPfIRd2hOAG9oyUQwQB1ikfURjX/e5AAAAMAGfkHRCfwAAJqpDDEB+dh/pcf3k71Me4AWELXwO5mZnRgDtR+WJDr/MDXMnHbmdlAAAADEBn5JqQn8AACa9g4HK8TKeZaFaT0utZoqkM8jJvKFPJSgBLCqpgiXUo+jucPFmjGR9AAAAnEGbl0moQWyZTAhv//6MsAAATnpvRDjVWs7y+uwNbovAAGdwLya7so1CedJM8q0r4fYedIirszQP6M6gN6OnpCWpyflfJmbeDlmSiUFR9HvZj/kPL2LCKhsmAE27vm0xvFgm3bEvVOBuNPdB6eomJqRKqnE0lTljFCMLaJr8QsghRhxzwK11wUXJ5NiC5AsxzSJKBetfATZoaatyCQAAAEBBn7VFFSwr/wAAGI1ws5jID3OAoVFuuDcPo1yYiE5a4fPrN4lvX80/1SYHxk6c19hICGzOmkAr2P7QZr1T7kmBAAAAOAGf1HRCfwAAJjixAFcM3YaGtaoMLYtACS8rG/eKpfF1v1xltOZcwPfmx2E4ipxVA056PDRCpmj5AAAAMgGf1mpCfwAAJr2DQn7C8kGK9AAuol2OFzkocfcyoiRlgQXXx5lcPFnKz3ly/hjKGxs+AAAAukGb20moQWyZTAhv//6MsAAATgHxxKHJUARXQDsucAx8utje9Cvr5mFfqQDVXBbrJqgcrXjuXLNL8TDd2l7FdzefsxZ7lCs0oOm9bMZaaT4bMZpunRvCNJgt4gDyc71UWbF57Q8vuBEwSvEeUbNgnDuIvQLoKf4Dqk3HWl//457VWmkTLZLn3Tk0xjh5CaCzsuyWASCWIEl5INfLh49AR2NFX+jsIuwrbVF9We5WUStYv+hRrNjlEmOImwAAAE5Bn/lFFSwr/wAAGSl8w2ATk6kXoAFAPTrUt/euA73fsW4Gp+UqWl9JTDLhsCD9JJjDLarNApC/AwNGrbKZ4Ym9kzVLGgV74YevYs3MQysAAAA7AZ4YdEJ/AAAmrDjNSNwAWn/yIkdgdcUWHr9p4gVLmnIBoDM7BQFz36dGRG2hNJ2jNmiEQAhQxV0T2vAAAAAxAZ4aakJ/AAAn2W44rHtLwxjNwMOKGK/YfZ5l3QjEACY9CpTfT84FvTsYEd/UXB46dwAAAH5Bmh9JqEFsmUwIb//+jLAAAE4A7LOIfRgCgQYJQckZ2C+j/OZwmsFo0EyF74X9/KxUNLAisghteKMeP7TGcjkWlr7p5ZHsuW5Fhmclm8E2W13O43AiTUFERedCxmXL3/54zSze7AdM1b9XC+lBMR62Y+yD3s/5OB1B8tTb1pMAAABNQZ49RRUsK/8AABkom2Lki4SLrQa0e4gkqgASRnmzbfN393c1/ZGJxpQu2WxFa4ZET2l5RxSrIeRaYBSGSIDC4K1bRbMSIl2o0YTpm7gAAABDAZ5cdEJ/AAAn21Y41A7cbnghroAL/WkheMdgRnyF75d9rusCqrRTaBlkkGDKBn7o9AMb5jy0iviQ1iUKLdoJ6P0ggQAAACsBnl5qQn8AACfJgGLZman5xvHc+NynXEOG5SRe/JOdhkCThWKDr0soM+VAAAAAi0GaQUmoQWyZTBRMN//+jLAAAE4B8ajv192u0sEkil4eH8wJNzkuBIBHej8waVzXaH5uGpwsW7OPmyQrT0CASd62V1c+F58cWR8+6AeeW28V556AyOS+4UObQf2f0YjyGtRfL44HCvuMY/eTRF2GMfPBctMD9JuLTy/tlgH8G35A1BDn49oAzJs2NcUAAAAmAZ5gakJ/AAAnxVPTPHqGVJOjC14LXWZAeijoGAmFkab5MRSs2UEAAACbQZplSeEKUmUwIb/+jLAAAE4khQR00H9QD6umnV/rKL/egQTgVS6+F1q3kxqdep++0glAImM8VUw3TI2Z3E7Vm8/uwa5/hLc/jIvlhzfZSvrtAO5pBnb6MRFHEDuIck4xJuSqzY//n8Ih2/+HY1fzf35yhaFl42ToTQ3E1unDgAok6Mach5oB104WTfxkF20Zcg3JB4vY/Wd4AzcAAAA2QZ6DRTRMK/8AABkom2H0petxsjj2AuU1PoTi/mHB5GYY1P6ByAygEXMjivCGYUA1JHapitixAAAAKAGeonRCfwAAJ9tWONQOxlGvI4yGGPC5vaWDOFpad5b1x0f3Oh3pDlwAAAAsAZ6kakJ/AAAnxPGa/ze/rXiChIdDlsXah3jqQc1AQDDxEh45j0zAXITnWXAAAAC4QZqpSahBaJlMCG///oywAABOAT0UJl08+fHV16QEvs1/XLkToBM36tpR2Owz4uSeyMPJMt4c2BNsstyrovlPlpyWwp+SYel8Rri4TV4HeG5jUHoN714Ylr+BQ+UTjRTofXm+VC1PDUCiMHARGwRPVhZq8FA0qi4Ar0XwS+2hX1uNi79qRp+pGNBJ2zGVaVZup0QxW7qNLzI397WAgxaso4R2GAAVFrJFOsyAE3hWPCujfepP1XOv4QAAAEpBnsdFESwr/wAAGR/sL28tXDsDPEyfsckznqj+e4YgBuy+T8VofKOiTOQg3Kmviu/y0sMpULW5nzIXz/1cFZ5xIfndoxl54swNUAAAACwBnuZ0Qn8AACe0Q6oyDurKzMABg3zaywsTEFGZQYHO6UdQ9kQ0pDpjJphe4AAAACsBnuhqQn8AACfFVjjP/UJgSfRKELdO4ullkItYAnslpZ8RNr6nmAn8F6eZAAAA+0Ga7UmoQWyZTAhv//6MsAAAUCoarkALWJVTXg/pMDiDZZ8Vqr3HtQ6bIXO+sl4wnAfTgz74IpquKwItFRkLsV9ko35mvRJXAQNmGaHZNwditzCVIRQyMJpCTEdFkK7so3+BQXK+uRs47Zey+uxkJKgr6Y6aYtcUW0EO+zoMS7plYF5P77ZrN+aP1FIydwNL0b2e6DQbNB5onC1GGV+DuF4NLpFsdsFe0gEXyDr2JLiB8nZ46pmwmx0O7JPOJz4kfyvTWwRHCXP8Jh34jOSTdwLaDRaBRg+q4RQd6THyqt3iXHsT6+34JtumfRgK7ENUF/Nc7Xi0ThkZ9IYhAAAATEGfC0UVLCv/AAAZxuPCFhAA4fg8novbaAzhzvfTdC7Dy+gaIJZEey4CiaaeV3Q1oAplO4x7RCEX/sPiPZAN1IFy3CyhCp9BBfInU4EAAAAsAZ8qdEJ/AAAnSR2NrwVzyCT4/K2W6tyZzIfMT6N/6lJ00klDuwrl72ll0L8AAAAvAZ8sakJ/AAAo5VPTPOMW4v0mCr2hZLL1nKz9DN07IbIm05XVH9VoJvRwCeP9b7cAAACNQZsxSahBbJlMCG///oywAABQKho4jH5owDTG7gzUWCZYttw/M3iFdVUZhUQPWgFm635AtiqwW1I74i/eNlFBY09ZgtvCXM7AZPN22/eO+Adq3x81RehoHTzaa/sp9ec2/szawj8Wn2S3zmL3Crb+INg+Ae+aXCvUEEpgd9IJM7eFDBm4jwa/7MHK+BJBAAAAUUGfT0UVLCv/AAAZyJtupuDO8txwjm1tluWE4DjABcUiqoYjXOyjQWEDFdTuutI9AT4ogBLD0YEFUVOOXSf7DGvLFTmTA+VM9cAy7uICw7A6wAAAADIBn250Qn8AACj7VyYmt1cS4wL3nA2HNvzmcIs3vxrNTj2oAA/RkU/MYVtHM5d7CJCccAAAAEABn3BqQn8AACjlU9M6XVXCxcvvEq6jS9LAc3o6qRz9Bj9z5c2y4Ef3EQeGWAzOiSO4DlnC2/FAxggZyCG2Ix6pAAAAdUGbckmoQWyZTAhv//6MsAAAUCvGbgEVlcCZNl9Vug8UDQHm0WUbsDaCYxkiYKMrBFAO8j/NkCK4/VjN5SlWgyUvYjKqC6bDWlGB9SCYZVHHIo9iK2RRs+IgYvXB1wrSgfXC65L26OBB63m3Yf+ZNW9d5N4w8AAAAKZBm5ZJ4QpSZTAhv/6MsAAAUFO1nv7GAEZHlkMTZC88crTPsi1bcu4I5z7y+f9uvPEEfGSVZK+9w86l9CY+eD4NU+WRl/zcC+6VIyRYol24GfhnqfAm8ACxNSr5TwGfQTqqryI9+PFan4k7ePvmiyZTmWJy0P2jO0RFP1sSKXF6HD7RXuqzcBzttumaruoWb+xMzE5GWst8l67x7rH0lWK/IemBl2ehAAAAY0GftEU0TCv/AAAZyGL9kgggeNHQQwDOAa3nW/P3c6e3QQdCg1oE7ingXCelXtLGdv+6dii+om4aaLyuGRUUNkZBggdyKwaCgO5yRHyOuIZilYeM+b/1iR23plkl31+zrUHvwQAAADsBn9N0Qn8AACjwNW3YlexGkmqwoAC5t5eVnY72oa5oQ4aUGVSLsxeTvWT0eCKORn8+BJxwjaiuUW7ZQAAAADoBn9VqQn8AACj3qPS+nsWK6MGFKjRq8YwRTkKZMYVj1xfvq58kDbtuqnQKt5qU16AhCZ77sv5tju2BAAAAvEGb2kmoQWiZTAhv//6MsAAAUmpErkAIRDR/Hgt0egULkB4B3kP2Sp1wljQEJiEe5zrh7jxp4X1NK429PhGpfchzcfhNzCc6Y/YcGIYmuGS9Mos2TCTB4P4QgP/E3JGmUh91+rNDAPAftS/ww5NVxYx+WkQmn40F6R2gD83OmmWS5IFh8rS/qMSDD+0+2DCI8K+G8aZcEcmxdxOagBal/Y2r5Wj4u7gaZDdyqUy1pbvDoyjUn0LLEIGqp1F2AAAAT0Gf+EURLCv/AAAaaF7hT70c087xnSQmsf8xikavA0etpwVEoPig6ck11y8lgmQCB33EZgfFIlg5Sa8QgEawASzIpBYTM/3BQsWmWUJmx4EAAAA/AZ4XdEJ/AAAqHliPyXtIizSq+cAzX5vSVxN70iDkqwqHHdpanArZAhlSDzTxVgt57GEmhah3ttw/4xLV8+Z9AAAAOwGeGWpCfwAAKhcy7S8BZjUvzy0nlIK6fBv23NOTdtSURkw89Uk3vEQkZW1k6EGzS5tKgBogPpQ7XtWmAAAA0UGaHkmoQWyZTAhv//6MsAAAUoLDIiifbfkY//1W283iGtEB7/i14YAGQNz6lKiqoOefd73Se62ULUIjzHyXJqPX3nvF4q2dlnRU3jSrtkhVC+FVqmADUHj/BnVD3pmNTshYRnClWu1YpJKw+Zw8urHV0s8bOKEwHZh86Av7fedpfKo4wlNs0JWeD4ZEpbfdMp3+1ToWlsiYjM4C9cnFhgCoh+WiWYp0VsOtCsj2DF4MPu+7Ch0LeekH8o+nKzomtuF7WX2BZ40MdvKCj+lBUUdAAAAAUEGePEUVLCv/AAAaa6XpkjTsk82WFJS/3bcgOoIAidQyklG2EIQoUn/8Tw1MPbsvlpjr54zBJnvjQj664M5nBF3QkIN3lVYOVxad25mTJWGBAAAAPQGeW3RCfwAAKf+eYRWbX4fGvzcA5u4SILM8BxzDozWIXRCbAmpA03kE8Q18hqo33VmCdQjUXVwygWg2MCAAAABSAZ5dakJ/AAAqBFL9k/pyFEmYH/zxeAxHj/QTxitmBOhdi1CA6oDFtST0kQfLAkagD4AJXhDs6MFFUWZVF/7mdEI3dnNsLKAiO4VDNPSi09pgQQAAAJBBmkJJqEFsmUwIb//+jLAAAFSqUK5ACD/EMqqAAdtk+vxAtYcygko7CNUmmEgwTg/R/0TvQgfdk2almszeRa45HCYJVoajNFzw+ZfAaDSM96dsEswWSMjtslaXiKBfFlqUtOhOwcDSPhWZfq5QT+vbJ6S421bnizDcKFDelPU7FEZiUihsMJ8RcVQd2vARCqAAAABJQZ5gRRUsK/8AABsJgs22aBz/3dkEjoelBK2O4ZBr/hCs+4XgaCcHcXNm8XTa243zmv1OexDghWV4Z7ADPVeePeR6KNo3x38YEQAAADwBnp90Qn8AACn/nqCoPAoHpKcHh6vAiXCQw7+5dTFcebzmSvs7qwmj8TDERiRTNmDve3KE/xxfvaPFukEAAABAAZ6BakJ/AAArUxwBm9jroBxLCIDVAd0pBx9FPxFIrvza7wmvdWoxsXXbXzW19p/LKfy7e6y1t1SU+3TzrsxqgQAAAL5BmoZJqEFsmUwIb//+jLAAAFTuztg77IgnU451gfRcG2nwamZ2Mm3XuBaKc7OgBGA/BSqazoMgpCX+2SpTAv9BayZpttJYC5If+ntCyZzbZuKaPvHp9Wg62smQZ9A0V+TmquklDdn0w8fiVG6T9SjsselEur41AAvtJnim5U8wcMAsYGDOtIP/fnNCl+i2d7XrvdPDFwGvv28u5PzwDmIym3NaFK8l9HZsLrzsUb67g98R+/C+CizHADHB1xHhAAAATUGepEUVLCv/AAAa+jM0QDNJrL2EgVsm4TI9uBlb9WrN6MooBStwaub4u0b/GniCHTV9yvb13WlRymkq8x9chdOWELgYebdlZENh16yQAAAAUgGew3RCfwAAKzrpqEyK5Eio82ZaEeILvVsKR652w9tc70FcySzIupB3udQQE7W+ND9tc1wjejJejDHmRREQoHnehSIeWOH+j7y/idMHeflSVNwAAAApAZ7FakJ/AAArNzNFVILmycE7kb3JrG5Xzzl2raj8vOqWiVHiq6jjfTkAAAChQZrKSahBbJlMCG///oywAABXAsU2sSOAOXAoJNJW34kPPFThPNhxu+eLO4n4c+MYHVR2yUYZLNZFnDHiscv+ejaAz6V1xdfMaGs/43kAB955LlZrKswUqflBZ3mPbnPRMrNke5QTTwBQ9YeqeX3MHKyOUBdwWZnNBOZrjo89m+A7RA3waRDbM33b+L89IcMAACQbNswwsWt0UBqtCgcq8uYAAABVQZ7oRRUsK/8AABupgs22aCZJ14zXciDAyAfqpfJzcW37bjL9Uwr1w7JPQEaypqAAE1XV5/dJa+R/1WYlt7+uGMryexEJMSNOuUPQ8cTZHnA4QUYe0wAAADkBnwd0Qn8AACs6nSgxynLGmsdvwu6cvxnNmIOm5YEybWad6TK/6a4dFu44ZfG50kwzLxIMDhgCeqEAAABCAZ8JakJ/AAAsVmirah+gBR2T8qZdgOgXqARvmg4CThf0meKxeOwbvhjBWuKPMSUb4AJal9yhKHQ6YRCpVoo07xFhAAAA5kGbDkmoQWyZTAhv//6MsAAAVv0J9HNAETAFKcDP/ip29OSYUcCrYH8H48DwkO8e/zN9Xzvs2+ABAFQsxZKXznv/i/Hjd3J3NURB7TmC6PxnhR9dPifBzmvi296rHNcmVblC1s71o7uiTDtKoE7gAnM/5FIwZWPQGg/COSSuX0sRZl8Y4JOquRngZrHFZ6qDaB0x0MvJDCEDCtsSmQapQa/5VqyxyuZ9+6oszYKIuBh903nmP99DvIbsidb15KV8SjNijiid6JFj6tpKqTLx1FvwoS85GR+6UIUyTBD6p33Mq2XMpPqBAAAAYUGfLEUVLCv/AAAbqHqyeWO/4b0etiUdK8O0ZpgGyAFD6pWvspkcEXTzbJZYBGLaKVG82sGyX014CutSjRxpC9TV97siDHiwIbU8l8buAKg2VSe9wznyygRDEvjZQTzXh04AAAA/AZ9LdEJ/AAAsWp1Zb/+29H094Efnu+7PySOFXylwATLTWJtk7/S/a1SMFW0oLDMgATrBpmatYUgGoQOQA9WAAAAAQAGfTWpCfwAALEKc8yw+Mls1GBdK/YfJiA6RqPrSzeKQkbI0eJG0Bnl0AO6OUnyhta/46i/34u2YEhjO8vAlNd0AAADyQZtSSahBbJlMCG///oywAABZU/NWGy5gBGR5D+JsAveNM8Qr0hQSYAD0Udx/YqjBwA0lv8o0I/GQTdCfqf8KlE+aZ7NLf+8QqJQ+moJ105UD23xn5hzu6RGwAk/NrtVuGdzvaYzh3tJildAblbl8WS1nYxoLDwV+7ec1wi4qhmg9ZccmzBCLNDXZE9TVxqu7MjaJjhRBj4OBARvh/ZJs9ODTNRcabFpwv7EKYX5v/WBh05eNHajT2+8a+7Hk0wy9bsMNbDmx7NilOqtLl/4GWNVUN0JH/7RSOZuvwke3TjvytR7SAyN2fq00vfbkyunKtkgAAABZQZ9wRRUsK/8AABxXAhTHV0pZh5U1SJFKspaQhRfZ1jfgZYFweT98y7RsFO1snicRz6uwXBYRMNYD6gBNP374v6qis1OsCZLH0XrvzF1bFAp6fAsvNixKIf4AAABKAZ+PdEJ/AAAtX51ZX2RiqNTUjLzcFWJf2lBJnhbjEy7pADcxoM+zXpBxl6vwdkFLAvaKwhgGySmAvfKHGee8qPG7d2wI/t4XKmEAAABCAZ+RakJ/AAAtYp0sqd/HMEPj50zWwceDTnu0O+NS1cXdBUDuUYynzeh6sP11GUWsN+BpNkkFtU0S9h1Vp00a9CpgAAAA3UGblkmoQWyZTAhv//6MsAAAW2p9kXMAK7mQhasf686j2cc+0s5AvWSeLFNOpga+mNZ9GuUf6wP0EZ6Ft1hvme9RAFYD4KMNXwzDFgBDuJWrmlSaKFqp5DFaFlnPzeKO4fL7wuJJOzdB210WE6FQX9IovH5j3CAr2yWOhnUjmNwuGvhzsytPaH7pJte7KdxC4078uB4Wu166J0KO08hEsVP8ToscAnpy+cF3e7jL3wMYth1cJE/4AGrCfzYNTKV1zESrY31glynNiBLU3ff6o8r3N8xV77UrJn/Z10frAAAAdkGftEUVLCv/AAAdCGkcpWztRxJk9CYIvSuWA7niHMH79yOTEQRxNKM5lo5vWE4TrpCpfum+0XtYb7EiT/qqpkVnJnQoQAS9XfjiP0pjGvIIo4sJGH9VszYyY/iNE/BHbKfAXNVsbq/Fli/D7/qVRwCsCF3eHmEAAABCAZ/TdEJ/AAAtebXynskWvG5TsBhInPJYa7KfdcEtW/Tu1vjf6uvdofvXEBJCUt5eeAu0ELDTTW554ee3Ad0QR3mAAAAATAGf1WpCfwAALoKHlyyF8Z98vS/oDhhB79dhFxK70FVfznk5hqYmG7TJRFIJAcB9o0LAA2f4+PibSyZHI/HLZsE9OmkvhwkZJSNgG28AAADQQZvaSahBbJlMCGf//jhAAAFs3b4EWhAJr50difz1j9MJnWViCr7MbW5i6T7EzojMjcTZmxfOsTYyfQ6tVOnF3O6+7AIpZ8mDFpiCgJU3q998LR0L7VjckOg7l+N8nkPWrTfOAC4OIucyT4vv43mWftAZuJG15gKcdhIn/LagRQ/azsGHVUbSmSnSCIHv7CjiIINk8v4QGOy1kL0e8IbBRe4VFMMNbv1B7dS30MKBhx+RH6L9kws2I12rnv3RYJet3b8/IJ8Cyus2OPjckUXOGAAAAFFBn/hFFSwr/wAAHbh66RzAAR4F0WgHpF2UmniDLvJUeXc/vi6IxgAFQQzKClq0uHP595cK5MVMvzSQ3IbytAPG+suN/YaDsohoadYVKPENw3EAAABEAZ4XdEJ/AAAufrvVwQwr6Oe1PY6rH7PJjwJlmVJuFrSFzSWHIPosDAujPbW/PNA52ygADaP6qcU1PfchNUb2PhDK23EAAABZAZ4ZakJ/AAAv0cajb+DBCfvxbfIE5NSQN/y2hLSlGoQCygscFQSPFSUZULxaQsiz0LSyVvBjC8MV51MHw08LITzj0e1W37pI1LxtYEviBjiyy1o9c6poQ5oAAACyQZoeSahBbJlMCF///fEAAAMDh8w+Cv8t5f2WvbqQOUB74O6f1kz4D2LcLHsI6dKik7LFJmrErX+vMWbb7b3M/v64Xgt2defEWBNu4DisWZUH9ED9ez4Ofu5XOVgTdEZ61NU1FpM8TSArsEHht3WhHSHeYpTGFuXfb3gVBwzgpLe+4G1g7PdNmep6U5ZGSwGjDnJEnehX16IHYAwWbirnpHPHrm+2rnQ3QAEUdUElhnUzwAAAAFZBnjxFFSwr/wAAHmhrrle3ZIGX2yuCej0kmHo1JhWTl+j1ujKk7etqLqzn1dyUpzUIlRori/G1OrlPRJ1NYnEQapvbgW2uk4fSJK4YcGGSFrj2owjujQAAAEMBnlt0Qn8AAC+z1YdDUm2YvzQkai0FsYm3D0GRLnF1JHZrhPZgx6A3RzDfgIgA2gUnPoHtXhIH/ik6KK73ukd0T2epAAAARAGeXWpCfwAAMRIWLAv9tLmhJxbAJ2V+PbrRRqtw9rZp89x87pvFVYvpsZb/4BghNB1KaUhzeb8VkxlHW7qi27HiC96RAAAAZkGaQEmoQWyZTBRMJ//8hAAAFhSmuRgCtswMdpQZWmd/KDi3UkrhClcv0E/iuf0Cvfcy9CWfSGFzV5NZM4KE/ym0wJrLvKPYAHJ8PulwgxYfOStW3LSIYc8+Zf9rHN0FoINSZVo//gAAAFIBnn9qQn8AADEO/X/vBuKJw1tty1DJyqWUFGoCnNwpve6OHAQFpdQu8CH7MRaVjbnIAJphDcnfNDLpKWHJzUKMcTBfoPXTCE4X9+vbvaC8NpLhAAAwDW1vb3YAAABsbXZoZAAAAAAAAAAAAAAAAAAAA+gAAH2nAAEAAAEAAAAAAAAAAAAAAAABAAAAAAAAAAAAAAAAAAAAAQAAAAAAAAAAAAAAAAAAQAAAAAAAAAAAAAAAAAAAAAAAAAAAAAAAAAAAAAAAAAIAAC83dHJhawAAAFx0a2hkAAAAAwAAAAAAAAAAAAAAAQAAAAAAAH2nAAAAAAAAAAAAAAAAAAAAAAABAAAAAAAAAAAAAAAAAAAAAQAAAAAAAAAAAAAAAAAAQAAAAAJgAAABkAAAAAAAJGVkdHMAAAAcZWxzdAAAAAAAAAABAAB9pwAABAAAAQAAAAAur21kaWEAAAAgbWRoZAAAAAAAAAAAAAAAAAAAPAAAB4oAVcQAAAAAAC1oZGxyAAAAAAAAAAB2aWRlAAAAAAAAAAAAAAAAVmlkZW9IYW5kbGVyAAAALlptaW5mAAAAFHZtaGQAAAABAAAAAAAAAAAAAAAkZGluZgAAABxkcmVmAAAAAAAAAAEAAAAMdXJsIAAAAAEAAC4ac3RibAAAAJZzdHNkAAAAAAAAAAEAAACGYXZjMQAAAAAAAAABAAAAAAAAAAAAAAAAAAAAAAJgAZAASAAAAEgAAAAAAAAAAQAAAAAAAAAAAAAAAAAAAAAAAAAAAAAAAAAAAAAAAAAAABj//wAAADBhdmNDAWQAHv/hABhnZAAerNlAmDOhAAADAAEAAAMAPA8WLZYBAAVo6+csiwAAABhzdHRzAAAAAAAAAAEAAAPFAAACAAAAACRzdHNzAAAAAAAAAAUAAAABAAAA+wAAAfUAAALvAAADJQAAHehjdHRzAAAAAAAAA7sAAAABAAAEAAAAAAEAAAoAAAAAAQAABAAAAAABAAAAAAAAAAEAAAIAAAAAAQAACgAAAAABAAAEAAAAAAEAAAAAAAAAAQAAAgAAAAABAAAKAAAAAAEAAAQAAAAAAQAAAAAAAAABAAACAAAAAAEAAAoAAAAAAQAABAAAAAABAAAAAAAAAAEAAAIAAAAAAQAACgAAAAABAAAEAAAAAAEAAAAAAAAAAQAAAgAAAAABAAAIAAAAAAIAAAIAAAAAAQAACgAAAAABAAAEAAAAAAEAAAAAAAAAAQAAAgAAAAABAAAKAAAAAAEAAAQAAAAAAQAAAAAAAAABAAACAAAAAAEAAAoAAAAAAQAABAAAAAABAAAAAAAAAAEAAAIAAAAAAQAACgAAAAABAAAEAAAAAAEAAAAAAAAAAQAAAgAAAAABAAAKAAAAAAEAAAQAAAAAAQAAAAAAAAABAAACAAAAAAEAAAoAAAAAAQAABAAAAAABAAAAAAAAAAEAAAIAAAAAAQAACgAAAAABAAAEAAAAAAEAAAAAAAAAAQAAAgAAAAABAAAKAAAAAAEAAAQAAAAAAQAAAAAAAAABAAACAAAAAAEAAAoAAAAAAQAABAAAAAABAAAAAAAAAAEAAAIAAAAAAQAACgAAAAABAAAEAAAAAAEAAAAAAAAAAQAAAgAAAAABAAAKAAAAAAEAAAQAAAAAAQAAAAAAAAABAAACAAAAAAEAAAoAAAAAAQAABAAAAAABAAAAAAAAAAEAAAIAAAAAAQAACgAAAAABAAAEAAAAAAEAAAAAAAAAAQAAAgAAAAABAAAKAAAAAAEAAAQAAAAAAQAAAAAAAAABAAACAAAAAAEAAAoAAAAAAQAABAAAAAABAAAAAAAAAAEAAAIAAAAAAQAACgAAAAABAAAEAAAAAAEAAAAAAAAAAQAAAgAAAAABAAAKAAAAAAEAAAQAAAAAAQAAAAAAAAABAAACAAAAAAEAAAoAAAAAAQAABAAAAAABAAAAAAAAAAEAAAIAAAAAAQAACgAAAAABAAAEAAAAAAEAAAAAAAAAAQAAAgAAAAABAAAKAAAAAAEAAAQAAAAAAQAAAAAAAAABAAACAAAAAAEAAAoAAAAAAQAABAAAAAABAAAAAAAAAAEAAAIAAAAAAQAACgAAAAABAAAEAAAAAAEAAAAAAAAAAQAAAgAAAAABAAAKAAAAAAEAAAQAAAAAAQAAAAAAAAABAAACAAAAAAEAAAoAAAAAAQAABAAAAAABAAAAAAAAAAEAAAIAAAAAAQAACgAAAAABAAAEAAAAAAEAAAAAAAAAAQAAAgAAAAABAAAKAAAAAAEAAAQAAAAAAQAAAAAAAAABAAACAAAAAAEAAAoAAAAAAQAABAAAAAABAAAAAAAAAAEAAAIAAAAAAQAACgAAAAABAAAEAAAAAAEAAAAAAAAAAQAAAgAAAAABAAAKAAAAAAEAAAQAAAAAAQAAAAAAAAABAAACAAAAAAEAAAoAAAAAAQAABAAAAAABAAAAAAAAAAEAAAIAAAAAAQAACgAAAAABAAAEAAAAAAEAAAAAAAAAAQAAAgAAAAABAAAKAAAAAAEAAAQAAAAAAQAAAAAAAAABAAACAAAAAAEAAAoAAAAAAQAABAAAAAABAAAAAAAAAAEAAAIAAAAAAQAACgAAAAABAAAEAAAAAAEAAAAAAAAAAQAAAgAAAAABAAAKAAAAAAEAAAQAAAAAAQAAAAAAAAABAAACAAAAAAEAAAoAAAAAAQAABAAAAAABAAAAAAAAAAEAAAIAAAAAAQAACgAAAAABAAAEAAAAAAEAAAAAAAAAAQAAAgAAAAABAAAKAAAAAAEAAAQAAAAAAQAAAAAAAAABAAACAAAAAAEAAAoAAAAAAQAABAAAAAABAAAAAAAAAAEAAAIAAAAAAQAACgAAAAABAAAEAAAAAAEAAAAAAAAAAQAAAgAAAAABAAAKAAAAAAEAAAQAAAAAAQAAAAAAAAABAAACAAAAAAEAAAoAAAAAAQAABAAAAAABAAAAAAAAAAEAAAIAAAAAAQAACgAAAAABAAAEAAAAAAEAAAAAAAAAAQAAAgAAAAABAAAKAAAAAAEAAAQAAAAAAQAAAAAAAAABAAACAAAAAAEAAAoAAAAAAQAABAAAAAABAAAAAAAAAAEAAAIAAAAAAQAACgAAAAABAAAEAAAAAAEAAAAAAAAAAQAAAgAAAAABAAAKAAAAAAEAAAQAAAAAAQAAAAAAAAABAAACAAAAAAEAAAoAAAAAAQAABAAAAAABAAAAAAAAAAEAAAIAAAAAAQAACgAAAAABAAAEAAAAAAEAAAAAAAAAAQAAAgAAAAABAAAKAAAAAAEAAAQAAAAAAQAAAAAAAAABAAACAAAAAAEAAAoAAAAAAQAABAAAAAABAAAAAAAAAAEAAAIAAAAAAQAACgAAAAABAAAEAAAAAAEAAAAAAAAAAQAAAgAAAAABAAAKAAAAAAEAAAQAAAAAAQAAAAAAAAABAAACAAAAAAEAAAoAAAAAAQAABAAAAAABAAAAAAAAAAEAAAIAAAAAAQAACgAAAAABAAAEAAAAAAEAAAAAAAAAAQAAAgAAAAABAAAKAAAAAAEAAAQAAAAAAQAAAAAAAAABAAACAAAAAAEAAAYAAAAAAQAAAgAAAAABAAAEAAAAAAEAAAoAAAAAAQAABAAAAAABAAAAAAAAAAEAAAIAAAAAAQAACgAAAAABAAAEAAAAAAEAAAAAAAAAAQAAAgAAAAABAAAKAAAAAAEAAAQAAAAAAQAAAAAAAAABAAACAAAAAAEAAAoAAAAAAQAABAAAAAABAAAAAAAAAAEAAAIAAAAAAQAACgAAAAABAAAEAAAAAAEAAAAAAAAAAQAAAgAAAAABAAAKAAAAAAEAAAQAAAAAAQAAAAAAAAABAAACAAAAAAEAAAoAAAAAAQAABAAAAAABAAAAAAAAAAEAAAIAAAAAAQAACgAAAAABAAAEAAAAAAEAAAAAAAAAAQAAAgAAAAABAAAKAAAAAAEAAAQAAAAAAQAAAAAAAAABAAACAAAAAAEAAAoAAAAAAQAABAAAAAABAAAAAAAAAAEAAAIAAAAAAQAACgAAAAABAAAEAAAAAAEAAAAAAAAAAQAAAgAAAAABAAAKAAAAAAEAAAQAAAAAAQAAAAAAAAABAAACAAAAAAEAAAoAAAAAAQAABAAAAAABAAAAAAAAAAEAAAIAAAAAAQAACgAAAAABAAAEAAAAAAEAAAAAAAAAAQAAAgAAAAABAAAKAAAAAAEAAAQAAAAAAQAAAAAAAAABAAACAAAAAAEAAAoAAAAAAQAABAAAAAABAAAAAAAAAAEAAAIAAAAAAQAACgAAAAABAAAEAAAAAAEAAAAAAAAAAQAAAgAAAAABAAAKAAAAAAEAAAQAAAAAAQAAAAAAAAABAAACAAAAAAEAAAoAAAAAAQAABAAAAAABAAAAAAAAAAEAAAIAAAAAAQAACgAAAAABAAAEAAAAAAEAAAAAAAAAAQAAAgAAAAABAAAGAAAAAAEAAAIAAAAAAQAACgAAAAABAAAEAAAAAAEAAAAAAAAAAQAAAgAAAAABAAAKAAAAAAEAAAQAAAAAAQAAAAAAAAABAAACAAAAAAEAAAYAAAAAAQAAAgAAAAABAAAKAAAAAAEAAAQAAAAAAQAAAAAAAAABAAACAAAAAAEAAAoAAAAAAQAABAAAAAABAAAAAAAAAAEAAAIAAAAAAQAACgAAAAABAAAEAAAAAAEAAAAAAAAAAQAAAgAAAAABAAAKAAAAAAEAAAQAAAAAAQAAAAAAAAABAAACAAAAAAEAAAoAAAAAAQAABAAAAAABAAAAAAAAAAEAAAIAAAAAAQAACAAAAAACAAACAAAAAAEAAAoAAAAAAQAABAAAAAABAAAAAAAAAAEAAAIAAAAAAQAACgAAAAABAAAEAAAAAAEAAAAAAAAAAQAAAgAAAAABAAAKAAAAAAEAAAQAAAAAAQAAAAAAAAABAAACAAAAAAEAAAoAAAAAAQAABAAAAAABAAAAAAAAAAEAAAIAAAAAAQAACgAAAAABAAAEAAAAAAEAAAAAAAAAAQAAAgAAAAABAAAKAAAAAAEAAAQAAAAAAQAAAAAAAAABAAACAAAAAAEAAAoAAAAAAQAABAAAAAABAAAAAAAAAAEAAAIAAAAAAQAACgAAAAABAAAEAAAAAAEAAAAAAAAAAQAAAgAAAAABAAAIAAAAAAIAAAIAAAAAAQAACgAAAAABAAAEAAAAAAEAAAAAAAAAAQAAAgAAAAABAAAKAAAAAAEAAAQAAAAAAQAAAAAAAAABAAACAAAAAAEAAAoAAAAAAQAABAAAAAABAAAAAAAAAAEAAAIAAAAAAQAACgAAAAABAAAEAAAAAAEAAAAAAAAAAQAAAgAAAAABAAAKAAAAAAEAAAQAAAAAAQAAAAAAAAABAAACAAAAAAEAAAoAAAAAAQAABAAAAAABAAAAAAAAAAEAAAIAAAAAAQAACgAAAAABAAAEAAAAAAEAAAAAAAAAAQAAAgAAAAABAAAKAAAAAAEAAAQAAAAAAQAAAAAAAAABAAACAAAAAAEAAAoAAAAAAQAABAAAAAABAAAAAAAAAAEAAAIAAAAAAQAACgAAAAABAAAEAAAAAAEAAAAAAAAAAQAAAgAAAAABAAAKAAAAAAEAAAQAAAAAAQAAAAAAAAABAAACAAAAAAEAAAoAAAAAAQAABAAAAAABAAAAAAAAAAEAAAIAAAAAAQAACgAAAAABAAAEAAAAAAEAAAAAAAAAAQAAAgAAAAABAAAKAAAAAAEAAAQAAAAAAQAAAAAAAAABAAACAAAAAAEAAAoAAAAAAQAABAAAAAABAAAAAAAAAAEAAAIAAAAAAQAACgAAAAABAAAEAAAAAAEAAAAAAAAAAQAAAgAAAAABAAAKAAAAAAEAAAQAAAAAAQAAAAAAAAABAAACAAAAAAEAAAoAAAAAAQAABAAAAAABAAAAAAAAAAEAAAIAAAAAAQAACgAAAAABAAAEAAAAAAEAAAAAAAAAAQAAAgAAAAABAAAKAAAAAAEAAAQAAAAAAQAAAAAAAAABAAACAAAAAAEAAAoAAAAAAQAABAAAAAABAAAAAAAAAAEAAAIAAAAAAQAACgAAAAABAAAEAAAAAAEAAAAAAAAAAQAAAgAAAAABAAAKAAAAAAEAAAQAAAAAAQAAAAAAAAABAAACAAAAAAEAAAoAAAAAAQAABAAAAAABAAAAAAAAAAEAAAIAAAAAAQAACAAAAAACAAACAAAAAAEAAAQAAAAAAQAACgAAAAABAAAEAAAAAAEAAAAAAAAAAQAAAgAAAAABAAAKAAAAAAEAAAQAAAAAAQAAAAAAAAABAAACAAAAAAEAAAoAAAAAAQAABAAAAAABAAAAAAAAAAEAAAIAAAAAAQAACgAAAAABAAAEAAAAAAEAAAAAAAAAAQAAAgAAAAABAAAKAAAAAAEAAAQAAAAAAQAAAAAAAAABAAACAAAAAAEAAAoAAAAAAQAABAAAAAABAAAAAAAAAAEAAAIAAAAAAQAACgAAAAABAAAEAAAAAAEAAAAAAAAAAQAAAgAAAAABAAAKAAAAAAEAAAQAAAAAAQAAAAAAAAABAAACAAAAAAEAAAoAAAAAAQAABAAAAAABAAAAAAAAAAEAAAIAAAAAAQAACgAAAAABAAAEAAAAAAEAAAAAAAAAAQAAAgAAAAABAAAKAAAAAAEAAAQAAAAAAQAAAAAAAAABAAACAAAAAAEAAAoAAAAAAQAABAAAAAABAAAAAAAAAAEAAAIAAAAAAQAACgAAAAABAAAEAAAAAAEAAAAAAAAAAQAAAgAAAAABAAAKAAAAAAEAAAQAAAAAAQAAAAAAAAABAAACAAAAAAEAAAoAAAAAAQAABAAAAAABAAAAAAAAAAEAAAIAAAAAAQAACgAAAAABAAAEAAAAAAEAAAAAAAAAAQAAAgAAAAABAAAKAAAAAAEAAAQAAAAAAQAAAAAAAAABAAACAAAAAAEAAAoAAAAAAQAABAAAAAABAAAAAAAAAAEAAAIAAAAAAQAACgAAAAABAAAEAAAAAAEAAAAAAAAAAQAAAgAAAAABAAAKAAAAAAEAAAQAAAAAAQAAAAAAAAABAAACAAAAAAEAAAoAAAAAAQAABAAAAAABAAAAAAAAAAEAAAIAAAAAAQAACgAAAAABAAAEAAAAAAEAAAAAAAAAAQAAAgAAAAABAAAKAAAAAAEAAAQAAAAAAQAAAAAAAAABAAACAAAAAAEAAAoAAAAAAQAABAAAAAABAAAAAAAAAAEAAAIAAAAAAQAACgAAAAABAAAEAAAAAAEAAAAAAAAAAQAAAgAAAAABAAAEAAAAAAEAAAoAAAAAAQAABAAAAAABAAAAAAAAAAEAAAIAAAAAAQAACgAAAAABAAAEAAAAAAEAAAAAAAAAAQAAAgAAAAABAAAKAAAAAAEAAAQAAAAAAQAAAAAAAAABAAACAAAAAAEAAAoAAAAAAQAABAAAAAABAAAAAAAAAAEAAAIAAAAAAQAACgAAAAABAAAEAAAAAAEAAAAAAAAAAQAAAgAAAAABAAAKAAAAAAEAAAQAAAAAAQAAAAAAAAABAAACAAAAAAEAAAoAAAAAAQAABAAAAAABAAAAAAAAAAEAAAIAAAAAAQAACgAAAAABAAAEAAAAAAEAAAAAAAAAAQAAAgAAAAABAAAKAAAAAAEAAAQAAAAAAQAAAAAAAAABAAACAAAAAAEAAAoAAAAAAQAABAAAAAABAAAAAAAAAAEAAAIAAAAAAQAACgAAAAABAAAEAAAAAAEAAAAAAAAAAQAAAgAAAAABAAAKAAAAAAEAAAQAAAAAAQAAAAAAAAABAAACAAAAAAEAAAoAAAAAAQAABAAAAAABAAAAAAAAAAEAAAIAAAAAAQAACgAAAAABAAAEAAAAAAEAAAAAAAAAAQAAAgAAAAABAAAKAAAAAAEAAAQAAAAAAQAAAAAAAAABAAACAAAAAAEAAAoAAAAAAQAABAAAAAABAAAAAAAAAAEAAAIAAAAAAQAACgAAAAABAAAEAAAAAAEAAAAAAAAAAQAAAgAAAAABAAAKAAAAAAEAAAQAAAAAAQAAAAAAAAABAAACAAAAAAEAAAoAAAAAAQAABAAAAAABAAAAAAAAAAEAAAIAAAAAAQAACgAAAAABAAAEAAAAAAEAAAAAAAAAAQAAAgAAAAABAAAKAAAAAAEAAAQAAAAAAQAAAAAAAAABAAACAAAAAAEAAAoAAAAAAQAABAAAAAABAAAAAAAAAAEAAAIAAAAAAQAACgAAAAABAAAEAAAAAAEAAAAAAAAAAQAAAgAAAAABAAAKAAAAAAEAAAQAAAAAAQAAAAAAAAABAAACAAAAAAEAAAoAAAAAAQAABAAAAAABAAAAAAAAAAEAAAIAAAAAAQAACgAAAAABAAAEAAAAAAEAAAAAAAAAAQAAAgAAAAABAAAKAAAAAAEAAAQAAAAAAQAAAAAAAAABAAACAAAAAAEAAAoAAAAAAQAABAAAAAABAAAAAAAAAAEAAAIAAAAAAQAACgAAAAABAAAEAAAAAAEAAAAAAAAAAQAAAgAAAAABAAAKAAAAAAEAAAQAAAAAAQAAAAAAAAABAAACAAAAAAEAAAoAAAAAAQAABAAAAAABAAAAAAAAAAEAAAIAAAAAAQAACAAAAAACAAACAAAAAAEAAAoAAAAAAQAABAAAAAABAAAAAAAAAAEAAAIAAAAAAQAACgAAAAABAAAEAAAAAAEAAAAAAAAAAQAAAgAAAAABAAAKAAAAAAEAAAQAAAAAAQAAAAAAAAABAAACAAAAAAEAAAoAAAAAAQAABAAAAAABAAAAAAAAAAEAAAIAAAAAAQAACgAAAAABAAAEAAAAAAEAAAAAAAAAAQAAAgAAAAACAAAEAAAAAAEAAAYAAAAAAQAAAgAAAAABAAAKAAAAAAEAAAQAAAAAAQAAAAAAAAABAAACAAAAAAEAAAoAAAAAAQAABAAAAAABAAAAAAAAAAEAAAIAAAAAAQAACgAAAAABAAAEAAAAAAEAAAAAAAAAAQAAAgAAAAABAAAKAAAAAAEAAAQAAAAAAQAAAAAAAAABAAACAAAAAAEAAAYAAAAAAQAAAgAAAAABAAAKAAAAAAEAAAQAAAAAAQAAAAAAAAABAAACAAAAAAEAAAoAAAAAAQAABAAAAAABAAAAAAAAAAEAAAIAAAAAAQAABAAAAAABAAAKAAAAAAEAAAQAAAAAAQAAAAAAAAABAAACAAAAAAEAAAoAAAAAAQAABAAAAAABAAAAAAAAAAEAAAIAAAAAAQAACgAAAAABAAAEAAAAAAEAAAAAAAAAAQAAAgAAAAABAAAGAAAAAAEAAAIAAAAAAQAACgAAAAABAAAEAAAAAAEAAAAAAAAAAQAAAgAAAAABAAAIAAAAAAIAAAIAAAAAAQAACAAAAAACAAACAAAAAAEAAAQAAAAAAQAACgAAAAABAAAEAAAAAAEAAAAAAAAAAQAAAgAAAAABAAAGAAAAAAEAAAIAAAAAAQAACAAAAAACAAACAAAAAAEAAAgAAAAAAgAAAgAAAAABAAAKAAAAAAEAAAQAAAAAAQAAAAAAAAABAAACAAAAAAEAAAoAAAAAAQAABAAAAAABAAAAAAAAAAEAAAIAAAAAAQAACgAAAAABAAAEAAAAAAEAAAAAAAAAAQAAAgAAAAABAAAKAAAAAAEAAAQAAAAAAQAAAAAAAAABAAACAAAAAAEAAAoAAAAAAQAABAAAAAABAAAAAAAAAAEAAAIAAAAAAQAACgAAAAABAAAEAAAAAAEAAAAAAAAAAQAAAgAAAAABAAAKAAAAAAEAAAQAAAAAAQAAAAAAAAABAAACAAAAAAEAAAoAAAAAAQAABAAAAAABAAAAAAAAAAEAAAIAAAAAAQAACgAAAAABAAAEAAAAAAEAAAAAAAAAAQAAAgAAAAABAAAKAAAAAAEAAAQAAAAAAQAAAAAAAAABAAACAAAAAAEAAAoAAAAAAQAABAAAAAABAAAAAAAAAAEAAAIAAAAAAQAACgAAAAABAAAEAAAAAAEAAAAAAAAAAQAAAgAAAAABAAAGAAAAAAEAAAIAAAAAAQAABAAAAAABAAAKAAAAAAEAAAQAAAAAAQAAAAAAAAABAAACAAAAAAEAAAoAAAAAAQAABAAAAAABAAAAAAAAAAEAAAIAAAAAAQAACgAAAAABAAAEAAAAAAEAAAAAAAAAAQAAAgAAAAABAAAKAAAAAAEAAAQAAAAAAQAAAAAAAAABAAACAAAAAAEAAAoAAAAAAQAABAAAAAABAAAAAAAAAAEAAAIAAAAAAQAACgAAAAABAAAEAAAAAAEAAAAAAAAAAQAAAgAAAAABAAAKAAAAAAEAAAQAAAAAAQAAAAAAAAABAAACAAAAAAEAAAoAAAAAAQAABAAAAAABAAAAAAAAAAEAAAIAAAAAAQAABgAAAAABAAACAAAAAAEAAAoAAAAAAQAABAAAAAABAAAAAAAAAAEAAAIAAAAAAQAACgAAAAABAAAEAAAAAAEAAAAAAAAAAQAAAgAAAAABAAAKAAAAAAEAAAQAAAAAAQAAAAAAAAABAAACAAAAAAEAAAoAAAAAAQAABAAAAAABAAAAAAAAAAEAAAIAAAAAAQAABAAAAAABAAAKAAAAAAEAAAQAAAAAAQAAAAAAAAABAAACAAAAAAEAAAoAAAAAAQAABAAAAAABAAAAAAAAAAEAAAIAAAAAAQAACgAAAAABAAAEAAAAAAEAAAAAAAAAAQAAAgAAAAABAAAKAAAAAAEAAAQAAAAAAQAAAAAAAAABAAACAAAAAAEAAAoAAAAAAQAABAAAAAABAAAAAAAAAAEAAAIAAAAAAQAACgAAAAABAAAEAAAAAAEAAAAAAAAAAQAAAgAAAAABAAAKAAAAAAEAAAQAAAAAAQAAAAAAAAABAAACAAAAAAEAAAoAAAAAAQAABAAAAAABAAAAAAAAAAEAAAIAAAAAAQAACgAAAAABAAAEAAAAAAEAAAAAAAAAAQAAAgAAAAABAAAKAAAAAAEAAAQAAAAAAQAAAAAAAAABAAACAAAAAAEAAAoAAAAAAQAABAAAAAABAAAAAAAAAAEAAAIAAAAAAQAABgAAAAABAAACAAAAABxzdHNjAAAAAAAAAAEAAAABAAADxQAAAAEAAA8oc3RzegAAAAAAAAAAAAADxQAABKMAAACkAAAAPAAAADUAAAApAAAAYQAAAC0AAAAuAAAAMAAAAIQAAAAoAAAAFQAAACcAAABkAAAAJwAAABsAAAAvAAAAUQAAACsAAAAjAAAAJgAAAHcAAAAtAAAAKgAAAH4AAAA/AAAANwAAACQAAAChAAAAPwAAACUAAAA0AAAAVAAAACoAAAAkAAAAGQAAAE0AAAApAAAALgAAABoAAAB0AAAAHgAAABkAAAAWAAAALwAAABkAAAAWAAAAFAAAADkAAAAnAAAALgAAAB0AAABTAAAAKgAAABgAAAAqAAAAKwAAACQAAAAiAAAAHQAAADcAAAAbAAAAFgAAABYAAAA1AAAAGgAAABcAAAAUAAAAOAAAACsAAAAVAAAAIgAAAEYAAABLAAAALgAAACkAAAB6AAAAJAAAAB8AAAAYAAAAIQAAAB0AAAAYAAAAFAAAAEUAAAA4AAAAJAAAACUAAABaAAAAOgAAACcAAAAeAAAAMwAAACEAAAAdAAAAGAAAADUAAAAZAAAAFgAAABQAAACNAAAAQQAAAC0AAAAYAAAAJgAAACYAAAApAAAAHQAAAD8AAAAYAAAAFQAAABQAAACHAAAALgAAACEAAAAjAAAAIgAAAEoAAAAgAAAAHQAAACEAAAAYAAAAFQAAABQAAABwAAAANQAAABkAAAAwAAAAHgAAADMAAAAtAAAAHwAAAFgAAAAqAAAALgAAABsAAABeAAAAPgAAABkAAAAyAAAAIQAAACkAAAAqAAAAFgAAAC0AAAAnAAAAIQAAABQAAAB1AAAALwAAABoAAAAgAAAAGwAAAC8AAAAWAAAAFgAAAB4AAAAxAAAAHgAAABsAAABkAAAASgAAACIAAAAtAAAAJQAAACUAAAAoAAAAGwAAADwAAABPAAAAHgAAAB8AAABdAAAAKgAAADEAAAAdAAAAOwAAACAAAAAcAAAAGAAAAEsAAAAoAAAAJwAAACAAAABdAAAAJgAAAB8AAAAWAAAAUAAAACYAAAAWAAAAKwAAADMAAAA3AAAALgAAABwAAAA7AAAAIQAAABYAAAAXAAAArgAAADgAAAA9AAAAFwAAAJEAAAAvAAAAOAAAAB0AAACbAAAAQgAAAC4AAAAbAAAASAAAADcAAAAcAAAAIwAAAEIAAAA6AAAAGwAAACUAAABKAAAALQAAACEAAAAYAAAAKQAAADYAAAAfAAAAHQAAAEoAAAAkAAAAFAAAAB8AAAA8AAAAKQAAACEAAAAsAAAAYQAAACgAAAAYAAAAHwAAAFYAAABAAAAAJAAAACsAAAAvAAAAGgAAABcAAAAVAAAANAAAACsAAAIOAAAAlAAAAFIAAAApAAAAJQAAAFYAAAAzAAAAIgAAACwAAABLAAAAJgAAAB8AAAAWAAAAQwAAAB8AAAAWAAAAKAAAAHAAAAA5AAAAHwAAAB4AAAA0AAAALwAAABsAAAAjAAAALwAAAB0AAAAWAAAAFwAAAEoAAAAsAAAAGgAAABkAAAByAAAAJgAAAB8AAAAYAAAAUQAAADUAAAArAAAAIQAAACcAAAAYAAAAKAAAABIAAABTAAAAKgAAAC4AAAAYAAAAQQAAACIAAAAaAAAAIAAAAFYAAAAuAAAAIgAAABgAAABxAAAAKgAAABgAAAAsAAAATAAAACMAAAAYAAAAHgAAAHcAAAApAAAAIgAAACEAAABVAAAAJQAAABkAAAAcAAAAVQAAADgAAAAgAAAAFgAAADcAAABHAAAAKQAAACMAAABlAAAAIAAAAG0AAAA1AAAAIwAAACIAAABxAAAAKgAAACIAAAAnAAAAZAAAACMAAABbAAAAKwAAACYAAAAlAAAAfwAAACEAAAAeAAAAFAAAAIAAAAAxAAAALAAAABwAAABEAAAAQQAAADAAAAAtAAAAWgAAACwAAAAcAAAALQAAADMAAAAoAAAALgAAAGMAAAA1AAAAIgAAABoAAABgAAAAKQAAABIAAAAxAAAASwAAACEAAAAcAAAAJwAAAFsAAAApAAAAIQAAACQAAABEAAAAMAAAACkAAAAaAAAAagAAACcAAAAqAAAAFwAAAFgAAAAqAAAAFgAAACMAAABhAAAAKAAAABsAAAAeAAAALwAAABwAAAAlAAABNAAAAG0AAABDAAAALAAAAKUAAABPAAAAIgAAAC4AAAB2AAAAQAAAACgAAAAqAAAAiwAAAD4AAAApAAAAIAAAAGgAAAA2AAAAKgAAACgAAAB6AAAAIgAAACUAAAAUAAAAXgAAACIAAAAtAAAAEgAAAJ0AAAA5AAAAJAAAABgAAABlAAAANAAAADoAAAAyAAAAXgAAADMAAAAbAAAALAAAAE0AAAAoAAAAHgAAAB0AAABNAAAANAAAACsAAAAcAAAAhQAAADoAAAAgAAAAKwAAAHsAAAA6AAAAJgAAAB4AAAA7AAAAOAAAACQAAAAmAAAAUwAAAC4AAAAcAAAAHAAAAFUAAAAuAAAAGQAAACMAAABGAAAAIwAAACUAAAAdAAAAagAAACkAAAAZAAAAHAAAAFgAAAAeAAAAKwAAABUAAAA/AAAAKgAAAC0AAAAXAAAAVAAAACIAAAASAAAAHQAAADMAAAAnAAAAIAAAACUAAAA5AAAASgAAACEAAAAtAAAAOQAAACMAAAAiAAAB1QAAAGgAAABQAAAANQAAAEAAAABYAAAANQAAADEAAAAjAAAAKwAAADwAAAAoAAAAKgAAABsAAAAxAAAAHAAAACAAAAA5AAAAMQAAAB8AAAAwAAAAKQAAADQAAAAiAAAAIQAAADQAAAAkAAAAIQAAAB0AAABEAAAANQAAACAAAAAcAAAAVwAAACAAAAAgAAAAFwAAAEsAAAAgAAAAGAAAABwAAAA9AAAAOgAAACsAAAAtAAAAKwAAAB4AAAAlAAAAGQAAABsAAAAbAAAAFgAAABcAAAAbAAAAHAAAABgAAAAXAAAAJwAAABsAAAAWAAAAFwAAAHsAAAA2AAAAGwAAACUAAAAyAAAANQAAACcAAAAoAAAAGwAAAB0AAAAUAAAAFQAAAFAAAAAYAAAAFAAAABUAAAAvAAAAJgAAAB4AAAAgAAAATQAAAD8AAAAhAAAANAAAAEYAAAArAAAAKwAAAB8AAABZAAAAMQAAACEAAAAWAAAALwAAABgAAAAXAAAAFQAAAGoAAAAgAAAAFAAAAB0AAABBAAAApAAAAEAAAAA6AAAAMwAAAFUAAAAfAAAAJgAAABgAAABDAAAANQAAACEAAAA5AAAAXgAAACwAAAAyAAAAIAAAAFEAAAAqAAAAJAAAACgAAAA2AAAAKAAAACwAAAAcAAAAjwAAADIAAAAtAAAAMQAAADcAAAAwAAAAHwAAACEAAABzAAAAJwAAADAAAAAXAAAATgAAADIAAAAaAAAAMAAAAEIAAAAmAAAAFwAAAD4AAACMAAAANwAAADAAAAAkAAAAPwAAADIAAAAVAAAAFwAAAHQAAAAkAAAAMAAAABcAAABcAAAALQAAACQAAAAbAAAAZgAAAC4AAAAqAAAAKwAAAIQAAAA3AAAAJAAAABYAAABtAAAAJwAAADcAAAAWAAAAPgAAADIAAAAlAAAALgAAAHcAAAAjAAAAIQAAABkAAAA/AAAAKAAAADUAAAAeAAAASAAAADEAAAArAAAAGQAAAG4AAAAjAAAAJgAAABsAAACKAAAAOAAAADEAAAArAAAAVAAAADcAAAAvAAAAGwAAAFYAAAAxAAAAIQAAACUAAAB/AAAAKgAAABIAAAA0AAAAjgAAADgAAAA3AAAALgAAAIIAAAAnAAAAOAAAACMAAABiAAAAOQAAACYAAAA3AAAAdwAAADwAAAAtAAAAJwAAAH0AAAA7AAAAMQAAAGMAAABFAAAAJAAAACYAAABdAAAANAAAACEAAAA0AAAAcwAAAE0AAAAsAAAALQAAAIQAAABPAAAAPwAAACEAAACCAAAAPQAAADIAAAA1AAAATwAAAlMAAADVAAAARQAAAI8AAABeAAAAOQAAADQAAADZAAAAcgAAADYAAAA3AAAAyQAAAFsAAAA3AAAAOgAAAMAAAABKAAAANAAAADIAAAB3AAAALgAAAJAAAABNAAAAKAAAADEAAACZAAAATQAAADcAAAA5AAAAtQAAAJQAAABYAAAAPAAAAEUAAACrAAAAXwAAAEEAAABCAAAAyQAAAGQAAABDAAAAUgAAALgAAAA/AAAAsgAAAG0AAAA9AAAAQAAAAIYAAABCAAAARwAAAE8AAABXAAAAWwAAAmUAAADZAAAARwAAACoAAAAvAAAAdQAAACsAAAB6AAAANQAAACQAAACGAAAALgAAACAAAACYAAAAZQAAAC0AAAAqAAAAwQAAAFIAAAA3AAAAPAAAAIwAAABQAAAAPwAAAE8AAABwAAAANQAAADgAAABNAAAAbwAAAEkAAABAAAAAOQAAAHAAAABEAAAAOgAAADYAAAByAAAAQwAAADcAAAA0AAAAkwAAADUAAAAqAAAAJgAAAIQAAAA8AAAANgAAADIAAABpAAAAOQAAACsAAAAzAAAAagAAADUAAAAvAAAAJQAAAJMAAAAwAAAALwAAAEIAAABXAAAAQAAAAGEAAACLAAAAOAAAAD4AAAAxAAAAkgAAADMAAAAoAAAALgAAAF8AAAA+AAAAJgAAAC0AAABnAAAAPQAAACcAAAAzAAAAcgAAADkAAAA0AAAANQAAAKAAAABEAAAAPAAAADYAAAC+AAAAUgAAAD8AAAA1AAAAggAAAFEAAABHAAAALwAAAI8AAAAqAAAAnwAAADoAAAAsAAAAMAAAALwAAABOAAAAMAAAAC8AAAD/AAAAUAAAADAAAAAzAAAAkQAAAFUAAAA2AAAARAAAAHkAAACqAAAAZwAAAD8AAAA+AAAAwAAAAFMAAABDAAAAPwAAANUAAABUAAAAQQAAAFYAAACUAAAATQAAAEAAAABEAAAAwgAAAFEAAABWAAAALQAAAKUAAABZAAAAPQAAAEYAAADqAAAAZQAAAEMAAABEAAAA9gAAAF0AAABOAAAARgAAAOEAAAB6AAAARgAAAFAAAADUAAAAVQAAAEgAAABdAAAAtgAAAFoAAABHAAAASAAAAGoAAABWAAAAFHN0Y28AAAAAAAAAAQAAADAAAABidWR0YQAAAFptZXRhAAAAAAAAACFoZGxyAAAAAAAAAABtZGlyYXBwbAAAAAAAAAAAAAAAAC1pbHN0AAAAJal0b28AAAAdZGF0YQAAAAEAAAAATGF2ZjU3LjgzLjEwMA==\" type=\"video/mp4\">\n",
              "  Your browser does not support the video tag.\n",
              "  </video>"
            ]
          },
          "metadata": {},
          "execution_count": 30
        }
      ]
    },
    {
      "cell_type": "code",
      "source": [
        "create_policy_eval_video(random_policy, \"random-agent\")"
      ],
      "metadata": {
        "id": "KF5uIeybKCEb",
        "colab": {
          "base_uri": "https://localhost:8080/",
          "height": 539
        },
        "outputId": "6adfdf79-61fa-4a41-ae99-ccfa22795e3b"
      },
      "execution_count": 31,
      "outputs": [
        {
          "output_type": "stream",
          "name": "stderr",
          "text": [
            "WARNING:root:IMAGEIO FFMPEG_WRITER WARNING: input image is not divisible by macro_block_size=16, resizing from (400, 600) to (400, 608) to ensure video compatibility with most codecs and players. To prevent resizing, make your input image divisible by the macro_block_size or set the macro_block_size to None (risking incompatibility). You may also see a FFMPEG warning concerning speedloss due to data not being aligned.\n"
          ]
        },
        {
          "output_type": "execute_result",
          "data": {
            "text/plain": [
              "<IPython.core.display.HTML object>"
            ],
            "text/html": [
              "\n",
              "  <video width=\"640\" height=\"480\" controls>\n",
              "    <source src=\"data:video/mp4;base64,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\" type=\"video/mp4\">\n",
              "  Your browser does not support the video tag.\n",
              "  </video>"
            ]
          },
          "metadata": {},
          "execution_count": 31
        }
      ]
    }
  ]
}