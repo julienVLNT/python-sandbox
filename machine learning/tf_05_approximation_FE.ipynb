{
  "nbformat": 4,
  "nbformat_minor": 0,
  "metadata": {
    "colab": {
      "name": "tf_05_approximation_FE.ipynb",
      "provenance": [],
      "collapsed_sections": [],
      "authorship_tag": "ABX9TyNMV2m2X2bAF8Pg/vrCN7eK",
      "include_colab_link": true
    },
    "kernelspec": {
      "name": "python3",
      "display_name": "Python 3"
    },
    "language_info": {
      "name": "python"
    }
  },
  "cells": [
    {
      "cell_type": "markdown",
      "metadata": {
        "id": "view-in-github",
        "colab_type": "text"
      },
      "source": [
        "<a href=\"https://colab.research.google.com/github/julienVLNT/python-sandbox/blob/main/machine%20learning/tf_05_approximation_FE.ipynb\" target=\"_parent\"><img src=\"https://colab.research.google.com/assets/colab-badge.svg\" alt=\"Open In Colab\"/></a>"
      ]
    },
    {
      "cell_type": "code",
      "execution_count": 1,
      "metadata": {
        "colab": {
          "base_uri": "https://localhost:8080/"
        },
        "id": "uzuKobz2WvU3",
        "outputId": "7d5684fb-2a61-496b-a776-cf672c66cc05"
      },
      "outputs": [
        {
          "output_type": "stream",
          "name": "stdout",
          "text": [
            "Python 3.7.13\n"
          ]
        }
      ],
      "source": [
        "!python --version"
      ]
    },
    {
      "cell_type": "markdown",
      "source": [
        "**Julien VALENTIN**, **mars 2022**, selon les T.P de [Bruno DESPRES](https://www.ljll.math.upmc.fr/despres/)\n",
        "\n",
        "> https://www.ljll.math.upmc.fr/~despres/BD_fichiers/FE.py"
      ],
      "metadata": {
        "id": "LYfM-ni2XE-E"
      }
    },
    {
      "cell_type": "code",
      "source": [
        "from matplotlib import pyplot\n",
        "import numpy\n",
        "\n",
        "import tensorflow\n",
        "from keras import backend as K\n",
        "from keras.layers import Conv2D, Dense, MaxPooling2D\n",
        "from keras.models import Sequential"
      ],
      "metadata": {
        "id": "lJXjlTMRW994"
      },
      "execution_count": 2,
      "outputs": []
    },
    {
      "cell_type": "markdown",
      "source": [
        "# Setup"
      ],
      "metadata": {
        "id": "_ltbu3fRa3hN"
      }
    },
    {
      "cell_type": "code",
      "source": [
        "N  = 40      # nombre de points de la discrétisation\n",
        "dx = 1./N    # pas d'espace\n",
        "\n",
        "def u(x: float) -> float:\n",
        "    \"Fonction à approcher\" \n",
        "    return 1 - numpy.cos(2*numpy.pi * x)"
      ],
      "metadata": {
        "id": "jkUA6zSeaRVn"
      },
      "execution_count": 3,
      "outputs": []
    },
    {
      "cell_type": "markdown",
      "source": [
        "# Construction du modèle"
      ],
      "metadata": {
        "id": "8U8CuoUkbOJF"
      }
    },
    {
      "cell_type": "code",
      "source": [
        "def init_W0(shape, dtype=None):\n",
        "    W0 = numpy.array([numpy.ones(N)])\n",
        "    return K.constant(W0)\n",
        "    \n",
        "def init_b0(shape, dtype=None): \n",
        "    \"Initialisation du biais.\"\n",
        "    return K.constant(-numpy.linspace(0,1,N))\n",
        "\n",
        "def init_W1(shape, dtype=None):\n",
        "    \"Initialisation de l'opérateur W1.\"\n",
        "    W1 = -2 * numpy.diag(numpy.ones(N)) + numpy.diag(numpy.ones(N-1), 1) \n",
        "    W1 = W1/dx\n",
        "    return K.constant(W1)\n",
        "\n",
        "def init_W2(shape, dtype=None):\n",
        "    W2 = numpy.array( [[u(i*dx)] for i in range(N)] )\n",
        "    return K.constant(W2)\n",
        "\n",
        "model = Sequential()\n",
        "\n",
        "model.add(\n",
        "    Dense(\n",
        "        N,\n",
        "        input_dim=1,\n",
        "        name=\"input_layer\",\n",
        "        kernel_initializer=init_W0,\n",
        "        use_bias=True,\n",
        "        bias_initializer=init_b0,\n",
        "        activation='relu'\n",
        "         )\n",
        ")\n",
        "\n",
        "model.add(\n",
        "    Dense(\n",
        "        N, \n",
        "        input_dim=1,\n",
        "        name=\"hidden_layer\",\n",
        "        kernel_initializer=init_W1,\n",
        "        use_bias=False,\n",
        "        activation='relu'\n",
        "         )\n",
        ")\n",
        "\n",
        "model.add(\n",
        "    Dense(\n",
        "        1,\n",
        "        name=\"out_layer\",\n",
        "        kernel_initializer=init_W2,\n",
        "        use_bias=False,\n",
        "        activation='linear'\n",
        "         )\n",
        ")"
      ],
      "metadata": {
        "id": "HjLaJRdtbAqF"
      },
      "execution_count": 4,
      "outputs": []
    },
    {
      "cell_type": "markdown",
      "source": [
        "# Approximation de $u$"
      ],
      "metadata": {
        "id": "sNb-IGVvdAsq"
      }
    },
    {
      "cell_type": "code",
      "source": [
        "x   = numpy.linspace(0, 1, N)\n",
        "y_p = model.predict(x)"
      ],
      "metadata": {
        "id": "zuLSKU7GdDus"
      },
      "execution_count": 5,
      "outputs": []
    },
    {
      "cell_type": "markdown",
      "source": [
        "# Visualisation"
      ],
      "metadata": {
        "id": "UKz8-u_idLUF"
      }
    },
    {
      "cell_type": "code",
      "source": [
        "pyplot.figure()\n",
        "pyplot.plot(x, y_p, label=\"$u_h(x)$\", marker=\"x\")\n",
        "pyplot.title(\"Approximation de $u$\")\n",
        "pyplot.legend()\n",
        "pyplot.show() "
      ],
      "metadata": {
        "colab": {
          "base_uri": "https://localhost:8080/",
          "height": 283
        },
        "id": "BPbe8LMsdNsM",
        "outputId": "feeab2d4-1756-4aa6-b431-8fa34f7f5ec8"
      },
      "execution_count": 6,
      "outputs": [
        {
          "output_type": "display_data",
          "data": {
            "text/plain": [
              "<Figure size 432x288 with 1 Axes>"
            ],
            "image/png": "[encoded data removed]"
          },
          "metadata": {
            "needs_background": "light"
          }
        }
      ]
    },
    {
      "cell_type": "code",
      "source": [
        ""
      ],
      "metadata": {
        "id": "RdJSqOuCdckZ"
      },
      "execution_count": 6,
      "outputs": []
    }
  ]
}