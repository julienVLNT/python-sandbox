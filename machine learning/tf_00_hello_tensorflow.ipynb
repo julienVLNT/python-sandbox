{
  "nbformat": 4,
  "nbformat_minor": 0,
  "metadata": {
    "colab": {
      "name": "tf_00_hello_tensorflow.ipynb",
      "provenance": [],
      "collapsed_sections": [],
      "authorship_tag": "ABX9TyNsEc8cm6v7U2KSBrz+xEP+",
      "include_colab_link": true
    },
    "kernelspec": {
      "name": "python3",
      "display_name": "Python 3"
    },
    "language_info": {
      "name": "python"
    }
  },
  "cells": [
    {
      "cell_type": "markdown",
      "metadata": {
        "id": "view-in-github",
        "colab_type": "text"
      },
      "source": [
        "<a href=\"https://colab.research.google.com/github/julienVLNT/python-sandbox/blob/main/machine%20learning/tf_00_hello_tensorflow.ipynb\" target=\"_parent\"><img src=\"https://colab.research.google.com/assets/colab-badge.svg\" alt=\"Open In Colab\"/></a>"
      ]
    },
    {
      "cell_type": "code",
      "execution_count": 1,
      "metadata": {
        "colab": {
          "base_uri": "https://localhost:8080/"
        },
        "id": "vzUg0pbNQbAo",
        "outputId": "456f002a-68ee-435f-fc7a-2eadeb8c03b6"
      },
      "outputs": [
        {
          "output_type": "stream",
          "name": "stdout",
          "text": [
            "Python 3.7.13\n"
          ]
        }
      ],
      "source": [
        "!python --version"
      ]
    },
    {
      "cell_type": "markdown",
      "source": [
        "**Julien VALENTIN**, **mars 2022**, selon les T.P de [Bruno DESPRES](https://www.ljll.math.upmc.fr/despres/)\n",
        "\n",
        "> https://www.ljll.math.upmc.fr/~despres/BD_fichiers/mnist_summary.py"
      ],
      "metadata": {
        "id": "ndiTgIoLQgWk"
      }
    },
    {
      "cell_type": "code",
      "source": [
        "import numpy\n",
        "\n",
        "from tensorflow import keras\n",
        "from keras import layers\n",
        "from keras.models import Sequential\n",
        "from keras.layers import Dense"
      ],
      "metadata": {
        "id": "lN6FrPz_ROOm"
      },
      "execution_count": 2,
      "outputs": []
    },
    {
      "cell_type": "markdown",
      "source": [
        "# Premier modèle : réseau de neurones séquentiel dense"
      ],
      "metadata": {
        "id": "6SwB7ndbQxNx"
      }
    },
    {
      "cell_type": "code",
      "source": [
        "input_shape = 1    # taille du vecteur d'entrée : un prédicteur numérique réel\n",
        "\n",
        "model = Sequential()    # l'architecture du réseau est séquentiel : les couches se suivent (c.f chapitre suivant pour réseau convolutionnel)\n",
        "\n",
        "model.add(Dense(3,                        # ajoute une couche : le réseau est dense (connecté à toutes les entrées de la couche précédente)\n",
        "                input_dim=input_shape,    # dimension du vecteur d'entrée\n",
        "                name=\"hidden1\",           # nom de la couche\n",
        "                use_bias=True,            # vecteur de biais ? \n",
        "                activation='relu')        # composition à gauche de la sortie : relu est la plus simple des non-linéarités\n",
        ")                                         # relu(x) = 0 si x < 0 ; x sinon\n",
        "\n",
        "model.add(Dense(3,\n",
        "                name=\"hidden2\",\n",
        "                activation='relu')\n",
        ")\n",
        "\n",
        "model.add(Dense(3,\n",
        "                name=\"hidden3\",\n",
        "                use_bias=False, \n",
        "                activation='relu')\n",
        ")\n",
        "\n",
        "model.add(Dense(4,\n",
        "                name=\"hidden4\",\n",
        "                use_bias=True,  \n",
        "                activation='relu')\n",
        ")\n",
        "\n",
        "model.add(Dense(1,\n",
        "                name=\"out\",\n",
        "                use_bias=True, \n",
        "                activation='linear')    # renvoie une combinaison linéaire de l'entrée, avec une translation\n",
        ")\n",
        "\n",
        "model.summary()    # rapport sur le modèle"
      ],
      "metadata": {
        "colab": {
          "base_uri": "https://localhost:8080/"
        },
        "id": "K2G3I6qVQfBF",
        "outputId": "cf1cf7bc-5d23-4a41-d1dc-58b78615f591"
      },
      "execution_count": 3,
      "outputs": [
        {
          "output_type": "stream",
          "name": "stdout",
          "text": [
            "Model: \"sequential\"\n",
            "_________________________________________________________________\n",
            " Layer (type)                Output Shape              Param #   \n",
            "=================================================================\n",
            " hidden1 (Dense)             (None, 3)                 6         \n",
            "                                                                 \n",
            " hidden2 (Dense)             (None, 3)                 12        \n",
            "                                                                 \n",
            " hidden3 (Dense)             (None, 3)                 9         \n",
            "                                                                 \n",
            " hidden4 (Dense)             (None, 4)                 16        \n",
            "                                                                 \n",
            " out (Dense)                 (None, 1)                 5         \n",
            "                                                                 \n",
            "=================================================================\n",
            "Total params: 48\n",
            "Trainable params: 48\n",
            "Non-trainable params: 0\n",
            "_________________________________________________________________\n"
          ]
        }
      ]
    },
    {
      "cell_type": "markdown",
      "source": [
        "# Deuxième modèle : réseau séquentiel convolutionnel"
      ],
      "metadata": {
        "id": "WZQiOBQzTu3S"
      }
    },
    {
      "cell_type": "code",
      "source": [
        "num_classes = 10             # nombre de classes différentes\n",
        "input_shape = (28, 28, 1)    # batch de taille 1 ; dimensions d'une observation (ici matrice 28 x 28 dont chaque pixel est 1 nombre)\n",
        "\n",
        "model2 = keras.Sequential(    # nouveau réseau séquentiel\n",
        "    [\n",
        "        keras.Input(shape=input_shape),\n",
        "     \n",
        "        layers.Conv2D(32,\n",
        "                      kernel_size=(3, 3),    # taille de la matrice du noyau discret, matrice 3 x 3\n",
        "                      use_bias=False,        # pas de vecteur de translation\n",
        "                      padding=\"same\",        # la sortie a la même dimension que l'entrée, l'image est redimensionnée par ajout de 0 lorsque c'est nécessaire\n",
        "                      activation=\"relu\"      # composition à gauche par la fonction relu\n",
        "        ),\n",
        "        \n",
        "        layers.MaxPooling2D(pool_size=(2, 2)),\n",
        "        \n",
        "        layers.Conv2D(64, kernel_size=(3, 3), use_bias=False, padding=\"same\", activation=\"relu\"),\n",
        "        \n",
        "        layers.MaxPooling2D(pool_size=(2, 2)),\n",
        "        \n",
        "        layers.Flatten(),    # applatissement\n",
        "        \n",
        "        layers.Dropout(0.5),\n",
        "        \n",
        "        layers.Dense(num_classes, activation=\"softmax\"),\n",
        "    ]\n",
        ")\n",
        "\n",
        "model2.summary()    # rapport sur le modèle"
      ],
      "metadata": {
        "colab": {
          "base_uri": "https://localhost:8080/"
        },
        "id": "XiKg6Ub-RoYW",
        "outputId": "b75830ba-8935-4b90-8029-e4b226f56fac"
      },
      "execution_count": 4,
      "outputs": [
        {
          "output_type": "stream",
          "name": "stdout",
          "text": [
            "Model: \"sequential_1\"\n",
            "_________________________________________________________________\n",
            " Layer (type)                Output Shape              Param #   \n",
            "=================================================================\n",
            " conv2d (Conv2D)             (None, 28, 28, 32)        288       \n",
            "                                                                 \n",
            " max_pooling2d (MaxPooling2D  (None, 14, 14, 32)       0         \n",
            " )                                                               \n",
            "                                                                 \n",
            " conv2d_1 (Conv2D)           (None, 14, 14, 64)        18432     \n",
            "                                                                 \n",
            " max_pooling2d_1 (MaxPooling  (None, 7, 7, 64)         0         \n",
            " 2D)                                                             \n",
            "                                                                 \n",
            " flatten (Flatten)           (None, 3136)              0         \n",
            "                                                                 \n",
            " dropout (Dropout)           (None, 3136)              0         \n",
            "                                                                 \n",
            " dense (Dense)               (None, 10)                31370     \n",
            "                                                                 \n",
            "=================================================================\n",
            "Total params: 50,090\n",
            "Trainable params: 50,090\n",
            "Non-trainable params: 0\n",
            "_________________________________________________________________\n"
          ]
        }
      ]
    },
    {
      "cell_type": "code",
      "source": [
        ""
      ],
      "metadata": {
        "id": "g9Rme0DVVIEX"
      },
      "execution_count": 4,
      "outputs": []
    }
  ]
}