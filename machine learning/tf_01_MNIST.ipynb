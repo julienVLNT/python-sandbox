{
  "nbformat": 4,
  "nbformat_minor": 0,
  "metadata": {
    "colab": {
      "name": "tf_01_MNIST.ipynb",
      "provenance": [],
      "collapsed_sections": [],
      "authorship_tag": "ABX9TyN47RowhylS1Xqw4qLXrtaf",
      "include_colab_link": true
    },
    "kernelspec": {
      "name": "python3",
      "display_name": "Python 3"
    },
    "language_info": {
      "name": "python"
    }
  },
  "cells": [
    {
      "cell_type": "markdown",
      "metadata": {
        "id": "view-in-github",
        "colab_type": "text"
      },
      "source": [
        "<a href=\"https://colab.research.google.com/github/julienVLNT/python-sandbox/blob/main/machine%20learning/tf_01_MNIST.ipynb\" target=\"_parent\"><img src=\"https://colab.research.google.com/assets/colab-badge.svg\" alt=\"Open In Colab\"/></a>"
      ]
    },
    {
      "cell_type": "code",
      "execution_count": 1,
      "metadata": {
        "colab": {
          "base_uri": "https://localhost:8080/"
        },
        "id": "0Zn3oM9WWNUH",
        "outputId": "727032c1-b8cb-4ec5-e790-3c0d886a2efb"
      },
      "outputs": [
        {
          "output_type": "stream",
          "name": "stdout",
          "text": [
            "Python 3.7.13\n"
          ]
        }
      ],
      "source": [
        "!python --version"
      ]
    },
    {
      "cell_type": "markdown",
      "source": [
        "**Julien VALENTIN**, **mars 2022**, selon les T.P de [Bruno DESPRES](https://www.ljll.math.upmc.fr/despres/)\n",
        "\n",
        "> https://www.ljll.math.upmc.fr/~despres/BD_fichiers/mnist_CNN_TReLU.py"
      ],
      "metadata": {
        "id": "ndiTgIoLQgWk"
      }
    },
    {
      "cell_type": "code",
      "source": [
        "from matplotlib import pyplot\n",
        "\n",
        "import numpy\n",
        "\n",
        "from tensorflow import keras\n",
        "from keras import layers\n",
        "from keras import backend as K"
      ],
      "metadata": {
        "id": "AW9ilxsaXbYy"
      },
      "execution_count": 2,
      "outputs": []
    },
    {
      "cell_type": "markdown",
      "source": [
        "# Introduction"
      ],
      "metadata": {
        "id": "UTZoCLuOWctn"
      }
    },
    {
      "cell_type": "markdown",
      "source": [
        "On se propose de travailler sur le jeu de données MNIST. Cet ensemble représente un certain nombre d'images de chiffres manuscrits, ces images sont représentées en noir et blanc. Plus d'informations sont disponibles à cette adresse\n",
        "\n",
        "> http://yann.lecun.com/exdb/mnist/"
      ],
      "metadata": {
        "id": "1zjrPhbYWeSz"
      }
    },
    {
      "cell_type": "markdown",
      "source": [
        "# Chargement et pré-traitement des données"
      ],
      "metadata": {
        "id": "dxgnBZvKXOLq"
      }
    },
    {
      "cell_type": "markdown",
      "source": [
        "Ici, le problème est de **classifier** chaque image en lui associant le chiffre qu'elle représente. "
      ],
      "metadata": {
        "id": "Cq_qMEWSY8t2"
      }
    },
    {
      "cell_type": "code",
      "source": [
        "num_classes = 10                                                    # nombre de classes : {0, 1, 2, ... , 9}\n",
        "class_names = ['0', '1', '2', '3', '4', '5', '6', '7', '8', '9']    # nom des classes\n",
        "\n",
        "input_shape = (28, 28, 1)    # une observation est une image 28 x 28 dont chaque pixel est un entier : {0, 1, ...., 255}\n",
        "\n",
        "(x_train, y_train), (x_test, y_test) = keras.datasets.mnist.load_data()    # import des datasets d'entraînement et de test\n",
        "                                                                           # déjà séparés, sinon c.f sklearn train_test_split etc.\n",
        "\n",
        "x_train = x_train.astype(\"float32\") / 255    # mise à l'échelle et dans le bon format des attributs des observations\n",
        "x_test  = x_test.astype(\"float32\") / 255     # un pixel est un réel compris dans [0, 1]\n",
        "\n",
        "x_train = numpy.expand_dims(x_train,-1)    # vérification des dimensions du jeu d'entraînement\n",
        "x_test  = numpy.expand_dims(x_test, -1)    #      \"                \"         \"  de test\n",
        "print(f\"> dimensions du jeu d'entraînement : {x_train.shape}, dont un élément est de taille {x_train[0].shape}\")\n",
        "print(f\"> dimensions du jeu de test : {x_test.shape}\")\n",
        "\n",
        "y_train = keras.utils.to_categorical(y_train, num_classes)    # conversion de la classe en vecteur d'indicatrices par classe (y est maintenant 2D)\n",
        "y_test  = keras.utils.to_categorical(y_test,  num_classes)    # conversion de la classe en vecteur d'indicatrices par classe (y est maintenant 2D)\n",
        "                                                              # y_train[i, j] == 1 si y_train[i] == \"j\", 0 sinon\n",
        "                                                              # c.f sklearn OneHotEncoder"
      ],
      "metadata": {
        "colab": {
          "base_uri": "https://localhost:8080/"
        },
        "id": "eeVzd17HWZdD",
        "outputId": "59234113-2871-440f-fd5a-e5499d812979"
      },
      "execution_count": 3,
      "outputs": [
        {
          "output_type": "stream",
          "name": "stdout",
          "text": [
            "> dimensions du jeu d'entraînement : (60000, 28, 28, 1), dont un élément est de taille (28, 28, 1)\n",
            "> dimensions du jeu de test : (10000, 28, 28, 1)\n"
          ]
        }
      ]
    },
    {
      "cell_type": "markdown",
      "source": [
        "# Aperçu des 25 premières images"
      ],
      "metadata": {
        "id": "TYjty3CaiF7U"
      }
    },
    {
      "cell_type": "code",
      "source": [
        "pyplot.figure(figsize=(10,10))\n",
        "for i in range(25):\n",
        "    pyplot.subplot(5 , 5, i+1)\n",
        "    pyplot.xticks([])\n",
        "    pyplot.yticks([])\n",
        "    pyplot.grid(False)\n",
        "    pyplot.imshow(x_train[i][:, :, 0])\n",
        "pyplot.show()"
      ],
      "metadata": {
        "colab": {
          "base_uri": "https://localhost:8080/",
          "height": 578
        },
        "id": "NOLT053WZ4QG",
        "outputId": "b835c8b5-94c0-4750-ea30-291dfe8f7026"
      },
      "execution_count": 4,
      "outputs": [
        {
          "output_type": "display_data",
          "data": {
            "text/plain": [
              "<Figure size 720x720 with 25 Axes>"
            ],
            "image/png": "[encoded data removed]"
          },
          "metadata": {}
        }
      ]
    },
    {
      "cell_type": "markdown",
      "source": [
        "# Construction du modèle"
      ],
      "metadata": {
        "id": "us2BuDkDiP9r"
      }
    },
    {
      "cell_type": "code",
      "source": [
        "def T_relu(x):\n",
        "    \"Variation sur la fonction REctified Linear Unit.\"\n",
        "    return K.relu(x, max_value=1)"
      ],
      "metadata": {
        "id": "zAaCMoh9huLX"
      },
      "execution_count": 5,
      "outputs": []
    },
    {
      "cell_type": "code",
      "source": [
        "model = keras.Sequential(\n",
        "    [\n",
        "        keras.Input(shape=input_shape),\n",
        "     \n",
        "        layers.Conv2D(32, kernel_size=(3, 3), activation=T_relu),\n",
        "        \n",
        "        layers.MaxPooling2D(pool_size=(2, 2)),\n",
        "        \n",
        "        layers.Conv2D(64, kernel_size=(3, 3), activation=T_relu),\n",
        "        \n",
        "        layers.MaxPooling2D(pool_size=(2, 2)),\n",
        "        \n",
        "        layers.Flatten(),\n",
        "        \n",
        "        layers.Dense(num_classes, activation=\"softmax\"),\n",
        "    ]\n",
        ")"
      ],
      "metadata": {
        "id": "L_v027iCibw_"
      },
      "execution_count": 6,
      "outputs": []
    },
    {
      "cell_type": "markdown",
      "source": [
        "# Entraînement du modèle sur 15 fois 128 observations"
      ],
      "metadata": {
        "id": "LRixjwqMiqzY"
      }
    },
    {
      "cell_type": "code",
      "source": [
        "epochs     =  15    # nombre de runs\n",
        "batch_size = 128    # nombre d'observations par run\n",
        "\n",
        "model.compile(loss=\"categorical_crossentropy\", optimizer=\"adam\", metrics=[\"accuracy\"])    # compilation du graphe\n",
        "\n",
        "model.fit(x_train, y_train, batch_size=batch_size, epochs=epochs, validation_split=0.1)    # entraînement"
      ],
      "metadata": {
        "colab": {
          "base_uri": "https://localhost:8080/"
        },
        "id": "yzl1CJbvilgb",
        "outputId": "153ec6ea-6d58-4b0a-c343-9ef12cb43962"
      },
      "execution_count": 7,
      "outputs": [
        {
          "output_type": "stream",
          "name": "stdout",
          "text": [
            "Epoch 1/15\n",
            "422/422 [==============================] - 56s 128ms/step - loss: 0.2954 - accuracy: 0.9223 - val_loss: 0.0815 - val_accuracy: 0.9778\n",
            "Epoch 2/15\n",
            "422/422 [==============================] - 52s 124ms/step - loss: 0.0773 - accuracy: 0.9774 - val_loss: 0.0557 - val_accuracy: 0.9843\n",
            "Epoch 3/15\n",
            "422/422 [==============================] - 52s 123ms/step - loss: 0.0558 - accuracy: 0.9840 - val_loss: 0.0450 - val_accuracy: 0.9873\n",
            "Epoch 4/15\n",
            "422/422 [==============================] - 52s 123ms/step - loss: 0.0446 - accuracy: 0.9866 - val_loss: 0.0446 - val_accuracy: 0.9875\n",
            "Epoch 5/15\n",
            "422/422 [==============================] - 52s 122ms/step - loss: 0.0384 - accuracy: 0.9887 - val_loss: 0.0379 - val_accuracy: 0.9890\n",
            "Epoch 6/15\n",
            "422/422 [==============================] - 51s 122ms/step - loss: 0.0323 - accuracy: 0.9905 - val_loss: 0.0367 - val_accuracy: 0.9888\n",
            "Epoch 7/15\n",
            "422/422 [==============================] - 52s 123ms/step - loss: 0.0287 - accuracy: 0.9917 - val_loss: 0.0381 - val_accuracy: 0.9872\n",
            "Epoch 8/15\n",
            "422/422 [==============================] - 52s 123ms/step - loss: 0.0252 - accuracy: 0.9928 - val_loss: 0.0333 - val_accuracy: 0.9902\n",
            "Epoch 9/15\n",
            "422/422 [==============================] - 52s 122ms/step - loss: 0.0215 - accuracy: 0.9939 - val_loss: 0.0345 - val_accuracy: 0.9895\n",
            "Epoch 10/15\n",
            "422/422 [==============================] - 52s 123ms/step - loss: 0.0190 - accuracy: 0.9949 - val_loss: 0.0336 - val_accuracy: 0.9890\n",
            "Epoch 11/15\n",
            "422/422 [==============================] - 52s 123ms/step - loss: 0.0173 - accuracy: 0.9952 - val_loss: 0.0316 - val_accuracy: 0.9903\n",
            "Epoch 12/15\n",
            "422/422 [==============================] - 52s 122ms/step - loss: 0.0145 - accuracy: 0.9959 - val_loss: 0.0327 - val_accuracy: 0.9898\n",
            "Epoch 13/15\n",
            "422/422 [==============================] - 51s 121ms/step - loss: 0.0133 - accuracy: 0.9965 - val_loss: 0.0322 - val_accuracy: 0.9902\n",
            "Epoch 14/15\n",
            "422/422 [==============================] - 51s 122ms/step - loss: 0.0113 - accuracy: 0.9971 - val_loss: 0.0334 - val_accuracy: 0.9900\n",
            "Epoch 15/15\n",
            "422/422 [==============================] - 52s 124ms/step - loss: 0.0093 - accuracy: 0.9977 - val_loss: 0.0345 - val_accuracy: 0.9898\n"
          ]
        },
        {
          "output_type": "execute_result",
          "data": {
            "text/plain": [
              "<keras.callbacks.History at 0x7fa93933d810>"
            ]
          },
          "metadata": {},
          "execution_count": 7
        }
      ]
    },
    {
      "cell_type": "markdown",
      "source": [
        "# Evaluation du modèle"
      ],
      "metadata": {
        "id": "UoZ46lKXkKzK"
      }
    },
    {
      "cell_type": "markdown",
      "source": [
        "On se contente de la prédiction sur l'ensemble de test, c.f les notebooks sur Scikit-learn pour plus d'outils de validation."
      ],
      "metadata": {
        "id": "J8rdijMvnL1V"
      }
    },
    {
      "cell_type": "code",
      "source": [
        "score = model.evaluate(x_test, y_test, verbose=0)\n",
        "print(\"Test loss:\", score[0])\n",
        "print(\"Test accuracy:\", score[1])"
      ],
      "metadata": {
        "colab": {
          "base_uri": "https://localhost:8080/"
        },
        "id": "gQrYqkJ8jTsW",
        "outputId": "65ff7950-0566-46bb-87ae-8d25e3799bec"
      },
      "execution_count": 8,
      "outputs": [
        {
          "output_type": "stream",
          "name": "stdout",
          "text": [
            "Test loss: 0.02869286574423313\n",
            "Test accuracy: 0.9909999966621399\n"
          ]
        }
      ]
    }
  ]
}