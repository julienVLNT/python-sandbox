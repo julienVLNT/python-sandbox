{
  "nbformat": 4,
  "nbformat_minor": 0,
  "metadata": {
    "colab": {
      "name": "rl_03_open1I_gym_custom_environment.ipynb",
      "provenance": [],
      "collapsed_sections": [],
      "authorship_tag": "ABX9TyOn+EZvGuSHV6aXCdtapMgG",
      "include_colab_link": true
    },
    "kernelspec": {
      "name": "python3",
      "display_name": "Python 3"
    },
    "language_info": {
      "name": "python"
    }
  },
  "cells": [
    {
      "cell_type": "markdown",
      "metadata": {
        "id": "view-in-github",
        "colab_type": "text"
      },
      "source": [
        "<a href=\"https://colab.research.google.com/github/julienVLNT/python-sandbox/blob/main/machine%20learning/rl_03_open1I_gym_custom_environment.ipynb\" target=\"_parent\"><img src=\"https://colab.research.google.com/assets/colab-badge.svg\" alt=\"Open In Colab\"/></a>"
      ]
    },
    {
      "cell_type": "code",
      "execution_count": 1,
      "metadata": {
        "colab": {
          "base_uri": "https://localhost:8080/"
        },
        "id": "CQ51SLbGXfRK",
        "outputId": "726a3e37-9af3-47f6-fa23-3a9a6902f6c3"
      },
      "outputs": [
        {
          "output_type": "stream",
          "name": "stdout",
          "text": [
            "Python 3.7.13\n"
          ]
        }
      ],
      "source": [
        "!python --version"
      ]
    },
    {
      "cell_type": "markdown",
      "source": [
        "**Julien VALENTIN**, **avril 2022**.\n",
        "\n",
        "Exploration de la librairie *Gym* pour la création d'environnements personnalisés dans le cadre de l'apprentissage par renforcement.\n",
        "\n",
        "Se rapporter à\n",
        "\n",
        "> https://blog.paperspace.com/getting-started-with-openai-gym/\n",
        "\n",
        "> https://blog.paperspace.com/creating-custom-environments-openai-gym/\n",
        "\n",
        "> https://gym.openai.com/docs/\n",
        "\n",
        "Toutes les étapes pour la définition d'un environnement adapté à la résolution d'un apprentissage par renforcement y sont décrites et illustrées. On a même un exemple fonctionnel d'interaction.\n",
        "\n",
        "Rapidement, on rappelle que l'environnement reçoit une action, se modifie en conséquence, et renvoie un nouvel état de l'agent et une récompense. \n",
        "\n"
      ],
      "metadata": {
        "id": "Jy2nd3RzXlcJ"
      }
    },
    {
      "cell_type": "code",
      "source": [
        "import gym"
      ],
      "metadata": {
        "id": "WSqg88Knmn8S"
      },
      "execution_count": 2,
      "outputs": []
    },
    {
      "cell_type": "code",
      "source": [
        "def explore(package):\n",
        "    \"Liste les attributs et méthodes publics d'un package.\"\n",
        "    attributs = dir(package)\n",
        "    for attribut in attributs:\n",
        "        if not attribut.startswith(\"_\"):\n",
        "            print(attribut)\n",
        "    return"
      ],
      "metadata": {
        "id": "oiqPZMdLnYck"
      },
      "execution_count": 3,
      "outputs": []
    },
    {
      "cell_type": "markdown",
      "source": [
        "### La librairie `gym`"
      ],
      "metadata": {
        "id": "2u96zzJanvDI"
      }
    },
    {
      "cell_type": "code",
      "source": [
        "explore(gym)"
      ],
      "metadata": {
        "colab": {
          "base_uri": "https://localhost:8080/"
        },
        "id": "Ee6UAsIfnr5Z",
        "outputId": "b417672f-19ae-4f31-f7e9-1b82de1f1a38"
      },
      "execution_count": 4,
      "outputs": [
        {
          "output_type": "stream",
          "name": "stdout",
          "text": [
            "ActionWrapper\n",
            "Env\n",
            "GoalEnv\n",
            "ObservationWrapper\n",
            "RewardWrapper\n",
            "Space\n",
            "Wrapper\n",
            "core\n",
            "distutils\n",
            "envs\n",
            "error\n",
            "logger\n",
            "make\n",
            "os\n",
            "register\n",
            "spaces\n",
            "spec\n",
            "sys\n",
            "utils\n",
            "vector\n",
            "version\n",
            "warnings\n",
            "wrappers\n"
          ]
        }
      ]
    },
    {
      "cell_type": "markdown",
      "source": [
        "### La classe `Env`"
      ],
      "metadata": {
        "id": "83w1OIwboBzt"
      }
    },
    {
      "cell_type": "code",
      "source": [
        "explore(gym.Env)"
      ],
      "metadata": {
        "colab": {
          "base_uri": "https://localhost:8080/"
        },
        "id": "Vq0mtn5xns7h",
        "outputId": "321b0f36-f07a-40a8-8d79-6c18fb01c86b"
      },
      "execution_count": 5,
      "outputs": [
        {
          "output_type": "stream",
          "name": "stdout",
          "text": [
            "action_space\n",
            "close\n",
            "metadata\n",
            "observation_space\n",
            "render\n",
            "reset\n",
            "reward_range\n",
            "seed\n",
            "spec\n",
            "step\n",
            "unwrapped\n"
          ]
        }
      ]
    },
    {
      "cell_type": "markdown",
      "source": [
        "Cette classe est celle à éditer lorsqu'on veut construire un environnement en particulier. Les attributs `action_space` et `observation_space` ont des noms transparents, ce sont des instances de la classe `Space`, une zoologie d'espaces usuels sont accessibles depuis le sous-module `spaces`."
      ],
      "metadata": {
        "id": "YGWTl-kMoMhj"
      }
    },
    {
      "cell_type": "code",
      "source": [
        "?gym.Env.reward_range"
      ],
      "metadata": {
        "id": "0IrWVc4bpD5v"
      },
      "execution_count": 6,
      "outputs": []
    },
    {
      "cell_type": "markdown",
      "source": [
        "Sans surprise, c'est bien la plage de valeurs accessibles pour le problème posé. Lorsqu'on veut maximiser la vitesse d'exécution de la tâche, on proposera le tuple à un élément `(-1)`, au contraire si le but est la survie, on spécifie le tuple à un élément `(1)`... Plus généralement, on donne donc une liste ou un conteneur `numpy.ndarray`."
      ],
      "metadata": {
        "id": "dtAriYWHpMby"
      }
    },
    {
      "cell_type": "code",
      "source": [
        "?gym.Env.step"
      ],
      "metadata": {
        "id": "vSXxzZ3qp7gm"
      },
      "execution_count": 7,
      "outputs": []
    },
    {
      "cell_type": "markdown",
      "source": [
        "La méthode `step` est fondamentale : elle correspond à la réponse de l'environnement à l'action spécifiée. Elle prend en entrée une action, un objet appartenant à l'attribut `gym.Env.action_space` (le vérifier à l'aide d'un `assert action in self.action_space`) et renvoie un tuple contenant, dans l'ordre,\n",
        "\n",
        "- `observation`, objet appartenant à l'attribut `observation_space`,\n",
        "- `reward`, nombre réel appartenant à l'attribut `reward_range`,\n",
        "- `done`, un booléen qui témoigne de la fin d'un épisode ou pas,\n",
        "- `info`, un dictionnaire à personnaliser."
      ],
      "metadata": {
        "id": "IMzCWWHypwAI"
      }
    },
    {
      "cell_type": "code",
      "source": [
        "?gym.Env.render"
      ],
      "metadata": {
        "id": "8s4EtOyiqvTT"
      },
      "execution_count": 8,
      "outputs": []
    },
    {
      "cell_type": "markdown",
      "source": [
        "Permet de visualiser, de rendre compte, de l'environnement selon différents modes : l'argument `mode=\"human\"` pour être lisible par un utilisateur, présent par défaut ; `mode=\"rgb_array\"` ou `mode=\"ansi\"`."
      ],
      "metadata": {
        "id": "TaCFnl4tq5VV"
      }
    },
    {
      "cell_type": "markdown",
      "source": [
        "### La sous-librairie `gym.spaces`"
      ],
      "metadata": {
        "id": "JohXhY69oo1X"
      }
    },
    {
      "cell_type": "code",
      "source": [
        "explore(gym.spaces)"
      ],
      "metadata": {
        "colab": {
          "base_uri": "https://localhost:8080/"
        },
        "id": "FiHHAu_coLay",
        "outputId": "a65472e3-9bdc-4c6f-c8ef-538496b1e2e7"
      },
      "execution_count": 9,
      "outputs": [
        {
          "output_type": "stream",
          "name": "stdout",
          "text": [
            "Box\n",
            "Dict\n",
            "Discrete\n",
            "MultiBinary\n",
            "MultiDiscrete\n",
            "Space\n",
            "Tuple\n",
            "box\n",
            "dict\n",
            "discrete\n",
            "flatdim\n",
            "flatten\n",
            "flatten_space\n",
            "multi_binary\n",
            "multi_discrete\n",
            "space\n",
            "tuple\n",
            "unflatten\n",
            "utils\n"
          ]
        }
      ]
    },
    {
      "cell_type": "markdown",
      "source": [
        "Ces espaces sont des conteneurs permettant de construire des modèles d'espaces pour les observations et les actions. "
      ],
      "metadata": {
        "id": "PuGaaoUaoyI4"
      }
    },
    {
      "cell_type": "code",
      "source": [
        ""
      ],
      "metadata": {
        "id": "BVhFTcTUotzU"
      },
      "execution_count": 9,
      "outputs": []
    }
  ]
}