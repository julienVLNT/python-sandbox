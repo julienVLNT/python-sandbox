{
  "nbformat": 4,
  "nbformat_minor": 0,
  "metadata": {
    "colab": {
      "name": "sklearn_05_tuning_parameters.ipynb",
      "provenance": [],
      "collapsed_sections": []
    },
    "kernelspec": {
      "name": "python3",
      "display_name": "Python 3"
    },
    "language_info": {
      "name": "python"
    }
  },
  "cells": [
    {
      "cell_type": "code",
      "execution_count": 1,
      "metadata": {
        "colab": {
          "base_uri": "https://localhost:8080/"
        },
        "id": "HoLNMxOKLal9",
        "outputId": "e8454044-7398-4e3d-d180-965d7bed72ef"
      },
      "outputs": [
        {
          "output_type": "stream",
          "name": "stdout",
          "text": [
            "Python 3.7.13\n"
          ]
        }
      ],
      "source": [
        "!python --version"
      ]
    },
    {
      "cell_type": "markdown",
      "source": [
        "**Julien VALENTIN**, **mars 2022**, d'après \n",
        "\n",
        "> [Machine learning in Python with scikit-learn](https://www.fun-mooc.fr/fr/cours/machine-learning-python-scikit-learn/) d'I.N.R.I.A sur [F.U.N](https://www.fun-mooc.fr/fr/)"
      ],
      "metadata": {
        "id": "AK6TbjhELgsE"
      }
    },
    {
      "cell_type": "markdown",
      "source": [
        "### Import"
      ],
      "metadata": {
        "id": "syCeRvAsLnkE"
      }
    },
    {
      "cell_type": "code",
      "source": [
        "!rm adult-census.csv\n",
        "!wget https://raw.githubusercontent.com/INRIA/scikit-learn-mooc/57f2e69a976136a9d1f9409b69ef0d6b3509903c/datasets/adult-census.csv"
      ],
      "metadata": {
        "colab": {
          "base_uri": "https://localhost:8080/"
        },
        "id": "E7PaGAT0PEzh",
        "outputId": "c1376a24-8839-4808-c9b4-8f7eeb4540d1"
      },
      "execution_count": 2,
      "outputs": [
        {
          "output_type": "stream",
          "name": "stdout",
          "text": [
            "--2022-03-28 16:21:14--  https://raw.githubusercontent.com/INRIA/scikit-learn-mooc/57f2e69a976136a9d1f9409b69ef0d6b3509903c/datasets/adult-census.csv\n",
            "Resolving raw.githubusercontent.com (raw.githubusercontent.com)... 185.199.108.133, 185.199.110.133, 185.199.109.133, ...\n",
            "Connecting to raw.githubusercontent.com (raw.githubusercontent.com)|185.199.108.133|:443... connected.\n",
            "HTTP request sent, awaiting response... 200 OK\n",
            "Length: 5383740 (5.1M) [text/plain]\n",
            "Saving to: ‘adult-census.csv’\n",
            "\n",
            "\radult-census.csv      0%[                    ]       0  --.-KB/s               \radult-census.csv    100%[===================>]   5.13M  --.-KB/s    in 0.09s   \n",
            "\n",
            "2022-03-28 16:21:14 (54.4 MB/s) - ‘adult-census.csv’ saved [5383740/5383740]\n",
            "\n"
          ]
        }
      ]
    },
    {
      "cell_type": "code",
      "source": [
        "import pandas as pd\n",
        "\n",
        "from sklearn.model_selection import train_test_split\n",
        "\n",
        "adult_census = pd.read_csv(\"adult-census.csv\")\n",
        "\n",
        "target_name = \"class\"\n",
        "target = adult_census[target_name]\n",
        "data = adult_census.drop(columns=[target_name, \"education-num\"])\n",
        "\n",
        "data_train, data_test, target_train, target_test = train_test_split(\n",
        "    data, target, train_size=0.2, random_state=42)\n",
        "data.info()"
      ],
      "metadata": {
        "colab": {
          "base_uri": "https://localhost:8080/"
        },
        "id": "XGLMD0moLftS",
        "outputId": "3501e2ac-befb-4044-a022-ea4350e485dd"
      },
      "execution_count": 3,
      "outputs": [
        {
          "output_type": "stream",
          "name": "stdout",
          "text": [
            "<class 'pandas.core.frame.DataFrame'>\n",
            "RangeIndex: 48842 entries, 0 to 48841\n",
            "Data columns (total 12 columns):\n",
            " #   Column          Non-Null Count  Dtype \n",
            "---  ------          --------------  ----- \n",
            " 0   age             48842 non-null  int64 \n",
            " 1   workclass       48842 non-null  object\n",
            " 2   education       48842 non-null  object\n",
            " 3   marital-status  48842 non-null  object\n",
            " 4   occupation      48842 non-null  object\n",
            " 5   relationship    48842 non-null  object\n",
            " 6   race            48842 non-null  object\n",
            " 7   sex             48842 non-null  object\n",
            " 8   capital-gain    48842 non-null  int64 \n",
            " 9   capital-loss    48842 non-null  int64 \n",
            " 10  hours-per-week  48842 non-null  int64 \n",
            " 11  native-country  48842 non-null  object\n",
            "dtypes: int64(4), object(8)\n",
            "memory usage: 4.5+ MB\n"
          ]
        }
      ]
    },
    {
      "cell_type": "markdown",
      "source": [
        "### Modélisation par HistGradientBoostingClassifier"
      ],
      "metadata": {
        "id": "Zvj-fAxbOifs"
      }
    },
    {
      "cell_type": "code",
      "source": [
        "from sklearn.compose import ColumnTransformer\n",
        "from sklearn.compose import make_column_selector as selector\n",
        "from sklearn.preprocessing import OrdinalEncoder\n",
        "\n",
        "categorical_preprocessor = OrdinalEncoder(handle_unknown=\"use_encoded_value\",\n",
        "                                          unknown_value=-1)\n",
        "preprocessor = ColumnTransformer(\n",
        "    [('cat_preprocessor', categorical_preprocessor,\n",
        "      selector(dtype_include=object))],\n",
        "    remainder='passthrough', sparse_threshold=0)\n",
        "\n",
        "from sklearn.ensemble import HistGradientBoostingClassifier\n",
        "from sklearn.pipeline import Pipeline\n",
        "\n",
        "model = Pipeline([\n",
        "    (\"preprocessor\", preprocessor),\n",
        "    (\"classifier\", HistGradientBoostingClassifier(random_state=42))\n",
        "])"
      ],
      "metadata": {
        "id": "liGUZeZ8Ohyq"
      },
      "execution_count": 4,
      "outputs": []
    },
    {
      "cell_type": "markdown",
      "source": [
        "### Etude des paramètres `learning_rate` et `max_leaf_nodes`"
      ],
      "metadata": {
        "id": "vtEwMhPqPX4v"
      }
    },
    {
      "cell_type": "code",
      "source": [
        "from sklearn.model_selection import cross_val_score\n",
        "\n",
        "learning_rate = [0.01, 0.1, 1, 10]\n",
        "max_leaf_nodes = [3, 10, 30]\n",
        "\n",
        "best_score = 0\n",
        "best_params = {}\n",
        "for lr in learning_rate:\n",
        "    for mln in max_leaf_nodes:\n",
        "        print(f\"Evaluating model with learning rate {lr:.3f}\"\n",
        "              f\" and max leaf nodes {mln}... \", end=\"\")\n",
        "        model.set_params(\n",
        "            classifier__learning_rate=lr,\n",
        "            classifier__max_leaf_nodes=mln\n",
        "        )\n",
        "        scores = cross_val_score(model, data_train, target_train, cv=2)\n",
        "        mean_score = scores.mean()\n",
        "        print(f\"score: {mean_score:.3f}\")\n",
        "        if mean_score > best_score:\n",
        "            best_score = mean_score\n",
        "            best_params = {'learning-rate': lr, 'max leaf nodes': mln}\n",
        "            print(f\"Found new best model with score {best_score:.3f}!\")\n",
        "        print(80*\"-\")\n",
        "\n",
        "print(f\"The best accuracy obtained is {best_score:.3f}\")\n",
        "print(f\"The best parameters found are:\\n {best_params}\")"
      ],
      "metadata": {
        "colab": {
          "base_uri": "https://localhost:8080/"
        },
        "id": "wvDQKhvCOlju",
        "outputId": "73590919-4870-4f04-f45b-634349ac6f38"
      },
      "execution_count": 5,
      "outputs": [
        {
          "output_type": "stream",
          "name": "stdout",
          "text": [
            "Evaluating model with learning rate 0.010 and max leaf nodes 3... score: 0.789\n",
            "Found new best model with score 0.789!\n",
            "--------------------------------------------------------------------------------\n",
            "Evaluating model with learning rate 0.010 and max leaf nodes 10... score: 0.813\n",
            "Found new best model with score 0.813!\n",
            "--------------------------------------------------------------------------------\n",
            "Evaluating model with learning rate 0.010 and max leaf nodes 30... score: 0.842\n",
            "Found new best model with score 0.842!\n",
            "--------------------------------------------------------------------------------\n",
            "Evaluating model with learning rate 0.100 and max leaf nodes 3... score: 0.847\n",
            "Found new best model with score 0.847!\n",
            "--------------------------------------------------------------------------------\n",
            "Evaluating model with learning rate 0.100 and max leaf nodes 10... score: 0.859\n",
            "Found new best model with score 0.859!\n",
            "--------------------------------------------------------------------------------\n",
            "Evaluating model with learning rate 0.100 and max leaf nodes 30... score: 0.857\n",
            "--------------------------------------------------------------------------------\n",
            "Evaluating model with learning rate 1.000 and max leaf nodes 3... score: 0.852\n",
            "--------------------------------------------------------------------------------\n",
            "Evaluating model with learning rate 1.000 and max leaf nodes 10... score: 0.833\n",
            "--------------------------------------------------------------------------------\n",
            "Evaluating model with learning rate 1.000 and max leaf nodes 30... score: 0.828\n",
            "--------------------------------------------------------------------------------\n",
            "Evaluating model with learning rate 10.000 and max leaf nodes 3... score: 0.288\n",
            "--------------------------------------------------------------------------------\n",
            "Evaluating model with learning rate 10.000 and max leaf nodes 10... score: 0.480\n",
            "--------------------------------------------------------------------------------\n",
            "Evaluating model with learning rate 10.000 and max leaf nodes 30... score: 0.639\n",
            "--------------------------------------------------------------------------------\n",
            "The best accuracy obtained is 0.859\n",
            "The best parameters found are:\n",
            " {'learning-rate': 0.1, 'max leaf nodes': 10}\n"
          ]
        }
      ]
    },
    {
      "cell_type": "markdown",
      "source": [
        "### Avec les paramètres optimaux"
      ],
      "metadata": {
        "id": "I_ubn2U_QYQO"
      }
    },
    {
      "cell_type": "code",
      "source": [
        "best_lr = best_params['learning-rate']\n",
        "best_mln = best_params['max leaf nodes']\n",
        "\n",
        "model.set_params(classifier__learning_rate=best_lr,\n",
        "                 classifier__max_leaf_nodes=best_mln)\n",
        "model.fit(data_train, target_train)\n",
        "test_score = model.score(data_test, target_test)\n",
        "\n",
        "print(f\"Test score after the parameter tuning: {test_score:.3f}\")"
      ],
      "metadata": {
        "colab": {
          "base_uri": "https://localhost:8080/"
        },
        "id": "IYd5hkIIPnab",
        "outputId": "d48b0aa2-676f-470b-fd61-928d98443991"
      },
      "execution_count": 6,
      "outputs": [
        {
          "output_type": "stream",
          "name": "stdout",
          "text": [
            "Test score after the parameter tuning: 0.870\n"
          ]
        }
      ]
    },
    {
      "cell_type": "markdown",
      "source": [
        "### Automatisation avec `GridSearch`"
      ],
      "metadata": {
        "id": "a7PoW_dAQ47w"
      }
    },
    {
      "cell_type": "code",
      "source": [
        "from sklearn.model_selection import GridSearchCV\n",
        "\n",
        "param_grid = {\n",
        "    'classifier__learning_rate': (0.01, 0.1, 1, 10),\n",
        "    'classifier__max_leaf_nodes': (3, 10, 30)}\n",
        "model_grid_search = GridSearchCV(model, param_grid=param_grid,\n",
        "                                 n_jobs=2, cv=2)\n",
        "\n",
        "model_grid_search.fit(data_train, target_train)"
      ],
      "metadata": {
        "colab": {
          "base_uri": "https://localhost:8080/"
        },
        "id": "pxnTYxJ_QaaJ",
        "outputId": "8c6fbbab-3d5c-4abd-8cf7-db3c956cf490"
      },
      "execution_count": 7,
      "outputs": [
        {
          "output_type": "execute_result",
          "data": {
            "text/plain": [
              "GridSearchCV(cv=2,\n",
              "             estimator=Pipeline(steps=[('preprocessor',\n",
              "                                        ColumnTransformer(remainder='passthrough',\n",
              "                                                          sparse_threshold=0,\n",
              "                                                          transformers=[('cat_preprocessor',\n",
              "                                                                         OrdinalEncoder(handle_unknown='use_encoded_value',\n",
              "                                                                                        unknown_value=-1),\n",
              "                                                                         <sklearn.compose._column_transformer.make_column_selector object at 0x7f22bdeab990>)])),\n",
              "                                       ('classifier',\n",
              "                                        HistGradientBoostingClassifier(max_leaf_nodes=10,\n",
              "                                                                       random_state=42))]),\n",
              "             n_jobs=2,\n",
              "             param_grid={'classifier__learning_rate': (0.01, 0.1, 1, 10),\n",
              "                         'classifier__max_leaf_nodes': (3, 10, 30)})"
            ]
          },
          "metadata": {},
          "execution_count": 7
        }
      ]
    },
    {
      "cell_type": "code",
      "source": [
        "print(f\"The best set of parameters is: \"\n",
        "      f\"{model_grid_search.best_params_}\")"
      ],
      "metadata": {
        "colab": {
          "base_uri": "https://localhost:8080/"
        },
        "id": "G2EXWSzeSqfB",
        "outputId": "a67596fe-f541-4ce8-b995-1f68dd71366e"
      },
      "execution_count": 8,
      "outputs": [
        {
          "output_type": "stream",
          "name": "stdout",
          "text": [
            "The best set of parameters is: {'classifier__learning_rate': 0.1, 'classifier__max_leaf_nodes': 10}\n"
          ]
        }
      ]
    },
    {
      "cell_type": "code",
      "source": [
        "cv_results = pd.DataFrame(model_grid_search.cv_results_).sort_values(\n",
        "    \"mean_test_score\", ascending=False)\n",
        "cv_results.head()"
      ],
      "metadata": {
        "colab": {
          "base_uri": "https://localhost:8080/",
          "height": 357
        },
        "id": "GhfV029-TlJJ",
        "outputId": "692c4ba5-3d64-4457-f3f0-f7ff95747396"
      },
      "execution_count": 9,
      "outputs": [
        {
          "output_type": "execute_result",
          "data": {
            "text/plain": [
              "   mean_fit_time  std_fit_time  mean_score_time  std_score_time  \\\n",
              "4       0.462287      0.035267         0.192665        0.006520   \n",
              "5       1.181474      0.146980         0.257934        0.024241   \n",
              "6       0.372674      0.004997         0.178057        0.018351   \n",
              "3       0.347575      0.075638         0.184907        0.014491   \n",
              "2       1.061959      0.253116         0.168340        0.045098   \n",
              "\n",
              "  param_classifier__learning_rate param_classifier__max_leaf_nodes  \\\n",
              "4                             0.1                               10   \n",
              "5                             0.1                               30   \n",
              "6                               1                                3   \n",
              "3                             0.1                                3   \n",
              "2                            0.01                               30   \n",
              "\n",
              "                                              params  split0_test_score  \\\n",
              "4  {'classifier__learning_rate': 0.1, 'classifier...           0.861794   \n",
              "5  {'classifier__learning_rate': 0.1, 'classifier...           0.859337   \n",
              "6  {'classifier__learning_rate': 1, 'classifier__...           0.851351   \n",
              "3  {'classifier__learning_rate': 0.1, 'classifier...           0.849918   \n",
              "2  {'classifier__learning_rate': 0.01, 'classifie...           0.845823   \n",
              "\n",
              "   split1_test_score  mean_test_score  std_test_score  rank_test_score  \n",
              "4           0.856880         0.859337        0.002457                1  \n",
              "5           0.855651         0.857494        0.001843                2  \n",
              "6           0.853194         0.852273        0.000921                3  \n",
              "3           0.844185         0.847052        0.002867                4  \n",
              "2           0.837633         0.841728        0.004095                5  "
            ],
            "text/html": [
              "\n",
              "  <div id=\"df-223d570f-bc6b-4a98-8886-ae39eae9b729\">\n",
              "    <div class=\"colab-df-container\">\n",
              "      <div>\n",
              "<style scoped>\n",
              "    .dataframe tbody tr th:only-of-type {\n",
              "        vertical-align: middle;\n",
              "    }\n",
              "\n",
              "    .dataframe tbody tr th {\n",
              "        vertical-align: top;\n",
              "    }\n",
              "\n",
              "    .dataframe thead th {\n",
              "        text-align: right;\n",
              "    }\n",
              "</style>\n",
              "<table border=\"1\" class=\"dataframe\">\n",
              "  <thead>\n",
              "    <tr style=\"text-align: right;\">\n",
              "      <th></th>\n",
              "      <th>mean_fit_time</th>\n",
              "      <th>std_fit_time</th>\n",
              "      <th>mean_score_time</th>\n",
              "      <th>std_score_time</th>\n",
              "      <th>param_classifier__learning_rate</th>\n",
              "      <th>param_classifier__max_leaf_nodes</th>\n",
              "      <th>params</th>\n",
              "      <th>split0_test_score</th>\n",
              "      <th>split1_test_score</th>\n",
              "      <th>mean_test_score</th>\n",
              "      <th>std_test_score</th>\n",
              "      <th>rank_test_score</th>\n",
              "    </tr>\n",
              "  </thead>\n",
              "  <tbody>\n",
              "    <tr>\n",
              "      <th>4</th>\n",
              "      <td>0.462287</td>\n",
              "      <td>0.035267</td>\n",
              "      <td>0.192665</td>\n",
              "      <td>0.006520</td>\n",
              "      <td>0.1</td>\n",
              "      <td>10</td>\n",
              "      <td>{'classifier__learning_rate': 0.1, 'classifier...</td>\n",
              "      <td>0.861794</td>\n",
              "      <td>0.856880</td>\n",
              "      <td>0.859337</td>\n",
              "      <td>0.002457</td>\n",
              "      <td>1</td>\n",
              "    </tr>\n",
              "    <tr>\n",
              "      <th>5</th>\n",
              "      <td>1.181474</td>\n",
              "      <td>0.146980</td>\n",
              "      <td>0.257934</td>\n",
              "      <td>0.024241</td>\n",
              "      <td>0.1</td>\n",
              "      <td>30</td>\n",
              "      <td>{'classifier__learning_rate': 0.1, 'classifier...</td>\n",
              "      <td>0.859337</td>\n",
              "      <td>0.855651</td>\n",
              "      <td>0.857494</td>\n",
              "      <td>0.001843</td>\n",
              "      <td>2</td>\n",
              "    </tr>\n",
              "    <tr>\n",
              "      <th>6</th>\n",
              "      <td>0.372674</td>\n",
              "      <td>0.004997</td>\n",
              "      <td>0.178057</td>\n",
              "      <td>0.018351</td>\n",
              "      <td>1</td>\n",
              "      <td>3</td>\n",
              "      <td>{'classifier__learning_rate': 1, 'classifier__...</td>\n",
              "      <td>0.851351</td>\n",
              "      <td>0.853194</td>\n",
              "      <td>0.852273</td>\n",
              "      <td>0.000921</td>\n",
              "      <td>3</td>\n",
              "    </tr>\n",
              "    <tr>\n",
              "      <th>3</th>\n",
              "      <td>0.347575</td>\n",
              "      <td>0.075638</td>\n",
              "      <td>0.184907</td>\n",
              "      <td>0.014491</td>\n",
              "      <td>0.1</td>\n",
              "      <td>3</td>\n",
              "      <td>{'classifier__learning_rate': 0.1, 'classifier...</td>\n",
              "      <td>0.849918</td>\n",
              "      <td>0.844185</td>\n",
              "      <td>0.847052</td>\n",
              "      <td>0.002867</td>\n",
              "      <td>4</td>\n",
              "    </tr>\n",
              "    <tr>\n",
              "      <th>2</th>\n",
              "      <td>1.061959</td>\n",
              "      <td>0.253116</td>\n",
              "      <td>0.168340</td>\n",
              "      <td>0.045098</td>\n",
              "      <td>0.01</td>\n",
              "      <td>30</td>\n",
              "      <td>{'classifier__learning_rate': 0.01, 'classifie...</td>\n",
              "      <td>0.845823</td>\n",
              "      <td>0.837633</td>\n",
              "      <td>0.841728</td>\n",
              "      <td>0.004095</td>\n",
              "      <td>5</td>\n",
              "    </tr>\n",
              "  </tbody>\n",
              "</table>\n",
              "</div>\n",
              "      <button class=\"colab-df-convert\" onclick=\"convertToInteractive('df-223d570f-bc6b-4a98-8886-ae39eae9b729')\"\n",
              "              title=\"Convert this dataframe to an interactive table.\"\n",
              "              style=\"display:none;\">\n",
              "        \n",
              "  <svg xmlns=\"http://www.w3.org/2000/svg\" height=\"24px\"viewBox=\"0 0 24 24\"\n",
              "       width=\"24px\">\n",
              "    <path d=\"M0 0h24v24H0V0z\" fill=\"none\"/>\n",
              "    <path d=\"M18.56 5.44l.94 2.06.94-2.06 2.06-.94-2.06-.94-.94-2.06-.94 2.06-2.06.94zm-11 1L8.5 8.5l.94-2.06 2.06-.94-2.06-.94L8.5 2.5l-.94 2.06-2.06.94zm10 10l.94 2.06.94-2.06 2.06-.94-2.06-.94-.94-2.06-.94 2.06-2.06.94z\"/><path d=\"M17.41 7.96l-1.37-1.37c-.4-.4-.92-.59-1.43-.59-.52 0-1.04.2-1.43.59L10.3 9.45l-7.72 7.72c-.78.78-.78 2.05 0 2.83L4 21.41c.39.39.9.59 1.41.59.51 0 1.02-.2 1.41-.59l7.78-7.78 2.81-2.81c.8-.78.8-2.07 0-2.86zM5.41 20L4 18.59l7.72-7.72 1.47 1.35L5.41 20z\"/>\n",
              "  </svg>\n",
              "      </button>\n",
              "      \n",
              "  <style>\n",
              "    .colab-df-container {\n",
              "      display:flex;\n",
              "      flex-wrap:wrap;\n",
              "      gap: 12px;\n",
              "    }\n",
              "\n",
              "    .colab-df-convert {\n",
              "      background-color: #E8F0FE;\n",
              "      border: none;\n",
              "      border-radius: 50%;\n",
              "      cursor: pointer;\n",
              "      display: none;\n",
              "      fill: #1967D2;\n",
              "      height: 32px;\n",
              "      padding: 0 0 0 0;\n",
              "      width: 32px;\n",
              "    }\n",
              "\n",
              "    .colab-df-convert:hover {\n",
              "      background-color: #E2EBFA;\n",
              "      box-shadow: 0px 1px 2px rgba(60, 64, 67, 0.3), 0px 1px 3px 1px rgba(60, 64, 67, 0.15);\n",
              "      fill: #174EA6;\n",
              "    }\n",
              "\n",
              "    [theme=dark] .colab-df-convert {\n",
              "      background-color: #3B4455;\n",
              "      fill: #D2E3FC;\n",
              "    }\n",
              "\n",
              "    [theme=dark] .colab-df-convert:hover {\n",
              "      background-color: #434B5C;\n",
              "      box-shadow: 0px 1px 3px 1px rgba(0, 0, 0, 0.15);\n",
              "      filter: drop-shadow(0px 1px 2px rgba(0, 0, 0, 0.3));\n",
              "      fill: #FFFFFF;\n",
              "    }\n",
              "  </style>\n",
              "\n",
              "      <script>\n",
              "        const buttonEl =\n",
              "          document.querySelector('#df-223d570f-bc6b-4a98-8886-ae39eae9b729 button.colab-df-convert');\n",
              "        buttonEl.style.display =\n",
              "          google.colab.kernel.accessAllowed ? 'block' : 'none';\n",
              "\n",
              "        async function convertToInteractive(key) {\n",
              "          const element = document.querySelector('#df-223d570f-bc6b-4a98-8886-ae39eae9b729');\n",
              "          const dataTable =\n",
              "            await google.colab.kernel.invokeFunction('convertToInteractive',\n",
              "                                                     [key], {});\n",
              "          if (!dataTable) return;\n",
              "\n",
              "          const docLinkHtml = 'Like what you see? Visit the ' +\n",
              "            '<a target=\"_blank\" href=https://colab.research.google.com/notebooks/data_table.ipynb>data table notebook</a>'\n",
              "            + ' to learn more about interactive tables.';\n",
              "          element.innerHTML = '';\n",
              "          dataTable['output_type'] = 'display_data';\n",
              "          await google.colab.output.renderOutput(dataTable, element);\n",
              "          const docLink = document.createElement('div');\n",
              "          docLink.innerHTML = docLinkHtml;\n",
              "          element.appendChild(docLink);\n",
              "        }\n",
              "      </script>\n",
              "    </div>\n",
              "  </div>\n",
              "  "
            ]
          },
          "metadata": {},
          "execution_count": 9
        }
      ]
    },
    {
      "cell_type": "code",
      "source": [
        "column_results = [f\"param_{name}\" for name in param_grid.keys()]\n",
        "column_results += [\n",
        "    \"mean_test_score\", \"std_test_score\", \"rank_test_score\"]\n",
        "cv_results = cv_results[column_results]\n",
        "\n",
        "def shorten_param(param_name):\n",
        "    if \"__\" in param_name:\n",
        "        return param_name.rsplit(\"__\", 1)[1]\n",
        "    return param_name\n",
        "\n",
        "cv_results = cv_results.rename(shorten_param, axis=1)\n",
        "cv_results"
      ],
      "metadata": {
        "colab": {
          "base_uri": "https://localhost:8080/",
          "height": 426
        },
        "id": "VwTgodOPTtdh",
        "outputId": "9b201b36-3204-437b-fd06-980d824a8190"
      },
      "execution_count": 10,
      "outputs": [
        {
          "output_type": "execute_result",
          "data": {
            "text/plain": [
              "   learning_rate max_leaf_nodes  mean_test_score  std_test_score  \\\n",
              "4            0.1             10         0.859337        0.002457   \n",
              "5            0.1             30         0.857494        0.001843   \n",
              "6              1              3         0.852273        0.000921   \n",
              "3            0.1              3         0.847052        0.002867   \n",
              "2           0.01             30         0.841728        0.004095   \n",
              "7              1             10         0.832719        0.001024   \n",
              "8              1             30         0.827907        0.000307   \n",
              "1           0.01             10         0.813473        0.001433   \n",
              "0           0.01              3         0.789210        0.001126   \n",
              "11            10             30         0.638514        0.082002   \n",
              "10            10             10         0.479934        0.255528   \n",
              "9             10              3         0.288288        0.007166   \n",
              "\n",
              "    rank_test_score  \n",
              "4                 1  \n",
              "5                 2  \n",
              "6                 3  \n",
              "3                 4  \n",
              "2                 5  \n",
              "7                 6  \n",
              "8                 7  \n",
              "1                 8  \n",
              "0                 9  \n",
              "11               10  \n",
              "10               11  \n",
              "9                12  "
            ],
            "text/html": [
              "\n",
              "  <div id=\"df-95878ab0-461f-4b67-8c13-3d78e224a5ec\">\n",
              "    <div class=\"colab-df-container\">\n",
              "      <div>\n",
              "<style scoped>\n",
              "    .dataframe tbody tr th:only-of-type {\n",
              "        vertical-align: middle;\n",
              "    }\n",
              "\n",
              "    .dataframe tbody tr th {\n",
              "        vertical-align: top;\n",
              "    }\n",
              "\n",
              "    .dataframe thead th {\n",
              "        text-align: right;\n",
              "    }\n",
              "</style>\n",
              "<table border=\"1\" class=\"dataframe\">\n",
              "  <thead>\n",
              "    <tr style=\"text-align: right;\">\n",
              "      <th></th>\n",
              "      <th>learning_rate</th>\n",
              "      <th>max_leaf_nodes</th>\n",
              "      <th>mean_test_score</th>\n",
              "      <th>std_test_score</th>\n",
              "      <th>rank_test_score</th>\n",
              "    </tr>\n",
              "  </thead>\n",
              "  <tbody>\n",
              "    <tr>\n",
              "      <th>4</th>\n",
              "      <td>0.1</td>\n",
              "      <td>10</td>\n",
              "      <td>0.859337</td>\n",
              "      <td>0.002457</td>\n",
              "      <td>1</td>\n",
              "    </tr>\n",
              "    <tr>\n",
              "      <th>5</th>\n",
              "      <td>0.1</td>\n",
              "      <td>30</td>\n",
              "      <td>0.857494</td>\n",
              "      <td>0.001843</td>\n",
              "      <td>2</td>\n",
              "    </tr>\n",
              "    <tr>\n",
              "      <th>6</th>\n",
              "      <td>1</td>\n",
              "      <td>3</td>\n",
              "      <td>0.852273</td>\n",
              "      <td>0.000921</td>\n",
              "      <td>3</td>\n",
              "    </tr>\n",
              "    <tr>\n",
              "      <th>3</th>\n",
              "      <td>0.1</td>\n",
              "      <td>3</td>\n",
              "      <td>0.847052</td>\n",
              "      <td>0.002867</td>\n",
              "      <td>4</td>\n",
              "    </tr>\n",
              "    <tr>\n",
              "      <th>2</th>\n",
              "      <td>0.01</td>\n",
              "      <td>30</td>\n",
              "      <td>0.841728</td>\n",
              "      <td>0.004095</td>\n",
              "      <td>5</td>\n",
              "    </tr>\n",
              "    <tr>\n",
              "      <th>7</th>\n",
              "      <td>1</td>\n",
              "      <td>10</td>\n",
              "      <td>0.832719</td>\n",
              "      <td>0.001024</td>\n",
              "      <td>6</td>\n",
              "    </tr>\n",
              "    <tr>\n",
              "      <th>8</th>\n",
              "      <td>1</td>\n",
              "      <td>30</td>\n",
              "      <td>0.827907</td>\n",
              "      <td>0.000307</td>\n",
              "      <td>7</td>\n",
              "    </tr>\n",
              "    <tr>\n",
              "      <th>1</th>\n",
              "      <td>0.01</td>\n",
              "      <td>10</td>\n",
              "      <td>0.813473</td>\n",
              "      <td>0.001433</td>\n",
              "      <td>8</td>\n",
              "    </tr>\n",
              "    <tr>\n",
              "      <th>0</th>\n",
              "      <td>0.01</td>\n",
              "      <td>3</td>\n",
              "      <td>0.789210</td>\n",
              "      <td>0.001126</td>\n",
              "      <td>9</td>\n",
              "    </tr>\n",
              "    <tr>\n",
              "      <th>11</th>\n",
              "      <td>10</td>\n",
              "      <td>30</td>\n",
              "      <td>0.638514</td>\n",
              "      <td>0.082002</td>\n",
              "      <td>10</td>\n",
              "    </tr>\n",
              "    <tr>\n",
              "      <th>10</th>\n",
              "      <td>10</td>\n",
              "      <td>10</td>\n",
              "      <td>0.479934</td>\n",
              "      <td>0.255528</td>\n",
              "      <td>11</td>\n",
              "    </tr>\n",
              "    <tr>\n",
              "      <th>9</th>\n",
              "      <td>10</td>\n",
              "      <td>3</td>\n",
              "      <td>0.288288</td>\n",
              "      <td>0.007166</td>\n",
              "      <td>12</td>\n",
              "    </tr>\n",
              "  </tbody>\n",
              "</table>\n",
              "</div>\n",
              "      <button class=\"colab-df-convert\" onclick=\"convertToInteractive('df-95878ab0-461f-4b67-8c13-3d78e224a5ec')\"\n",
              "              title=\"Convert this dataframe to an interactive table.\"\n",
              "              style=\"display:none;\">\n",
              "        \n",
              "  <svg xmlns=\"http://www.w3.org/2000/svg\" height=\"24px\"viewBox=\"0 0 24 24\"\n",
              "       width=\"24px\">\n",
              "    <path d=\"M0 0h24v24H0V0z\" fill=\"none\"/>\n",
              "    <path d=\"M18.56 5.44l.94 2.06.94-2.06 2.06-.94-2.06-.94-.94-2.06-.94 2.06-2.06.94zm-11 1L8.5 8.5l.94-2.06 2.06-.94-2.06-.94L8.5 2.5l-.94 2.06-2.06.94zm10 10l.94 2.06.94-2.06 2.06-.94-2.06-.94-.94-2.06-.94 2.06-2.06.94z\"/><path d=\"M17.41 7.96l-1.37-1.37c-.4-.4-.92-.59-1.43-.59-.52 0-1.04.2-1.43.59L10.3 9.45l-7.72 7.72c-.78.78-.78 2.05 0 2.83L4 21.41c.39.39.9.59 1.41.59.51 0 1.02-.2 1.41-.59l7.78-7.78 2.81-2.81c.8-.78.8-2.07 0-2.86zM5.41 20L4 18.59l7.72-7.72 1.47 1.35L5.41 20z\"/>\n",
              "  </svg>\n",
              "      </button>\n",
              "      \n",
              "  <style>\n",
              "    .colab-df-container {\n",
              "      display:flex;\n",
              "      flex-wrap:wrap;\n",
              "      gap: 12px;\n",
              "    }\n",
              "\n",
              "    .colab-df-convert {\n",
              "      background-color: #E8F0FE;\n",
              "      border: none;\n",
              "      border-radius: 50%;\n",
              "      cursor: pointer;\n",
              "      display: none;\n",
              "      fill: #1967D2;\n",
              "      height: 32px;\n",
              "      padding: 0 0 0 0;\n",
              "      width: 32px;\n",
              "    }\n",
              "\n",
              "    .colab-df-convert:hover {\n",
              "      background-color: #E2EBFA;\n",
              "      box-shadow: 0px 1px 2px rgba(60, 64, 67, 0.3), 0px 1px 3px 1px rgba(60, 64, 67, 0.15);\n",
              "      fill: #174EA6;\n",
              "    }\n",
              "\n",
              "    [theme=dark] .colab-df-convert {\n",
              "      background-color: #3B4455;\n",
              "      fill: #D2E3FC;\n",
              "    }\n",
              "\n",
              "    [theme=dark] .colab-df-convert:hover {\n",
              "      background-color: #434B5C;\n",
              "      box-shadow: 0px 1px 3px 1px rgba(0, 0, 0, 0.15);\n",
              "      filter: drop-shadow(0px 1px 2px rgba(0, 0, 0, 0.3));\n",
              "      fill: #FFFFFF;\n",
              "    }\n",
              "  </style>\n",
              "\n",
              "      <script>\n",
              "        const buttonEl =\n",
              "          document.querySelector('#df-95878ab0-461f-4b67-8c13-3d78e224a5ec button.colab-df-convert');\n",
              "        buttonEl.style.display =\n",
              "          google.colab.kernel.accessAllowed ? 'block' : 'none';\n",
              "\n",
              "        async function convertToInteractive(key) {\n",
              "          const element = document.querySelector('#df-95878ab0-461f-4b67-8c13-3d78e224a5ec');\n",
              "          const dataTable =\n",
              "            await google.colab.kernel.invokeFunction('convertToInteractive',\n",
              "                                                     [key], {});\n",
              "          if (!dataTable) return;\n",
              "\n",
              "          const docLinkHtml = 'Like what you see? Visit the ' +\n",
              "            '<a target=\"_blank\" href=https://colab.research.google.com/notebooks/data_table.ipynb>data table notebook</a>'\n",
              "            + ' to learn more about interactive tables.';\n",
              "          element.innerHTML = '';\n",
              "          dataTable['output_type'] = 'display_data';\n",
              "          await google.colab.output.renderOutput(dataTable, element);\n",
              "          const docLink = document.createElement('div');\n",
              "          docLink.innerHTML = docLinkHtml;\n",
              "          element.appendChild(docLink);\n",
              "        }\n",
              "      </script>\n",
              "    </div>\n",
              "  </div>\n",
              "  "
            ]
          },
          "metadata": {},
          "execution_count": 10
        }
      ]
    },
    {
      "cell_type": "code",
      "source": [
        "pivoted_cv_results = cv_results.pivot_table(\n",
        "    values=\"mean_test_score\", index=[\"learning_rate\"],\n",
        "    columns=[\"max_leaf_nodes\"])\n",
        "\n",
        "pivoted_cv_results"
      ],
      "metadata": {
        "colab": {
          "base_uri": "https://localhost:8080/",
          "height": 206
        },
        "id": "w7SHkSrBUC7h",
        "outputId": "0836d1bc-c51e-4b19-b06a-ca02a11398b4"
      },
      "execution_count": 11,
      "outputs": [
        {
          "output_type": "execute_result",
          "data": {
            "text/plain": [
              "max_leaf_nodes        3         10        30\n",
              "learning_rate                               \n",
              "0.01            0.789210  0.813473  0.841728\n",
              "0.10            0.847052  0.859337  0.857494\n",
              "1.00            0.852273  0.832719  0.827907\n",
              "10.00           0.288288  0.479934  0.638514"
            ],
            "text/html": [
              "\n",
              "  <div id=\"df-70df73ca-fac0-4ac7-9886-5a158f6fd59a\">\n",
              "    <div class=\"colab-df-container\">\n",
              "      <div>\n",
              "<style scoped>\n",
              "    .dataframe tbody tr th:only-of-type {\n",
              "        vertical-align: middle;\n",
              "    }\n",
              "\n",
              "    .dataframe tbody tr th {\n",
              "        vertical-align: top;\n",
              "    }\n",
              "\n",
              "    .dataframe thead th {\n",
              "        text-align: right;\n",
              "    }\n",
              "</style>\n",
              "<table border=\"1\" class=\"dataframe\">\n",
              "  <thead>\n",
              "    <tr style=\"text-align: right;\">\n",
              "      <th>max_leaf_nodes</th>\n",
              "      <th>3</th>\n",
              "      <th>10</th>\n",
              "      <th>30</th>\n",
              "    </tr>\n",
              "    <tr>\n",
              "      <th>learning_rate</th>\n",
              "      <th></th>\n",
              "      <th></th>\n",
              "      <th></th>\n",
              "    </tr>\n",
              "  </thead>\n",
              "  <tbody>\n",
              "    <tr>\n",
              "      <th>0.01</th>\n",
              "      <td>0.789210</td>\n",
              "      <td>0.813473</td>\n",
              "      <td>0.841728</td>\n",
              "    </tr>\n",
              "    <tr>\n",
              "      <th>0.10</th>\n",
              "      <td>0.847052</td>\n",
              "      <td>0.859337</td>\n",
              "      <td>0.857494</td>\n",
              "    </tr>\n",
              "    <tr>\n",
              "      <th>1.00</th>\n",
              "      <td>0.852273</td>\n",
              "      <td>0.832719</td>\n",
              "      <td>0.827907</td>\n",
              "    </tr>\n",
              "    <tr>\n",
              "      <th>10.00</th>\n",
              "      <td>0.288288</td>\n",
              "      <td>0.479934</td>\n",
              "      <td>0.638514</td>\n",
              "    </tr>\n",
              "  </tbody>\n",
              "</table>\n",
              "</div>\n",
              "      <button class=\"colab-df-convert\" onclick=\"convertToInteractive('df-70df73ca-fac0-4ac7-9886-5a158f6fd59a')\"\n",
              "              title=\"Convert this dataframe to an interactive table.\"\n",
              "              style=\"display:none;\">\n",
              "        \n",
              "  <svg xmlns=\"http://www.w3.org/2000/svg\" height=\"24px\"viewBox=\"0 0 24 24\"\n",
              "       width=\"24px\">\n",
              "    <path d=\"M0 0h24v24H0V0z\" fill=\"none\"/>\n",
              "    <path d=\"M18.56 5.44l.94 2.06.94-2.06 2.06-.94-2.06-.94-.94-2.06-.94 2.06-2.06.94zm-11 1L8.5 8.5l.94-2.06 2.06-.94-2.06-.94L8.5 2.5l-.94 2.06-2.06.94zm10 10l.94 2.06.94-2.06 2.06-.94-2.06-.94-.94-2.06-.94 2.06-2.06.94z\"/><path d=\"M17.41 7.96l-1.37-1.37c-.4-.4-.92-.59-1.43-.59-.52 0-1.04.2-1.43.59L10.3 9.45l-7.72 7.72c-.78.78-.78 2.05 0 2.83L4 21.41c.39.39.9.59 1.41.59.51 0 1.02-.2 1.41-.59l7.78-7.78 2.81-2.81c.8-.78.8-2.07 0-2.86zM5.41 20L4 18.59l7.72-7.72 1.47 1.35L5.41 20z\"/>\n",
              "  </svg>\n",
              "      </button>\n",
              "      \n",
              "  <style>\n",
              "    .colab-df-container {\n",
              "      display:flex;\n",
              "      flex-wrap:wrap;\n",
              "      gap: 12px;\n",
              "    }\n",
              "\n",
              "    .colab-df-convert {\n",
              "      background-color: #E8F0FE;\n",
              "      border: none;\n",
              "      border-radius: 50%;\n",
              "      cursor: pointer;\n",
              "      display: none;\n",
              "      fill: #1967D2;\n",
              "      height: 32px;\n",
              "      padding: 0 0 0 0;\n",
              "      width: 32px;\n",
              "    }\n",
              "\n",
              "    .colab-df-convert:hover {\n",
              "      background-color: #E2EBFA;\n",
              "      box-shadow: 0px 1px 2px rgba(60, 64, 67, 0.3), 0px 1px 3px 1px rgba(60, 64, 67, 0.15);\n",
              "      fill: #174EA6;\n",
              "    }\n",
              "\n",
              "    [theme=dark] .colab-df-convert {\n",
              "      background-color: #3B4455;\n",
              "      fill: #D2E3FC;\n",
              "    }\n",
              "\n",
              "    [theme=dark] .colab-df-convert:hover {\n",
              "      background-color: #434B5C;\n",
              "      box-shadow: 0px 1px 3px 1px rgba(0, 0, 0, 0.15);\n",
              "      filter: drop-shadow(0px 1px 2px rgba(0, 0, 0, 0.3));\n",
              "      fill: #FFFFFF;\n",
              "    }\n",
              "  </style>\n",
              "\n",
              "      <script>\n",
              "        const buttonEl =\n",
              "          document.querySelector('#df-70df73ca-fac0-4ac7-9886-5a158f6fd59a button.colab-df-convert');\n",
              "        buttonEl.style.display =\n",
              "          google.colab.kernel.accessAllowed ? 'block' : 'none';\n",
              "\n",
              "        async function convertToInteractive(key) {\n",
              "          const element = document.querySelector('#df-70df73ca-fac0-4ac7-9886-5a158f6fd59a');\n",
              "          const dataTable =\n",
              "            await google.colab.kernel.invokeFunction('convertToInteractive',\n",
              "                                                     [key], {});\n",
              "          if (!dataTable) return;\n",
              "\n",
              "          const docLinkHtml = 'Like what you see? Visit the ' +\n",
              "            '<a target=\"_blank\" href=https://colab.research.google.com/notebooks/data_table.ipynb>data table notebook</a>'\n",
              "            + ' to learn more about interactive tables.';\n",
              "          element.innerHTML = '';\n",
              "          dataTable['output_type'] = 'display_data';\n",
              "          await google.colab.output.renderOutput(dataTable, element);\n",
              "          const docLink = document.createElement('div');\n",
              "          docLink.innerHTML = docLinkHtml;\n",
              "          element.appendChild(docLink);\n",
              "        }\n",
              "      </script>\n",
              "    </div>\n",
              "  </div>\n",
              "  "
            ]
          },
          "metadata": {},
          "execution_count": 11
        }
      ]
    },
    {
      "cell_type": "code",
      "source": [
        "import seaborn as sns\n",
        "\n",
        "ax = sns.heatmap(pivoted_cv_results, annot=True, cmap=\"YlGnBu\", vmin=0.7,\n",
        "                 vmax=0.9)\n",
        "ax.invert_yaxis()"
      ],
      "metadata": {
        "colab": {
          "base_uri": "https://localhost:8080/",
          "height": 284
        },
        "id": "KXVygISRUF_-",
        "outputId": "ade92ed8-4c30-45d2-f748-4229bb74f859"
      },
      "execution_count": 12,
      "outputs": [
        {
          "output_type": "display_data",
          "data": {
            "text/plain": [
              "<Figure size 432x288 with 2 Axes>"
            ],
            "image/png": "[encoded data removed]"
          },
          "metadata": {
            "needs_background": "light"
          }
        }
      ]
    },
    {
      "cell_type": "code",
      "source": [
        ""
      ],
      "metadata": {
        "id": "HqfZUr1wUpq-"
      },
      "execution_count": 12,
      "outputs": []
    }
  ]
}