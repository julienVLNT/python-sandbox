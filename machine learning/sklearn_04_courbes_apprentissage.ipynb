{
  "nbformat": 4,
  "nbformat_minor": 0,
  "metadata": {
    "colab": {
      "name": "sklearn_04_courbes_apprentissage.ipynb",
      "provenance": [],
      "collapsed_sections": []
    },
    "kernelspec": {
      "name": "python3",
      "display_name": "Python 3"
    },
    "language_info": {
      "name": "python"
    }
  },
  "cells": [
    {
      "cell_type": "code",
      "execution_count": 1,
      "metadata": {
        "colab": {
          "base_uri": "https://localhost:8080/"
        },
        "id": "v0QK2z4O7zkq",
        "outputId": "3fd4ae09-4554-4ceb-8d86-f85b007a06a7"
      },
      "outputs": [
        {
          "output_type": "stream",
          "name": "stdout",
          "text": [
            "Python 3.7.13\n"
          ]
        }
      ],
      "source": [
        "!python --version"
      ]
    },
    {
      "cell_type": "markdown",
      "source": [
        "**Julien VALENTIN**, **mars 2022**, d'après\n",
        "\n",
        "> [Machine learning in Python with scikit-learn](https://www.fun-mooc.fr/fr/cours/machine-learning-python-scikit-learn/) d'I.N.R.I.A sur [F.U.N](https://www.fun-mooc.fr/fr/)."
      ],
      "metadata": {
        "id": "hhJjYtl972Oe"
      }
    },
    {
      "cell_type": "markdown",
      "source": [
        "### Import et exploration"
      ],
      "metadata": {
        "id": "6GL0HGEQ7-5Q"
      }
    },
    {
      "cell_type": "code",
      "source": [
        "from sklearn.datasets import fetch_california_housing\n",
        "\n",
        "housing = fetch_california_housing(as_frame=True)\n",
        "data, target = housing.data, housing.target\n",
        "target *= 100"
      ],
      "metadata": {
        "id": "FE-ndSqe-XAM"
      },
      "execution_count": 2,
      "outputs": []
    },
    {
      "cell_type": "markdown",
      "source": [
        "### Modélisation par Decision Tree Regressor"
      ],
      "metadata": {
        "id": "x2B2a8wH-cpZ"
      }
    },
    {
      "cell_type": "code",
      "source": [
        "from sklearn.tree import DecisionTreeRegressor\n",
        "\n",
        "regressor = DecisionTreeRegressor()"
      ],
      "metadata": {
        "id": "wiGcT0AQ-e04"
      },
      "execution_count": 3,
      "outputs": []
    },
    {
      "cell_type": "markdown",
      "source": [
        "### Sur-apprentissage vs sous-apprentissage"
      ],
      "metadata": {
        "id": "HfKp3wC2C7GB"
      }
    },
    {
      "cell_type": "code",
      "source": [
        "import matplotlib.pyplot as plt\n",
        "import pandas as pd\n",
        "from sklearn.model_selection import cross_validate, ShuffleSplit\n",
        "\n",
        "cv = ShuffleSplit(n_splits=30, test_size=0.2)\n",
        "cv_results = cross_validate(regressor, data, target,\n",
        "                            cv=cv, scoring=\"neg_mean_absolute_error\",\n",
        "                            return_train_score=True, n_jobs=2)\n",
        "cv_results = pd.DataFrame(cv_results)\n",
        "\n",
        "scores = pd.DataFrame()\n",
        "scores[[\"train error\", \"test error\"]] = -cv_results[\n",
        "    [\"train_score\", \"test_score\"]]\n",
        "\n",
        "scores.plot.hist(bins=50, edgecolor=\"black\")\n",
        "plt.xlabel(\"Mean absolute error (k$)\")\n",
        "_ = plt.title(\"Train and test errors distribution via cross-validation\")"
      ],
      "metadata": {
        "colab": {
          "base_uri": "https://localhost:8080/",
          "height": 295
        },
        "id": "iUoQ5q1W-fTG",
        "outputId": "0364b006-5042-4039-cbc2-edc8bc293bca"
      },
      "execution_count": 4,
      "outputs": [
        {
          "output_type": "display_data",
          "data": {
            "text/plain": [
              "<Figure size 432x288 with 1 Axes>"
            ],
            "image/png": "[encoded data removed]"
          },
          "metadata": {
            "needs_background": "light"
          }
        }
      ]
    },
    {
      "cell_type": "markdown",
      "source": [
        "### Courbes de validation et impact de la profondeur de l'arbre"
      ],
      "metadata": {
        "id": "tuEZvnprDYox"
      }
    },
    {
      "cell_type": "code",
      "source": [
        "%%time\n",
        "from sklearn.model_selection import validation_curve\n",
        "\n",
        "max_depth = [1, 5, 10, 15, 20, 25]\n",
        "train_scores, test_scores = validation_curve(\n",
        "    regressor, data, target, param_name=\"max_depth\", param_range=max_depth,\n",
        "    cv=cv, scoring=\"neg_mean_absolute_error\", n_jobs=2)\n",
        "train_errors, test_errors = -train_scores, -test_scores\n",
        "\n",
        "plt.plot(max_depth, train_errors.mean(axis=1), label=\"Training error\")\n",
        "plt.plot(max_depth, test_errors.mean(axis=1), label=\"Testing error\")\n",
        "plt.legend()\n",
        "\n",
        "plt.xlabel(\"Maximum depth of decision tree\")\n",
        "plt.ylabel(\"Mean absolute error (k$)\")\n",
        "_ = plt.title(\"Validation curve for decision tree\")"
      ],
      "metadata": {
        "colab": {
          "base_uri": "https://localhost:8080/",
          "height": 330
        },
        "id": "RaSed-a9DKgO",
        "outputId": "c01450dc-4ceb-4807-ad4f-ce85ea853040"
      },
      "execution_count": 5,
      "outputs": [
        {
          "output_type": "stream",
          "name": "stdout",
          "text": [
            "CPU times: user 863 ms, sys: 48.3 ms, total: 912 ms\n",
            "Wall time: 30.2 s\n"
          ]
        },
        {
          "output_type": "display_data",
          "data": {
            "text/plain": [
              "<Figure size 432x288 with 1 Axes>"
            ],
            "image/png": "[encoded data removed]"
          },
          "metadata": {
            "needs_background": "light"
          }
        }
      ]
    },
    {
      "cell_type": "markdown",
      "source": [
        "On remarque ici les trois zones, respectivement sous-apprentissage, puis bon apprentissage, et enfin sur-apprentissage."
      ],
      "metadata": {
        "id": "Wz0FimdaEEUr"
      }
    },
    {
      "cell_type": "markdown",
      "source": [
        "# Second exemple"
      ],
      "metadata": {
        "id": "1EbnfhxJEVe7"
      }
    },
    {
      "cell_type": "code",
      "source": [
        "import pandas as pd\n",
        "\n",
        "blood_transfusion = pd.read_html(\"https://github.com/INRIA/scikit-learn-mooc/blob/57f2e69a976136a9d1f9409b69ef0d6b3509903c/datasets/blood_transfusion.csv\")[0]\n",
        "blood_transfusion.info()"
      ],
      "metadata": {
        "colab": {
          "base_uri": "https://localhost:8080/"
        },
        "id": "N8kvS21MDeYf",
        "outputId": "d25807c1-c4ff-4936-b391-a8f16c8d88cb"
      },
      "execution_count": 6,
      "outputs": [
        {
          "output_type": "stream",
          "name": "stdout",
          "text": [
            "<class 'pandas.core.frame.DataFrame'>\n",
            "RangeIndex: 748 entries, 0 to 747\n",
            "Data columns (total 6 columns):\n",
            " #   Column      Non-Null Count  Dtype  \n",
            "---  ------      --------------  -----  \n",
            " 0   Unnamed: 0  0 non-null      float64\n",
            " 1   Recency     748 non-null    int64  \n",
            " 2   Frequency   748 non-null    int64  \n",
            " 3   Monetary    748 non-null    int64  \n",
            " 4   Time        748 non-null    int64  \n",
            " 5   Class       748 non-null    object \n",
            "dtypes: float64(1), int64(4), object(1)\n",
            "memory usage: 35.2+ KB\n"
          ]
        }
      ]
    },
    {
      "cell_type": "code",
      "source": [
        "data = blood_transfusion.drop(columns=[\"Unnamed: 0\", \"Class\"])\n",
        "target = blood_transfusion[\"Class\"]"
      ],
      "metadata": {
        "id": "xgqI4SQlI8Jn"
      },
      "execution_count": 7,
      "outputs": []
    },
    {
      "cell_type": "markdown",
      "source": [
        "### Modélisation par `SVM`"
      ],
      "metadata": {
        "id": "0cRk20t_EcTm"
      }
    },
    {
      "cell_type": "code",
      "source": [
        "from sklearn.pipeline import make_pipeline\n",
        "from sklearn.preprocessing import StandardScaler\n",
        "from sklearn.svm import SVC\n",
        "\n",
        "model = make_pipeline(StandardScaler(), SVC())"
      ],
      "metadata": {
        "id": "dKuKPuygEhTp"
      },
      "execution_count": 8,
      "outputs": []
    },
    {
      "cell_type": "markdown",
      "source": [
        "### Etude de la généralisation par schéma `ShuffleSplit`"
      ],
      "metadata": {
        "id": "EFo_ZN6VFYdy"
      }
    },
    {
      "cell_type": "code",
      "source": [
        "from sklearn.model_selection import cross_validate, ShuffleSplit\n",
        "\n",
        "cv = ShuffleSplit(random_state=0)\n",
        "cv_results = cross_validate(model, data, target, cv=cv, n_jobs=2)\n",
        "cv_results = pd.DataFrame(cv_results)\n",
        "cv_results"
      ],
      "metadata": {
        "colab": {
          "base_uri": "https://localhost:8080/",
          "height": 363
        },
        "id": "uZOghHNiFUIP",
        "outputId": "558d64c3-aba8-4836-fc3d-a03d0a7ffea9"
      },
      "execution_count": 9,
      "outputs": [
        {
          "output_type": "execute_result",
          "data": {
            "text/plain": [
              "   fit_time  score_time  test_score\n",
              "0  0.035595    0.005673    0.680000\n",
              "1  0.046071    0.005375    0.746667\n",
              "2  0.036437    0.005573    0.786667\n",
              "3  0.038745    0.005478    0.800000\n",
              "4  0.045981    0.006437    0.746667\n",
              "5  0.038240    0.011776    0.786667\n",
              "6  0.047163    0.010648    0.800000\n",
              "7  0.042927    0.005663    0.826667\n",
              "8  0.042311    0.005465    0.746667\n",
              "9  0.029778    0.003603    0.733333"
            ],
            "text/html": [
              "\n",
              "  <div id=\"df-593bae26-3a6d-4670-850a-ba096cec845c\">\n",
              "    <div class=\"colab-df-container\">\n",
              "      <div>\n",
              "<style scoped>\n",
              "    .dataframe tbody tr th:only-of-type {\n",
              "        vertical-align: middle;\n",
              "    }\n",
              "\n",
              "    .dataframe tbody tr th {\n",
              "        vertical-align: top;\n",
              "    }\n",
              "\n",
              "    .dataframe thead th {\n",
              "        text-align: right;\n",
              "    }\n",
              "</style>\n",
              "<table border=\"1\" class=\"dataframe\">\n",
              "  <thead>\n",
              "    <tr style=\"text-align: right;\">\n",
              "      <th></th>\n",
              "      <th>fit_time</th>\n",
              "      <th>score_time</th>\n",
              "      <th>test_score</th>\n",
              "    </tr>\n",
              "  </thead>\n",
              "  <tbody>\n",
              "    <tr>\n",
              "      <th>0</th>\n",
              "      <td>0.035595</td>\n",
              "      <td>0.005673</td>\n",
              "      <td>0.680000</td>\n",
              "    </tr>\n",
              "    <tr>\n",
              "      <th>1</th>\n",
              "      <td>0.046071</td>\n",
              "      <td>0.005375</td>\n",
              "      <td>0.746667</td>\n",
              "    </tr>\n",
              "    <tr>\n",
              "      <th>2</th>\n",
              "      <td>0.036437</td>\n",
              "      <td>0.005573</td>\n",
              "      <td>0.786667</td>\n",
              "    </tr>\n",
              "    <tr>\n",
              "      <th>3</th>\n",
              "      <td>0.038745</td>\n",
              "      <td>0.005478</td>\n",
              "      <td>0.800000</td>\n",
              "    </tr>\n",
              "    <tr>\n",
              "      <th>4</th>\n",
              "      <td>0.045981</td>\n",
              "      <td>0.006437</td>\n",
              "      <td>0.746667</td>\n",
              "    </tr>\n",
              "    <tr>\n",
              "      <th>5</th>\n",
              "      <td>0.038240</td>\n",
              "      <td>0.011776</td>\n",
              "      <td>0.786667</td>\n",
              "    </tr>\n",
              "    <tr>\n",
              "      <th>6</th>\n",
              "      <td>0.047163</td>\n",
              "      <td>0.010648</td>\n",
              "      <td>0.800000</td>\n",
              "    </tr>\n",
              "    <tr>\n",
              "      <th>7</th>\n",
              "      <td>0.042927</td>\n",
              "      <td>0.005663</td>\n",
              "      <td>0.826667</td>\n",
              "    </tr>\n",
              "    <tr>\n",
              "      <th>8</th>\n",
              "      <td>0.042311</td>\n",
              "      <td>0.005465</td>\n",
              "      <td>0.746667</td>\n",
              "    </tr>\n",
              "    <tr>\n",
              "      <th>9</th>\n",
              "      <td>0.029778</td>\n",
              "      <td>0.003603</td>\n",
              "      <td>0.733333</td>\n",
              "    </tr>\n",
              "  </tbody>\n",
              "</table>\n",
              "</div>\n",
              "      <button class=\"colab-df-convert\" onclick=\"convertToInteractive('df-593bae26-3a6d-4670-850a-ba096cec845c')\"\n",
              "              title=\"Convert this dataframe to an interactive table.\"\n",
              "              style=\"display:none;\">\n",
              "        \n",
              "  <svg xmlns=\"http://www.w3.org/2000/svg\" height=\"24px\"viewBox=\"0 0 24 24\"\n",
              "       width=\"24px\">\n",
              "    <path d=\"M0 0h24v24H0V0z\" fill=\"none\"/>\n",
              "    <path d=\"M18.56 5.44l.94 2.06.94-2.06 2.06-.94-2.06-.94-.94-2.06-.94 2.06-2.06.94zm-11 1L8.5 8.5l.94-2.06 2.06-.94-2.06-.94L8.5 2.5l-.94 2.06-2.06.94zm10 10l.94 2.06.94-2.06 2.06-.94-2.06-.94-.94-2.06-.94 2.06-2.06.94z\"/><path d=\"M17.41 7.96l-1.37-1.37c-.4-.4-.92-.59-1.43-.59-.52 0-1.04.2-1.43.59L10.3 9.45l-7.72 7.72c-.78.78-.78 2.05 0 2.83L4 21.41c.39.39.9.59 1.41.59.51 0 1.02-.2 1.41-.59l7.78-7.78 2.81-2.81c.8-.78.8-2.07 0-2.86zM5.41 20L4 18.59l7.72-7.72 1.47 1.35L5.41 20z\"/>\n",
              "  </svg>\n",
              "      </button>\n",
              "      \n",
              "  <style>\n",
              "    .colab-df-container {\n",
              "      display:flex;\n",
              "      flex-wrap:wrap;\n",
              "      gap: 12px;\n",
              "    }\n",
              "\n",
              "    .colab-df-convert {\n",
              "      background-color: #E8F0FE;\n",
              "      border: none;\n",
              "      border-radius: 50%;\n",
              "      cursor: pointer;\n",
              "      display: none;\n",
              "      fill: #1967D2;\n",
              "      height: 32px;\n",
              "      padding: 0 0 0 0;\n",
              "      width: 32px;\n",
              "    }\n",
              "\n",
              "    .colab-df-convert:hover {\n",
              "      background-color: #E2EBFA;\n",
              "      box-shadow: 0px 1px 2px rgba(60, 64, 67, 0.3), 0px 1px 3px 1px rgba(60, 64, 67, 0.15);\n",
              "      fill: #174EA6;\n",
              "    }\n",
              "\n",
              "    [theme=dark] .colab-df-convert {\n",
              "      background-color: #3B4455;\n",
              "      fill: #D2E3FC;\n",
              "    }\n",
              "\n",
              "    [theme=dark] .colab-df-convert:hover {\n",
              "      background-color: #434B5C;\n",
              "      box-shadow: 0px 1px 3px 1px rgba(0, 0, 0, 0.15);\n",
              "      filter: drop-shadow(0px 1px 2px rgba(0, 0, 0, 0.3));\n",
              "      fill: #FFFFFF;\n",
              "    }\n",
              "  </style>\n",
              "\n",
              "      <script>\n",
              "        const buttonEl =\n",
              "          document.querySelector('#df-593bae26-3a6d-4670-850a-ba096cec845c button.colab-df-convert');\n",
              "        buttonEl.style.display =\n",
              "          google.colab.kernel.accessAllowed ? 'block' : 'none';\n",
              "\n",
              "        async function convertToInteractive(key) {\n",
              "          const element = document.querySelector('#df-593bae26-3a6d-4670-850a-ba096cec845c');\n",
              "          const dataTable =\n",
              "            await google.colab.kernel.invokeFunction('convertToInteractive',\n",
              "                                                     [key], {});\n",
              "          if (!dataTable) return;\n",
              "\n",
              "          const docLinkHtml = 'Like what you see? Visit the ' +\n",
              "            '<a target=\"_blank\" href=https://colab.research.google.com/notebooks/data_table.ipynb>data table notebook</a>'\n",
              "            + ' to learn more about interactive tables.';\n",
              "          element.innerHTML = '';\n",
              "          dataTable['output_type'] = 'display_data';\n",
              "          await google.colab.output.renderOutput(dataTable, element);\n",
              "          const docLink = document.createElement('div');\n",
              "          docLink.innerHTML = docLinkHtml;\n",
              "          element.appendChild(docLink);\n",
              "        }\n",
              "      </script>\n",
              "    </div>\n",
              "  </div>\n",
              "  "
            ]
          },
          "metadata": {},
          "execution_count": 9
        }
      ]
    },
    {
      "cell_type": "code",
      "source": [
        "print(\n",
        "    f\"Accuracy score of our model:\\n\"\n",
        "    f\"{cv_results['test_score'].mean():.3f} +/- \"\n",
        "    f\"{cv_results['test_score'].std():.3f}\"\n",
        ")"
      ],
      "metadata": {
        "colab": {
          "base_uri": "https://localhost:8080/"
        },
        "id": "nfwAnS7YFhM3",
        "outputId": "e4d9c242-e81c-4ef1-84f5-b21b4b53f044"
      },
      "execution_count": 10,
      "outputs": [
        {
          "output_type": "stream",
          "name": "stdout",
          "text": [
            "Accuracy score of our model:\n",
            "0.765 +/- 0.043\n"
          ]
        }
      ]
    },
    {
      "cell_type": "markdown",
      "source": [
        "### Impact de l'hyper-paramètre $\\gamma$"
      ],
      "metadata": {
        "id": "0qo3aFbFJd2X"
      }
    },
    {
      "cell_type": "code",
      "source": [
        "import numpy as np\n",
        "from sklearn.model_selection import validation_curve\n",
        "\n",
        "gammas = np.logspace(-3, 2, num=30)\n",
        "param_name = \"svc__gamma\"\n",
        "train_scores, test_scores = validation_curve(\n",
        "    model, data, target, param_name=param_name, param_range=gammas, cv=cv,\n",
        "    n_jobs=2)\n",
        "\n",
        "plt.errorbar(\n",
        "    gammas,\n",
        "    train_scores.mean(axis=1),\n",
        "    yerr=train_scores.std(axis=1),\n",
        "    alpha=0.95,\n",
        "    label=\"Training score\",\n",
        ")\n",
        "plt.errorbar(\n",
        "    gammas,\n",
        "    test_scores.mean(axis=1),\n",
        "    yerr=test_scores.std(axis=1),\n",
        "    alpha=0.5,\n",
        "    label=\"Testing score\",\n",
        ")\n",
        "plt.legend()\n",
        "\n",
        "plt.xscale(\"log\")\n",
        "plt.xlabel(r\"Value of hyperparameter $\\gamma$\")\n",
        "plt.ylabel(\"Accuracy score\")\n",
        "_ = plt.title(\"Validation score of support vector machine\")"
      ],
      "metadata": {
        "colab": {
          "base_uri": "https://localhost:8080/",
          "height": 303
        },
        "id": "dXwH9sWtJV72",
        "outputId": "a60a9bec-8994-4bc3-fb6b-237aa1f59d3a"
      },
      "execution_count": 11,
      "outputs": [
        {
          "output_type": "display_data",
          "data": {
            "text/plain": [
              "<Figure size 432x288 with 1 Axes>"
            ],
            "image/png": "[encoded data removed]"
          },
          "metadata": {
            "needs_background": "light"
          }
        }
      ]
    },
    {
      "cell_type": "markdown",
      "source": [
        "### Impact du nombre d'expériences d'apprentissage"
      ],
      "metadata": {
        "id": "r1W4CCQxJ5oa"
      }
    },
    {
      "cell_type": "code",
      "source": [
        "from sklearn.model_selection import learning_curve\n",
        "\n",
        "train_sizes = np.linspace(0.1, 1, num=10)\n",
        "results = learning_curve(\n",
        "    model, data, target, train_sizes=train_sizes, cv=cv, n_jobs=2)\n",
        "train_size, train_scores, test_scores = results[:3]\n",
        "\n",
        "plt.errorbar(\n",
        "    train_size,\n",
        "    train_scores.mean(axis=1),\n",
        "    yerr=train_scores.std(axis=1),\n",
        "    alpha=0.95,\n",
        "    label=\"Training score\",\n",
        ")\n",
        "plt.errorbar(\n",
        "    train_size,\n",
        "    test_scores.mean(axis=1),\n",
        "    yerr=test_scores.std(axis=1),\n",
        "    alpha=0.5,\n",
        "    label=\"Testing score\",\n",
        ")\n",
        "plt.legend(bbox_to_anchor=(1.05, 0.8), loc=\"upper left\")\n",
        "\n",
        "plt.xlabel(\"Number of samples in the training set\")\n",
        "plt.ylabel(\"Accuracy\")\n",
        "_ = plt.title(\"Learning curve for support vector machine\")"
      ],
      "metadata": {
        "colab": {
          "base_uri": "https://localhost:8080/",
          "height": 295
        },
        "id": "jEUIGCa6J8TN",
        "outputId": "0d96619f-3c43-4166-a676-fb1f46956ea3"
      },
      "execution_count": 12,
      "outputs": [
        {
          "output_type": "display_data",
          "data": {
            "text/plain": [
              "<Figure size 432x288 with 1 Axes>"
            ],
            "image/png": "[encoded data removed]"
          },
          "metadata": {
            "needs_background": "light"
          }
        }
      ]
    },
    {
      "cell_type": "code",
      "source": [
        ""
      ],
      "metadata": {
        "id": "EX-y6Rc9KBB0"
      },
      "execution_count": 12,
      "outputs": []
    }
  ]
}